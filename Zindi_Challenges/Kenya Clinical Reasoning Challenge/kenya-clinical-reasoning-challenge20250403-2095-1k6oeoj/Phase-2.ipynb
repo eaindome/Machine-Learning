{
 "cells": [
  {
   "cell_type": "markdown",
   "id": "42fd09dc-9f4f-4637-a6cd-42c7cd7db427",
   "metadata": {},
   "source": [
    "# Kenya Clinical Reasoning Challenge"
   ]
  },
  {
   "cell_type": "code",
   "execution_count": 2,
   "id": "a7dbd5c3-111c-45d2-a847-6e57652d4987",
   "metadata": {},
   "outputs": [],
   "source": [
    "# pip install transformers datasets torch pandas numpy"
   ]
  },
  {
   "cell_type": "code",
   "execution_count": 4,
   "id": "1be80a5c-5806-4eec-ae1b-f02561e87c93",
   "metadata": {},
   "outputs": [],
   "source": [
    "# pip install sentencepiece"
   ]
  },
  {
   "cell_type": "code",
   "execution_count": 6,
   "id": "cc351ecc-ede8-41a0-9de3-ca91b865bcb1",
   "metadata": {},
   "outputs": [],
   "source": [
    "# pip install accelerate --upgrade"
   ]
  },
  {
   "cell_type": "code",
   "execution_count": 8,
   "id": "a8efaa30-b0ff-46b4-a300-d1d23508d48c",
   "metadata": {},
   "outputs": [],
   "source": [
    "# suppress warnings\n",
    "import os\n",
    "os.environ['TF_CPP_MIN_LOG_LEVEL'] = '3'  # 0 = all messages, 3 = errors only"
   ]
  },
  {
   "cell_type": "markdown",
   "id": "712b26bf-90a7-4f19-b644-4d7baec7ee7c",
   "metadata": {},
   "source": [
    "### Prepare the Data (using train_raw.csv)"
   ]
  },
  {
   "cell_type": "code",
   "execution_count": 11,
   "id": "4a340319-a336-4f06-b539-94b527108bfd",
   "metadata": {},
   "outputs": [],
   "source": [
    "import pandas as pd\n",
    "from datasets import Dataset"
   ]
  },
  {
   "cell_type": "code",
   "execution_count": 12,
   "id": "0fc042b2-e79b-42ed-901f-21a2ccbc423c",
   "metadata": {},
   "outputs": [],
   "source": [
    "# Load data\n",
    "train_raw = pd.read_csv('train_raw.csv')\n",
    "\n",
    "# Preprocessing function (fixed from Phase 1)\n",
    "def preprocess_clinician(text):\n",
    "    text = text.lower()\n",
    "    text = ''.join(c for c in text if c.isalnum() or c.isspace())\n",
    "    text = ' '.join(text.split())\n",
    "    return text\n",
    "\n",
    "# Handle missing Years of Experience in Prompt\n",
    "def update_prompt(row):\n",
    "    if pd.isna(row['Years of Experience']):\n",
    "        return row['Prompt'].replace(\"i am a nurse\", \"i am a nurse with unknown years of experience\")\n",
    "    return row['Prompt']\n",
    "\n",
    "# Apply preprocessing\n",
    "train_raw['Prompt'] = train_raw.apply(update_prompt, axis=1)\n",
    "train_raw['Clinician'] = train_raw['Clinician'].apply(preprocess_clinician)\n",
    "\n",
    "# Create a Hugging Face Dataset\n",
    "data = {'input_text': train_raw['Prompt'], 'target_text': train_raw['Clinician']}\n",
    "dataset = Dataset.from_dict(data)\n",
    "\n",
    "# Split into train (80%) and validation (20%)\n",
    "train_test_split = dataset.train_test_split(test_size=0.2, seed=42)\n",
    "train_dataset = train_test_split['train']\n",
    "val_dataset = train_test_split['test']"
   ]
  },
  {
   "cell_type": "code",
   "execution_count": 13,
   "id": "dc81e279-8f2a-4f7d-8e34-23415d61e6d9",
   "metadata": {},
   "outputs": [
    {
     "name": "stdout",
     "output_type": "stream",
     "text": [
      "Train sample:\n",
      "{'input_text': 'I am a nurse with 10 years of experience in General nursing working in a National Referral Hospitals in Uasin Gishu county in Kenya. A patient is brought to the Theatre with intestinal obstruction. This is his first admission. Patient complains of inability to pass stool for one and half weeks and abdominal distension. There is no history for chronic diseases in the family. Vital sign at the time of receiving the patient in Theatre BP 130/70 mmHg, Pulse 100 bpm, RR 21/minute, SPO2 96%. Upon opening the abdomen all the intestines had become necrosed.\\nQuestion\\nHow should the patient be managed intraoperatively and postoperatively?', 'target_text': 'patient brought to the theater with intestinal obstruction complaints of inability to pass stool and abdominal distension vitals critical upon opening abdomen all intestines were necrosed q how should the patient be managed intraoperatively and postoperatively intraoperation resection and anastomosis construction of a stoma peritoneal washout placement of a drain anesthesia team manage anesthesia antibiotics iv fluids and monitor vitals manage complications hemodynamic instability postoperation monitor vital signs antibiotics nil per oral then gradual transition to full feeds nutrition counseling pain management ambulation education and counseling diagnosis necrosis of the intestines'}\n",
      "\n",
      "Validation sample:\n",
      "{'input_text': 'I am a nurse with 20 years of experience in General nursing working in a National Referral Hospitals in Uasin Gishu county in Kenya. A 40-year-old female complains of chest tightness, coughing especially evening and morning times. She is known asthmatic patient on Franol inhaler. On examinations patients has wheezing sound during auscultation and shortness of breaths. Questions: What should I immediately do to relief the symptoms? Should be there be adjustment\\\\change of medications?', 'target_text': 'summary a 14yearold female with complaints of chest tightness and coughing especially in the evening or mornings known asthmatic on franol inhaler presents with wheezing sound and shortness of breath concerns 1 chest tightness coughing 2 relieve symptoms 3 what adjustment should be done to their medication differential diagnosis controlled asthma immediate management requires 1 relievers shortacting beta2 agonists salbutamol or terbutaline 2 add an inhaled corticosteroid 3 monitor vital signs reassess the patient consider the following adjustments 1 combination therapy longacting bronchodilators inhaled corticosteroids 2 add leukotriene receptor antagonists 3 avoid triggers 4 regular followup consult a physician to determine the best course of action'}\n"
     ]
    }
   ],
   "source": [
    "# Verify\n",
    "print(f\"Train sample:\\n{train_dataset[0]}\\n\")\n",
    "print(f\"Validation sample:\\n{val_dataset[0]}\")"
   ]
  },
  {
   "cell_type": "markdown",
   "id": "53e48d09-33c8-4b52-b8c1-2c04852ef331",
   "metadata": {},
   "source": [
    "#### Baseline Model (Flan-T5 Small)"
   ]
  },
  {
   "cell_type": "code",
   "execution_count": 18,
   "id": "28e07e49-6bf7-4b42-a2c7-a79ce2628274",
   "metadata": {},
   "outputs": [
    {
     "name": "stderr",
     "output_type": "stream",
     "text": [
      "WARNING: All log messages before absl::InitializeLog() is called are written to STDERR\n",
      "E0000 00:00:1744026471.717321  512574 cuda_dnn.cc:8310] Unable to register cuDNN factory: Attempting to register factory for plugin cuDNN when one has already been registered\n",
      "E0000 00:00:1744026471.766854  512574 cuda_blas.cc:1418] Unable to register cuBLAS factory: Attempting to register factory for plugin cuBLAS when one has already been registered\n"
     ]
    }
   ],
   "source": [
    "from transformers import T5Tokenizer, T5ForConditionalGeneration, Trainer, TrainingArguments\n",
    "import torch"
   ]
  },
  {
   "cell_type": "code",
   "execution_count": 19,
   "id": "7e1be380-0886-42f5-9cfd-555df4cb32c7",
   "metadata": {},
   "outputs": [
    {
     "name": "stderr",
     "output_type": "stream",
     "text": [
      "You are using the default legacy behaviour of the <class 'transformers.models.t5.tokenization_t5.T5Tokenizer'>. This is expected, and simply means that the `legacy` (previous) behavior will be used so nothing changes for you. If you want to use the new behaviour, set `legacy=False`. This should only be set if you understand what it means, and thoroughly read the reason why this was added as explained in https://github.com/huggingface/transformers/pull/24565\n"
     ]
    },
    {
     "data": {
      "application/vnd.jupyter.widget-view+json": {
       "model_id": "e0856082bbda4e47933e704f6a337528",
       "version_major": 2,
       "version_minor": 0
      },
      "text/plain": [
       "Map:   0%|          | 0/320 [00:00<?, ? examples/s]"
      ]
     },
     "metadata": {},
     "output_type": "display_data"
    },
    {
     "data": {
      "application/vnd.jupyter.widget-view+json": {
       "model_id": "29b5f717d6a74a13b5ed37d651deb6b0",
       "version_major": 2,
       "version_minor": 0
      },
      "text/plain": [
       "Map:   0%|          | 0/80 [00:00<?, ? examples/s]"
      ]
     },
     "metadata": {},
     "output_type": "display_data"
    }
   ],
   "source": [
    "# Load tokenizer and model\n",
    "model_name = \"google/flan-t5-small\"\n",
    "tokenizer = T5Tokenizer.from_pretrained(model_name)\n",
    "model = T5ForConditionalGeneration.from_pretrained(model_name)\n",
    "\n",
    "# Tokenize the dataset\n",
    "def tokenize_function(examples):\n",
    "    inputs = tokenizer(examples['input_text'], max_length=512, truncation=True, padding=\"max_length\")\n",
    "    targets = tokenizer(examples['target_text'], max_length=256, truncation=True, padding=\"max_length\")\n",
    "    inputs[\"labels\"] = targets[\"input_ids\"]\n",
    "    return inputs\n",
    "\n",
    "train_dataset = train_dataset.map(tokenize_function, batched=True)\n",
    "val_dataset = val_dataset.map(tokenize_function, batched=True)\n",
    "\n",
    "# Set format for PyTorch\n",
    "train_dataset.set_format('torch', columns=['input_ids', 'attention_mask', 'labels'])\n",
    "val_dataset.set_format('torch', columns=['input_ids', 'attention_mask', 'labels'])\n",
    "\n",
    "# Training arguments\n",
    "training_args = TrainingArguments(\n",
    "    output_dir=\"./flan_t5_small_output\",\n",
    "    num_train_epochs=3,\n",
    "    per_device_train_batch_size=4,\n",
    "    per_device_eval_batch_size=4,\n",
    "    warmup_steps=50,\n",
    "    weight_decay=0.01,\n",
    "    logging_dir='./logs',\n",
    "    logging_steps=10,\n",
    "    eval_strategy=\"epoch\",\n",
    "    save_strategy=\"epoch\",\n",
    "    load_best_model_at_end=True,\n",
    ")\n",
    "\n",
    "# Trainer\n",
    "trainer = Trainer(\n",
    "    model=model,\n",
    "    args=training_args,\n",
    "    train_dataset=train_dataset,\n",
    "    eval_dataset=val_dataset,\n",
    ")"
   ]
  },
  {
   "cell_type": "code",
   "execution_count": 22,
   "id": "c898c579-0f14-4131-af82-881fbbd5af58",
   "metadata": {},
   "outputs": [
    {
     "name": "stderr",
     "output_type": "stream",
     "text": [
      "Passing a tuple of `past_key_values` is deprecated and will be removed in Transformers v4.48.0. You should pass an instance of `EncoderDecoderCache` instead, e.g. `past_key_values=EncoderDecoderCache.from_legacy_cache(past_key_values)`.\n"
     ]
    },
    {
     "data": {
      "text/html": [
       "\n",
       "    <div>\n",
       "      \n",
       "      <progress value='240' max='240' style='width:300px; height:20px; vertical-align: middle;'></progress>\n",
       "      [240/240 1:00:01, Epoch 3/3]\n",
       "    </div>\n",
       "    <table border=\"1\" class=\"dataframe\">\n",
       "  <thead>\n",
       " <tr style=\"text-align: left;\">\n",
       "      <th>Epoch</th>\n",
       "      <th>Training Loss</th>\n",
       "      <th>Validation Loss</th>\n",
       "    </tr>\n",
       "  </thead>\n",
       "  <tbody>\n",
       "    <tr>\n",
       "      <td>1</td>\n",
       "      <td>5.671500</td>\n",
       "      <td>4.670094</td>\n",
       "    </tr>\n",
       "    <tr>\n",
       "      <td>2</td>\n",
       "      <td>4.097400</td>\n",
       "      <td>3.601858</td>\n",
       "    </tr>\n",
       "    <tr>\n",
       "      <td>3</td>\n",
       "      <td>3.824700</td>\n",
       "      <td>3.365974</td>\n",
       "    </tr>\n",
       "  </tbody>\n",
       "</table><p>"
      ],
      "text/plain": [
       "<IPython.core.display.HTML object>"
      ]
     },
     "metadata": {},
     "output_type": "display_data"
    },
    {
     "name": "stderr",
     "output_type": "stream",
     "text": [
      "There were missing keys in the checkpoint model loaded: ['encoder.embed_tokens.weight', 'decoder.embed_tokens.weight'].\n"
     ]
    },
    {
     "data": {
      "text/plain": [
       "TrainOutput(global_step=240, training_loss=6.707022062937418, metrics={'train_runtime': 3617.3331, 'train_samples_per_second': 0.265, 'train_steps_per_second': 0.066, 'total_flos': 178454884515840.0, 'train_loss': 6.707022062937418, 'epoch': 3.0})"
      ]
     },
     "execution_count": 22,
     "metadata": {},
     "output_type": "execute_result"
    }
   ],
   "source": [
    "# Fine-tune\n",
    "trainer.train()"
   ]
  },
  {
   "cell_type": "code",
   "execution_count": 24,
   "id": "9fbc8cb9-1791-4718-8b6b-f67a18111649",
   "metadata": {},
   "outputs": [
    {
     "data": {
      "text/plain": [
       "('./flan_t5_small_finetuned/tokenizer_config.json',\n",
       " './flan_t5_small_finetuned/special_tokens_map.json',\n",
       " './flan_t5_small_finetuned/spiece.model',\n",
       " './flan_t5_small_finetuned/added_tokens.json')"
      ]
     },
     "execution_count": 24,
     "metadata": {},
     "output_type": "execute_result"
    }
   ],
   "source": [
    "# Save model\n",
    "model.save_pretrained(\"./flan_t5_small_finetuned\")\n",
    "tokenizer.save_pretrained(\"./flan_t5_small_finetuned\")"
   ]
  },
  {
   "cell_type": "code",
   "execution_count": 26,
   "id": "2bebb1da-4726-4f41-98bf-417351d29286",
   "metadata": {},
   "outputs": [],
   "source": [
    "# Load fine-tuned model\n",
    "model = T5ForConditionalGeneration.from_pretrained(\"./flan_t5_small_finetuned\")\n",
    "tokenizer = T5Tokenizer.from_pretrained(\"./flan_t5_small_finetuned\")"
   ]
  },
  {
   "cell_type": "code",
   "execution_count": 28,
   "id": "041c4907-d4f4-4c1b-9570-0a741276d119",
   "metadata": {},
   "outputs": [],
   "source": [
    "# Test a prompt\n",
    "test_prompt = train_raw['Prompt'][0]  # e.g., \"i am a nurse with 18 years of experience...\"\n",
    "inputs = tokenizer(test_prompt, return_tensors=\"pt\", max_length=512, truncation=True)\n",
    "outputs = model.generate(**inputs, max_length=256)\n",
    "prediction = tokenizer.decode(outputs[0], skip_special_tokens=True)"
   ]
  },
  {
   "cell_type": "code",
   "execution_count": 32,
   "id": "c601512a-fbfd-4c62-b6ad-88b865dc583a",
   "metadata": {},
   "outputs": [
    {
     "name": "stdout",
     "output_type": "stream",
     "text": [
      "Prompt:\n",
      "I am a nurse with 18 years of experience in General nursing working in a Sub-county Hospitals and Nursing Homes in Uasin Gishu county in Kenya. A 4-year-old child presents to the emergency department with second-degree burns on the forearm after accidentally touching a hot stove. The child was playing in the kitchen when they reached out to touch the stove. The burns cover about 5% of the total body surface area. The child is alert and crying, with redness, blisters, and swelling on the affected area. The burns appear to be superficial to moderate in severity. The child is in mild pain, and there is no indication of airway or breathing distress. No other injuries are noted.\n",
      "Questions:\n",
      "1. What is the immediate treatment protocol for second-degree burns in paediatric patients?\n",
      "2. Should any tetanus prophylaxis be considered in this case?\n",
      "3. What follow-up care should be recommended for burn healing?\n",
      "\n",
      "Prediction:\n",
      "4. year old child presents to the emergency department with second-degree burns on the forearm after accidentally touching a hot stove\n",
      "\n",
      "Ground Truth:\n",
      "summary a 4 year old with 5 superficial burns no other injuries immediate management paracetamol analgesics to to ensure child has minimal or no pain cleaning and frosting of wound with silver sulphafizika topical prophylactic can be considered in this case good nutrition high protein diet\n"
     ]
    }
   ],
   "source": [
    "print(f\"Prompt:\\n{test_prompt}\\n\")\n",
    "print(f\"Prediction:\\n{prediction}\\n\")\n",
    "print(f\"Ground Truth:\\n{train_raw['Clinician'][0]}\")"
   ]
  },
  {
   "cell_type": "code",
   "execution_count": null,
   "id": "21eac6b8-c3f6-424d-bbe1-723042664735",
   "metadata": {},
   "outputs": [],
   "source": []
  }
 ],
 "metadata": {
  "kernelspec": {
   "display_name": "Python 3 (ipykernel)",
   "language": "python",
   "name": "python3"
  },
  "language_info": {
   "codemirror_mode": {
    "name": "ipython",
    "version": 3
   },
   "file_extension": ".py",
   "mimetype": "text/x-python",
   "name": "python",
   "nbconvert_exporter": "python",
   "pygments_lexer": "ipython3",
   "version": "3.12.4"
  }
 },
 "nbformat": 4,
 "nbformat_minor": 5
}
