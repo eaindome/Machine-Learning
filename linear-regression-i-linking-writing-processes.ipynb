{
 "cells": [
  {
   "cell_type": "markdown",
   "id": "3efb2f83",
   "metadata": {
    "papermill": {
     "duration": 0.013212,
     "end_time": "2023-11-09T12:02:12.970263",
     "exception": false,
     "start_time": "2023-11-09T12:02:12.957051",
     "status": "completed"
    },
    "tags": []
   },
   "source": [
    "# Linking Writing Processes to Writing Quality"
   ]
  },
  {
   "cell_type": "code",
   "execution_count": 1,
   "id": "ced61f7c",
   "metadata": {
    "execution": {
     "iopub.execute_input": "2023-11-09T12:02:12.997817Z",
     "iopub.status.busy": "2023-11-09T12:02:12.997127Z",
     "iopub.status.idle": "2023-11-09T12:02:13.408264Z",
     "shell.execute_reply": "2023-11-09T12:02:13.407073Z"
    },
    "papermill": {
     "duration": 0.42809,
     "end_time": "2023-11-09T12:02:13.411219",
     "exception": false,
     "start_time": "2023-11-09T12:02:12.983129",
     "status": "completed"
    },
    "tags": []
   },
   "outputs": [],
   "source": [
    "# Import necessary Libraries\n",
    "import pandas as pd\n",
    "import numpy as np"
   ]
  },
  {
   "cell_type": "markdown",
   "id": "cd9e37bd",
   "metadata": {
    "papermill": {
     "duration": 0.012445,
     "end_time": "2023-11-09T12:02:13.436928",
     "exception": false,
     "start_time": "2023-11-09T12:02:13.424483",
     "status": "completed"
    },
    "tags": []
   },
   "source": [
    "#### load the training logs and scores"
   ]
  },
  {
   "cell_type": "code",
   "execution_count": 2,
   "id": "50a7a7de",
   "metadata": {
    "execution": {
     "iopub.execute_input": "2023-11-09T12:02:13.465078Z",
     "iopub.status.busy": "2023-11-09T12:02:13.464210Z",
     "iopub.status.idle": "2023-11-09T12:02:36.027785Z",
     "shell.execute_reply": "2023-11-09T12:02:36.026237Z"
    },
    "papermill": {
     "duration": 22.580132,
     "end_time": "2023-11-09T12:02:36.030137",
     "exception": false,
     "start_time": "2023-11-09T12:02:13.450005",
     "status": "completed"
    },
    "tags": []
   },
   "outputs": [
    {
     "name": "stdout",
     "output_type": "stream",
     "text": [
      "(8405898, 11)\n"
     ]
    },
    {
     "data": {
      "text/html": [
       "<div>\n",
       "<style scoped>\n",
       "    .dataframe tbody tr th:only-of-type {\n",
       "        vertical-align: middle;\n",
       "    }\n",
       "\n",
       "    .dataframe tbody tr th {\n",
       "        vertical-align: top;\n",
       "    }\n",
       "\n",
       "    .dataframe thead th {\n",
       "        text-align: right;\n",
       "    }\n",
       "</style>\n",
       "<table border=\"1\" class=\"dataframe\">\n",
       "  <thead>\n",
       "    <tr style=\"text-align: right;\">\n",
       "      <th></th>\n",
       "      <th>id</th>\n",
       "      <th>event_id</th>\n",
       "      <th>down_time</th>\n",
       "      <th>up_time</th>\n",
       "      <th>action_time</th>\n",
       "      <th>activity</th>\n",
       "      <th>down_event</th>\n",
       "      <th>up_event</th>\n",
       "      <th>text_change</th>\n",
       "      <th>cursor_position</th>\n",
       "      <th>word_count</th>\n",
       "    </tr>\n",
       "  </thead>\n",
       "  <tbody>\n",
       "    <tr>\n",
       "      <th>0</th>\n",
       "      <td>001519c8</td>\n",
       "      <td>1</td>\n",
       "      <td>4526</td>\n",
       "      <td>4557</td>\n",
       "      <td>31</td>\n",
       "      <td>Nonproduction</td>\n",
       "      <td>Leftclick</td>\n",
       "      <td>Leftclick</td>\n",
       "      <td>NoChange</td>\n",
       "      <td>0</td>\n",
       "      <td>0</td>\n",
       "    </tr>\n",
       "    <tr>\n",
       "      <th>1</th>\n",
       "      <td>001519c8</td>\n",
       "      <td>2</td>\n",
       "      <td>4558</td>\n",
       "      <td>4962</td>\n",
       "      <td>404</td>\n",
       "      <td>Nonproduction</td>\n",
       "      <td>Leftclick</td>\n",
       "      <td>Leftclick</td>\n",
       "      <td>NoChange</td>\n",
       "      <td>0</td>\n",
       "      <td>0</td>\n",
       "    </tr>\n",
       "    <tr>\n",
       "      <th>2</th>\n",
       "      <td>001519c8</td>\n",
       "      <td>3</td>\n",
       "      <td>106571</td>\n",
       "      <td>106571</td>\n",
       "      <td>0</td>\n",
       "      <td>Nonproduction</td>\n",
       "      <td>Shift</td>\n",
       "      <td>Shift</td>\n",
       "      <td>NoChange</td>\n",
       "      <td>0</td>\n",
       "      <td>0</td>\n",
       "    </tr>\n",
       "    <tr>\n",
       "      <th>3</th>\n",
       "      <td>001519c8</td>\n",
       "      <td>4</td>\n",
       "      <td>106686</td>\n",
       "      <td>106777</td>\n",
       "      <td>91</td>\n",
       "      <td>Input</td>\n",
       "      <td>q</td>\n",
       "      <td>q</td>\n",
       "      <td>q</td>\n",
       "      <td>1</td>\n",
       "      <td>1</td>\n",
       "    </tr>\n",
       "    <tr>\n",
       "      <th>4</th>\n",
       "      <td>001519c8</td>\n",
       "      <td>5</td>\n",
       "      <td>107196</td>\n",
       "      <td>107323</td>\n",
       "      <td>127</td>\n",
       "      <td>Input</td>\n",
       "      <td>q</td>\n",
       "      <td>q</td>\n",
       "      <td>q</td>\n",
       "      <td>2</td>\n",
       "      <td>1</td>\n",
       "    </tr>\n",
       "  </tbody>\n",
       "</table>\n",
       "</div>"
      ],
      "text/plain": [
       "         id  event_id  down_time  up_time  action_time       activity  \\\n",
       "0  001519c8         1       4526     4557           31  Nonproduction   \n",
       "1  001519c8         2       4558     4962          404  Nonproduction   \n",
       "2  001519c8         3     106571   106571            0  Nonproduction   \n",
       "3  001519c8         4     106686   106777           91          Input   \n",
       "4  001519c8         5     107196   107323          127          Input   \n",
       "\n",
       "  down_event   up_event text_change  cursor_position  word_count  \n",
       "0  Leftclick  Leftclick    NoChange                0           0  \n",
       "1  Leftclick  Leftclick    NoChange                0           0  \n",
       "2      Shift      Shift    NoChange                0           0  \n",
       "3          q          q           q                1           1  \n",
       "4          q          q           q                2           1  "
      ]
     },
     "execution_count": 2,
     "metadata": {},
     "output_type": "execute_result"
    }
   ],
   "source": [
    "train_logs = pd.read_csv('/kaggle/input/linking-writing-processes-to-writing-quality/train_logs.csv')\n",
    "print(train_logs.shape)\n",
    "train_logs.head()"
   ]
  },
  {
   "cell_type": "code",
   "execution_count": 3,
   "id": "1a5c1709",
   "metadata": {
    "execution": {
     "iopub.execute_input": "2023-11-09T12:02:36.058293Z",
     "iopub.status.busy": "2023-11-09T12:02:36.057842Z",
     "iopub.status.idle": "2023-11-09T12:02:36.078457Z",
     "shell.execute_reply": "2023-11-09T12:02:36.077048Z"
    },
    "papermill": {
     "duration": 0.037421,
     "end_time": "2023-11-09T12:02:36.080870",
     "exception": false,
     "start_time": "2023-11-09T12:02:36.043449",
     "status": "completed"
    },
    "tags": []
   },
   "outputs": [
    {
     "name": "stdout",
     "output_type": "stream",
     "text": [
      "(2471, 2)\n"
     ]
    },
    {
     "data": {
      "text/html": [
       "<div>\n",
       "<style scoped>\n",
       "    .dataframe tbody tr th:only-of-type {\n",
       "        vertical-align: middle;\n",
       "    }\n",
       "\n",
       "    .dataframe tbody tr th {\n",
       "        vertical-align: top;\n",
       "    }\n",
       "\n",
       "    .dataframe thead th {\n",
       "        text-align: right;\n",
       "    }\n",
       "</style>\n",
       "<table border=\"1\" class=\"dataframe\">\n",
       "  <thead>\n",
       "    <tr style=\"text-align: right;\">\n",
       "      <th></th>\n",
       "      <th>id</th>\n",
       "      <th>score</th>\n",
       "    </tr>\n",
       "  </thead>\n",
       "  <tbody>\n",
       "    <tr>\n",
       "      <th>0</th>\n",
       "      <td>001519c8</td>\n",
       "      <td>3.5</td>\n",
       "    </tr>\n",
       "    <tr>\n",
       "      <th>1</th>\n",
       "      <td>0022f953</td>\n",
       "      <td>3.5</td>\n",
       "    </tr>\n",
       "    <tr>\n",
       "      <th>2</th>\n",
       "      <td>0042269b</td>\n",
       "      <td>6.0</td>\n",
       "    </tr>\n",
       "    <tr>\n",
       "      <th>3</th>\n",
       "      <td>0059420b</td>\n",
       "      <td>2.0</td>\n",
       "    </tr>\n",
       "    <tr>\n",
       "      <th>4</th>\n",
       "      <td>0075873a</td>\n",
       "      <td>4.0</td>\n",
       "    </tr>\n",
       "  </tbody>\n",
       "</table>\n",
       "</div>"
      ],
      "text/plain": [
       "         id  score\n",
       "0  001519c8    3.5\n",
       "1  0022f953    3.5\n",
       "2  0042269b    6.0\n",
       "3  0059420b    2.0\n",
       "4  0075873a    4.0"
      ]
     },
     "execution_count": 3,
     "metadata": {},
     "output_type": "execute_result"
    }
   ],
   "source": [
    "train_scores = pd.read_csv('/kaggle/input/linking-writing-processes-to-writing-quality/train_scores.csv')\n",
    "print(train_scores.shape)\n",
    "train_scores.head()"
   ]
  },
  {
   "cell_type": "markdown",
   "id": "86e21e23",
   "metadata": {
    "papermill": {
     "duration": 0.013236,
     "end_time": "2023-11-09T12:02:36.107798",
     "exception": false,
     "start_time": "2023-11-09T12:02:36.094562",
     "status": "completed"
    },
    "tags": []
   },
   "source": [
    "##### check the information about the training logs and scores"
   ]
  },
  {
   "cell_type": "code",
   "execution_count": 4,
   "id": "321f8c9a",
   "metadata": {
    "execution": {
     "iopub.execute_input": "2023-11-09T12:02:36.137695Z",
     "iopub.status.busy": "2023-11-09T12:02:36.136465Z",
     "iopub.status.idle": "2023-11-09T12:02:36.163653Z",
     "shell.execute_reply": "2023-11-09T12:02:36.162572Z"
    },
    "papermill": {
     "duration": 0.044625,
     "end_time": "2023-11-09T12:02:36.166110",
     "exception": false,
     "start_time": "2023-11-09T12:02:36.121485",
     "status": "completed"
    },
    "scrolled": true,
    "tags": []
   },
   "outputs": [
    {
     "name": "stdout",
     "output_type": "stream",
     "text": [
      "<class 'pandas.core.frame.DataFrame'>\n",
      "RangeIndex: 8405898 entries, 0 to 8405897\n",
      "Data columns (total 11 columns):\n",
      " #   Column           Dtype \n",
      "---  ------           ----- \n",
      " 0   id               object\n",
      " 1   event_id         int64 \n",
      " 2   down_time        int64 \n",
      " 3   up_time          int64 \n",
      " 4   action_time      int64 \n",
      " 5   activity         object\n",
      " 6   down_event       object\n",
      " 7   up_event         object\n",
      " 8   text_change      object\n",
      " 9   cursor_position  int64 \n",
      " 10  word_count       int64 \n",
      "dtypes: int64(6), object(5)\n",
      "memory usage: 705.5+ MB\n"
     ]
    }
   ],
   "source": [
    "# info on train logs\n",
    "train_logs.info()"
   ]
  },
  {
   "cell_type": "code",
   "execution_count": 5,
   "id": "d6097435",
   "metadata": {
    "execution": {
     "iopub.execute_input": "2023-11-09T12:02:36.195628Z",
     "iopub.status.busy": "2023-11-09T12:02:36.194434Z",
     "iopub.status.idle": "2023-11-09T12:02:36.207466Z",
     "shell.execute_reply": "2023-11-09T12:02:36.206297Z"
    },
    "papermill": {
     "duration": 0.030204,
     "end_time": "2023-11-09T12:02:36.209898",
     "exception": false,
     "start_time": "2023-11-09T12:02:36.179694",
     "status": "completed"
    },
    "tags": []
   },
   "outputs": [
    {
     "name": "stdout",
     "output_type": "stream",
     "text": [
      "<class 'pandas.core.frame.DataFrame'>\n",
      "RangeIndex: 2471 entries, 0 to 2470\n",
      "Data columns (total 2 columns):\n",
      " #   Column  Non-Null Count  Dtype  \n",
      "---  ------  --------------  -----  \n",
      " 0   id      2471 non-null   object \n",
      " 1   score   2471 non-null   float64\n",
      "dtypes: float64(1), object(1)\n",
      "memory usage: 38.7+ KB\n"
     ]
    }
   ],
   "source": [
    "# info on train scores\n",
    "train_scores.info()"
   ]
  },
  {
   "cell_type": "markdown",
   "id": "517a91f0",
   "metadata": {
    "papermill": {
     "duration": 0.013208,
     "end_time": "2023-11-09T12:02:36.236960",
     "exception": false,
     "start_time": "2023-11-09T12:02:36.223752",
     "status": "completed"
    },
    "tags": []
   },
   "source": [
    "##### check for missing values"
   ]
  },
  {
   "cell_type": "code",
   "execution_count": 6,
   "id": "9c5fce19",
   "metadata": {
    "execution": {
     "iopub.execute_input": "2023-11-09T12:02:36.266865Z",
     "iopub.status.busy": "2023-11-09T12:02:36.265840Z",
     "iopub.status.idle": "2023-11-09T12:02:40.597416Z",
     "shell.execute_reply": "2023-11-09T12:02:40.596324Z"
    },
    "papermill": {
     "duration": 4.349319,
     "end_time": "2023-11-09T12:02:40.600010",
     "exception": false,
     "start_time": "2023-11-09T12:02:36.250691",
     "status": "completed"
    },
    "tags": []
   },
   "outputs": [
    {
     "data": {
      "text/plain": [
       "id                 0\n",
       "event_id           0\n",
       "down_time          0\n",
       "up_time            0\n",
       "action_time        0\n",
       "activity           0\n",
       "down_event         0\n",
       "up_event           0\n",
       "text_change        0\n",
       "cursor_position    0\n",
       "word_count         0\n",
       "dtype: int64"
      ]
     },
     "execution_count": 6,
     "metadata": {},
     "output_type": "execute_result"
    }
   ],
   "source": [
    "# check for missing values in the train logs\n",
    "train_logs.isnull().sum()"
   ]
  },
  {
   "cell_type": "code",
   "execution_count": 7,
   "id": "f0c08b94",
   "metadata": {
    "execution": {
     "iopub.execute_input": "2023-11-09T12:02:40.630044Z",
     "iopub.status.busy": "2023-11-09T12:02:40.629668Z",
     "iopub.status.idle": "2023-11-09T12:02:40.638142Z",
     "shell.execute_reply": "2023-11-09T12:02:40.637179Z"
    },
    "papermill": {
     "duration": 0.026046,
     "end_time": "2023-11-09T12:02:40.640306",
     "exception": false,
     "start_time": "2023-11-09T12:02:40.614260",
     "status": "completed"
    },
    "tags": []
   },
   "outputs": [
    {
     "data": {
      "text/plain": [
       "id       0\n",
       "score    0\n",
       "dtype: int64"
      ]
     },
     "execution_count": 7,
     "metadata": {},
     "output_type": "execute_result"
    }
   ],
   "source": [
    "# check for missing values in the train scores\n",
    "train_scores.isnull().sum()"
   ]
  },
  {
   "cell_type": "markdown",
   "id": "967706ef",
   "metadata": {
    "papermill": {
     "duration": 0.013562,
     "end_time": "2023-11-09T12:02:40.668173",
     "exception": false,
     "start_time": "2023-11-09T12:02:40.654611",
     "status": "completed"
    },
    "tags": []
   },
   "source": [
    "#### Data Preprocessing and Feature Engineering"
   ]
  },
  {
   "cell_type": "code",
   "execution_count": 8,
   "id": "e61cf8b5",
   "metadata": {
    "execution": {
     "iopub.execute_input": "2023-11-09T12:02:40.697919Z",
     "iopub.status.busy": "2023-11-09T12:02:40.697518Z",
     "iopub.status.idle": "2023-11-09T12:02:41.847556Z",
     "shell.execute_reply": "2023-11-09T12:02:41.846393Z"
    },
    "papermill": {
     "duration": 1.168224,
     "end_time": "2023-11-09T12:02:41.850336",
     "exception": false,
     "start_time": "2023-11-09T12:02:40.682112",
     "status": "completed"
    },
    "tags": []
   },
   "outputs": [],
   "source": [
    "# aggregating features for each essay based on the log data\n",
    "log_features = train_logs.groupby('id').agg({\n",
    "    'action_time': ['sum', 'mean'],  # total and average action time\n",
    "    'word_count': 'last',            # final word count\n",
    "}).reset_index()"
   ]
  },
  {
   "cell_type": "code",
   "execution_count": 9,
   "id": "f3255f74",
   "metadata": {
    "execution": {
     "iopub.execute_input": "2023-11-09T12:02:41.881664Z",
     "iopub.status.busy": "2023-11-09T12:02:41.881215Z",
     "iopub.status.idle": "2023-11-09T12:02:41.888430Z",
     "shell.execute_reply": "2023-11-09T12:02:41.887264Z"
    },
    "papermill": {
     "duration": 0.025834,
     "end_time": "2023-11-09T12:02:41.891035",
     "exception": false,
     "start_time": "2023-11-09T12:02:41.865201",
     "status": "completed"
    },
    "tags": []
   },
   "outputs": [],
   "source": [
    "# Assuming log_features has a multi-level index, reset it to make it single-level\n",
    "log_features = log_features.reset_index()"
   ]
  },
  {
   "cell_type": "code",
   "execution_count": 10,
   "id": "085a29ec",
   "metadata": {
    "execution": {
     "iopub.execute_input": "2023-11-09T12:02:41.921777Z",
     "iopub.status.busy": "2023-11-09T12:02:41.921026Z",
     "iopub.status.idle": "2023-11-09T12:02:41.927471Z",
     "shell.execute_reply": "2023-11-09T12:02:41.926475Z"
    },
    "papermill": {
     "duration": 0.024646,
     "end_time": "2023-11-09T12:02:41.930031",
     "exception": false,
     "start_time": "2023-11-09T12:02:41.905385",
     "status": "completed"
    },
    "tags": []
   },
   "outputs": [
    {
     "name": "stdout",
     "output_type": "stream",
     "text": [
      "Column names of log_features: Index(['index', 'id', 'action_time', 'action_time', 'word_count'], dtype='object')\n",
      "Column names of train_scores: Index(['id', 'score'], dtype='object')\n"
     ]
    }
   ],
   "source": [
    "# Flatten the columns of log_features by dropping the empty level in the MultiIndex\n",
    "log_features.columns = log_features.columns.droplevel(1)\n",
    "\n",
    "# Check the column names of both DataFrames\n",
    "print(\"Column names of log_features:\", log_features.columns)\n",
    "print(\"Column names of train_scores:\", train_scores.columns)"
   ]
  },
  {
   "cell_type": "code",
   "execution_count": 11,
   "id": "b1ad8126",
   "metadata": {
    "execution": {
     "iopub.execute_input": "2023-11-09T12:02:41.961629Z",
     "iopub.status.busy": "2023-11-09T12:02:41.961233Z",
     "iopub.status.idle": "2023-11-09T12:02:41.981899Z",
     "shell.execute_reply": "2023-11-09T12:02:41.980432Z"
    },
    "papermill": {
     "duration": 0.038868,
     "end_time": "2023-11-09T12:02:41.984687",
     "exception": false,
     "start_time": "2023-11-09T12:02:41.945819",
     "status": "completed"
    },
    "tags": []
   },
   "outputs": [],
   "source": [
    "# merge log features with scores based on essay ID\n",
    "merged_data = pd.merge(log_features, train_scores, on='id', how='inner')"
   ]
  },
  {
   "cell_type": "code",
   "execution_count": 12,
   "id": "51ce6451",
   "metadata": {
    "execution": {
     "iopub.execute_input": "2023-11-09T12:02:42.014928Z",
     "iopub.status.busy": "2023-11-09T12:02:42.014536Z",
     "iopub.status.idle": "2023-11-09T12:02:42.028132Z",
     "shell.execute_reply": "2023-11-09T12:02:42.026980Z"
    },
    "papermill": {
     "duration": 0.031583,
     "end_time": "2023-11-09T12:02:42.030571",
     "exception": false,
     "start_time": "2023-11-09T12:02:41.998988",
     "status": "completed"
    },
    "tags": []
   },
   "outputs": [
    {
     "data": {
      "text/html": [
       "<div>\n",
       "<style scoped>\n",
       "    .dataframe tbody tr th:only-of-type {\n",
       "        vertical-align: middle;\n",
       "    }\n",
       "\n",
       "    .dataframe tbody tr th {\n",
       "        vertical-align: top;\n",
       "    }\n",
       "\n",
       "    .dataframe thead th {\n",
       "        text-align: right;\n",
       "    }\n",
       "</style>\n",
       "<table border=\"1\" class=\"dataframe\">\n",
       "  <thead>\n",
       "    <tr style=\"text-align: right;\">\n",
       "      <th></th>\n",
       "      <th>index</th>\n",
       "      <th>id</th>\n",
       "      <th>action_time</th>\n",
       "      <th>action_time</th>\n",
       "      <th>word_count</th>\n",
       "      <th>score</th>\n",
       "    </tr>\n",
       "  </thead>\n",
       "  <tbody>\n",
       "    <tr>\n",
       "      <th>0</th>\n",
       "      <td>0</td>\n",
       "      <td>001519c8</td>\n",
       "      <td>297243</td>\n",
       "      <td>116.246774</td>\n",
       "      <td>255</td>\n",
       "      <td>3.5</td>\n",
       "    </tr>\n",
       "    <tr>\n",
       "      <th>1</th>\n",
       "      <td>1</td>\n",
       "      <td>0022f953</td>\n",
       "      <td>275391</td>\n",
       "      <td>112.221271</td>\n",
       "      <td>320</td>\n",
       "      <td>3.5</td>\n",
       "    </tr>\n",
       "    <tr>\n",
       "      <th>2</th>\n",
       "      <td>2</td>\n",
       "      <td>0042269b</td>\n",
       "      <td>421201</td>\n",
       "      <td>101.837766</td>\n",
       "      <td>404</td>\n",
       "      <td>6.0</td>\n",
       "    </tr>\n",
       "    <tr>\n",
       "      <th>3</th>\n",
       "      <td>3</td>\n",
       "      <td>0059420b</td>\n",
       "      <td>189596</td>\n",
       "      <td>121.848329</td>\n",
       "      <td>206</td>\n",
       "      <td>2.0</td>\n",
       "    </tr>\n",
       "    <tr>\n",
       "      <th>4</th>\n",
       "      <td>4</td>\n",
       "      <td>0075873a</td>\n",
       "      <td>313702</td>\n",
       "      <td>123.943896</td>\n",
       "      <td>252</td>\n",
       "      <td>4.0</td>\n",
       "    </tr>\n",
       "  </tbody>\n",
       "</table>\n",
       "</div>"
      ],
      "text/plain": [
       "   index        id  action_time  action_time  word_count  score\n",
       "0      0  001519c8       297243   116.246774         255    3.5\n",
       "1      1  0022f953       275391   112.221271         320    3.5\n",
       "2      2  0042269b       421201   101.837766         404    6.0\n",
       "3      3  0059420b       189596   121.848329         206    2.0\n",
       "4      4  0075873a       313702   123.943896         252    4.0"
      ]
     },
     "execution_count": 12,
     "metadata": {},
     "output_type": "execute_result"
    }
   ],
   "source": [
    "# check out the merged data\n",
    "merged_data.head()"
   ]
  },
  {
   "cell_type": "markdown",
   "id": "90fe61a9",
   "metadata": {
    "papermill": {
     "duration": 0.013997,
     "end_time": "2023-11-09T12:02:42.059214",
     "exception": false,
     "start_time": "2023-11-09T12:02:42.045217",
     "status": "completed"
    },
    "tags": []
   },
   "source": [
    "##### checking for correlation"
   ]
  },
  {
   "cell_type": "code",
   "execution_count": 13,
   "id": "8cb4e6ef",
   "metadata": {
    "execution": {
     "iopub.execute_input": "2023-11-09T12:02:42.090288Z",
     "iopub.status.busy": "2023-11-09T12:02:42.089892Z",
     "iopub.status.idle": "2023-11-09T12:02:42.096015Z",
     "shell.execute_reply": "2023-11-09T12:02:42.095025Z"
    },
    "papermill": {
     "duration": 0.024728,
     "end_time": "2023-11-09T12:02:42.098438",
     "exception": false,
     "start_time": "2023-11-09T12:02:42.073710",
     "status": "completed"
    },
    "tags": []
   },
   "outputs": [],
   "source": [
    "# Select only the numerical columns for correlation analysis\n",
    "numerical_columns = merged_data.select_dtypes(include=[np.number])"
   ]
  },
  {
   "cell_type": "code",
   "execution_count": 14,
   "id": "5cb2f336",
   "metadata": {
    "execution": {
     "iopub.execute_input": "2023-11-09T12:02:42.192273Z",
     "iopub.status.busy": "2023-11-09T12:02:42.191819Z",
     "iopub.status.idle": "2023-11-09T12:02:42.197654Z",
     "shell.execute_reply": "2023-11-09T12:02:42.196437Z"
    },
    "papermill": {
     "duration": 0.024284,
     "end_time": "2023-11-09T12:02:42.200036",
     "exception": false,
     "start_time": "2023-11-09T12:02:42.175752",
     "status": "completed"
    },
    "tags": []
   },
   "outputs": [],
   "source": [
    "# calculate the correlation matrix\n",
    "correlation_matrix = numerical_columns.corr()\n",
    "correlation_threshold = 0.5"
   ]
  },
  {
   "cell_type": "code",
   "execution_count": 15,
   "id": "14a482e5",
   "metadata": {
    "execution": {
     "iopub.execute_input": "2023-11-09T12:02:42.230470Z",
     "iopub.status.busy": "2023-11-09T12:02:42.230034Z",
     "iopub.status.idle": "2023-11-09T12:02:42.248683Z",
     "shell.execute_reply": "2023-11-09T12:02:42.247320Z"
    },
    "papermill": {
     "duration": 0.036498,
     "end_time": "2023-11-09T12:02:42.250986",
     "exception": false,
     "start_time": "2023-11-09T12:02:42.214488",
     "status": "completed"
    },
    "tags": []
   },
   "outputs": [
    {
     "name": "stdout",
     "output_type": "stream",
     "text": [
      "Highly Correlated Features:\n",
      "feature_action_time - word_count: 0.73\n",
      "feature_action_time - score: 0.55\n",
      "feature_word_count - action_time: 0.73\n",
      "feature_word_count - score: 0.64\n",
      "feature_score - action_time: 0.55\n",
      "feature_score - word_count: 0.64\n"
     ]
    }
   ],
   "source": [
    "# Find highly correlated features\n",
    "highly_correlated_features = correlation_matrix[((correlation_matrix > correlation_threshold) | (correlation_matrix < -correlation_threshold)) & (correlation_matrix != 1)]\n",
    "\n",
    "# Drop one of the duplicated columns to avoid the error\n",
    "highly_correlated_features = highly_correlated_features.loc[~highly_correlated_features.index.duplicated(keep='first')]\n",
    "\n",
    "# Rename columns with a prefix to make them unique\n",
    "highly_correlated_features = highly_correlated_features.add_prefix('feature_').unstack().dropna().reset_index()\n",
    "\n",
    "# Print the highly correlated features\n",
    "print(\"Highly Correlated Features:\")\n",
    "for index, row in highly_correlated_features.iterrows():\n",
    "    feature1 = row['level_0']\n",
    "    feature2 = row['level_1']\n",
    "    correlation = row[0]\n",
    "    print(f\"{feature1} - {feature2}: {correlation:.2f}\")"
   ]
  },
  {
   "cell_type": "code",
   "execution_count": 16,
   "id": "500b1737",
   "metadata": {
    "execution": {
     "iopub.execute_input": "2023-11-09T12:02:42.282029Z",
     "iopub.status.busy": "2023-11-09T12:02:42.281584Z",
     "iopub.status.idle": "2023-11-09T12:02:42.289784Z",
     "shell.execute_reply": "2023-11-09T12:02:42.288906Z"
    },
    "papermill": {
     "duration": 0.026551,
     "end_time": "2023-11-09T12:02:42.292229",
     "exception": false,
     "start_time": "2023-11-09T12:02:42.265678",
     "status": "completed"
    },
    "tags": []
   },
   "outputs": [
    {
     "name": "stdout",
     "output_type": "stream",
     "text": [
      "Highly Correlated Features with Scores: \n",
      "score: 1.00\n",
      "word_count: 0.64\n",
      "action_time: 0.55\n"
     ]
    }
   ],
   "source": [
    "# Find highly correlated features with scores\n",
    "highly_correlated_features = np.abs(correlation_matrix['score']).sort_values(ascending=False)\n",
    "highly_correlated_features = highly_correlated_features[highly_correlated_features > correlation_threshold]\n",
    "\n",
    "# Print the highly correlated features\n",
    "print(\"Highly Correlated Features with Scores: \")\n",
    "for feature, correlation in highly_correlated_features.items():\n",
    "    print(f\"{feature}: {correlation:.2f}\")"
   ]
  },
  {
   "cell_type": "code",
   "execution_count": 17,
   "id": "4b1d306e",
   "metadata": {
    "execution": {
     "iopub.execute_input": "2023-11-09T12:02:42.323773Z",
     "iopub.status.busy": "2023-11-09T12:02:42.322705Z",
     "iopub.status.idle": "2023-11-09T12:02:43.918871Z",
     "shell.execute_reply": "2023-11-09T12:02:43.917655Z"
    },
    "papermill": {
     "duration": 1.614697,
     "end_time": "2023-11-09T12:02:43.921590",
     "exception": false,
     "start_time": "2023-11-09T12:02:42.306893",
     "status": "completed"
    },
    "tags": []
   },
   "outputs": [],
   "source": [
    "# visualising correlation\n",
    "# importing libraries to aid visualisation\n",
    "import seaborn as sns\n",
    "import matplotlib.pyplot as plt"
   ]
  },
  {
   "cell_type": "code",
   "execution_count": 18,
   "id": "c6901f87",
   "metadata": {
    "execution": {
     "iopub.execute_input": "2023-11-09T12:02:43.956162Z",
     "iopub.status.busy": "2023-11-09T12:02:43.954917Z",
     "iopub.status.idle": "2023-11-09T12:02:44.413988Z",
     "shell.execute_reply": "2023-11-09T12:02:44.412685Z"
    },
    "papermill": {
     "duration": 0.479655,
     "end_time": "2023-11-09T12:02:44.416593",
     "exception": false,
     "start_time": "2023-11-09T12:02:43.936938",
     "status": "completed"
    },
    "tags": []
   },
   "outputs": [
    {
     "data": {
      "image/png": "[encoded data removed]",
      "text/plain": [
       "<Figure size 1000x800 with 2 Axes>"
      ]
     },
     "metadata": {},
     "output_type": "display_data"
    }
   ],
   "source": [
    "# visual correlation\n",
    "plt.figure(figsize=(10, 8))\n",
    "sns.heatmap(correlation_matrix, annot=True, cmap='coolwarm', linewidths=.5)\n",
    "plt.title(\"Correlation Matrix\")\n",
    "plt.show()"
   ]
  },
  {
   "cell_type": "markdown",
   "id": "f1120868",
   "metadata": {
    "papermill": {
     "duration": 0.015185,
     "end_time": "2023-11-09T12:02:44.447312",
     "exception": false,
     "start_time": "2023-11-09T12:02:44.432127",
     "status": "completed"
    },
    "tags": []
   },
   "source": [
    "#### Prediction Analysis"
   ]
  },
  {
   "cell_type": "code",
   "execution_count": 19,
   "id": "d53e38f0",
   "metadata": {
    "execution": {
     "iopub.execute_input": "2023-11-09T12:02:44.480622Z",
     "iopub.status.busy": "2023-11-09T12:02:44.479843Z",
     "iopub.status.idle": "2023-11-09T12:02:44.851963Z",
     "shell.execute_reply": "2023-11-09T12:02:44.850958Z"
    },
    "papermill": {
     "duration": 0.392021,
     "end_time": "2023-11-09T12:02:44.854780",
     "exception": false,
     "start_time": "2023-11-09T12:02:44.462759",
     "status": "completed"
    },
    "tags": []
   },
   "outputs": [],
   "source": [
    "from sklearn.model_selection import train_test_split, GridSearchCV\n",
    "from sklearn.linear_model import LinearRegression\n",
    "from sklearn.preprocessing import StandardScaler\n",
    "from sklearn.metrics import mean_squared_error, r2_score"
   ]
  },
  {
   "cell_type": "code",
   "execution_count": 20,
   "id": "0135dcfd",
   "metadata": {
    "execution": {
     "iopub.execute_input": "2023-11-09T12:02:44.888473Z",
     "iopub.status.busy": "2023-11-09T12:02:44.888011Z",
     "iopub.status.idle": "2023-11-09T12:02:44.898664Z",
     "shell.execute_reply": "2023-11-09T12:02:44.897408Z"
    },
    "papermill": {
     "duration": 0.030734,
     "end_time": "2023-11-09T12:02:44.901235",
     "exception": false,
     "start_time": "2023-11-09T12:02:44.870501",
     "status": "completed"
    },
    "tags": []
   },
   "outputs": [],
   "source": [
    "# split the data into training and validation sets\n",
    "X = merged_data.drop(columns=['id', 'score'])\n",
    "y = merged_data['score']\n",
    "\n",
    "X_train, X_test, y_train, y_test = train_test_split(X, \n",
    "                                                    y, \n",
    "                                                    test_size=0.2,\n",
    "                                                   random_state = 42)"
   ]
  },
  {
   "cell_type": "code",
   "execution_count": 21,
   "id": "78bad5de",
   "metadata": {
    "execution": {
     "iopub.execute_input": "2023-11-09T12:02:44.934703Z",
     "iopub.status.busy": "2023-11-09T12:02:44.934268Z",
     "iopub.status.idle": "2023-11-09T12:02:44.947358Z",
     "shell.execute_reply": "2023-11-09T12:02:44.946349Z"
    },
    "papermill": {
     "duration": 0.033144,
     "end_time": "2023-11-09T12:02:44.950170",
     "exception": false,
     "start_time": "2023-11-09T12:02:44.917026",
     "status": "completed"
    },
    "tags": []
   },
   "outputs": [],
   "source": [
    "# Standardize numerical features\n",
    "scaler = StandardScaler()\n",
    "X_train_scaled = scaler.fit_transform(X_train)\n",
    "X_valid_scaled = scaler.transform(X_test)"
   ]
  },
  {
   "cell_type": "code",
   "execution_count": 22,
   "id": "98bea0ab",
   "metadata": {
    "execution": {
     "iopub.execute_input": "2023-11-09T12:02:44.983632Z",
     "iopub.status.busy": "2023-11-09T12:02:44.983221Z",
     "iopub.status.idle": "2023-11-09T12:02:45.052674Z",
     "shell.execute_reply": "2023-11-09T12:02:45.051498Z"
    },
    "papermill": {
     "duration": 0.088885,
     "end_time": "2023-11-09T12:02:45.054979",
     "exception": false,
     "start_time": "2023-11-09T12:02:44.966094",
     "status": "completed"
    },
    "tags": []
   },
   "outputs": [
    {
     "data": {
      "text/html": [
       "<style>#sk-container-id-1 {color: black;background-color: white;}#sk-container-id-1 pre{padding: 0;}#sk-container-id-1 div.sk-toggleable {background-color: white;}#sk-container-id-1 label.sk-toggleable__label {cursor: pointer;display: block;width: 100%;margin-bottom: 0;padding: 0.3em;box-sizing: border-box;text-align: center;}#sk-container-id-1 label.sk-toggleable__label-arrow:before {content: \"▸\";float: left;margin-right: 0.25em;color: #696969;}#sk-container-id-1 label.sk-toggleable__label-arrow:hover:before {color: black;}#sk-container-id-1 div.sk-estimator:hover label.sk-toggleable__label-arrow:before {color: black;}#sk-container-id-1 div.sk-toggleable__content {max-height: 0;max-width: 0;overflow: hidden;text-align: left;background-color: #f0f8ff;}#sk-container-id-1 div.sk-toggleable__content pre {margin: 0.2em;color: black;border-radius: 0.25em;background-color: #f0f8ff;}#sk-container-id-1 input.sk-toggleable__control:checked~div.sk-toggleable__content {max-height: 200px;max-width: 100%;overflow: auto;}#sk-container-id-1 input.sk-toggleable__control:checked~label.sk-toggleable__label-arrow:before {content: \"▾\";}#sk-container-id-1 div.sk-estimator input.sk-toggleable__control:checked~label.sk-toggleable__label {background-color: #d4ebff;}#sk-container-id-1 div.sk-label input.sk-toggleable__control:checked~label.sk-toggleable__label {background-color: #d4ebff;}#sk-container-id-1 input.sk-hidden--visually {border: 0;clip: rect(1px 1px 1px 1px);clip: rect(1px, 1px, 1px, 1px);height: 1px;margin: -1px;overflow: hidden;padding: 0;position: absolute;width: 1px;}#sk-container-id-1 div.sk-estimator {font-family: monospace;background-color: #f0f8ff;border: 1px dotted black;border-radius: 0.25em;box-sizing: border-box;margin-bottom: 0.5em;}#sk-container-id-1 div.sk-estimator:hover {background-color: #d4ebff;}#sk-container-id-1 div.sk-parallel-item::after {content: \"\";width: 100%;border-bottom: 1px solid gray;flex-grow: 1;}#sk-container-id-1 div.sk-label:hover label.sk-toggleable__label {background-color: #d4ebff;}#sk-container-id-1 div.sk-serial::before {content: \"\";position: absolute;border-left: 1px solid gray;box-sizing: border-box;top: 0;bottom: 0;left: 50%;z-index: 0;}#sk-container-id-1 div.sk-serial {display: flex;flex-direction: column;align-items: center;background-color: white;padding-right: 0.2em;padding-left: 0.2em;position: relative;}#sk-container-id-1 div.sk-item {position: relative;z-index: 1;}#sk-container-id-1 div.sk-parallel {display: flex;align-items: stretch;justify-content: center;background-color: white;position: relative;}#sk-container-id-1 div.sk-item::before, #sk-container-id-1 div.sk-parallel-item::before {content: \"\";position: absolute;border-left: 1px solid gray;box-sizing: border-box;top: 0;bottom: 0;left: 50%;z-index: -1;}#sk-container-id-1 div.sk-parallel-item {display: flex;flex-direction: column;z-index: 1;position: relative;background-color: white;}#sk-container-id-1 div.sk-parallel-item:first-child::after {align-self: flex-end;width: 50%;}#sk-container-id-1 div.sk-parallel-item:last-child::after {align-self: flex-start;width: 50%;}#sk-container-id-1 div.sk-parallel-item:only-child::after {width: 0;}#sk-container-id-1 div.sk-dashed-wrapped {border: 1px dashed gray;margin: 0 0.4em 0.5em 0.4em;box-sizing: border-box;padding-bottom: 0.4em;background-color: white;}#sk-container-id-1 div.sk-label label {font-family: monospace;font-weight: bold;display: inline-block;line-height: 1.2em;}#sk-container-id-1 div.sk-label-container {text-align: center;}#sk-container-id-1 div.sk-container {/* jupyter's `normalize.less` sets `[hidden] { display: none; }` but bootstrap.min.css set `[hidden] { display: none !important; }` so we also need the `!important` here to be able to override the default hidden behavior on the sphinx rendered scikit-learn.org. See: https://github.com/scikit-learn/scikit-learn/issues/21755 */display: inline-block !important;position: relative;}#sk-container-id-1 div.sk-text-repr-fallback {display: none;}</style><div id=\"sk-container-id-1\" class=\"sk-top-container\"><div class=\"sk-text-repr-fallback\"><pre>GridSearchCV(cv=5, estimator=LinearRegression(),\n",
       "             param_grid={&#x27;fit_intercept&#x27;: [True, False]})</pre><b>In a Jupyter environment, please rerun this cell to show the HTML representation or trust the notebook. <br />On GitHub, the HTML representation is unable to render, please try loading this page with nbviewer.org.</b></div><div class=\"sk-container\" hidden><div class=\"sk-item sk-dashed-wrapped\"><div class=\"sk-label-container\"><div class=\"sk-label sk-toggleable\"><input class=\"sk-toggleable__control sk-hidden--visually\" id=\"sk-estimator-id-1\" type=\"checkbox\" ><label for=\"sk-estimator-id-1\" class=\"sk-toggleable__label sk-toggleable__label-arrow\">GridSearchCV</label><div class=\"sk-toggleable__content\"><pre>GridSearchCV(cv=5, estimator=LinearRegression(),\n",
       "             param_grid={&#x27;fit_intercept&#x27;: [True, False]})</pre></div></div></div><div class=\"sk-parallel\"><div class=\"sk-parallel-item\"><div class=\"sk-item\"><div class=\"sk-label-container\"><div class=\"sk-label sk-toggleable\"><input class=\"sk-toggleable__control sk-hidden--visually\" id=\"sk-estimator-id-2\" type=\"checkbox\" ><label for=\"sk-estimator-id-2\" class=\"sk-toggleable__label sk-toggleable__label-arrow\">estimator: LinearRegression</label><div class=\"sk-toggleable__content\"><pre>LinearRegression()</pre></div></div></div><div class=\"sk-serial\"><div class=\"sk-item\"><div class=\"sk-estimator sk-toggleable\"><input class=\"sk-toggleable__control sk-hidden--visually\" id=\"sk-estimator-id-3\" type=\"checkbox\" ><label for=\"sk-estimator-id-3\" class=\"sk-toggleable__label sk-toggleable__label-arrow\">LinearRegression</label><div class=\"sk-toggleable__content\"><pre>LinearRegression()</pre></div></div></div></div></div></div></div></div></div></div>"
      ],
      "text/plain": [
       "GridSearchCV(cv=5, estimator=LinearRegression(),\n",
       "             param_grid={'fit_intercept': [True, False]})"
      ]
     },
     "execution_count": 22,
     "metadata": {},
     "output_type": "execute_result"
    }
   ],
   "source": [
    "# Hyperparameter Tuning\n",
    "param_grid = {'fit_intercept': [True, False]}\n",
    "grid_search = GridSearchCV(LinearRegression(), param_grid, cv=5)\n",
    "grid_search.fit(X_train_scaled, y_train)"
   ]
  },
  {
   "cell_type": "code",
   "execution_count": 23,
   "id": "ae617cbe",
   "metadata": {
    "execution": {
     "iopub.execute_input": "2023-11-09T12:02:45.088354Z",
     "iopub.status.busy": "2023-11-09T12:02:45.087791Z",
     "iopub.status.idle": "2023-11-09T12:02:45.093171Z",
     "shell.execute_reply": "2023-11-09T12:02:45.091975Z"
    },
    "papermill": {
     "duration": 0.02474,
     "end_time": "2023-11-09T12:02:45.095532",
     "exception": false,
     "start_time": "2023-11-09T12:02:45.070792",
     "status": "completed"
    },
    "tags": []
   },
   "outputs": [],
   "source": [
    "# Get the best model from hyperparameter tuning\n",
    "best_model = grid_search.best_estimator_"
   ]
  },
  {
   "cell_type": "code",
   "execution_count": 24,
   "id": "1e680004",
   "metadata": {
    "execution": {
     "iopub.execute_input": "2023-11-09T12:02:45.129699Z",
     "iopub.status.busy": "2023-11-09T12:02:45.129271Z",
     "iopub.status.idle": "2023-11-09T12:02:45.134710Z",
     "shell.execute_reply": "2023-11-09T12:02:45.133366Z"
    },
    "papermill": {
     "duration": 0.02577,
     "end_time": "2023-11-09T12:02:45.137141",
     "exception": false,
     "start_time": "2023-11-09T12:02:45.111371",
     "status": "completed"
    },
    "tags": []
   },
   "outputs": [],
   "source": [
    "# Make predictions on the validation set\n",
    "y_pred = best_model.predict(X_valid_scaled)"
   ]
  },
  {
   "cell_type": "code",
   "execution_count": 25,
   "id": "bbf8f8aa",
   "metadata": {
    "execution": {
     "iopub.execute_input": "2023-11-09T12:02:45.170683Z",
     "iopub.status.busy": "2023-11-09T12:02:45.170283Z",
     "iopub.status.idle": "2023-11-09T12:02:45.177652Z",
     "shell.execute_reply": "2023-11-09T12:02:45.176422Z"
    },
    "papermill": {
     "duration": 0.026867,
     "end_time": "2023-11-09T12:02:45.180101",
     "exception": false,
     "start_time": "2023-11-09T12:02:45.153234",
     "status": "completed"
    },
    "tags": []
   },
   "outputs": [],
   "source": [
    "# Evaluate the model\n",
    "mse = mean_squared_error(y_test, y_pred)\n",
    "rmse = np.sqrt(mse)\n",
    "r2 = r2_score(y_test, y_pred)"
   ]
  },
  {
   "cell_type": "code",
   "execution_count": 26,
   "id": "e8e47557",
   "metadata": {
    "execution": {
     "iopub.execute_input": "2023-11-09T12:02:45.213770Z",
     "iopub.status.busy": "2023-11-09T12:02:45.213345Z",
     "iopub.status.idle": "2023-11-09T12:02:45.219380Z",
     "shell.execute_reply": "2023-11-09T12:02:45.218101Z"
    },
    "papermill": {
     "duration": 0.026193,
     "end_time": "2023-11-09T12:02:45.222245",
     "exception": false,
     "start_time": "2023-11-09T12:02:45.196052",
     "status": "completed"
    },
    "tags": []
   },
   "outputs": [
    {
     "name": "stdout",
     "output_type": "stream",
     "text": [
      "Mean Squared Error:  0.49\n",
      "Root Mean Squared Error:  0.70\n",
      "R-squared:  0.50\n"
     ]
    }
   ],
   "source": [
    "print(f\"Mean Squared Error: {mse: .2f}\\n\"\n",
    "     f\"Root Mean Squared Error: {rmse: .2f}\\n\"\n",
    "     f\"R-squared: {r2: .2f}\")"
   ]
  },
  {
   "cell_type": "markdown",
   "id": "46e6ea0d",
   "metadata": {
    "papermill": {
     "duration": 0.015363,
     "end_time": "2023-11-09T12:02:45.253637",
     "exception": false,
     "start_time": "2023-11-09T12:02:45.238274",
     "status": "completed"
    },
    "tags": []
   },
   "source": [
    "###### observations:"
   ]
  },
  {
   "cell_type": "markdown",
   "id": "a907a602",
   "metadata": {
    "papermill": {
     "duration": 0.016179,
     "end_time": "2023-11-09T12:02:45.285735",
     "exception": false,
     "start_time": "2023-11-09T12:02:45.269556",
     "status": "completed"
    },
    "tags": []
   },
   "source": [
    "In this context, an MSE of 0.49 suggests that, on average, the model's predictions are off by about 0.49 units squared from the actual scores. Lower MSE values indicate better model performance.\n",
    "\n",
    "An RMSE of 0.70 means that, on average, the model's predictions are off by approximately 0.70 units from the actual scores. Like MSE, lower RMSE values indicate better model performance.\n",
    "\n",
    " R-squared values range from 0 to 1, with higher values indicating better model fit. An R² of 0.50 is moderate, suggesting that the model has some predictive power but may benefit from further improvement."
   ]
  },
  {
   "cell_type": "markdown",
   "id": "a629e8c4",
   "metadata": {
    "papermill": {
     "duration": 0.015893,
     "end_time": "2023-11-09T12:02:45.317899",
     "exception": false,
     "start_time": "2023-11-09T12:02:45.302006",
     "status": "completed"
    },
    "tags": []
   },
   "source": [
    "###### summary"
   ]
  },
  {
   "cell_type": "markdown",
   "id": "55b1684f",
   "metadata": {
    "papermill": {
     "duration": 0.015607,
     "end_time": "2023-11-09T12:02:45.350555",
     "exception": false,
     "start_time": "2023-11-09T12:02:45.334948",
     "status": "completed"
    },
    "tags": []
   },
   "source": [
    "In summary, the linear regression model has a moderate level of predictive power after hyperparameter tunning, as indicated by the R-squared value of 0.50. The MSE and RMSE values provide additional insights into the accuracy of your predictions, with lower values indicating better performance."
   ]
  },
  {
   "cell_type": "code",
   "execution_count": 27,
   "id": "0723fa7f",
   "metadata": {
    "execution": {
     "iopub.execute_input": "2023-11-09T12:02:45.383830Z",
     "iopub.status.busy": "2023-11-09T12:02:45.383441Z",
     "iopub.status.idle": "2023-11-09T12:02:45.387015Z",
     "shell.execute_reply": "2023-11-09T12:02:45.386361Z"
    },
    "papermill": {
     "duration": 0.023023,
     "end_time": "2023-11-09T12:02:45.389522",
     "exception": false,
     "start_time": "2023-11-09T12:02:45.366499",
     "status": "completed"
    },
    "tags": []
   },
   "outputs": [],
   "source": [
    "# no visualizations yet"
   ]
  },
  {
   "cell_type": "code",
   "execution_count": 28,
   "id": "76f6146e",
   "metadata": {
    "execution": {
     "iopub.execute_input": "2023-11-09T12:02:45.424656Z",
     "iopub.status.busy": "2023-11-09T12:02:45.424198Z",
     "iopub.status.idle": "2023-11-09T12:02:45.429189Z",
     "shell.execute_reply": "2023-11-09T12:02:45.427986Z"
    },
    "papermill": {
     "duration": 0.026199,
     "end_time": "2023-11-09T12:02:45.432193",
     "exception": false,
     "start_time": "2023-11-09T12:02:45.405994",
     "status": "completed"
    },
    "tags": []
   },
   "outputs": [],
   "source": [
    "# visualisation to check for overfitting / underfitting"
   ]
  },
  {
   "cell_type": "code",
   "execution_count": 29,
   "id": "b5c466fa",
   "metadata": {
    "execution": {
     "iopub.execute_input": "2023-11-09T12:02:45.466614Z",
     "iopub.status.busy": "2023-11-09T12:02:45.466227Z",
     "iopub.status.idle": "2023-11-09T12:02:45.470786Z",
     "shell.execute_reply": "2023-11-09T12:02:45.469623Z"
    },
    "papermill": {
     "duration": 0.02466,
     "end_time": "2023-11-09T12:02:45.473150",
     "exception": false,
     "start_time": "2023-11-09T12:02:45.448490",
     "status": "completed"
    },
    "tags": []
   },
   "outputs": [],
   "source": [
    "from sklearn.model_selection import learning_curve"
   ]
  },
  {
   "cell_type": "code",
   "execution_count": 30,
   "id": "3642e44b",
   "metadata": {
    "execution": {
     "iopub.execute_input": "2023-11-09T12:02:45.507516Z",
     "iopub.status.busy": "2023-11-09T12:02:45.507107Z",
     "iopub.status.idle": "2023-11-09T12:02:45.511964Z",
     "shell.execute_reply": "2023-11-09T12:02:45.510791Z"
    },
    "papermill": {
     "duration": 0.025282,
     "end_time": "2023-11-09T12:02:45.514495",
     "exception": false,
     "start_time": "2023-11-09T12:02:45.489213",
     "status": "completed"
    },
    "tags": []
   },
   "outputs": [],
   "source": [
    "import warnings\n",
    "warnings.filterwarnings('ignore')"
   ]
  },
  {
   "cell_type": "code",
   "execution_count": 31,
   "id": "b6f390cc",
   "metadata": {
    "execution": {
     "iopub.execute_input": "2023-11-09T12:02:45.549626Z",
     "iopub.status.busy": "2023-11-09T12:02:45.549189Z",
     "iopub.status.idle": "2023-11-09T12:02:46.117990Z",
     "shell.execute_reply": "2023-11-09T12:02:46.117108Z"
    },
    "papermill": {
     "duration": 0.589819,
     "end_time": "2023-11-09T12:02:46.120470",
     "exception": false,
     "start_time": "2023-11-09T12:02:45.530651",
     "status": "completed"
    },
    "tags": []
   },
   "outputs": [
    {
     "data": {
      "image/png": "[encoded data removed]",
      "text/plain": [
       "<Figure size 800x600 with 1 Axes>"
      ]
     },
     "metadata": {},
     "output_type": "display_data"
    }
   ],
   "source": [
    "# Define a function to calculate mean squared error (MSE) for regression\n",
    "def neg_mse_scorer(estimator, X, y):\n",
    "    y_pred = estimator.predict(X)\n",
    "    mse = mean_squared_error(y, y_pred)\n",
    "    return -mse  # Negate MSE since GridSearchCV minimizes by default\n",
    "\n",
    "# Plot the learning curves for the best model\n",
    "plt.figure(figsize=(8, 6))\n",
    "train_sizes, train_scores, val_scores = learning_curve(\n",
    "    estimator=best_model,\n",
    "    X=X_train_scaled,  # Use your scaled training data here\n",
    "    y=y_train,          # Your training labels here\n",
    "    train_sizes=np.linspace(0.1, 1.0, 10),\n",
    "    cv=5,\n",
    "    scoring=neg_mse_scorer,  # Use the custom MSE scorer\n",
    "    shuffle=True,\n",
    "    random_state=42\n",
    ")\n",
    "\n",
    "# Calculate the mean and standard deviation of train and validation scores\n",
    "train_scores_mean = -np.mean(train_scores, axis=1)  # Negate since we used neg_mse_scorer\n",
    "train_scores_std = np.std(train_scores, axis=1)\n",
    "val_scores_mean = -np.mean(val_scores, axis=1)\n",
    "val_scores_std = np.std(val_scores, axis=1)\n",
    "\n",
    "# Plot the learning curves with the mean and standard deviation\n",
    "plt.plot(train_sizes, train_scores_mean, label='Training MSE', color='blue')\n",
    "plt.fill_between(train_sizes, train_scores_mean - train_scores_std, train_scores_mean + train_scores_std, alpha=0.2, color='blue')\n",
    "plt.plot(train_sizes, val_scores_mean, label='Validation MSE', color='red')\n",
    "plt.fill_between(train_sizes, val_scores_mean - val_scores_std, val_scores_mean + val_scores_std, alpha=0.2, color='red')\n",
    "\n",
    "plt.xlabel('Training Set Size')\n",
    "plt.ylabel('MSE')\n",
    "plt.title('Learning Curves for Regression')\n",
    "plt.legend()\n",
    "plt.grid(True)\n",
    "plt.show()"
   ]
  },
  {
   "cell_type": "markdown",
   "id": "06fbb444",
   "metadata": {
    "papermill": {
     "duration": 0.01748,
     "end_time": "2023-11-09T12:02:46.155231",
     "exception": false,
     "start_time": "2023-11-09T12:02:46.137751",
     "status": "completed"
    },
    "tags": []
   },
   "source": [
    "It's fairly balanced! Linear Regression isn't suitable enough"
   ]
  },
  {
   "cell_type": "code",
   "execution_count": null,
   "id": "26dcb84c",
   "metadata": {
    "papermill": {
     "duration": 0.016778,
     "end_time": "2023-11-09T12:02:46.189328",
     "exception": false,
     "start_time": "2023-11-09T12:02:46.172550",
     "status": "completed"
    },
    "tags": []
   },
   "outputs": [],
   "source": []
  }
 ],
 "metadata": {
  "kernelspec": {
   "display_name": "Python 3",
   "language": "python",
   "name": "python3"
  },
  "language_info": {
   "codemirror_mode": {
    "name": "ipython",
    "version": 3
   },
   "file_extension": ".py",
   "mimetype": "text/x-python",
   "name": "python",
   "nbconvert_exporter": "python",
   "pygments_lexer": "ipython3",
   "version": "3.10.12"
  },
  "papermill": {
   "default_parameters": {},
   "duration": 37.770422,
   "end_time": "2023-11-09T12:02:47.029299",
   "environment_variables": {},
   "exception": null,
   "input_path": "__notebook__.ipynb",
   "output_path": "__notebook__.ipynb",
   "parameters": {},
   "start_time": "2023-11-09T12:02:09.258877",
   "version": "2.4.0"
  }
 },
 "nbformat": 4,
 "nbformat_minor": 5
}
