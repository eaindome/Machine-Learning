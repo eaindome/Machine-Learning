{
 "cells": [
  {
   "cell_type": "code",
   "execution_count": 1,
   "id": "7eb9a82e-a60d-4bef-82a2-b7d14193930a",
   "metadata": {},
   "outputs": [],
   "source": [
    "import numpy as np\n",
    "import pandas as pd\n",
    "import seaborn as sns\n",
    "import matplotlib.pyplot as plt\n",
    "import warnings\n",
    "%matplotlib inline\n",
    "warnings.filterwarnings('ignore')   # suppress warnings"
   ]
  },
  {
   "cell_type": "code",
   "execution_count": 2,
   "id": "65254725-da99-4656-90a9-a90f68c2670d",
   "metadata": {},
   "outputs": [
    {
     "name": "stdout",
     "output_type": "stream",
     "text": [
      "(10001, 4)\n"
     ]
    },
    {
     "data": {
      "text/html": [
       "<div>\n",
       "<style scoped>\n",
       "    .dataframe tbody tr th:only-of-type {\n",
       "        vertical-align: middle;\n",
       "    }\n",
       "\n",
       "    .dataframe tbody tr th {\n",
       "        vertical-align: top;\n",
       "    }\n",
       "\n",
       "    .dataframe thead th {\n",
       "        text-align: right;\n",
       "    }\n",
       "</style>\n",
       "<table border=\"1\" class=\"dataframe\">\n",
       "  <thead>\n",
       "    <tr style=\"text-align: right;\">\n",
       "      <th></th>\n",
       "      <th>tweet_id</th>\n",
       "      <th>safe_text</th>\n",
       "      <th>label</th>\n",
       "      <th>agreement</th>\n",
       "    </tr>\n",
       "  </thead>\n",
       "  <tbody>\n",
       "    <tr>\n",
       "      <th>0</th>\n",
       "      <td>CL1KWCMY</td>\n",
       "      <td>Me &amp;amp; The Big Homie meanboy3000 #MEANBOY #M...</td>\n",
       "      <td>0.0</td>\n",
       "      <td>1.0</td>\n",
       "    </tr>\n",
       "    <tr>\n",
       "      <th>1</th>\n",
       "      <td>E3303EME</td>\n",
       "      <td>I'm 100% thinking of devoting my career to pro...</td>\n",
       "      <td>1.0</td>\n",
       "      <td>1.0</td>\n",
       "    </tr>\n",
       "    <tr>\n",
       "      <th>2</th>\n",
       "      <td>M4IVFSMS</td>\n",
       "      <td>#whatcausesautism VACCINES, DO NOT VACCINATE Y...</td>\n",
       "      <td>-1.0</td>\n",
       "      <td>1.0</td>\n",
       "    </tr>\n",
       "    <tr>\n",
       "      <th>3</th>\n",
       "      <td>1DR6ROZ4</td>\n",
       "      <td>I mean if they immunize my kid with something ...</td>\n",
       "      <td>-1.0</td>\n",
       "      <td>1.0</td>\n",
       "    </tr>\n",
       "    <tr>\n",
       "      <th>4</th>\n",
       "      <td>J77ENIIE</td>\n",
       "      <td>Thanks to &lt;user&gt; Catch me performing at La Nui...</td>\n",
       "      <td>0.0</td>\n",
       "      <td>1.0</td>\n",
       "    </tr>\n",
       "  </tbody>\n",
       "</table>\n",
       "</div>"
      ],
      "text/plain": [
       "   tweet_id                                          safe_text  label  \\\n",
       "0  CL1KWCMY  Me &amp; The Big Homie meanboy3000 #MEANBOY #M...    0.0   \n",
       "1  E3303EME  I'm 100% thinking of devoting my career to pro...    1.0   \n",
       "2  M4IVFSMS  #whatcausesautism VACCINES, DO NOT VACCINATE Y...   -1.0   \n",
       "3  1DR6ROZ4  I mean if they immunize my kid with something ...   -1.0   \n",
       "4  J77ENIIE  Thanks to <user> Catch me performing at La Nui...    0.0   \n",
       "\n",
       "   agreement  \n",
       "0        1.0  \n",
       "1        1.0  \n",
       "2        1.0  \n",
       "3        1.0  \n",
       "4        1.0  "
      ]
     },
     "execution_count": 2,
     "metadata": {},
     "output_type": "execute_result"
    }
   ],
   "source": [
    "# train data\n",
    "df_train = pd.read_csv('Train.csv')\n",
    "print(df_train.shape)\n",
    "df_train.head()"
   ]
  },
  {
   "cell_type": "code",
   "execution_count": 3,
   "id": "03271e91-c43b-49ce-be24-461876c0b34c",
   "metadata": {},
   "outputs": [
    {
     "name": "stdout",
     "output_type": "stream",
     "text": [
      "(5177, 2)\n"
     ]
    },
    {
     "data": {
      "text/html": [
       "<div>\n",
       "<style scoped>\n",
       "    .dataframe tbody tr th:only-of-type {\n",
       "        vertical-align: middle;\n",
       "    }\n",
       "\n",
       "    .dataframe tbody tr th {\n",
       "        vertical-align: top;\n",
       "    }\n",
       "\n",
       "    .dataframe thead th {\n",
       "        text-align: right;\n",
       "    }\n",
       "</style>\n",
       "<table border=\"1\" class=\"dataframe\">\n",
       "  <thead>\n",
       "    <tr style=\"text-align: right;\">\n",
       "      <th></th>\n",
       "      <th>tweet_id</th>\n",
       "      <th>safe_text</th>\n",
       "    </tr>\n",
       "  </thead>\n",
       "  <tbody>\n",
       "    <tr>\n",
       "      <th>0</th>\n",
       "      <td>00BHHHP1</td>\n",
       "      <td>&lt;user&gt; &lt;user&gt; ... &amp;amp; 4 a vaccine given 2 he...</td>\n",
       "    </tr>\n",
       "    <tr>\n",
       "      <th>1</th>\n",
       "      <td>00UNMD0E</td>\n",
       "      <td>Students starting school without whooping coug...</td>\n",
       "    </tr>\n",
       "    <tr>\n",
       "      <th>2</th>\n",
       "      <td>01AXPTJF</td>\n",
       "      <td>I'm kinda over every ep of &lt;user&gt; being \"rippe...</td>\n",
       "    </tr>\n",
       "    <tr>\n",
       "      <th>3</th>\n",
       "      <td>01HOEQJW</td>\n",
       "      <td>How many innocent children die for lack of vac...</td>\n",
       "    </tr>\n",
       "    <tr>\n",
       "      <th>4</th>\n",
       "      <td>01JUKMAO</td>\n",
       "      <td>CDC eyeing bird flu vaccine for humans, though...</td>\n",
       "    </tr>\n",
       "  </tbody>\n",
       "</table>\n",
       "</div>"
      ],
      "text/plain": [
       "   tweet_id                                          safe_text\n",
       "0  00BHHHP1  <user> <user> ... &amp; 4 a vaccine given 2 he...\n",
       "1  00UNMD0E  Students starting school without whooping coug...\n",
       "2  01AXPTJF  I'm kinda over every ep of <user> being \"rippe...\n",
       "3  01HOEQJW  How many innocent children die for lack of vac...\n",
       "4  01JUKMAO  CDC eyeing bird flu vaccine for humans, though..."
      ]
     },
     "execution_count": 3,
     "metadata": {},
     "output_type": "execute_result"
    }
   ],
   "source": [
    "# test data\n",
    "df_test = pd.read_csv('Test.csv')\n",
    "print(df_test.shape)\n",
    "df_test.head()"
   ]
  },
  {
   "cell_type": "code",
   "execution_count": 4,
   "id": "78ee7f1e-8d21-4c0b-b410-6b2d4657e5d2",
   "metadata": {},
   "outputs": [
    {
     "name": "stdout",
     "output_type": "stream",
     "text": [
      "Column: label\n",
      "Mean round: 0\n",
      "Column: agreement\n",
      "Mean round: 1\n"
     ]
    }
   ],
   "source": [
    "# fill missing values\n",
    "# label and aggreement are floating numbers, use mean and round\n",
    "cols = ['label', 'agreement']\n",
    "for col in cols:\n",
    "    print(f'Column: {col}')\n",
    "    mean_rounded = round(df_train[col].mean())\n",
    "    print(f'Mean round: {mean_rounded}')\n",
    "    df_train[col].fillna(mean_rounded, inplace=True)"
   ]
  },
  {
   "cell_type": "code",
   "execution_count": 5,
   "id": "00731ab6-abb5-4149-a1fa-82c51357abc7",
   "metadata": {},
   "outputs": [
    {
     "name": "stdout",
     "output_type": "stream",
     "text": [
      "label\n",
      " 0    4909\n",
      " 1    4054\n",
      "-1    1038\n",
      "Name: count, dtype: int64\n"
     ]
    }
   ],
   "source": [
    "# there are some inconsistencies, label values should either be 1, 0, -1\n",
    "\n",
    "# Check the values in the target variable and handle any inconsistencies\n",
    "df_train['label'] = df_train['label'].round().astype(int)\n",
    "\n",
    "# Verify the counts of the target variable after handling inconsistencies\n",
    "label_counts = df_train['label'].value_counts()\n",
    "print(label_counts)"
   ]
  },
  {
   "cell_type": "code",
   "execution_count": 6,
   "id": "3ceee8e4-e03b-4b46-b067-aa8a0f06e78d",
   "metadata": {},
   "outputs": [],
   "source": [
    "from sklearn.model_selection import train_test_split\n",
    "from sklearn.feature_extraction.text import TfidfVectorizer\n",
    "from sklearn.ensemble import GradientBoostingClassifier\n",
    "from sklearn.metrics import classification_report, accuracy_score"
   ]
  },
  {
   "cell_type": "code",
   "execution_count": 7,
   "id": "1181ca5f-cf95-49f3-bef1-90fcf21bc5ac",
   "metadata": {},
   "outputs": [],
   "source": [
    "# Text Preprocessing\n",
    "# (You may need to install nltk and download its data using nltk.download() for stopwords and WordNet)\n",
    "import nltk\n",
    "from nltk.corpus import stopwords\n",
    "from nltk.stem import WordNetLemmatizer"
   ]
  },
  {
   "cell_type": "code",
   "execution_count": 8,
   "id": "21faee04-0394-4155-a6d5-afe9c9237e9e",
   "metadata": {},
   "outputs": [
    {
     "name": "stderr",
     "output_type": "stream",
     "text": [
      "[nltk_data] Downloading package punkt to\n",
      "[nltk_data]     C:\\Users\\USER\\AppData\\Roaming\\nltk_data...\n",
      "[nltk_data]   Package punkt is already up-to-date!\n",
      "[nltk_data] Downloading package stopwords to\n",
      "[nltk_data]     C:\\Users\\USER\\AppData\\Roaming\\nltk_data...\n",
      "[nltk_data]   Package stopwords is already up-to-date!\n",
      "[nltk_data] Downloading package wordnet to\n",
      "[nltk_data]     C:\\Users\\USER\\AppData\\Roaming\\nltk_data...\n",
      "[nltk_data]   Package wordnet is already up-to-date!\n"
     ]
    },
    {
     "data": {
      "text/plain": [
       "True"
      ]
     },
     "execution_count": 8,
     "metadata": {},
     "output_type": "execute_result"
    }
   ],
   "source": [
    "# downloading nltk resources\n",
    "nltk.download('punkt')\n",
    "nltk.download('stopwords')\n",
    "nltk.download('wordnet')"
   ]
  },
  {
   "cell_type": "code",
   "execution_count": 9,
   "id": "2af47c6c-420f-4032-96cb-ada5140ae191",
   "metadata": {},
   "outputs": [],
   "source": [
    "# initialize wordnet lemmatizer\n",
    "lemmatizer = WordNetLemmatizer()"
   ]
  },
  {
   "cell_type": "code",
   "execution_count": 10,
   "id": "e243d458-390c-4998-acff-1c06b4eaa1a4",
   "metadata": {},
   "outputs": [],
   "source": [
    "def preprocess_text(text):\n",
    "    tokens = text.split()\n",
    "    stop_words = set(stopwords.words('english'))\n",
    "    tokens = [token.lower() for token in tokens if token.lower() not in stop_words]\n",
    "    tokens = [lemmatizer.lemmatize(token) for token in tokens]\n",
    "    return ' '.join(tokens)"
   ]
  },
  {
   "cell_type": "code",
   "execution_count": 11,
   "id": "7f31ea3c-9a39-4981-9bbc-1789631860c6",
   "metadata": {},
   "outputs": [],
   "source": [
    "df_train['clean_text'] = df_train['safe_text'].apply(preprocess_text)"
   ]
  },
  {
   "cell_type": "code",
   "execution_count": 12,
   "id": "ff2dcc49-0ab0-4b92-85f9-3a485a4e1c61",
   "metadata": {},
   "outputs": [],
   "source": [
    "# Convert 'safe_text' column to strings\n",
    "df_test['safe_text'] = df_test['safe_text'].astype(str)\n",
    "\n",
    "# preprocess texts in 'safe_text' column in test_data\n",
    "df_test['safe_text'] = df_test['safe_text'].apply(preprocess_text)"
   ]
  },
  {
   "cell_type": "code",
   "execution_count": 13,
   "id": "4996ff7e-7e33-41d0-adb8-4fcf10290945",
   "metadata": {},
   "outputs": [],
   "source": [
    "# Splitting the data into training and testing sets\n",
    "X_train, X_test, y_train, y_test = train_test_split(df_train['clean_text'], df_train['label'], test_size=0.2, random_state=42)"
   ]
  },
  {
   "cell_type": "code",
   "execution_count": 14,
   "id": "d194eae1-c699-4d0d-8867-5bbaeed64fa1",
   "metadata": {},
   "outputs": [],
   "source": [
    "# Feature Extraction\n",
    "vectorizer = TfidfVectorizer()\n",
    "X_train_tfidf = vectorizer.fit_transform(X_train)\n",
    "X_test_tfidf = vectorizer.transform(X_test)"
   ]
  },
  {
   "cell_type": "code",
   "execution_count": 15,
   "id": "3f3b5eec-4726-4bfc-aeda-013001646d1f",
   "metadata": {},
   "outputs": [],
   "source": [
    "X_val_tfidf = vectorizer.transform(df_test[\"safe_text\"])"
   ]
  },
  {
   "cell_type": "code",
   "execution_count": 16,
   "id": "37d12bc7-f23c-4c26-997b-2576a5af0e1c",
   "metadata": {},
   "outputs": [
    {
     "data": {
      "text/html": [
       "<style>#sk-container-id-1 {color: black;background-color: white;}#sk-container-id-1 pre{padding: 0;}#sk-container-id-1 div.sk-toggleable {background-color: white;}#sk-container-id-1 label.sk-toggleable__label {cursor: pointer;display: block;width: 100%;margin-bottom: 0;padding: 0.3em;box-sizing: border-box;text-align: center;}#sk-container-id-1 label.sk-toggleable__label-arrow:before {content: \"▸\";float: left;margin-right: 0.25em;color: #696969;}#sk-container-id-1 label.sk-toggleable__label-arrow:hover:before {color: black;}#sk-container-id-1 div.sk-estimator:hover label.sk-toggleable__label-arrow:before {color: black;}#sk-container-id-1 div.sk-toggleable__content {max-height: 0;max-width: 0;overflow: hidden;text-align: left;background-color: #f0f8ff;}#sk-container-id-1 div.sk-toggleable__content pre {margin: 0.2em;color: black;border-radius: 0.25em;background-color: #f0f8ff;}#sk-container-id-1 input.sk-toggleable__control:checked~div.sk-toggleable__content {max-height: 200px;max-width: 100%;overflow: auto;}#sk-container-id-1 input.sk-toggleable__control:checked~label.sk-toggleable__label-arrow:before {content: \"▾\";}#sk-container-id-1 div.sk-estimator input.sk-toggleable__control:checked~label.sk-toggleable__label {background-color: #d4ebff;}#sk-container-id-1 div.sk-label input.sk-toggleable__control:checked~label.sk-toggleable__label {background-color: #d4ebff;}#sk-container-id-1 input.sk-hidden--visually {border: 0;clip: rect(1px 1px 1px 1px);clip: rect(1px, 1px, 1px, 1px);height: 1px;margin: -1px;overflow: hidden;padding: 0;position: absolute;width: 1px;}#sk-container-id-1 div.sk-estimator {font-family: monospace;background-color: #f0f8ff;border: 1px dotted black;border-radius: 0.25em;box-sizing: border-box;margin-bottom: 0.5em;}#sk-container-id-1 div.sk-estimator:hover {background-color: #d4ebff;}#sk-container-id-1 div.sk-parallel-item::after {content: \"\";width: 100%;border-bottom: 1px solid gray;flex-grow: 1;}#sk-container-id-1 div.sk-label:hover label.sk-toggleable__label {background-color: #d4ebff;}#sk-container-id-1 div.sk-serial::before {content: \"\";position: absolute;border-left: 1px solid gray;box-sizing: border-box;top: 0;bottom: 0;left: 50%;z-index: 0;}#sk-container-id-1 div.sk-serial {display: flex;flex-direction: column;align-items: center;background-color: white;padding-right: 0.2em;padding-left: 0.2em;position: relative;}#sk-container-id-1 div.sk-item {position: relative;z-index: 1;}#sk-container-id-1 div.sk-parallel {display: flex;align-items: stretch;justify-content: center;background-color: white;position: relative;}#sk-container-id-1 div.sk-item::before, #sk-container-id-1 div.sk-parallel-item::before {content: \"\";position: absolute;border-left: 1px solid gray;box-sizing: border-box;top: 0;bottom: 0;left: 50%;z-index: -1;}#sk-container-id-1 div.sk-parallel-item {display: flex;flex-direction: column;z-index: 1;position: relative;background-color: white;}#sk-container-id-1 div.sk-parallel-item:first-child::after {align-self: flex-end;width: 50%;}#sk-container-id-1 div.sk-parallel-item:last-child::after {align-self: flex-start;width: 50%;}#sk-container-id-1 div.sk-parallel-item:only-child::after {width: 0;}#sk-container-id-1 div.sk-dashed-wrapped {border: 1px dashed gray;margin: 0 0.4em 0.5em 0.4em;box-sizing: border-box;padding-bottom: 0.4em;background-color: white;}#sk-container-id-1 div.sk-label label {font-family: monospace;font-weight: bold;display: inline-block;line-height: 1.2em;}#sk-container-id-1 div.sk-label-container {text-align: center;}#sk-container-id-1 div.sk-container {/* jupyter's `normalize.less` sets `[hidden] { display: none; }` but bootstrap.min.css set `[hidden] { display: none !important; }` so we also need the `!important` here to be able to override the default hidden behavior on the sphinx rendered scikit-learn.org. See: https://github.com/scikit-learn/scikit-learn/issues/21755 */display: inline-block !important;position: relative;}#sk-container-id-1 div.sk-text-repr-fallback {display: none;}</style><div id=\"sk-container-id-1\" class=\"sk-top-container\"><div class=\"sk-text-repr-fallback\"><pre>GradientBoostingClassifier(random_state=42)</pre><b>In a Jupyter environment, please rerun this cell to show the HTML representation or trust the notebook. <br />On GitHub, the HTML representation is unable to render, please try loading this page with nbviewer.org.</b></div><div class=\"sk-container\" hidden><div class=\"sk-item\"><div class=\"sk-estimator sk-toggleable\"><input class=\"sk-toggleable__control sk-hidden--visually\" id=\"sk-estimator-id-1\" type=\"checkbox\" checked><label for=\"sk-estimator-id-1\" class=\"sk-toggleable__label sk-toggleable__label-arrow\">GradientBoostingClassifier</label><div class=\"sk-toggleable__content\"><pre>GradientBoostingClassifier(random_state=42)</pre></div></div></div></div></div>"
      ],
      "text/plain": [
       "GradientBoostingClassifier(random_state=42)"
      ]
     },
     "execution_count": 16,
     "metadata": {},
     "output_type": "execute_result"
    }
   ],
   "source": [
    "# Model Training - Gradient Boosting Machine\n",
    "gbm = GradientBoostingClassifier(n_estimators=100, learning_rate=0.1, max_depth=3, random_state=42)\n",
    "gbm.fit(X_train_tfidf, y_train)"
   ]
  },
  {
   "cell_type": "code",
   "execution_count": 17,
   "id": "1894805a-e1ae-4953-932f-26e1045e1c91",
   "metadata": {},
   "outputs": [
    {
     "name": "stdout",
     "output_type": "stream",
     "text": [
      "Validation Set Performance: \n",
      "              precision    recall  f1-score   support\n",
      "\n",
      "          -1       0.80      0.17      0.28       231\n",
      "           0       0.79      0.79      0.79       988\n",
      "           1       0.63      0.77      0.69       782\n",
      "\n",
      "    accuracy                           0.71      2001\n",
      "   macro avg       0.74      0.58      0.59      2001\n",
      "weighted avg       0.73      0.71      0.70      2001\n",
      "\n"
     ]
    }
   ],
   "source": [
    "# Model Evaluation\n",
    "y_pred_val = gbm.predict(X_test_tfidf)\n",
    "print(\"Validation Set Performance: \")\n",
    "print(classification_report(y_test, y_pred_val))"
   ]
  },
  {
   "cell_type": "code",
   "execution_count": 18,
   "id": "53df2763-c3d9-44a0-bc1a-4c4988cbe877",
   "metadata": {},
   "outputs": [
    {
     "name": "stdout",
     "output_type": "stream",
     "text": [
      "Validation Accuracy: 71.41429285357322\n"
     ]
    }
   ],
   "source": [
    "# model accuracy score\n",
    "accuracy = accuracy_score(y_test, y_pred_val)\n",
    "print(\"Validation Accuracy:\", accuracy*100)"
   ]
  },
  {
   "cell_type": "code",
   "execution_count": 19,
   "id": "4b69d731-76b1-4786-946e-276c06da4e5c",
   "metadata": {},
   "outputs": [],
   "source": [
    "# model deployment: predict sentiments of test data\n",
    "#y_pred_test = gbm.predict(X_val_tfidf)"
   ]
  },
  {
   "cell_type": "code",
   "execution_count": 20,
   "id": "778da1e5-93e1-48c7-b96f-98602b05f274",
   "metadata": {},
   "outputs": [],
   "source": [
    "# save predictions to submission.csv\n",
    "#submission_df = pd.DataFrame(\n",
    "#    {\n",
    "#        'tweet_id': df_test['tweet_id'],\n",
    "#        'label': y_pred_test\n",
    "#    }\n",
    "#)\n",
    "#submission_df.to_csv('submission_t1.csv', index=False)\n",
    "#print(\"Submission file save successfully.\")"
   ]
  },
  {
   "cell_type": "markdown",
   "id": "c35ff574-d06d-41fb-a409-3a205ba2dd36",
   "metadata": {},
   "source": [
    "#### Hyperparameter Tunning"
   ]
  },
  {
   "cell_type": "code",
   "execution_count": 21,
   "id": "e826c7bb-fea3-451c-869b-bdac1cec71f0",
   "metadata": {},
   "outputs": [],
   "source": [
    "import optuna\n",
    "from xgboost import XGBClassifier"
   ]
  },
  {
   "cell_type": "markdown",
   "id": "71546416-ddeb-4915-a412-f52c8c509637",
   "metadata": {},
   "source": [
    "##### XGBoostClassifier"
   ]
  },
  {
   "cell_type": "code",
   "execution_count": 28,
   "id": "8c113ac4-0c71-41b9-8511-43a80340aaf2",
   "metadata": {},
   "outputs": [],
   "source": [
    "# Define objective function for Optuna\n",
    "def objective(trial):\n",
    "    params = {\n",
    "        'learning_rate': trial.suggest_loguniform('learning_rate', 0.01, 0.3),\n",
    "        'max_depth': trial.suggest_int('max_depth', 3, 10),\n",
    "        'min_child_weight': trial.suggest_loguniform('min_child_weight', 0.1, 10),\n",
    "        'subsample': trial.suggest_uniform('subsample', 0.5, 1.0),\n",
    "        'colsample_bytree': trial.suggest_uniform('colsample_bytree', 0.5, 1.0),\n",
    "        'n_estimators': trial.suggest_int('n_estimators', 50, 300),\n",
    "        'gamma': trial.suggest_loguniform('gamma', 0.1, 10),\n",
    "        'reg_alpha': trial.suggest_loguniform('reg_alpha', 0.1, 10),\n",
    "        'reg_lambda': trial.suggest_loguniform('reg_lambda', 0.1, 10)\n",
    "    }\n",
    "\n",
    "    model = XGBClassifier(**params)\n",
    "    model.fit(X_train_tfidf, y_train.map({-1: 0, 0: 1, 1: 2}))  # Map classes to [0, 1, 2]\n",
    "\n",
    "    y_pred = model.predict(X_test_tfidf)\n",
    "    accuracy = accuracy_score(y_test, y_pred)\n",
    "    return accuracy"
   ]
  },
  {
   "cell_type": "code",
   "execution_count": 29,
   "id": "0382bac4-6f3a-4e05-824e-288759a459b3",
   "metadata": {
    "scrolled": true
   },
   "outputs": [
    {
     "name": "stderr",
     "output_type": "stream",
     "text": [
      "[I 2024-03-25 00:39:14,418] A new study created in memory with name: no-name-3ed378d9-e1f0-4bd0-bf15-6649faecfbd2\n",
      "[I 2024-03-25 00:39:25,466] Trial 0 finished with value: 0.09395302348825588 and parameters: {'learning_rate': 0.08072747633406846, 'max_depth': 4, 'min_child_weight': 0.40256743416589136, 'subsample': 0.6897215217704735, 'colsample_bytree': 0.5178869788111966, 'n_estimators': 158, 'gamma': 1.6292676518910794, 'reg_alpha': 6.20654556791987, 'reg_lambda': 9.666452382617248}. Best is trial 0 with value: 0.09395302348825588.\n",
      "[I 2024-03-25 00:39:36,766] Trial 1 finished with value: 0.09845077461269365 and parameters: {'learning_rate': 0.010626233444156075, 'max_depth': 3, 'min_child_weight': 2.148717819210923, 'subsample': 0.6882481640982886, 'colsample_bytree': 0.6773917739160715, 'n_estimators': 181, 'gamma': 4.548626824229091, 'reg_alpha': 1.8524142341554055, 'reg_lambda': 0.2633547354844357}. Best is trial 1 with value: 0.09845077461269365.\n",
      "[I 2024-03-25 00:39:41,821] Trial 2 finished with value: 0.09095452273863068 and parameters: {'learning_rate': 0.22240945444843618, 'max_depth': 6, 'min_child_weight': 2.0633017039008577, 'subsample': 0.9649076964451118, 'colsample_bytree': 0.6092511999849892, 'n_estimators': 123, 'gamma': 7.426052627230652, 'reg_alpha': 0.1590507062700658, 'reg_lambda': 0.5679201046907653}. Best is trial 1 with value: 0.09845077461269365.\n",
      "[I 2024-03-25 00:39:59,421] Trial 3 finished with value: 0.09645177411294353 and parameters: {'learning_rate': 0.02499171217780361, 'max_depth': 6, 'min_child_weight': 0.9807156771062882, 'subsample': 0.9639806532257502, 'colsample_bytree': 0.5077828471652607, 'n_estimators': 110, 'gamma': 0.13243189542251219, 'reg_alpha': 5.089164173061351, 'reg_lambda': 0.20766933560649978}. Best is trial 1 with value: 0.09845077461269365.\n",
      "[I 2024-03-25 00:40:21,404] Trial 4 finished with value: 0.09545227386306847 and parameters: {'learning_rate': 0.02215864388446333, 'max_depth': 8, 'min_child_weight': 0.9254568263302533, 'subsample': 0.7920271295106776, 'colsample_bytree': 0.5748824340282794, 'n_estimators': 117, 'gamma': 1.7110030980333455, 'reg_alpha': 4.213127364507468, 'reg_lambda': 0.42489283871075517}. Best is trial 1 with value: 0.09845077461269365.\n",
      "[I 2024-03-25 00:41:54,670] Trial 5 finished with value: 0.09195402298850575 and parameters: {'learning_rate': 0.1726591115948623, 'max_depth': 9, 'min_child_weight': 0.11090049959948994, 'subsample': 0.5016394135783803, 'colsample_bytree': 0.8191094596852022, 'n_estimators': 296, 'gamma': 0.49855338593970855, 'reg_alpha': 0.21743499570470393, 'reg_lambda': 0.7295878121665552}. Best is trial 1 with value: 0.09845077461269365.\n",
      "[I 2024-03-25 00:42:08,891] Trial 6 finished with value: 0.10094952523738131 and parameters: {'learning_rate': 0.03210298252077409, 'max_depth': 3, 'min_child_weight': 6.393235161957213, 'subsample': 0.8993020372842975, 'colsample_bytree': 0.6249749603900299, 'n_estimators': 262, 'gamma': 0.12919593455477152, 'reg_alpha': 1.0466362917893814, 'reg_lambda': 0.9217035608391372}. Best is trial 6 with value: 0.10094952523738131.\n",
      "[I 2024-03-25 00:42:39,966] Trial 7 finished with value: 0.08445777111444278 and parameters: {'learning_rate': 0.051617671349261124, 'max_depth': 7, 'min_child_weight': 3.078268715784161, 'subsample': 0.8625083184133876, 'colsample_bytree': 0.935311941201417, 'n_estimators': 187, 'gamma': 1.882903649571779, 'reg_alpha': 0.10170350080711522, 'reg_lambda': 9.0030008511035}. Best is trial 6 with value: 0.10094952523738131.\n",
      "[I 2024-03-25 00:42:50,228] Trial 8 finished with value: 0.09145427286356822 and parameters: {'learning_rate': 0.09789437622777089, 'max_depth': 4, 'min_child_weight': 0.2404130184822946, 'subsample': 0.6664733095539017, 'colsample_bytree': 0.8114877389083788, 'n_estimators': 95, 'gamma': 2.4975974227884907, 'reg_alpha': 2.400213444739824, 'reg_lambda': 1.7691313529076478}. Best is trial 6 with value: 0.10094952523738131.\n",
      "[I 2024-03-25 00:43:19,389] Trial 9 finished with value: 0.08295852073963018 and parameters: {'learning_rate': 0.036251695336333156, 'max_depth': 6, 'min_child_weight': 0.10020061158696329, 'subsample': 0.7761779862082285, 'colsample_bytree': 0.9642543922810464, 'n_estimators': 90, 'gamma': 0.851160794307367, 'reg_alpha': 0.5351738583727331, 'reg_lambda': 0.38958107217722593}. Best is trial 6 with value: 0.10094952523738131.\n",
      "[I 2024-03-25 00:44:27,532] Trial 10 finished with value: 0.0864567716141929 and parameters: {'learning_rate': 0.010638480982164165, 'max_depth': 10, 'min_child_weight': 9.802223868560622, 'subsample': 0.8812970182923422, 'colsample_bytree': 0.7338132754951396, 'n_estimators': 274, 'gamma': 0.1375419713733849, 'reg_alpha': 0.6626144431926577, 'reg_lambda': 2.106168090732481}. Best is trial 6 with value: 0.10094952523738131.\n",
      "[I 2024-03-25 00:44:39,079] Trial 11 finished with value: 0.10694652673663169 and parameters: {'learning_rate': 0.012824848781981825, 'max_depth': 3, 'min_child_weight': 7.724510478458986, 'subsample': 0.6090444770259278, 'colsample_bytree': 0.6696643314706341, 'n_estimators': 227, 'gamma': 9.41024588823505, 'reg_alpha': 1.5111543913020737, 'reg_lambda': 0.12176809629201887}. Best is trial 11 with value: 0.10694652673663169.\n",
      "[I 2024-03-25 00:44:51,672] Trial 12 finished with value: 0.10794602698650675 and parameters: {'learning_rate': 0.01741480748044909, 'max_depth': 3, 'min_child_weight': 9.053655373563501, 'subsample': 0.5488612815107132, 'colsample_bytree': 0.655706835142102, 'n_estimators': 246, 'gamma': 0.34403702974274547, 'reg_alpha': 1.1857544710061614, 'reg_lambda': 0.10534847755258564}. Best is trial 12 with value: 0.10794602698650675.\n",
      "[I 2024-03-25 00:45:09,668] Trial 13 finished with value: 0.10144927536231885 and parameters: {'learning_rate': 0.016461473859937202, 'max_depth': 4, 'min_child_weight': 5.316210708201425, 'subsample': 0.5398124979761667, 'colsample_bytree': 0.704511806586281, 'n_estimators': 228, 'gamma': 0.39758594510159206, 'reg_alpha': 1.2944475088973546, 'reg_lambda': 0.10199612433913371}. Best is trial 12 with value: 0.10794602698650675.\n",
      "[I 2024-03-25 00:45:32,861] Trial 14 finished with value: 0.09645177411294353 and parameters: {'learning_rate': 0.015535361816481045, 'max_depth': 5, 'min_child_weight': 8.804555059831452, 'subsample': 0.5916491196577858, 'colsample_bytree': 0.7975485945657722, 'n_estimators': 226, 'gamma': 0.319099697587182, 'reg_alpha': 0.4701506524954676, 'reg_lambda': 0.1105649862736952}. Best is trial 12 with value: 0.10794602698650675.\n",
      "[I 2024-03-25 00:45:45,916] Trial 15 finished with value: 0.11894052973513243 and parameters: {'learning_rate': 0.016341889114065998, 'max_depth': 3, 'min_child_weight': 4.146305627798135, 'subsample': 0.5918660543581586, 'colsample_bytree': 0.6709423246740513, 'n_estimators': 222, 'gamma': 0.7734939090349561, 'reg_alpha': 2.6491478978174836, 'reg_lambda': 0.1691007518505058}. Best is trial 15 with value: 0.11894052973513243.\n",
      "[I 2024-03-25 00:45:53,050] Trial 16 finished with value: 0.09545227386306847 and parameters: {'learning_rate': 0.04487030222718664, 'max_depth': 5, 'min_child_weight': 2.965910205141137, 'subsample': 0.5987010964894447, 'colsample_bytree': 0.8910230086040096, 'n_estimators': 51, 'gamma': 0.749438876016026, 'reg_alpha': 9.648408579731672, 'reg_lambda': 0.18365684814219968}. Best is trial 15 with value: 0.11894052973513243.\n",
      "[I 2024-03-25 00:46:15,899] Trial 17 finished with value: 0.09345327336331834 and parameters: {'learning_rate': 0.02397872268371205, 'max_depth': 5, 'min_child_weight': 4.124208976278539, 'subsample': 0.5397164825576325, 'colsample_bytree': 0.7592979827952886, 'n_estimators': 205, 'gamma': 0.22875493732330543, 'reg_alpha': 2.811583264746799, 'reg_lambda': 0.26206322668533183}. Best is trial 15 with value: 0.11894052973513243.\n",
      "[I 2024-03-25 00:46:30,909] Trial 18 finished with value: 0.08945527236381809 and parameters: {'learning_rate': 0.08095104932862142, 'max_depth': 3, 'min_child_weight': 1.5191750076740302, 'subsample': 0.6464696353659991, 'colsample_bytree': 0.573161493605068, 'n_estimators': 258, 'gamma': 0.6378601660035839, 'reg_alpha': 0.7536452652957408, 'reg_lambda': 1.4994096730201527}. Best is trial 15 with value: 0.11894052973513243.\n",
      "[I 2024-03-25 00:46:47,370] Trial 19 finished with value: 0.09195402298850575 and parameters: {'learning_rate': 0.019245149911421067, 'max_depth': 4, 'min_child_weight': 0.6077436851181336, 'subsample': 0.7318678642145307, 'colsample_bytree': 0.6386636477038465, 'n_estimators': 147, 'gamma': 0.22832777815396876, 'reg_alpha': 0.35929703990173184, 'reg_lambda': 3.5658640565840645}. Best is trial 15 with value: 0.11894052973513243.\n",
      "[I 2024-03-25 00:47:18,363] Trial 20 finished with value: 0.09195402298850575 and parameters: {'learning_rate': 0.031726822151821314, 'max_depth': 7, 'min_child_weight': 4.852093260907544, 'subsample': 0.5127283933883667, 'colsample_bytree': 0.8618605738274976, 'n_estimators': 243, 'gamma': 1.0795519114852241, 'reg_alpha': 3.1334543747976116, 'reg_lambda': 0.38315504629436814}. Best is trial 15 with value: 0.11894052973513243.\n",
      "[I 2024-03-25 00:47:28,524] Trial 21 finished with value: 0.11594202898550725 and parameters: {'learning_rate': 0.013995873770964532, 'max_depth': 3, 'min_child_weight': 7.010418939906669, 'subsample': 0.6001390099150354, 'colsample_bytree': 0.6620599056098434, 'n_estimators': 208, 'gamma': 8.405225605149226, 'reg_alpha': 1.4345487591167112, 'reg_lambda': 0.14795423659184204}. Best is trial 15 with value: 0.11894052973513243.\n",
      "[I 2024-03-25 00:47:40,153] Trial 22 finished with value: 0.11044477761119441 and parameters: {'learning_rate': 0.014456604245470904, 'max_depth': 3, 'min_child_weight': 3.939635880446664, 'subsample': 0.566004102464637, 'colsample_bytree': 0.7271631658153774, 'n_estimators': 200, 'gamma': 3.4925141053187208, 'reg_alpha': 1.873013935691903, 'reg_lambda': 0.1571410508042002}. Best is trial 15 with value: 0.11894052973513243.\n",
      "[I 2024-03-25 00:47:55,758] Trial 23 finished with value: 0.10194902548725637 and parameters: {'learning_rate': 0.013972886576790761, 'max_depth': 4, 'min_child_weight': 3.017990849495535, 'subsample': 0.5816685906716061, 'colsample_bytree': 0.7452887069402416, 'n_estimators': 203, 'gamma': 4.546544450698924, 'reg_alpha': 1.7008383876001227, 'reg_lambda': 0.17486667738126815}. Best is trial 15 with value: 0.11894052973513243.\n",
      "[I 2024-03-25 00:48:15,590] Trial 24 finished with value: 0.09795102448775612 and parameters: {'learning_rate': 0.011252645403114311, 'max_depth': 5, 'min_child_weight': 1.7318120109159676, 'subsample': 0.6420223130042402, 'colsample_bytree': 0.7062287281703775, 'n_estimators': 201, 'gamma': 4.32767452094402, 'reg_alpha': 3.888509880618771, 'reg_lambda': 0.1480223432822722}. Best is trial 15 with value: 0.11894052973513243.\n",
      "[I 2024-03-25 00:48:23,805] Trial 25 finished with value: 0.11044477761119441 and parameters: {'learning_rate': 0.027012459424132287, 'max_depth': 3, 'min_child_weight': 3.6422901888045827, 'subsample': 0.6267774297637427, 'colsample_bytree': 0.5966704621459757, 'n_estimators': 160, 'gamma': 6.39764360080949, 'reg_alpha': 2.2236209553563464, 'reg_lambda': 0.32377785643311363}. Best is trial 15 with value: 0.11894052973513243.\n",
      "[I 2024-03-25 00:48:39,628] Trial 26 finished with value: 0.10094952523738131 and parameters: {'learning_rate': 0.019862937007492188, 'max_depth': 4, 'min_child_weight': 5.691814202974908, 'subsample': 0.5653099594994545, 'colsample_bytree': 0.7695529910295603, 'n_estimators': 216, 'gamma': 2.434784288249949, 'reg_alpha': 0.88479703582423, 'reg_lambda': 0.2410764980108786}. Best is trial 15 with value: 0.11894052973513243.\n",
      "[I 2024-03-25 00:48:51,770] Trial 27 finished with value: 0.10394802598700649 and parameters: {'learning_rate': 0.013990766097838146, 'max_depth': 3, 'min_child_weight': 2.2954088450893204, 'subsample': 0.7241067967946124, 'colsample_bytree': 0.6972053279325424, 'n_estimators': 179, 'gamma': 1.1806090248002372, 'reg_alpha': 7.580502494978195, 'reg_lambda': 0.5763185631860159}. Best is trial 15 with value: 0.11894052973513243.\n",
      "[I 2024-03-25 00:49:02,129] Trial 28 finished with value: 0.08995502248875563 and parameters: {'learning_rate': 0.29884219407920054, 'max_depth': 5, 'min_child_weight': 1.2819934295901694, 'subsample': 0.6951108738155034, 'colsample_bytree': 0.5624900724674787, 'n_estimators': 297, 'gamma': 3.097784669486839, 'reg_alpha': 3.5948344385759348, 'reg_lambda': 0.1576391444610531}. Best is trial 15 with value: 0.11894052973513243.\n",
      "[I 2024-03-25 00:49:11,203] Trial 29 finished with value: 0.11494252873563218 and parameters: {'learning_rate': 0.03946475680385588, 'max_depth': 4, 'min_child_weight': 0.43442736136959553, 'subsample': 0.6687287623976319, 'colsample_bytree': 0.539052016284691, 'n_estimators': 156, 'gamma': 9.362533316653831, 'reg_alpha': 5.900196732032932, 'reg_lambda': 0.15226462438781102}. Best is trial 15 with value: 0.11894052973513243.\n",
      "[I 2024-03-25 00:49:18,848] Trial 30 finished with value: 0.11094452773613193 and parameters: {'learning_rate': 0.06426574788568336, 'max_depth': 4, 'min_child_weight': 0.33415715551034114, 'subsample': 0.682415722722815, 'colsample_bytree': 0.5415368670473238, 'n_estimators': 157, 'gamma': 9.29749940669186, 'reg_alpha': 5.9701138883560265, 'reg_lambda': 4.523451527952977}. Best is trial 15 with value: 0.11894052973513243.\n",
      "[I 2024-03-25 00:49:25,429] Trial 31 finished with value: 0.11244377811094453 and parameters: {'learning_rate': 0.11693129892052088, 'max_depth': 4, 'min_child_weight': 0.32103971658188074, 'subsample': 0.6708047063097028, 'colsample_bytree': 0.535974724890603, 'n_estimators': 159, 'gamma': 8.614081515722068, 'reg_alpha': 6.440407751486486, 'reg_lambda': 6.248074806106908}. Best is trial 15 with value: 0.11894052973513243.\n",
      "[I 2024-03-25 00:49:31,528] Trial 32 finished with value: 0.10844577711144428 and parameters: {'learning_rate': 0.13513880826527438, 'max_depth': 4, 'min_child_weight': 0.17757166832715743, 'subsample': 0.6574796247841788, 'colsample_bytree': 0.531442958064551, 'n_estimators': 136, 'gamma': 6.227684774459737, 'reg_alpha': 8.908003396884087, 'reg_lambda': 4.056373607388994}. Best is trial 15 with value: 0.11894052973513243.\n",
      "[I 2024-03-25 00:49:37,856] Trial 33 finished with value: 0.11144427786106946 and parameters: {'learning_rate': 0.11551613604461403, 'max_depth': 4, 'min_child_weight': 0.7621418903458307, 'subsample': 0.6148360349009635, 'colsample_bytree': 0.514484600534428, 'n_estimators': 169, 'gamma': 6.7884780053202896, 'reg_alpha': 6.115732923341329, 'reg_lambda': 7.077346090513997}. Best is trial 15 with value: 0.11894052973513243.\n",
      "[I 2024-03-25 00:49:46,492] Trial 34 finished with value: 0.11144427786106946 and parameters: {'learning_rate': 0.06203687008662353, 'max_depth': 3, 'min_child_weight': 0.3775613856878902, 'subsample': 0.7021748264224461, 'colsample_bytree': 0.5956513076099007, 'n_estimators': 186, 'gamma': 9.629245533063512, 'reg_alpha': 4.766766174809075, 'reg_lambda': 1.2293110421691127}. Best is trial 15 with value: 0.11894052973513243.\n",
      "[I 2024-03-25 00:49:57,023] Trial 35 finished with value: 0.10394802598700649 and parameters: {'learning_rate': 0.040668325040638637, 'max_depth': 6, 'min_child_weight': 0.6714292201835448, 'subsample': 0.7895706535403882, 'colsample_bytree': 0.5012430172802367, 'n_estimators': 130, 'gamma': 5.40480307365137, 'reg_alpha': 6.9770448998177, 'reg_lambda': 0.21714602156522606}. Best is trial 15 with value: 0.11894052973513243.\n",
      "[I 2024-03-25 00:50:03,346] Trial 36 finished with value: 0.10044977511244378 and parameters: {'learning_rate': 0.1499221203022941, 'max_depth': 5, 'min_child_weight': 0.4711191703209774, 'subsample': 0.7554934520846792, 'colsample_bytree': 0.6145870662377777, 'n_estimators': 147, 'gamma': 7.6839877737271385, 'reg_alpha': 4.761327064065087, 'reg_lambda': 2.820297591681878}. Best is trial 15 with value: 0.11894052973513243.\n",
      "[I 2024-03-25 00:50:15,172] Trial 37 finished with value: 0.09295352323838081 and parameters: {'learning_rate': 0.07375347361281559, 'max_depth': 3, 'min_child_weight': 0.2570271692541883, 'subsample': 0.8249725615851746, 'colsample_bytree': 0.5536653958610103, 'n_estimators': 165, 'gamma': 1.217203279027692, 'reg_alpha': 2.725143694566136, 'reg_lambda': 0.5650038775942224}. Best is trial 15 with value: 0.11894052973513243.\n",
      "[I 2024-03-25 00:50:26,479] Trial 38 finished with value: 0.09145427286356822 and parameters: {'learning_rate': 0.09610625510058331, 'max_depth': 4, 'min_child_weight': 0.1566007705219528, 'subsample': 0.7179415580911118, 'colsample_bytree': 0.6335129040572677, 'n_estimators': 106, 'gamma': 1.5126563373070703, 'reg_alpha': 2.0578606812177003, 'reg_lambda': 0.8020045753928382}. Best is trial 15 with value: 0.11894052973513243.\n",
      "[I 2024-03-25 00:50:33,443] Trial 39 finished with value: 0.08445777111444278 and parameters: {'learning_rate': 0.20827214690884666, 'max_depth': 8, 'min_child_weight': 0.4675173802571408, 'subsample': 0.9922317770417173, 'colsample_bytree': 0.6581056077790892, 'n_estimators': 194, 'gamma': 5.0142009054707355, 'reg_alpha': 3.47104745373035, 'reg_lambda': 0.30872917120483817}. Best is trial 15 with value: 0.11894052973513243.\n",
      "[I 2024-03-25 00:50:45,927] Trial 40 finished with value: 0.1024487756121939 and parameters: {'learning_rate': 0.05154259402667712, 'max_depth': 3, 'min_child_weight': 0.28585281014386904, 'subsample': 0.6741996447430579, 'colsample_bytree': 0.5901832988044824, 'n_estimators': 214, 'gamma': 3.87779354364264, 'reg_alpha': 5.428929179951516, 'reg_lambda': 0.46948199316237205}. Best is trial 15 with value: 0.11894052973513243.\n",
      "[I 2024-03-25 00:50:52,654] Trial 41 finished with value: 0.11144427786106946 and parameters: {'learning_rate': 0.10127281320334686, 'max_depth': 4, 'min_child_weight': 0.9363893293565442, 'subsample': 0.6222248075065171, 'colsample_bytree': 0.5247146294890889, 'n_estimators': 171, 'gamma': 7.05796583928532, 'reg_alpha': 6.643553814762909, 'reg_lambda': 9.492235428034192}. Best is trial 15 with value: 0.11894052973513243.\n",
      "[I 2024-03-25 00:50:58,541] Trial 42 finished with value: 0.11644177911044477 and parameters: {'learning_rate': 0.1551529124069987, 'max_depth': 4, 'min_child_weight': 0.8171586948454266, 'subsample': 0.6218817612112711, 'colsample_bytree': 0.5223309738082325, 'n_estimators': 177, 'gamma': 7.841305112916542, 'reg_alpha': 8.063062317631545, 'reg_lambda': 6.421379376700121}. Best is trial 15 with value: 0.11894052973513243.\n",
      "[I 2024-03-25 00:51:03,253] Trial 43 finished with value: 0.11344327836081959 and parameters: {'learning_rate': 0.1893118503815345, 'max_depth': 5, 'min_child_weight': 1.1958291422922456, 'subsample': 0.639836188946257, 'colsample_bytree': 0.5484412140657566, 'n_estimators': 143, 'gamma': 8.229012832793034, 'reg_alpha': 7.94650136697885, 'reg_lambda': 6.474871876031873}. Best is trial 15 with value: 0.11894052973513243.\n",
      "[I 2024-03-25 00:51:09,012] Trial 44 finished with value: 0.10094952523738131 and parameters: {'learning_rate': 0.2052689181829344, 'max_depth': 6, 'min_child_weight': 1.1500705961971955, 'subsample': 0.5805663582092035, 'colsample_bytree': 0.5708973852831668, 'n_estimators': 143, 'gamma': 2.736519609412963, 'reg_alpha': 9.820771252745992, 'reg_lambda': 5.846288578360086}. Best is trial 15 with value: 0.11894052973513243.\n",
      "[I 2024-03-25 00:51:13,346] Trial 45 finished with value: 0.09345327336331834 and parameters: {'learning_rate': 0.2968507503642779, 'max_depth': 5, 'min_child_weight': 2.3390207376888057, 'subsample': 0.6500187482631037, 'colsample_bytree': 0.6184286485474384, 'n_estimators': 124, 'gamma': 5.779699966447617, 'reg_alpha': 4.39446793409586, 'reg_lambda': 2.4772104792083947}. Best is trial 15 with value: 0.11894052973513243.\n",
      "[I 2024-03-25 00:51:18,152] Trial 46 finished with value: 0.1024487756121939 and parameters: {'learning_rate': 0.23776469856315507, 'max_depth': 3, 'min_child_weight': 7.199654409514319, 'subsample': 0.5176344929881791, 'colsample_bytree': 0.5510110555244458, 'n_estimators': 179, 'gamma': 7.958000144298508, 'reg_alpha': 1.5009422245052615, 'reg_lambda': 0.13260979632754888}. Best is trial 15 with value: 0.11894052973513243.\n",
      "[I 2024-03-25 00:51:42,340] Trial 47 finished with value: 0.0864567716141929 and parameters: {'learning_rate': 0.17210624409185107, 'max_depth': 10, 'min_child_weight': 0.7788820748850087, 'subsample': 0.630299686092039, 'colsample_bytree': 0.670726924077648, 'n_estimators': 239, 'gamma': 0.5401565145553208, 'reg_alpha': 7.765497630943028, 'reg_lambda': 7.517202366412137}. Best is trial 15 with value: 0.11894052973513243.\n",
      "[I 2024-03-25 00:51:50,169] Trial 48 finished with value: 0.11044477761119441 and parameters: {'learning_rate': 0.026935075464846647, 'max_depth': 5, 'min_child_weight': 0.5214962871545034, 'subsample': 0.6057853896799248, 'colsample_bytree': 0.5001788228963753, 'n_estimators': 75, 'gamma': 1.946862755149381, 'reg_alpha': 2.5721746800103227, 'reg_lambda': 0.20866871214052307}. Best is trial 15 with value: 0.11894052973513243.\n",
      "[I 2024-03-25 00:52:07,558] Trial 49 finished with value: 0.1054472763618191 and parameters: {'learning_rate': 0.01019167818372072, 'max_depth': 3, 'min_child_weight': 1.787585147795416, 'subsample': 0.571031923805937, 'colsample_bytree': 0.6876319539972778, 'n_estimators': 279, 'gamma': 5.144297588687122, 'reg_alpha': 8.208660714527726, 'reg_lambda': 4.8081981050787945}. Best is trial 15 with value: 0.11894052973513243.\n",
      "[I 2024-03-25 00:52:47,143] Trial 50 finished with value: 0.09195402298850575 and parameters: {'learning_rate': 0.011837266948801555, 'max_depth': 6, 'min_child_weight': 1.2165200848777649, 'subsample': 0.9209393923782149, 'colsample_bytree': 0.6455871484679969, 'n_estimators': 215, 'gamma': 0.7842210744884083, 'reg_alpha': 1.1802952113405631, 'reg_lambda': 3.1926143979885215}. Best is trial 15 with value: 0.11894052973513243.\n",
      "[I 2024-03-25 00:52:53,543] Trial 51 finished with value: 0.10794602698650675 and parameters: {'learning_rate': 0.13377890017195954, 'max_depth': 4, 'min_child_weight': 0.2066614021715659, 'subsample': 0.6704302648198565, 'colsample_bytree': 0.5376702673005539, 'n_estimators': 157, 'gamma': 8.17348242677316, 'reg_alpha': 5.629276753907058, 'reg_lambda': 6.295356033546227}. Best is trial 15 with value: 0.11894052973513243.\n",
      "[I 2024-03-25 00:53:00,596] Trial 52 finished with value: 0.11644177911044477 and parameters: {'learning_rate': 0.16321542188666896, 'max_depth': 4, 'min_child_weight': 0.32752626632997767, 'subsample': 0.5994679813456026, 'colsample_bytree': 0.5229151484089329, 'n_estimators': 193, 'gamma': 8.444637184279301, 'reg_alpha': 7.215901718394652, 'reg_lambda': 5.095334077069652}. Best is trial 15 with value: 0.11894052973513243.\n",
      "[I 2024-03-25 00:53:07,213] Trial 53 finished with value: 0.11344327836081959 and parameters: {'learning_rate': 0.17198718617687303, 'max_depth': 4, 'min_child_weight': 0.1393659391165684, 'subsample': 0.5507010293385256, 'colsample_bytree': 0.5790157944419468, 'n_estimators': 188, 'gamma': 9.934764456018424, 'reg_alpha': 4.28375736557867, 'reg_lambda': 5.314548375337573}. Best is trial 15 with value: 0.11894052973513243.\n",
      "[I 2024-03-25 00:53:13,029] Trial 54 finished with value: 0.11044477761119441 and parameters: {'learning_rate': 0.2367034545214749, 'max_depth': 3, 'min_child_weight': 0.5713463714567864, 'subsample': 0.5990131127016889, 'colsample_bytree': 0.5585273944078146, 'n_estimators': 232, 'gamma': 6.933311284435481, 'reg_alpha': 7.88419097797606, 'reg_lambda': 8.850506365588537}. Best is trial 15 with value: 0.11894052973513243.\n",
      "[I 2024-03-25 00:53:33,719] Trial 55 finished with value: 0.10744627686156921 and parameters: {'learning_rate': 0.018715641641426386, 'max_depth': 5, 'min_child_weight': 0.4054796364330779, 'subsample': 0.6363254467856324, 'colsample_bytree': 0.5168343670505103, 'n_estimators': 254, 'gamma': 4.206967886322271, 'reg_alpha': 9.196729851235778, 'reg_lambda': 0.12709074429300393}. Best is trial 15 with value: 0.11894052973513243.\n",
      "[I 2024-03-25 00:53:44,249] Trial 56 finished with value: 0.10044977511244378 and parameters: {'learning_rate': 0.03431796107300909, 'max_depth': 7, 'min_child_weight': 6.31310396077556, 'subsample': 0.5902573779212137, 'colsample_bytree': 0.5805641934848607, 'n_estimators': 213, 'gamma': 7.855608645628771, 'reg_alpha': 3.1473211252233315, 'reg_lambda': 1.8504572862736448}. Best is trial 15 with value: 0.11894052973513243.\n",
      "[I 2024-03-25 00:53:53,224] Trial 57 finished with value: 0.09945027486256872 and parameters: {'learning_rate': 0.022655176686976405, 'max_depth': 4, 'min_child_weight': 0.7549138934850599, 'subsample': 0.5384064633416167, 'colsample_bytree': 0.8411543016837095, 'n_estimators': 110, 'gamma': 5.828948522826446, 'reg_alpha': 0.15180667118340221, 'reg_lambda': 7.5488630429423464}. Best is trial 15 with value: 0.11894052973513243.\n",
      "[I 2024-03-25 00:54:06,183] Trial 58 finished with value: 0.09245377311344327 and parameters: {'learning_rate': 0.19809143520661027, 'max_depth': 3, 'min_child_weight': 1.0302273372085282, 'subsample': 0.6064947223549543, 'colsample_bytree': 0.720277954754894, 'n_estimators': 193, 'gamma': 0.4731163859347493, 'reg_alpha': 5.172783889538776, 'reg_lambda': 1.2106520639449132}. Best is trial 15 with value: 0.11894052973513243.\n",
      "[I 2024-03-25 00:54:12,674] Trial 59 finished with value: 0.09095452273863068 and parameters: {'learning_rate': 0.1469585372023875, 'max_depth': 4, 'min_child_weight': 4.4745831402137535, 'subsample': 0.5567814818939183, 'colsample_bytree': 0.6169701874758462, 'n_estimators': 175, 'gamma': 3.5197365260445626, 'reg_alpha': 1.560281820872362, 'reg_lambda': 3.73528091038502}. Best is trial 15 with value: 0.11894052973513243.\n",
      "[I 2024-03-25 00:54:27,867] Trial 60 finished with value: 0.10144927536231885 and parameters: {'learning_rate': 0.044011340285389985, 'max_depth': 3, 'min_child_weight': 0.2221302056205516, 'subsample': 0.5226794035121173, 'colsample_bytree': 0.9764127905323687, 'n_estimators': 142, 'gamma': 0.9583802114865805, 'reg_alpha': 3.800952422585381, 'reg_lambda': 0.30270311739027117}. Best is trial 15 with value: 0.11894052973513243.\n",
      "[I 2024-03-25 00:54:34,819] Trial 61 finished with value: 0.11394302848575712 and parameters: {'learning_rate': 0.17475695782517212, 'max_depth': 4, 'min_child_weight': 0.14920694055565728, 'subsample': 0.5498643423335126, 'colsample_bytree': 0.5774937953407128, 'n_estimators': 192, 'gamma': 9.900961883057263, 'reg_alpha': 4.323992901209129, 'reg_lambda': 4.907523021379084}. Best is trial 15 with value: 0.11894052973513243.\n",
      "[I 2024-03-25 00:54:41,212] Trial 62 finished with value: 0.11644177911044477 and parameters: {'learning_rate': 0.2576291655959014, 'max_depth': 5, 'min_child_weight': 0.12768216284189193, 'subsample': 0.5021536971079333, 'colsample_bytree': 0.524165511823948, 'n_estimators': 206, 'gamma': 8.752208327255545, 'reg_alpha': 6.912508183907011, 'reg_lambda': 4.677706772320527}. Best is trial 15 with value: 0.11894052973513243.\n",
      "[I 2024-03-25 00:54:47,954] Trial 63 finished with value: 0.11094452773613193 and parameters: {'learning_rate': 0.25982954195435104, 'max_depth': 4, 'min_child_weight': 0.14983227330551938, 'subsample': 0.5039492790366268, 'colsample_bytree': 0.7820406344384143, 'n_estimators': 224, 'gamma': 9.16281280857376, 'reg_alpha': 6.8845735956522205, 'reg_lambda': 4.374660729876729}. Best is trial 15 with value: 0.11894052973513243.\n",
      "[I 2024-03-25 00:54:54,545] Trial 64 finished with value: 0.1024487756121939 and parameters: {'learning_rate': 0.2641200011100514, 'max_depth': 4, 'min_child_weight': 0.11912286641002633, 'subsample': 0.5753596085674231, 'colsample_bytree': 0.5223280210933318, 'n_estimators': 205, 'gamma': 6.724276750604773, 'reg_alpha': 5.059678654748446, 'reg_lambda': 2.28257956571729}. Best is trial 15 with value: 0.11894052973513243.\n",
      "[I 2024-03-25 00:55:07,341] Trial 65 finished with value: 0.1184407796101949 and parameters: {'learning_rate': 0.01254538913229161, 'max_depth': 3, 'min_child_weight': 0.10821227858223019, 'subsample': 0.5333831554658697, 'colsample_bytree': 0.6027581737219909, 'n_estimators': 192, 'gamma': 9.882645537865493, 'reg_alpha': 3.1187722216375438, 'reg_lambda': 5.124059899134804}. Best is trial 15 with value: 0.11894052973513243.\n",
      "[I 2024-03-25 00:55:23,090] Trial 66 finished with value: 0.11944027986006997 and parameters: {'learning_rate': 0.015714141507780874, 'max_depth': 3, 'min_child_weight': 0.101911553446695, 'subsample': 0.5301989236345408, 'colsample_bytree': 0.6066564531703474, 'n_estimators': 222, 'gamma': 4.862517497153256, 'reg_alpha': 1.99389865296268, 'reg_lambda': 0.18319745933605158}. Best is trial 66 with value: 0.11944027986006997.\n",
      "[I 2024-03-25 00:55:40,546] Trial 67 finished with value: 0.1089455272363818 and parameters: {'learning_rate': 0.012800775923164387, 'max_depth': 3, 'min_child_weight': 0.1050457642672989, 'subsample': 0.5378110981450721, 'colsample_bytree': 0.6471102457814873, 'n_estimators': 235, 'gamma': 4.72450842559954, 'reg_alpha': 2.137489512240051, 'reg_lambda': 3.2423224880847825}. Best is trial 66 with value: 0.11944027986006997.\n",
      "[I 2024-03-25 00:55:55,533] Trial 68 finished with value: 0.1184407796101949 and parameters: {'learning_rate': 0.01620428889370401, 'max_depth': 3, 'min_child_weight': 0.12718324709786852, 'subsample': 0.5212499567332356, 'colsample_bytree': 0.5990416585917897, 'n_estimators': 222, 'gamma': 6.152246814090602, 'reg_alpha': 3.119014001529177, 'reg_lambda': 0.11829026459632684}. Best is trial 66 with value: 0.11944027986006997.\n",
      "[I 2024-03-25 00:56:07,301] Trial 69 finished with value: 0.1184407796101949 and parameters: {'learning_rate': 0.016082576834970715, 'max_depth': 3, 'min_child_weight': 0.121325646981935, 'subsample': 0.5004149203022408, 'colsample_bytree': 0.6023266192849841, 'n_estimators': 221, 'gamma': 6.353773868422974, 'reg_alpha': 3.2120728247746384, 'reg_lambda': 0.10036301662462446}. Best is trial 66 with value: 0.11944027986006997.\n",
      "[I 2024-03-25 00:56:22,292] Trial 70 finished with value: 0.1184407796101949 and parameters: {'learning_rate': 0.017158685309784632, 'max_depth': 3, 'min_child_weight': 0.17524633731824457, 'subsample': 0.5292332731536068, 'colsample_bytree': 0.5954676428728937, 'n_estimators': 222, 'gamma': 5.875299941571913, 'reg_alpha': 3.224250451071487, 'reg_lambda': 0.1131209299011712}. Best is trial 66 with value: 0.11944027986006997.\n",
      "[I 2024-03-25 00:56:37,713] Trial 71 finished with value: 0.11944027986006997 and parameters: {'learning_rate': 0.01632904477025417, 'max_depth': 3, 'min_child_weight': 0.18795797132630385, 'subsample': 0.5288898127002433, 'colsample_bytree': 0.5987967851126144, 'n_estimators': 222, 'gamma': 5.8218696010581645, 'reg_alpha': 3.1080827545100553, 'reg_lambda': 0.10166513634337984}. Best is trial 66 with value: 0.11944027986006997.\n",
      "[I 2024-03-25 00:56:55,147] Trial 72 finished with value: 0.11094452773613193 and parameters: {'learning_rate': 0.016382291730396157, 'max_depth': 3, 'min_child_weight': 0.17373736846908616, 'subsample': 0.5259578040807065, 'colsample_bytree': 0.6028211582851698, 'n_estimators': 250, 'gamma': 3.922259330230247, 'reg_alpha': 3.1697017383079484, 'reg_lambda': 0.10632878255735548}. Best is trial 66 with value: 0.11944027986006997.\n",
      "[I 2024-03-25 00:57:10,235] Trial 73 finished with value: 0.11294352823588207 and parameters: {'learning_rate': 0.015305822746284592, 'max_depth': 3, 'min_child_weight': 0.1002106267012544, 'subsample': 0.5299932168649429, 'colsample_bytree': 0.623635883038933, 'n_estimators': 222, 'gamma': 6.090155350106066, 'reg_alpha': 2.2805165643866077, 'reg_lambda': 0.10010634056921326}. Best is trial 66 with value: 0.11944027986006997.\n",
      "[I 2024-03-25 00:57:26,916] Trial 74 finished with value: 0.10844577711144428 and parameters: {'learning_rate': 0.020722098991319566, 'max_depth': 3, 'min_child_weight': 0.12442897106054569, 'subsample': 0.5133106907568343, 'colsample_bytree': 0.6043219370917522, 'n_estimators': 272, 'gamma': 5.370854224325873, 'reg_alpha': 2.8442271927668736, 'reg_lambda': 0.17579631359107434}. Best is trial 66 with value: 0.11944027986006997.\n",
      "[I 2024-03-25 00:57:44,934] Trial 75 finished with value: 0.10644677661169415 and parameters: {'learning_rate': 0.012189415359178734, 'max_depth': 3, 'min_child_weight': 0.1796877736007626, 'subsample': 0.5624978842066773, 'colsample_bytree': 0.63401948683105, 'n_estimators': 241, 'gamma': 4.458299838313678, 'reg_alpha': 2.502142553823197, 'reg_lambda': 0.13901430589077804}. Best is trial 66 with value: 0.11944027986006997.\n",
      "[I 2024-03-25 00:58:01,956] Trial 76 finished with value: 0.11544227886056972 and parameters: {'learning_rate': 0.017752680435708865, 'max_depth': 3, 'min_child_weight': 0.113218505484225, 'subsample': 0.535436278215087, 'colsample_bytree': 0.5864896273913996, 'n_estimators': 221, 'gamma': 0.6383531538868426, 'reg_alpha': 3.421111731956953, 'reg_lambda': 0.11715869195134841}. Best is trial 66 with value: 0.11944027986006997.\n",
      "[I 2024-03-25 00:58:20,455] Trial 77 finished with value: 0.11094452773613193 and parameters: {'learning_rate': 0.015328707614439871, 'max_depth': 3, 'min_child_weight': 0.1348835878834371, 'subsample': 0.5118321991861026, 'colsample_bytree': 0.6798563438227937, 'n_estimators': 232, 'gamma': 3.0505557806941397, 'reg_alpha': 1.755393962121036, 'reg_lambda': 0.11584515117903389}. Best is trial 66 with value: 0.11944027986006997.\n",
      "[I 2024-03-25 00:58:42,160] Trial 78 finished with value: 0.10094952523738131 and parameters: {'learning_rate': 0.02066297492881381, 'max_depth': 9, 'min_child_weight': 0.20059309381850374, 'subsample': 0.5482009403474768, 'colsample_bytree': 0.5665135785208011, 'n_estimators': 246, 'gamma': 7.199509064909877, 'reg_alpha': 2.81255024523422, 'reg_lambda': 0.19393645182436545}. Best is trial 66 with value: 0.11944027986006997.\n",
      "[I 2024-03-25 00:58:56,493] Trial 79 finished with value: 0.1184407796101949 and parameters: {'learning_rate': 0.013201065628653636, 'max_depth': 3, 'min_child_weight': 0.26844693961212535, 'subsample': 0.5001217027951219, 'colsample_bytree': 0.6307358938221491, 'n_estimators': 200, 'gamma': 6.096058474849125, 'reg_alpha': 1.8736809364694957, 'reg_lambda': 0.16630483078373276}. Best is trial 66 with value: 0.11944027986006997.\n",
      "[I 2024-03-25 00:59:12,045] Trial 80 finished with value: 0.1089455272363818 and parameters: {'learning_rate': 0.010865526490208556, 'max_depth': 3, 'min_child_weight': 0.2525426677749629, 'subsample': 0.5046729129081166, 'colsample_bytree': 0.6303315908834831, 'n_estimators': 199, 'gamma': 2.071013125418329, 'reg_alpha': 1.9093279997222512, 'reg_lambda': 0.16143958819560064}. Best is trial 66 with value: 0.11944027986006997.\n",
      "[I 2024-03-25 00:59:26,619] Trial 81 finished with value: 0.11744127936031984 and parameters: {'learning_rate': 0.013796445598786315, 'max_depth': 3, 'min_child_weight': 0.1686557630740849, 'subsample': 0.5249343239097737, 'colsample_bytree': 0.609057529182478, 'n_estimators': 209, 'gamma': 6.273036600237161, 'reg_alpha': 1.3293242560098961, 'reg_lambda': 0.2358614618561079}. Best is trial 66 with value: 0.11944027986006997.\n",
      "[I 2024-03-25 00:59:38,914] Trial 82 finished with value: 0.11244377811094453 and parameters: {'learning_rate': 0.013402290562862457, 'max_depth': 3, 'min_child_weight': 0.1697982714639128, 'subsample': 0.522405670213888, 'colsample_bytree': 0.6058429307715693, 'n_estimators': 218, 'gamma': 5.811912524352333, 'reg_alpha': 0.9400910116467237, 'reg_lambda': 0.23825147871960015}. Best is trial 66 with value: 0.11944027986006997.\n",
      "[I 2024-03-25 00:59:54,674] Trial 83 finished with value: 0.11744127936031984 and parameters: {'learning_rate': 0.017530554495417797, 'max_depth': 3, 'min_child_weight': 0.20204153898054455, 'subsample': 0.5285688654549673, 'colsample_bytree': 0.6561766389001144, 'n_estimators': 210, 'gamma': 4.997501928593254, 'reg_alpha': 1.2017361533906057, 'reg_lambda': 0.13224180886921516}. Best is trial 66 with value: 0.11944027986006997.\n",
      "[I 2024-03-25 01:00:11,669] Trial 84 finished with value: 0.11544227886056972 and parameters: {'learning_rate': 0.016275063871890358, 'max_depth': 3, 'min_child_weight': 0.16011847312101546, 'subsample': 0.5447342042018909, 'colsample_bytree': 0.6435543328030361, 'n_estimators': 225, 'gamma': 3.7569877463356707, 'reg_alpha': 1.9266314074682347, 'reg_lambda': 0.17678189499157326}. Best is trial 66 with value: 0.11944027986006997.\n",
      "[I 2024-03-25 01:00:27,358] Trial 85 finished with value: 0.11294352823588207 and parameters: {'learning_rate': 0.01460364855751791, 'max_depth': 3, 'min_child_weight': 0.10900455100257772, 'subsample': 0.5015177750686781, 'colsample_bytree': 0.598102722539191, 'n_estimators': 230, 'gamma': 6.381952132122765, 'reg_alpha': 1.6467836413873829, 'reg_lambda': 0.11859646208240587}. Best is trial 66 with value: 0.11944027986006997.\n",
      "[I 2024-03-25 01:00:42,831] Trial 86 finished with value: 0.12043978010994502 and parameters: {'learning_rate': 0.011976896013040781, 'max_depth': 3, 'min_child_weight': 0.13713808756386464, 'subsample': 0.5602787791222266, 'colsample_bytree': 0.6182962895656772, 'n_estimators': 199, 'gamma': 3.320155884046977, 'reg_alpha': 1.3428287639007912, 'reg_lambda': 0.2659256220953253}. Best is trial 86 with value: 0.12043978010994502.\n",
      "[I 2024-03-25 01:00:58,345] Trial 87 finished with value: 0.111944027986007 and parameters: {'learning_rate': 0.011745375601942977, 'max_depth': 3, 'min_child_weight': 0.13776176398299442, 'subsample': 0.5630547066398146, 'colsample_bytree': 0.6232006811161125, 'n_estimators': 199, 'gamma': 2.876442578086789, 'reg_alpha': 2.3292687100395177, 'reg_lambda': 0.2768798464237827}. Best is trial 86 with value: 0.12043978010994502.\n",
      "[I 2024-03-25 01:01:11,479] Trial 88 finished with value: 0.111944027986007 and parameters: {'learning_rate': 0.025071846080978184, 'max_depth': 3, 'min_child_weight': 0.11653967417215977, 'subsample': 0.5842293533324022, 'colsample_bytree': 0.5926580928467948, 'n_estimators': 185, 'gamma': 4.528085639289615, 'reg_alpha': 3.08494824923276, 'reg_lambda': 0.140070862439469}. Best is trial 86 with value: 0.12043978010994502.\n",
      "[I 2024-03-25 01:01:37,228] Trial 89 finished with value: 0.09745127436281859 and parameters: {'learning_rate': 0.010026744668268866, 'max_depth': 3, 'min_child_weight': 0.23135897617363413, 'subsample': 0.5573020854902376, 'colsample_bytree': 0.9227559378683174, 'n_estimators': 237, 'gamma': 0.14874202561426716, 'reg_alpha': 3.7450839605734205, 'reg_lambda': 0.1593011075086242}. Best is trial 86 with value: 0.12043978010994502.\n",
      "[I 2024-03-25 01:01:57,590] Trial 90 finished with value: 0.11044477761119441 and parameters: {'learning_rate': 0.018322650633112877, 'max_depth': 3, 'min_child_weight': 0.19679551641550594, 'subsample': 0.5128919225874771, 'colsample_bytree': 0.6665619631366004, 'n_estimators': 263, 'gamma': 3.3341897145716777, 'reg_alpha': 2.5070519848131654, 'reg_lambda': 0.19743795225037086}. Best is trial 86 with value: 0.12043978010994502.\n",
      "[I 2024-03-25 01:02:13,611] Trial 91 finished with value: 0.11894052973513243 and parameters: {'learning_rate': 0.013408980826181225, 'max_depth': 3, 'min_child_weight': 0.14767899508453133, 'subsample': 0.5311577377868607, 'colsample_bytree': 0.6116415756802437, 'n_estimators': 217, 'gamma': 5.7771920317152405, 'reg_alpha': 1.3923165170060623, 'reg_lambda': 0.23422303599641164}. Best is trial 86 with value: 0.12043978010994502.\n",
      "[I 2024-03-25 01:02:31,215] Trial 92 finished with value: 0.11344327836081959 and parameters: {'learning_rate': 0.012840151861251125, 'max_depth': 3, 'min_child_weight': 0.12859863018662673, 'subsample': 0.5385145493741172, 'colsample_bytree': 0.6128892307354771, 'n_estimators': 218, 'gamma': 1.4641365739293908, 'reg_alpha': 1.082824931434418, 'reg_lambda': 0.3898857016709338}. Best is trial 86 with value: 0.12043978010994502.\n",
      "[I 2024-03-25 01:03:00,486] Trial 93 finished with value: 0.09695152423788106 and parameters: {'learning_rate': 0.011362877231456745, 'max_depth': 8, 'min_child_weight': 0.14694881491021214, 'subsample': 0.5735869498954336, 'colsample_bytree': 0.5879993481430502, 'n_estimators': 198, 'gamma': 5.526120718290615, 'reg_alpha': 1.3676685183949633, 'reg_lambda': 0.10975662628260581}. Best is trial 86 with value: 0.12043978010994502.\n",
      "[I 2024-03-25 01:03:15,121] Trial 94 finished with value: 0.11294352823588207 and parameters: {'learning_rate': 0.016575037540067786, 'max_depth': 3, 'min_child_weight': 0.10045980906370315, 'subsample': 0.5143897998572892, 'colsample_bytree': 0.635472955106115, 'n_estimators': 211, 'gamma': 4.997679724582721, 'reg_alpha': 1.8163781759193756, 'reg_lambda': 0.12688756953456343}. Best is trial 86 with value: 0.12043978010994502.\n",
      "[I 2024-03-25 01:03:31,308] Trial 95 finished with value: 0.11294352823588207 and parameters: {'learning_rate': 0.014876812411010121, 'max_depth': 3, 'min_child_weight': 0.2781589284953923, 'subsample': 0.5510807834789608, 'colsample_bytree': 0.6496107346301963, 'n_estimators': 228, 'gamma': 7.318466511432736, 'reg_alpha': 0.7756455680588251, 'reg_lambda': 0.21750801747612206}. Best is trial 86 with value: 0.12043978010994502.\n",
      "[I 2024-03-25 01:03:43,380] Trial 96 finished with value: 0.10844577711144428 and parameters: {'learning_rate': 0.022114155671620995, 'max_depth': 3, 'min_child_weight': 0.18942595241563245, 'subsample': 0.8217493731066959, 'colsample_bytree': 0.5654567103632839, 'n_estimators': 220, 'gamma': 5.4663785397844835, 'reg_alpha': 2.0228769548200316, 'reg_lambda': 0.26181582293237093}. Best is trial 86 with value: 0.12043978010994502.\n",
      "[I 2024-03-25 01:03:59,070] Trial 97 finished with value: 0.11094452773613193 and parameters: {'learning_rate': 0.01278377823556334, 'max_depth': 3, 'min_child_weight': 0.12469962279604979, 'subsample': 0.5317612593748535, 'colsample_bytree': 0.6270607922839794, 'n_estimators': 205, 'gamma': 2.3056538649342873, 'reg_alpha': 2.7649341780078207, 'reg_lambda': 0.14431741318188154}. Best is trial 86 with value: 0.12043978010994502.\n",
      "[I 2024-03-25 01:04:20,364] Trial 98 finished with value: 0.10194902548725637 and parameters: {'learning_rate': 0.01922474071788568, 'max_depth': 4, 'min_child_weight': 0.156714504362131, 'subsample': 0.5194214284114139, 'colsample_bytree': 0.6866934502045687, 'n_estimators': 185, 'gamma': 0.8935148266715781, 'reg_alpha': 3.9439712165893877, 'reg_lambda': 0.3426442198129056}. Best is trial 86 with value: 0.12043978010994502.\n",
      "[I 2024-03-25 01:04:35,454] Trial 99 finished with value: 0.11444277861069466 and parameters: {'learning_rate': 0.01620054614975617, 'max_depth': 3, 'min_child_weight': 0.11330044206976574, 'subsample': 0.5683054909733337, 'colsample_bytree': 0.5814151024457687, 'n_estimators': 235, 'gamma': 4.164782047199354, 'reg_alpha': 3.280427747424028, 'reg_lambda': 0.16428915842565553}. Best is trial 86 with value: 0.12043978010994502.\n"
     ]
    }
   ],
   "source": [
    "study = optuna.create_study(direction='maximize')\n",
    "study.optimize(objective, n_trials=100)"
   ]
  },
  {
   "cell_type": "code",
   "execution_count": 30,
   "id": "e5b2176d-b2e1-412e-a7b1-37e103a1ad20",
   "metadata": {},
   "outputs": [
    {
     "name": "stdout",
     "output_type": "stream",
     "text": [
      "Best Parameters: {'learning_rate': 0.011976896013040781, 'max_depth': 3, 'min_child_weight': 0.13713808756386464, 'subsample': 0.5602787791222266, 'colsample_bytree': 0.6182962895656772, 'n_estimators': 199, 'gamma': 3.320155884046977, 'reg_alpha': 1.3428287639007912, 'reg_lambda': 0.2659256220953253}\n"
     ]
    }
   ],
   "source": [
    "best_params = study.best_params\n",
    "print(\"Best Parameters:\", best_params)"
   ]
  },
  {
   "cell_type": "code",
   "execution_count": 31,
   "id": "30318bd9-1ede-442b-88a9-dd709bd4a72d",
   "metadata": {},
   "outputs": [
    {
     "data": {
      "text/html": [
       "<style>#sk-container-id-2 {color: black;background-color: white;}#sk-container-id-2 pre{padding: 0;}#sk-container-id-2 div.sk-toggleable {background-color: white;}#sk-container-id-2 label.sk-toggleable__label {cursor: pointer;display: block;width: 100%;margin-bottom: 0;padding: 0.3em;box-sizing: border-box;text-align: center;}#sk-container-id-2 label.sk-toggleable__label-arrow:before {content: \"▸\";float: left;margin-right: 0.25em;color: #696969;}#sk-container-id-2 label.sk-toggleable__label-arrow:hover:before {color: black;}#sk-container-id-2 div.sk-estimator:hover label.sk-toggleable__label-arrow:before {color: black;}#sk-container-id-2 div.sk-toggleable__content {max-height: 0;max-width: 0;overflow: hidden;text-align: left;background-color: #f0f8ff;}#sk-container-id-2 div.sk-toggleable__content pre {margin: 0.2em;color: black;border-radius: 0.25em;background-color: #f0f8ff;}#sk-container-id-2 input.sk-toggleable__control:checked~div.sk-toggleable__content {max-height: 200px;max-width: 100%;overflow: auto;}#sk-container-id-2 input.sk-toggleable__control:checked~label.sk-toggleable__label-arrow:before {content: \"▾\";}#sk-container-id-2 div.sk-estimator input.sk-toggleable__control:checked~label.sk-toggleable__label {background-color: #d4ebff;}#sk-container-id-2 div.sk-label input.sk-toggleable__control:checked~label.sk-toggleable__label {background-color: #d4ebff;}#sk-container-id-2 input.sk-hidden--visually {border: 0;clip: rect(1px 1px 1px 1px);clip: rect(1px, 1px, 1px, 1px);height: 1px;margin: -1px;overflow: hidden;padding: 0;position: absolute;width: 1px;}#sk-container-id-2 div.sk-estimator {font-family: monospace;background-color: #f0f8ff;border: 1px dotted black;border-radius: 0.25em;box-sizing: border-box;margin-bottom: 0.5em;}#sk-container-id-2 div.sk-estimator:hover {background-color: #d4ebff;}#sk-container-id-2 div.sk-parallel-item::after {content: \"\";width: 100%;border-bottom: 1px solid gray;flex-grow: 1;}#sk-container-id-2 div.sk-label:hover label.sk-toggleable__label {background-color: #d4ebff;}#sk-container-id-2 div.sk-serial::before {content: \"\";position: absolute;border-left: 1px solid gray;box-sizing: border-box;top: 0;bottom: 0;left: 50%;z-index: 0;}#sk-container-id-2 div.sk-serial {display: flex;flex-direction: column;align-items: center;background-color: white;padding-right: 0.2em;padding-left: 0.2em;position: relative;}#sk-container-id-2 div.sk-item {position: relative;z-index: 1;}#sk-container-id-2 div.sk-parallel {display: flex;align-items: stretch;justify-content: center;background-color: white;position: relative;}#sk-container-id-2 div.sk-item::before, #sk-container-id-2 div.sk-parallel-item::before {content: \"\";position: absolute;border-left: 1px solid gray;box-sizing: border-box;top: 0;bottom: 0;left: 50%;z-index: -1;}#sk-container-id-2 div.sk-parallel-item {display: flex;flex-direction: column;z-index: 1;position: relative;background-color: white;}#sk-container-id-2 div.sk-parallel-item:first-child::after {align-self: flex-end;width: 50%;}#sk-container-id-2 div.sk-parallel-item:last-child::after {align-self: flex-start;width: 50%;}#sk-container-id-2 div.sk-parallel-item:only-child::after {width: 0;}#sk-container-id-2 div.sk-dashed-wrapped {border: 1px dashed gray;margin: 0 0.4em 0.5em 0.4em;box-sizing: border-box;padding-bottom: 0.4em;background-color: white;}#sk-container-id-2 div.sk-label label {font-family: monospace;font-weight: bold;display: inline-block;line-height: 1.2em;}#sk-container-id-2 div.sk-label-container {text-align: center;}#sk-container-id-2 div.sk-container {/* jupyter's `normalize.less` sets `[hidden] { display: none; }` but bootstrap.min.css set `[hidden] { display: none !important; }` so we also need the `!important` here to be able to override the default hidden behavior on the sphinx rendered scikit-learn.org. See: https://github.com/scikit-learn/scikit-learn/issues/21755 */display: inline-block !important;position: relative;}#sk-container-id-2 div.sk-text-repr-fallback {display: none;}</style><div id=\"sk-container-id-2\" class=\"sk-top-container\"><div class=\"sk-text-repr-fallback\"><pre>XGBClassifier(base_score=None, booster=None, callbacks=None,\n",
       "              colsample_bylevel=None, colsample_bynode=None,\n",
       "              colsample_bytree=0.6182962895656772, device=None,\n",
       "              early_stopping_rounds=None, enable_categorical=False,\n",
       "              eval_metric=None, feature_types=None, gamma=3.320155884046977,\n",
       "              grow_policy=None, importance_type=None,\n",
       "              interaction_constraints=None, learning_rate=0.011976896013040781,\n",
       "              max_bin=None, max_cat_threshold=None, max_cat_to_onehot=None,\n",
       "              max_delta_step=None, max_depth=3, max_leaves=None,\n",
       "              min_child_weight=0.13713808756386464, missing=nan,\n",
       "              monotone_constraints=None, multi_strategy=None, n_estimators=199,\n",
       "              n_jobs=None, num_parallel_tree=None, objective=&#x27;multi:softprob&#x27;, ...)</pre><b>In a Jupyter environment, please rerun this cell to show the HTML representation or trust the notebook. <br />On GitHub, the HTML representation is unable to render, please try loading this page with nbviewer.org.</b></div><div class=\"sk-container\" hidden><div class=\"sk-item\"><div class=\"sk-estimator sk-toggleable\"><input class=\"sk-toggleable__control sk-hidden--visually\" id=\"sk-estimator-id-2\" type=\"checkbox\" checked><label for=\"sk-estimator-id-2\" class=\"sk-toggleable__label sk-toggleable__label-arrow\">XGBClassifier</label><div class=\"sk-toggleable__content\"><pre>XGBClassifier(base_score=None, booster=None, callbacks=None,\n",
       "              colsample_bylevel=None, colsample_bynode=None,\n",
       "              colsample_bytree=0.6182962895656772, device=None,\n",
       "              early_stopping_rounds=None, enable_categorical=False,\n",
       "              eval_metric=None, feature_types=None, gamma=3.320155884046977,\n",
       "              grow_policy=None, importance_type=None,\n",
       "              interaction_constraints=None, learning_rate=0.011976896013040781,\n",
       "              max_bin=None, max_cat_threshold=None, max_cat_to_onehot=None,\n",
       "              max_delta_step=None, max_depth=3, max_leaves=None,\n",
       "              min_child_weight=0.13713808756386464, missing=nan,\n",
       "              monotone_constraints=None, multi_strategy=None, n_estimators=199,\n",
       "              n_jobs=None, num_parallel_tree=None, objective=&#x27;multi:softprob&#x27;, ...)</pre></div></div></div></div></div>"
      ],
      "text/plain": [
       "XGBClassifier(base_score=None, booster=None, callbacks=None,\n",
       "              colsample_bylevel=None, colsample_bynode=None,\n",
       "              colsample_bytree=0.6182962895656772, device=None,\n",
       "              early_stopping_rounds=None, enable_categorical=False,\n",
       "              eval_metric=None, feature_types=None, gamma=3.320155884046977,\n",
       "              grow_policy=None, importance_type=None,\n",
       "              interaction_constraints=None, learning_rate=0.011976896013040781,\n",
       "              max_bin=None, max_cat_threshold=None, max_cat_to_onehot=None,\n",
       "              max_delta_step=None, max_depth=3, max_leaves=None,\n",
       "              min_child_weight=0.13713808756386464, missing=nan,\n",
       "              monotone_constraints=None, multi_strategy=None, n_estimators=199,\n",
       "              n_jobs=None, num_parallel_tree=None, objective='multi:softprob', ...)"
      ]
     },
     "execution_count": 31,
     "metadata": {},
     "output_type": "execute_result"
    }
   ],
   "source": [
    "# Train the final model with the best hyperparameters\n",
    "best_model = XGBClassifier(**best_params)\n",
    "best_model.fit(X_train_tfidf, y_train.map({-1: 0, 0: 1, 1: 2}))"
   ]
  },
  {
   "cell_type": "code",
   "execution_count": 32,
   "id": "16682e7a-8ffe-4d34-b469-de21d738627c",
   "metadata": {},
   "outputs": [
    {
     "name": "stdout",
     "output_type": "stream",
     "text": [
      "Validation Set Performance after tuning: \n",
      "              precision    recall  f1-score   support\n",
      "\n",
      "          -1       0.00      0.00      0.00       231\n",
      "           0       0.11      0.00      0.00       988\n",
      "           1       0.23      0.31      0.26       782\n",
      "           2       0.00      0.00      0.00         0\n",
      "\n",
      "    accuracy                           0.12      2001\n",
      "   macro avg       0.08      0.08      0.07      2001\n",
      "weighted avg       0.14      0.12      0.10      2001\n",
      "\n"
     ]
    }
   ],
   "source": [
    "# Model Evaluation\n",
    "y_pred_val = best_model.predict(X_test_tfidf)\n",
    "print(\"Validation Set Performance after tuning: \")\n",
    "print(classification_report(y_test, y_pred_val))"
   ]
  },
  {
   "cell_type": "code",
   "execution_count": 33,
   "id": "32dc9267-585b-4e3b-916e-4368897f8ef9",
   "metadata": {},
   "outputs": [
    {
     "name": "stdout",
     "output_type": "stream",
     "text": [
      "Validation Accuracy: 12.043978010994502\n"
     ]
    }
   ],
   "source": [
    "# model accuracy score\n",
    "accuracy = accuracy_score(y_test, y_pred_val)\n",
    "print(\"Validation Accuracy:\", accuracy*100)"
   ]
  },
  {
   "cell_type": "markdown",
   "id": "8154dc91-8da5-4349-95ea-a4ea4d76031e",
   "metadata": {},
   "source": [
    "##### GradientBoostingClassifier"
   ]
  },
  {
   "cell_type": "code",
   "execution_count": 34,
   "id": "9dad3c70-804a-4e27-8def-b508aebc1402",
   "metadata": {},
   "outputs": [],
   "source": [
    "# Define objective function for Optuna\n",
    "def objective(trial):\n",
    "    params = {\n",
    "        'n_estimators': trial.suggest_int('n_estimators', 50, 200),\n",
    "        'learning_rate': trial.suggest_loguniform('learning_rate', 0.01, 0.5),\n",
    "        'max_depth': trial.suggest_int('max_depth', 3, 10),\n",
    "        'min_samples_split': trial.suggest_int('min_samples_split', 2, 20),\n",
    "        'min_samples_leaf': trial.suggest_int('min_samples_leaf', 1, 10)\n",
    "    }\n",
    "    \n",
    "    gb_classifier = GradientBoostingClassifier(**params)\n",
    "    gb_classifier.fit(X_train_tfidf, y_train)\n",
    "    \n",
    "    y_pred_val = gb_classifier.predict(X_test_tfidf)\n",
    "    accuracy = (y_pred_val == y_test).mean()\n",
    "    \n",
    "    return accuracy"
   ]
  },
  {
   "cell_type": "code",
   "execution_count": 35,
   "id": "59da86ba-ac88-4815-b3f6-452d83b2caab",
   "metadata": {},
   "outputs": [
    {
     "name": "stderr",
     "output_type": "stream",
     "text": [
      "[I 2024-03-25 01:17:58,272] A new study created in memory with name: no-name-c3395c2e-d4a2-4978-911d-645f55cbb9d5\n",
      "[I 2024-03-25 01:21:35,808] Trial 0 finished with value: 0.7296351824087957 and parameters: {'n_estimators': 121, 'learning_rate': 0.049697269869257835, 'max_depth': 9, 'min_samples_split': 11, 'min_samples_leaf': 6}. Best is trial 0 with value: 0.7296351824087957.\n",
      "[I 2024-03-25 01:25:10,874] Trial 1 finished with value: 0.7151424287856072 and parameters: {'n_estimators': 85, 'learning_rate': 0.015957547736841257, 'max_depth': 10, 'min_samples_split': 4, 'min_samples_leaf': 1}. Best is trial 0 with value: 0.7296351824087957.\n",
      "[I 2024-03-25 01:26:42,595] Trial 2 finished with value: 0.6746626686656672 and parameters: {'n_estimators': 187, 'learning_rate': 0.012000791398614263, 'max_depth': 3, 'min_samples_split': 20, 'min_samples_leaf': 10}. Best is trial 0 with value: 0.7296351824087957.\n",
      "[I 2024-03-25 01:28:47,681] Trial 3 finished with value: 0.7296351824087957 and parameters: {'n_estimators': 174, 'learning_rate': 0.21895153484802923, 'max_depth': 4, 'min_samples_split': 19, 'min_samples_leaf': 1}. Best is trial 0 with value: 0.7296351824087957.\n",
      "[I 2024-03-25 01:32:19,194] Trial 4 finished with value: 0.7271364317841079 and parameters: {'n_estimators': 96, 'learning_rate': 0.039068434106011816, 'max_depth': 10, 'min_samples_split': 9, 'min_samples_leaf': 4}. Best is trial 0 with value: 0.7296351824087957.\n",
      "[I 2024-03-25 01:33:37,113] Trial 5 finished with value: 0.7306346826586707 and parameters: {'n_estimators': 126, 'learning_rate': 0.2872783618995891, 'max_depth': 4, 'min_samples_split': 12, 'min_samples_leaf': 5}. Best is trial 5 with value: 0.7306346826586707.\n",
      "[I 2024-03-25 01:35:40,548] Trial 6 finished with value: 0.7296351824087957 and parameters: {'n_estimators': 137, 'learning_rate': 0.16338348003188524, 'max_depth': 5, 'min_samples_split': 6, 'min_samples_leaf': 2}. Best is trial 5 with value: 0.7306346826586707.\n",
      "[I 2024-03-25 01:39:21,882] Trial 7 finished with value: 0.7156421789105447 and parameters: {'n_estimators': 171, 'learning_rate': 0.444097473277426, 'max_depth': 8, 'min_samples_split': 13, 'min_samples_leaf': 2}. Best is trial 5 with value: 0.7306346826586707.\n",
      "[I 2024-03-25 01:42:52,633] Trial 8 finished with value: 0.7286356821589205 and parameters: {'n_estimators': 146, 'learning_rate': 0.08646627105602296, 'max_depth': 7, 'min_samples_split': 4, 'min_samples_leaf': 1}. Best is trial 5 with value: 0.7306346826586707.\n",
      "[I 2024-03-25 01:45:13,870] Trial 9 finished with value: 0.7221389305347327 and parameters: {'n_estimators': 133, 'learning_rate': 0.037827581507321, 'max_depth': 6, 'min_samples_split': 13, 'min_samples_leaf': 7}. Best is trial 5 with value: 0.7306346826586707.\n",
      "[I 2024-03-25 01:45:38,620] Trial 10 finished with value: 0.7166416791604198 and parameters: {'n_estimators': 55, 'learning_rate': 0.33766569417914005, 'max_depth': 3, 'min_samples_split': 16, 'min_samples_leaf': 8}. Best is trial 5 with value: 0.7306346826586707.\n",
      "[I 2024-03-25 01:47:48,402] Trial 11 finished with value: 0.7296351824087957 and parameters: {'n_estimators': 100, 'learning_rate': 0.07651972129072984, 'max_depth': 8, 'min_samples_split': 9, 'min_samples_leaf': 5}. Best is trial 5 with value: 0.7306346826586707.\n",
      "[I 2024-03-25 01:50:46,734] Trial 12 finished with value: 0.7241379310344828 and parameters: {'n_estimators': 114, 'learning_rate': 0.036177223462052606, 'max_depth': 9, 'min_samples_split': 11, 'min_samples_leaf': 6}. Best is trial 5 with value: 0.7306346826586707.\n",
      "[I 2024-03-25 01:52:48,967] Trial 13 finished with value: 0.7301349325337332 and parameters: {'n_estimators': 160, 'learning_rate': 0.13942564933055757, 'max_depth': 5, 'min_samples_split': 15, 'min_samples_leaf': 4}. Best is trial 5 with value: 0.7306346826586707.\n",
      "[I 2024-03-25 01:54:44,714] Trial 14 finished with value: 0.7316341829085458 and parameters: {'n_estimators': 158, 'learning_rate': 0.17593567750474934, 'max_depth': 5, 'min_samples_split': 16, 'min_samples_leaf': 4}. Best is trial 14 with value: 0.7316341829085458.\n",
      "[I 2024-03-25 02:34:56,213] Trial 15 finished with value: 0.7316341829085458 and parameters: {'n_estimators': 193, 'learning_rate': 0.2905519543884158, 'max_depth': 5, 'min_samples_split': 17, 'min_samples_leaf': 4}. Best is trial 14 with value: 0.7316341829085458.\n",
      "[I 2024-03-25 02:37:18,583] Trial 16 finished with value: 0.7326336831584208 and parameters: {'n_estimators': 198, 'learning_rate': 0.14400361669742093, 'max_depth': 6, 'min_samples_split': 17, 'min_samples_leaf': 3}. Best is trial 16 with value: 0.7326336831584208.\n",
      "[I 2024-03-25 02:40:54,556] Trial 17 finished with value: 0.7326336831584208 and parameters: {'n_estimators': 199, 'learning_rate': 0.10639384759836223, 'max_depth': 7, 'min_samples_split': 18, 'min_samples_leaf': 3}. Best is trial 16 with value: 0.7326336831584208.\n",
      "[I 2024-03-25 02:44:31,270] Trial 18 finished with value: 0.7346326836581709 and parameters: {'n_estimators': 198, 'learning_rate': 0.1088664362146376, 'max_depth': 7, 'min_samples_split': 18, 'min_samples_leaf': 3}. Best is trial 18 with value: 0.7346326836581709.\n",
      "[I 2024-03-25 02:47:19,387] Trial 19 finished with value: 0.7336331834082959 and parameters: {'n_estimators': 177, 'learning_rate': 0.11291032363417737, 'max_depth': 6, 'min_samples_split': 20, 'min_samples_leaf': 3}. Best is trial 18 with value: 0.7346326836581709.\n",
      "[I 2024-03-25 02:51:37,759] Trial 20 finished with value: 0.7161419290354822 and parameters: {'n_estimators': 179, 'learning_rate': 0.022739616570470467, 'max_depth': 8, 'min_samples_split': 20, 'min_samples_leaf': 3}. Best is trial 18 with value: 0.7346326836581709.\n",
      "[I 2024-03-25 02:54:45,509] Trial 21 finished with value: 0.7351324337831084 and parameters: {'n_estimators': 199, 'learning_rate': 0.10828855440495479, 'max_depth': 6, 'min_samples_split': 18, 'min_samples_leaf': 3}. Best is trial 21 with value: 0.7351324337831084.\n",
      "[I 2024-03-25 02:57:27,562] Trial 22 finished with value: 0.7236381809095452 and parameters: {'n_estimators': 163, 'learning_rate': 0.05909385360390526, 'max_depth': 6, 'min_samples_split': 18, 'min_samples_leaf': 2}. Best is trial 21 with value: 0.7351324337831084.\n",
      "[I 2024-03-25 03:00:51,368] Trial 23 finished with value: 0.7301349325337332 and parameters: {'n_estimators': 184, 'learning_rate': 0.1035252694602931, 'max_depth': 7, 'min_samples_split': 14, 'min_samples_leaf': 3}. Best is trial 21 with value: 0.7351324337831084.\n",
      "[I 2024-03-25 03:03:13,685] Trial 24 finished with value: 0.7311344327836082 and parameters: {'n_estimators': 149, 'learning_rate': 0.1055372634038504, 'max_depth': 6, 'min_samples_split': 20, 'min_samples_leaf': 2}. Best is trial 21 with value: 0.7351324337831084.\n",
      "[I 2024-03-25 03:06:51,014] Trial 25 finished with value: 0.7336331834082959 and parameters: {'n_estimators': 200, 'learning_rate': 0.06295056487295483, 'max_depth': 7, 'min_samples_split': 18, 'min_samples_leaf': 5}. Best is trial 21 with value: 0.7351324337831084.\n",
      "[I 2024-03-25 03:08:35,150] Trial 26 finished with value: 0.735632183908046 and parameters: {'n_estimators': 180, 'learning_rate': 0.2222667890685426, 'max_depth': 4, 'min_samples_split': 15, 'min_samples_leaf': 3}. Best is trial 26 with value: 0.735632183908046.\n",
      "[I 2024-03-25 03:10:30,957] Trial 27 finished with value: 0.7296351824087957 and parameters: {'n_estimators': 187, 'learning_rate': 0.21485400344552605, 'max_depth': 4, 'min_samples_split': 15, 'min_samples_leaf': 8}. Best is trial 26 with value: 0.735632183908046.\n",
      "[I 2024-03-25 03:12:14,932] Trial 28 finished with value: 0.7261369315342329 and parameters: {'n_estimators': 170, 'learning_rate': 0.4679986182798034, 'max_depth': 4, 'min_samples_split': 16, 'min_samples_leaf': 4}. Best is trial 26 with value: 0.735632183908046.\n",
      "[I 2024-03-25 03:16:06,989] Trial 29 finished with value: 0.7396301849075462 and parameters: {'n_estimators': 189, 'learning_rate': 0.21854354039062007, 'max_depth': 8, 'min_samples_split': 14, 'min_samples_leaf': 6}. Best is trial 29 with value: 0.7396301849075462.\n",
      "[I 2024-03-25 03:17:41,768] Trial 30 finished with value: 0.7376311844077961 and parameters: {'n_estimators': 149, 'learning_rate': 0.20551001716681852, 'max_depth': 9, 'min_samples_split': 10, 'min_samples_leaf': 7}. Best is trial 29 with value: 0.7396301849075462.\n",
      "[I 2024-03-25 03:19:11,095] Trial 31 finished with value: 0.7346326836581709 and parameters: {'n_estimators': 148, 'learning_rate': 0.2212510798155584, 'max_depth': 9, 'min_samples_split': 9, 'min_samples_leaf': 7}. Best is trial 29 with value: 0.7396301849075462.\n",
      "[I 2024-03-25 03:21:17,129] Trial 32 finished with value: 0.7226386806596702 and parameters: {'n_estimators': 186, 'learning_rate': 0.3277524960463893, 'max_depth': 10, 'min_samples_split': 12, 'min_samples_leaf': 7}. Best is trial 29 with value: 0.7396301849075462.\n",
      "[I 2024-03-25 03:22:59,967] Trial 33 finished with value: 0.7266366816591704 and parameters: {'n_estimators': 160, 'learning_rate': 0.19121031637260344, 'max_depth': 9, 'min_samples_split': 14, 'min_samples_leaf': 9}. Best is trial 29 with value: 0.7396301849075462.\n",
      "[I 2024-03-25 03:24:34,503] Trial 34 finished with value: 0.7391304347826086 and parameters: {'n_estimators': 167, 'learning_rate': 0.24506225410358862, 'max_depth': 8, 'min_samples_split': 7, 'min_samples_leaf': 6}. Best is trial 29 with value: 0.7396301849075462.\n",
      "[I 2024-03-25 03:26:18,357] Trial 35 finished with value: 0.7271364317841079 and parameters: {'n_estimators': 168, 'learning_rate': 0.25808864244050145, 'max_depth': 8, 'min_samples_split': 7, 'min_samples_leaf': 6}. Best is trial 29 with value: 0.7396301849075462.\n",
      "[I 2024-03-25 03:28:15,279] Trial 36 finished with value: 0.7156421789105447 and parameters: {'n_estimators': 154, 'learning_rate': 0.3875196875810938, 'max_depth': 10, 'min_samples_split': 2, 'min_samples_leaf': 8}. Best is trial 29 with value: 0.7396301849075462.\n",
      "[I 2024-03-25 03:29:43,540] Trial 37 finished with value: 0.7341329335332334 and parameters: {'n_estimators': 143, 'learning_rate': 0.25826768379517984, 'max_depth': 8, 'min_samples_split': 10, 'min_samples_leaf': 7}. Best is trial 29 with value: 0.7396301849075462.\n",
      "[I 2024-03-25 03:31:05,694] Trial 38 finished with value: 0.7351324337831084 and parameters: {'n_estimators': 118, 'learning_rate': 0.14821168747220326, 'max_depth': 9, 'min_samples_split': 7, 'min_samples_leaf': 6}. Best is trial 29 with value: 0.7396301849075462.\n",
      "[I 2024-03-25 03:32:20,148] Trial 39 finished with value: 0.7186406796601699 and parameters: {'n_estimators': 135, 'learning_rate': 0.37966120778899093, 'max_depth': 8, 'min_samples_split': 5, 'min_samples_leaf': 10}. Best is trial 29 with value: 0.7396301849075462.\n",
      "[I 2024-03-25 03:33:02,763] Trial 40 finished with value: 0.7301349325337332 and parameters: {'n_estimators': 177, 'learning_rate': 0.21902032344607023, 'max_depth': 3, 'min_samples_split': 8, 'min_samples_leaf': 5}. Best is trial 29 with value: 0.7396301849075462.\n",
      "[I 2024-03-25 03:35:16,768] Trial 41 finished with value: 0.7321339330334833 and parameters: {'n_estimators': 185, 'learning_rate': 0.17679254059865218, 'max_depth': 9, 'min_samples_split': 11, 'min_samples_leaf': 6}. Best is trial 29 with value: 0.7396301849075462.\n",
      "[I 2024-03-25 03:37:43,420] Trial 42 finished with value: 0.7321339330334833 and parameters: {'n_estimators': 191, 'learning_rate': 0.12532492696608083, 'max_depth': 10, 'min_samples_split': 13, 'min_samples_leaf': 7}. Best is trial 29 with value: 0.7396301849075462.\n",
      "[I 2024-03-25 03:39:52,652] Trial 43 finished with value: 0.7351324337831084 and parameters: {'n_estimators': 180, 'learning_rate': 0.08659413644717219, 'max_depth': 8, 'min_samples_split': 10, 'min_samples_leaf': 5}. Best is trial 29 with value: 0.7396301849075462.\n",
      "[I 2024-03-25 03:40:44,171] Trial 44 finished with value: 0.729135432283858 and parameters: {'n_estimators': 63, 'learning_rate': 0.26301940003359625, 'max_depth': 9, 'min_samples_split': 12, 'min_samples_leaf': 6}. Best is trial 29 with value: 0.7396301849075462.\n",
      "[I 2024-03-25 03:42:13,077] Trial 45 finished with value: 0.6856571714142928 and parameters: {'n_estimators': 171, 'learning_rate': 0.011043915483245598, 'max_depth': 4, 'min_samples_split': 14, 'min_samples_leaf': 1}. Best is trial 29 with value: 0.7396301849075462.\n",
      "[I 2024-03-25 03:44:01,593] Trial 46 finished with value: 0.7141429285357321 and parameters: {'n_estimators': 192, 'learning_rate': 0.3291752762099431, 'max_depth': 7, 'min_samples_split': 6, 'min_samples_leaf': 8}. Best is trial 29 with value: 0.7396301849075462.\n",
      "[I 2024-03-25 03:45:50,897] Trial 47 finished with value: 0.7311344327836082 and parameters: {'n_estimators': 167, 'learning_rate': 0.20325139969648542, 'max_depth': 8, 'min_samples_split': 15, 'min_samples_leaf': 5}. Best is trial 29 with value: 0.7396301849075462.\n",
      "[I 2024-03-25 03:46:27,928] Trial 48 finished with value: 0.7261369315342329 and parameters: {'n_estimators': 176, 'learning_rate': 0.15907541944054018, 'max_depth': 3, 'min_samples_split': 10, 'min_samples_leaf': 9}. Best is trial 29 with value: 0.7396301849075462.\n",
      "[I 2024-03-25 03:47:15,240] Trial 49 finished with value: 0.7271364317841079 and parameters: {'n_estimators': 128, 'learning_rate': 0.08785084337682365, 'max_depth': 5, 'min_samples_split': 4, 'min_samples_leaf': 6}. Best is trial 29 with value: 0.7396301849075462.\n"
     ]
    }
   ],
   "source": [
    "# Perform hyperparameter optimization using Optuna\n",
    "study = optuna.create_study(direction='maximize')\n",
    "study.optimize(objective, n_trials=50)"
   ]
  },
  {
   "cell_type": "code",
   "execution_count": 36,
   "id": "c26aeb39-9ac6-4c55-b77c-2f07fab6449b",
   "metadata": {},
   "outputs": [
    {
     "name": "stdout",
     "output_type": "stream",
     "text": [
      "Best Parameters: {'n_estimators': 189, 'learning_rate': 0.21854354039062007, 'max_depth': 8, 'min_samples_split': 14, 'min_samples_leaf': 6}\n"
     ]
    }
   ],
   "source": [
    "# Get the best hyperparameters\n",
    "best_params = study.best_params\n",
    "print(\"Best Parameters:\", best_params)"
   ]
  },
  {
   "cell_type": "code",
   "execution_count": 37,
   "id": "b975c1c6-3400-4acc-9c0d-8ce5ff22b05e",
   "metadata": {},
   "outputs": [
    {
     "data": {
      "text/html": [
       "<style>#sk-container-id-3 {color: black;background-color: white;}#sk-container-id-3 pre{padding: 0;}#sk-container-id-3 div.sk-toggleable {background-color: white;}#sk-container-id-3 label.sk-toggleable__label {cursor: pointer;display: block;width: 100%;margin-bottom: 0;padding: 0.3em;box-sizing: border-box;text-align: center;}#sk-container-id-3 label.sk-toggleable__label-arrow:before {content: \"▸\";float: left;margin-right: 0.25em;color: #696969;}#sk-container-id-3 label.sk-toggleable__label-arrow:hover:before {color: black;}#sk-container-id-3 div.sk-estimator:hover label.sk-toggleable__label-arrow:before {color: black;}#sk-container-id-3 div.sk-toggleable__content {max-height: 0;max-width: 0;overflow: hidden;text-align: left;background-color: #f0f8ff;}#sk-container-id-3 div.sk-toggleable__content pre {margin: 0.2em;color: black;border-radius: 0.25em;background-color: #f0f8ff;}#sk-container-id-3 input.sk-toggleable__control:checked~div.sk-toggleable__content {max-height: 200px;max-width: 100%;overflow: auto;}#sk-container-id-3 input.sk-toggleable__control:checked~label.sk-toggleable__label-arrow:before {content: \"▾\";}#sk-container-id-3 div.sk-estimator input.sk-toggleable__control:checked~label.sk-toggleable__label {background-color: #d4ebff;}#sk-container-id-3 div.sk-label input.sk-toggleable__control:checked~label.sk-toggleable__label {background-color: #d4ebff;}#sk-container-id-3 input.sk-hidden--visually {border: 0;clip: rect(1px 1px 1px 1px);clip: rect(1px, 1px, 1px, 1px);height: 1px;margin: -1px;overflow: hidden;padding: 0;position: absolute;width: 1px;}#sk-container-id-3 div.sk-estimator {font-family: monospace;background-color: #f0f8ff;border: 1px dotted black;border-radius: 0.25em;box-sizing: border-box;margin-bottom: 0.5em;}#sk-container-id-3 div.sk-estimator:hover {background-color: #d4ebff;}#sk-container-id-3 div.sk-parallel-item::after {content: \"\";width: 100%;border-bottom: 1px solid gray;flex-grow: 1;}#sk-container-id-3 div.sk-label:hover label.sk-toggleable__label {background-color: #d4ebff;}#sk-container-id-3 div.sk-serial::before {content: \"\";position: absolute;border-left: 1px solid gray;box-sizing: border-box;top: 0;bottom: 0;left: 50%;z-index: 0;}#sk-container-id-3 div.sk-serial {display: flex;flex-direction: column;align-items: center;background-color: white;padding-right: 0.2em;padding-left: 0.2em;position: relative;}#sk-container-id-3 div.sk-item {position: relative;z-index: 1;}#sk-container-id-3 div.sk-parallel {display: flex;align-items: stretch;justify-content: center;background-color: white;position: relative;}#sk-container-id-3 div.sk-item::before, #sk-container-id-3 div.sk-parallel-item::before {content: \"\";position: absolute;border-left: 1px solid gray;box-sizing: border-box;top: 0;bottom: 0;left: 50%;z-index: -1;}#sk-container-id-3 div.sk-parallel-item {display: flex;flex-direction: column;z-index: 1;position: relative;background-color: white;}#sk-container-id-3 div.sk-parallel-item:first-child::after {align-self: flex-end;width: 50%;}#sk-container-id-3 div.sk-parallel-item:last-child::after {align-self: flex-start;width: 50%;}#sk-container-id-3 div.sk-parallel-item:only-child::after {width: 0;}#sk-container-id-3 div.sk-dashed-wrapped {border: 1px dashed gray;margin: 0 0.4em 0.5em 0.4em;box-sizing: border-box;padding-bottom: 0.4em;background-color: white;}#sk-container-id-3 div.sk-label label {font-family: monospace;font-weight: bold;display: inline-block;line-height: 1.2em;}#sk-container-id-3 div.sk-label-container {text-align: center;}#sk-container-id-3 div.sk-container {/* jupyter's `normalize.less` sets `[hidden] { display: none; }` but bootstrap.min.css set `[hidden] { display: none !important; }` so we also need the `!important` here to be able to override the default hidden behavior on the sphinx rendered scikit-learn.org. See: https://github.com/scikit-learn/scikit-learn/issues/21755 */display: inline-block !important;position: relative;}#sk-container-id-3 div.sk-text-repr-fallback {display: none;}</style><div id=\"sk-container-id-3\" class=\"sk-top-container\"><div class=\"sk-text-repr-fallback\"><pre>GradientBoostingClassifier(learning_rate=0.21854354039062007, max_depth=8,\n",
       "                           min_samples_leaf=6, min_samples_split=14,\n",
       "                           n_estimators=189)</pre><b>In a Jupyter environment, please rerun this cell to show the HTML representation or trust the notebook. <br />On GitHub, the HTML representation is unable to render, please try loading this page with nbviewer.org.</b></div><div class=\"sk-container\" hidden><div class=\"sk-item\"><div class=\"sk-estimator sk-toggleable\"><input class=\"sk-toggleable__control sk-hidden--visually\" id=\"sk-estimator-id-3\" type=\"checkbox\" checked><label for=\"sk-estimator-id-3\" class=\"sk-toggleable__label sk-toggleable__label-arrow\">GradientBoostingClassifier</label><div class=\"sk-toggleable__content\"><pre>GradientBoostingClassifier(learning_rate=0.21854354039062007, max_depth=8,\n",
       "                           min_samples_leaf=6, min_samples_split=14,\n",
       "                           n_estimators=189)</pre></div></div></div></div></div>"
      ],
      "text/plain": [
       "GradientBoostingClassifier(learning_rate=0.21854354039062007, max_depth=8,\n",
       "                           min_samples_leaf=6, min_samples_split=14,\n",
       "                           n_estimators=189)"
      ]
     },
     "execution_count": 37,
     "metadata": {},
     "output_type": "execute_result"
    }
   ],
   "source": [
    "# Train the final model with the best hyperparameters\n",
    "best_gb_model = GradientBoostingClassifier(**best_params)\n",
    "best_gb_model.fit(X_train_tfidf, y_train)"
   ]
  },
  {
   "cell_type": "code",
   "execution_count": 38,
   "id": "a326dc62-8041-4800-bfd0-804ed5f99c78",
   "metadata": {},
   "outputs": [
    {
     "name": "stdout",
     "output_type": "stream",
     "text": [
      "Validation Set Performance: \n",
      "              precision    recall  f1-score   support\n",
      "\n",
      "          -1       0.64      0.33      0.44       231\n",
      "           0       0.81      0.80      0.80       988\n",
      "           1       0.67      0.77      0.72       782\n",
      "\n",
      "    accuracy                           0.74      2001\n",
      "   macro avg       0.70      0.63      0.65      2001\n",
      "weighted avg       0.73      0.74      0.73      2001\n",
      "\n"
     ]
    }
   ],
   "source": [
    "# Model Evaluation\n",
    "y_pred_val = best_gb_model.predict(X_test_tfidf)\n",
    "print(\"Validation Set Performance: \")\n",
    "print(classification_report(y_test, y_pred_val))"
   ]
  },
  {
   "cell_type": "code",
   "execution_count": 39,
   "id": "2472fed7-66c5-4741-94a0-4943447e9c74",
   "metadata": {},
   "outputs": [
    {
     "name": "stdout",
     "output_type": "stream",
     "text": [
      "Validation Accuracy: 73.51324337831085\n"
     ]
    }
   ],
   "source": [
    "# model accuracy score\n",
    "accuracy = accuracy_score(y_test, y_pred_val)\n",
    "print(\"Validation Accuracy:\", accuracy*100)"
   ]
  },
  {
   "cell_type": "code",
   "execution_count": null,
   "id": "6688cfc9-bd30-4e34-aaf0-5175a1b32303",
   "metadata": {},
   "outputs": [],
   "source": []
  }
 ],
 "metadata": {
  "kernelspec": {
   "display_name": "Python 3 (ipykernel)",
   "language": "python",
   "name": "python3"
  },
  "language_info": {
   "codemirror_mode": {
    "name": "ipython",
    "version": 3
   },
   "file_extension": ".py",
   "mimetype": "text/x-python",
   "name": "python",
   "nbconvert_exporter": "python",
   "pygments_lexer": "ipython3",
   "version": "3.11.7"
  }
 },
 "nbformat": 4,
 "nbformat_minor": 5
}
