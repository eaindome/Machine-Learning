{
 "cells": [
  {
   "cell_type": "code",
   "execution_count": 1,
   "id": "7eb9a82e-a60d-4bef-82a2-b7d14193930a",
   "metadata": {},
   "outputs": [],
   "source": [
    "import numpy as np\n",
    "import pandas as pd\n",
    "import seaborn as sns\n",
    "import matplotlib.pyplot as plt\n",
    "import warnings\n",
    "%matplotlib inline\n",
    "warnings.filterwarnings('ignore')   # suppress warnings"
   ]
  },
  {
   "cell_type": "code",
   "execution_count": 2,
   "id": "65254725-da99-4656-90a9-a90f68c2670d",
   "metadata": {},
   "outputs": [
    {
     "name": "stdout",
     "output_type": "stream",
     "text": [
      "(10001, 4)\n"
     ]
    },
    {
     "data": {
      "text/html": [
       "<div>\n",
       "<style scoped>\n",
       "    .dataframe tbody tr th:only-of-type {\n",
       "        vertical-align: middle;\n",
       "    }\n",
       "\n",
       "    .dataframe tbody tr th {\n",
       "        vertical-align: top;\n",
       "    }\n",
       "\n",
       "    .dataframe thead th {\n",
       "        text-align: right;\n",
       "    }\n",
       "</style>\n",
       "<table border=\"1\" class=\"dataframe\">\n",
       "  <thead>\n",
       "    <tr style=\"text-align: right;\">\n",
       "      <th></th>\n",
       "      <th>tweet_id</th>\n",
       "      <th>safe_text</th>\n",
       "      <th>label</th>\n",
       "      <th>agreement</th>\n",
       "    </tr>\n",
       "  </thead>\n",
       "  <tbody>\n",
       "    <tr>\n",
       "      <th>0</th>\n",
       "      <td>CL1KWCMY</td>\n",
       "      <td>Me &amp;amp; The Big Homie meanboy3000 #MEANBOY #M...</td>\n",
       "      <td>0.0</td>\n",
       "      <td>1.0</td>\n",
       "    </tr>\n",
       "    <tr>\n",
       "      <th>1</th>\n",
       "      <td>E3303EME</td>\n",
       "      <td>I'm 100% thinking of devoting my career to pro...</td>\n",
       "      <td>1.0</td>\n",
       "      <td>1.0</td>\n",
       "    </tr>\n",
       "    <tr>\n",
       "      <th>2</th>\n",
       "      <td>M4IVFSMS</td>\n",
       "      <td>#whatcausesautism VACCINES, DO NOT VACCINATE Y...</td>\n",
       "      <td>-1.0</td>\n",
       "      <td>1.0</td>\n",
       "    </tr>\n",
       "    <tr>\n",
       "      <th>3</th>\n",
       "      <td>1DR6ROZ4</td>\n",
       "      <td>I mean if they immunize my kid with something ...</td>\n",
       "      <td>-1.0</td>\n",
       "      <td>1.0</td>\n",
       "    </tr>\n",
       "    <tr>\n",
       "      <th>4</th>\n",
       "      <td>J77ENIIE</td>\n",
       "      <td>Thanks to &lt;user&gt; Catch me performing at La Nui...</td>\n",
       "      <td>0.0</td>\n",
       "      <td>1.0</td>\n",
       "    </tr>\n",
       "  </tbody>\n",
       "</table>\n",
       "</div>"
      ],
      "text/plain": [
       "   tweet_id                                          safe_text  label  \\\n",
       "0  CL1KWCMY  Me &amp; The Big Homie meanboy3000 #MEANBOY #M...    0.0   \n",
       "1  E3303EME  I'm 100% thinking of devoting my career to pro...    1.0   \n",
       "2  M4IVFSMS  #whatcausesautism VACCINES, DO NOT VACCINATE Y...   -1.0   \n",
       "3  1DR6ROZ4  I mean if they immunize my kid with something ...   -1.0   \n",
       "4  J77ENIIE  Thanks to <user> Catch me performing at La Nui...    0.0   \n",
       "\n",
       "   agreement  \n",
       "0        1.0  \n",
       "1        1.0  \n",
       "2        1.0  \n",
       "3        1.0  \n",
       "4        1.0  "
      ]
     },
     "execution_count": 2,
     "metadata": {},
     "output_type": "execute_result"
    }
   ],
   "source": [
    "# train data\n",
    "df_train = pd.read_csv('Train.csv')\n",
    "print(df_train.shape)\n",
    "df_train.head()"
   ]
  },
  {
   "cell_type": "code",
   "execution_count": 3,
   "id": "03271e91-c43b-49ce-be24-461876c0b34c",
   "metadata": {},
   "outputs": [
    {
     "name": "stdout",
     "output_type": "stream",
     "text": [
      "(5177, 2)\n"
     ]
    },
    {
     "data": {
      "text/html": [
       "<div>\n",
       "<style scoped>\n",
       "    .dataframe tbody tr th:only-of-type {\n",
       "        vertical-align: middle;\n",
       "    }\n",
       "\n",
       "    .dataframe tbody tr th {\n",
       "        vertical-align: top;\n",
       "    }\n",
       "\n",
       "    .dataframe thead th {\n",
       "        text-align: right;\n",
       "    }\n",
       "</style>\n",
       "<table border=\"1\" class=\"dataframe\">\n",
       "  <thead>\n",
       "    <tr style=\"text-align: right;\">\n",
       "      <th></th>\n",
       "      <th>tweet_id</th>\n",
       "      <th>safe_text</th>\n",
       "    </tr>\n",
       "  </thead>\n",
       "  <tbody>\n",
       "    <tr>\n",
       "      <th>0</th>\n",
       "      <td>00BHHHP1</td>\n",
       "      <td>&lt;user&gt; &lt;user&gt; ... &amp;amp; 4 a vaccine given 2 he...</td>\n",
       "    </tr>\n",
       "    <tr>\n",
       "      <th>1</th>\n",
       "      <td>00UNMD0E</td>\n",
       "      <td>Students starting school without whooping coug...</td>\n",
       "    </tr>\n",
       "    <tr>\n",
       "      <th>2</th>\n",
       "      <td>01AXPTJF</td>\n",
       "      <td>I'm kinda over every ep of &lt;user&gt; being \"rippe...</td>\n",
       "    </tr>\n",
       "    <tr>\n",
       "      <th>3</th>\n",
       "      <td>01HOEQJW</td>\n",
       "      <td>How many innocent children die for lack of vac...</td>\n",
       "    </tr>\n",
       "    <tr>\n",
       "      <th>4</th>\n",
       "      <td>01JUKMAO</td>\n",
       "      <td>CDC eyeing bird flu vaccine for humans, though...</td>\n",
       "    </tr>\n",
       "  </tbody>\n",
       "</table>\n",
       "</div>"
      ],
      "text/plain": [
       "   tweet_id                                          safe_text\n",
       "0  00BHHHP1  <user> <user> ... &amp; 4 a vaccine given 2 he...\n",
       "1  00UNMD0E  Students starting school without whooping coug...\n",
       "2  01AXPTJF  I'm kinda over every ep of <user> being \"rippe...\n",
       "3  01HOEQJW  How many innocent children die for lack of vac...\n",
       "4  01JUKMAO  CDC eyeing bird flu vaccine for humans, though..."
      ]
     },
     "execution_count": 3,
     "metadata": {},
     "output_type": "execute_result"
    }
   ],
   "source": [
    "# test data\n",
    "df_test = pd.read_csv('Test.csv')\n",
    "print(df_test.shape)\n",
    "df_test.head()"
   ]
  },
  {
   "cell_type": "code",
   "execution_count": 4,
   "id": "78ee7f1e-8d21-4c0b-b410-6b2d4657e5d2",
   "metadata": {},
   "outputs": [
    {
     "name": "stdout",
     "output_type": "stream",
     "text": [
      "Column: label\n",
      "Mean round: 0\n",
      "Column: agreement\n",
      "Mean round: 1\n"
     ]
    }
   ],
   "source": [
    "# fill missing values\n",
    "# label and aggreement are floating numbers, use mean and round\n",
    "cols = ['label', 'agreement']\n",
    "for col in cols:\n",
    "    print(f'Column: {col}')\n",
    "    mean_rounded = round(df_train[col].mean())\n",
    "    print(f'Mean round: {mean_rounded}')\n",
    "    df_train[col].fillna(mean_rounded, inplace=True)"
   ]
  },
  {
   "cell_type": "code",
   "execution_count": 5,
   "id": "00731ab6-abb5-4149-a1fa-82c51357abc7",
   "metadata": {},
   "outputs": [
    {
     "name": "stdout",
     "output_type": "stream",
     "text": [
      "label\n",
      " 0    4909\n",
      " 1    4054\n",
      "-1    1038\n",
      "Name: count, dtype: int64\n"
     ]
    }
   ],
   "source": [
    "# there are some inconsistencies, label values should either be 1, 0, -1\n",
    "\n",
    "# Check the values in the target variable and handle any inconsistencies\n",
    "df_train['label'] = df_train['label'].round().astype(int)\n",
    "\n",
    "# Verify the counts of the target variable after handling inconsistencies\n",
    "label_counts = df_train['label'].value_counts()\n",
    "print(label_counts)"
   ]
  },
  {
   "cell_type": "code",
   "execution_count": 6,
   "id": "3ceee8e4-e03b-4b46-b067-aa8a0f06e78d",
   "metadata": {},
   "outputs": [],
   "source": [
    "from sklearn.model_selection import train_test_split\n",
    "from sklearn.feature_extraction.text import TfidfVectorizer\n",
    "from sklearn.svm import SVC\n",
    "from sklearn.metrics import classification_report, accuracy_score"
   ]
  },
  {
   "cell_type": "code",
   "execution_count": 7,
   "id": "1181ca5f-cf95-49f3-bef1-90fcf21bc5ac",
   "metadata": {},
   "outputs": [],
   "source": [
    "# Text Preprocessing\n",
    "# (You may need to install nltk and download its data using nltk.download() for stopwords and WordNet)\n",
    "import nltk\n",
    "from nltk.corpus import stopwords\n",
    "from nltk.stem import WordNetLemmatizer"
   ]
  },
  {
   "cell_type": "code",
   "execution_count": 8,
   "id": "21faee04-0394-4155-a6d5-afe9c9237e9e",
   "metadata": {},
   "outputs": [
    {
     "name": "stderr",
     "output_type": "stream",
     "text": [
      "[nltk_data] Downloading package punkt to\n",
      "[nltk_data]     C:\\Users\\USER\\AppData\\Roaming\\nltk_data...\n",
      "[nltk_data]   Package punkt is already up-to-date!\n",
      "[nltk_data] Downloading package stopwords to\n",
      "[nltk_data]     C:\\Users\\USER\\AppData\\Roaming\\nltk_data...\n",
      "[nltk_data]   Package stopwords is already up-to-date!\n",
      "[nltk_data] Downloading package wordnet to\n",
      "[nltk_data]     C:\\Users\\USER\\AppData\\Roaming\\nltk_data...\n",
      "[nltk_data]   Package wordnet is already up-to-date!\n"
     ]
    },
    {
     "data": {
      "text/plain": [
       "True"
      ]
     },
     "execution_count": 8,
     "metadata": {},
     "output_type": "execute_result"
    }
   ],
   "source": [
    "# downloading nltk resources\n",
    "nltk.download('punkt')\n",
    "nltk.download('stopwords')\n",
    "nltk.download('wordnet')"
   ]
  },
  {
   "cell_type": "code",
   "execution_count": 9,
   "id": "2af47c6c-420f-4032-96cb-ada5140ae191",
   "metadata": {},
   "outputs": [],
   "source": [
    "# initialize wordnet lemmatizer\n",
    "lemmatizer = WordNetLemmatizer()"
   ]
  },
  {
   "cell_type": "code",
   "execution_count": 10,
   "id": "e243d458-390c-4998-acff-1c06b4eaa1a4",
   "metadata": {},
   "outputs": [],
   "source": [
    "def preprocess_text(text):\n",
    "    tokens = text.split()\n",
    "    stop_words = set(stopwords.words('english'))\n",
    "    tokens = [token.lower() for token in tokens if token.lower() not in stop_words]\n",
    "    tokens = [lemmatizer.lemmatize(token) for token in tokens]\n",
    "    return ' '.join(tokens)"
   ]
  },
  {
   "cell_type": "code",
   "execution_count": 11,
   "id": "7f31ea3c-9a39-4981-9bbc-1789631860c6",
   "metadata": {},
   "outputs": [],
   "source": [
    "df_train['clean_text'] = df_train['safe_text'].apply(preprocess_text)"
   ]
  },
  {
   "cell_type": "code",
   "execution_count": 12,
   "id": "ff2dcc49-0ab0-4b92-85f9-3a485a4e1c61",
   "metadata": {},
   "outputs": [],
   "source": [
    "# Convert 'safe_text' column to strings\n",
    "df_test['safe_text'] = df_test['safe_text'].astype(str)\n",
    "\n",
    "# preprocess texts in 'safe_text' column in test_data\n",
    "df_test['safe_text'] = df_test['safe_text'].apply(preprocess_text)"
   ]
  },
  {
   "cell_type": "code",
   "execution_count": 13,
   "id": "4996ff7e-7e33-41d0-adb8-4fcf10290945",
   "metadata": {},
   "outputs": [],
   "source": [
    "# Splitting the data into training and testing sets\n",
    "X_train, X_test, y_train, y_test = train_test_split(df_train['clean_text'], df_train['label'], test_size=0.2, random_state=42)"
   ]
  },
  {
   "cell_type": "code",
   "execution_count": 14,
   "id": "d194eae1-c699-4d0d-8867-5bbaeed64fa1",
   "metadata": {},
   "outputs": [],
   "source": [
    "# Feature Extraction\n",
    "vectorizer = TfidfVectorizer()\n",
    "X_train_tfidf = vectorizer.fit_transform(X_train)\n",
    "X_test_tfidf = vectorizer.transform(X_test)"
   ]
  },
  {
   "cell_type": "code",
   "execution_count": 15,
   "id": "3f3b5eec-4726-4bfc-aeda-013001646d1f",
   "metadata": {},
   "outputs": [],
   "source": [
    "X_val_tfidf = vectorizer.transform(df_test[\"safe_text\"])"
   ]
  },
  {
   "cell_type": "code",
   "execution_count": 16,
   "id": "37d12bc7-f23c-4c26-997b-2576a5af0e1c",
   "metadata": {},
   "outputs": [
    {
     "data": {
      "text/html": [
       "<style>#sk-container-id-1 {color: black;background-color: white;}#sk-container-id-1 pre{padding: 0;}#sk-container-id-1 div.sk-toggleable {background-color: white;}#sk-container-id-1 label.sk-toggleable__label {cursor: pointer;display: block;width: 100%;margin-bottom: 0;padding: 0.3em;box-sizing: border-box;text-align: center;}#sk-container-id-1 label.sk-toggleable__label-arrow:before {content: \"▸\";float: left;margin-right: 0.25em;color: #696969;}#sk-container-id-1 label.sk-toggleable__label-arrow:hover:before {color: black;}#sk-container-id-1 div.sk-estimator:hover label.sk-toggleable__label-arrow:before {color: black;}#sk-container-id-1 div.sk-toggleable__content {max-height: 0;max-width: 0;overflow: hidden;text-align: left;background-color: #f0f8ff;}#sk-container-id-1 div.sk-toggleable__content pre {margin: 0.2em;color: black;border-radius: 0.25em;background-color: #f0f8ff;}#sk-container-id-1 input.sk-toggleable__control:checked~div.sk-toggleable__content {max-height: 200px;max-width: 100%;overflow: auto;}#sk-container-id-1 input.sk-toggleable__control:checked~label.sk-toggleable__label-arrow:before {content: \"▾\";}#sk-container-id-1 div.sk-estimator input.sk-toggleable__control:checked~label.sk-toggleable__label {background-color: #d4ebff;}#sk-container-id-1 div.sk-label input.sk-toggleable__control:checked~label.sk-toggleable__label {background-color: #d4ebff;}#sk-container-id-1 input.sk-hidden--visually {border: 0;clip: rect(1px 1px 1px 1px);clip: rect(1px, 1px, 1px, 1px);height: 1px;margin: -1px;overflow: hidden;padding: 0;position: absolute;width: 1px;}#sk-container-id-1 div.sk-estimator {font-family: monospace;background-color: #f0f8ff;border: 1px dotted black;border-radius: 0.25em;box-sizing: border-box;margin-bottom: 0.5em;}#sk-container-id-1 div.sk-estimator:hover {background-color: #d4ebff;}#sk-container-id-1 div.sk-parallel-item::after {content: \"\";width: 100%;border-bottom: 1px solid gray;flex-grow: 1;}#sk-container-id-1 div.sk-label:hover label.sk-toggleable__label {background-color: #d4ebff;}#sk-container-id-1 div.sk-serial::before {content: \"\";position: absolute;border-left: 1px solid gray;box-sizing: border-box;top: 0;bottom: 0;left: 50%;z-index: 0;}#sk-container-id-1 div.sk-serial {display: flex;flex-direction: column;align-items: center;background-color: white;padding-right: 0.2em;padding-left: 0.2em;position: relative;}#sk-container-id-1 div.sk-item {position: relative;z-index: 1;}#sk-container-id-1 div.sk-parallel {display: flex;align-items: stretch;justify-content: center;background-color: white;position: relative;}#sk-container-id-1 div.sk-item::before, #sk-container-id-1 div.sk-parallel-item::before {content: \"\";position: absolute;border-left: 1px solid gray;box-sizing: border-box;top: 0;bottom: 0;left: 50%;z-index: -1;}#sk-container-id-1 div.sk-parallel-item {display: flex;flex-direction: column;z-index: 1;position: relative;background-color: white;}#sk-container-id-1 div.sk-parallel-item:first-child::after {align-self: flex-end;width: 50%;}#sk-container-id-1 div.sk-parallel-item:last-child::after {align-self: flex-start;width: 50%;}#sk-container-id-1 div.sk-parallel-item:only-child::after {width: 0;}#sk-container-id-1 div.sk-dashed-wrapped {border: 1px dashed gray;margin: 0 0.4em 0.5em 0.4em;box-sizing: border-box;padding-bottom: 0.4em;background-color: white;}#sk-container-id-1 div.sk-label label {font-family: monospace;font-weight: bold;display: inline-block;line-height: 1.2em;}#sk-container-id-1 div.sk-label-container {text-align: center;}#sk-container-id-1 div.sk-container {/* jupyter's `normalize.less` sets `[hidden] { display: none; }` but bootstrap.min.css set `[hidden] { display: none !important; }` so we also need the `!important` here to be able to override the default hidden behavior on the sphinx rendered scikit-learn.org. See: https://github.com/scikit-learn/scikit-learn/issues/21755 */display: inline-block !important;position: relative;}#sk-container-id-1 div.sk-text-repr-fallback {display: none;}</style><div id=\"sk-container-id-1\" class=\"sk-top-container\"><div class=\"sk-text-repr-fallback\"><pre>SVC(kernel=&#x27;linear&#x27;)</pre><b>In a Jupyter environment, please rerun this cell to show the HTML representation or trust the notebook. <br />On GitHub, the HTML representation is unable to render, please try loading this page with nbviewer.org.</b></div><div class=\"sk-container\" hidden><div class=\"sk-item\"><div class=\"sk-estimator sk-toggleable\"><input class=\"sk-toggleable__control sk-hidden--visually\" id=\"sk-estimator-id-1\" type=\"checkbox\" checked><label for=\"sk-estimator-id-1\" class=\"sk-toggleable__label sk-toggleable__label-arrow\">SVC</label><div class=\"sk-toggleable__content\"><pre>SVC(kernel=&#x27;linear&#x27;)</pre></div></div></div></div></div>"
      ],
      "text/plain": [
       "SVC(kernel='linear')"
      ]
     },
     "execution_count": 16,
     "metadata": {},
     "output_type": "execute_result"
    }
   ],
   "source": [
    "# Model Training (Support Vector Machines)\n",
    "model = SVC(kernel='linear')\n",
    "model.fit(X_train_tfidf, y_train)"
   ]
  },
  {
   "cell_type": "code",
   "execution_count": 17,
   "id": "1894805a-e1ae-4953-932f-26e1045e1c91",
   "metadata": {},
   "outputs": [
    {
     "name": "stdout",
     "output_type": "stream",
     "text": [
      "Validation Set Performance: \n",
      "              precision    recall  f1-score   support\n",
      "\n",
      "          -1       0.70      0.26      0.38       231\n",
      "           0       0.80      0.80      0.80       988\n",
      "           1       0.67      0.79      0.73       782\n",
      "\n",
      "    accuracy                           0.74      2001\n",
      "   macro avg       0.72      0.62      0.64      2001\n",
      "weighted avg       0.74      0.74      0.72      2001\n",
      "\n"
     ]
    }
   ],
   "source": [
    "# Model Evaluation\n",
    "y_pred = model.predict(X_test_tfidf)\n",
    "print(\"Validation Set Performance: \")\n",
    "print(classification_report(y_test, y_pred))"
   ]
  },
  {
   "cell_type": "code",
   "execution_count": 18,
   "id": "53df2763-c3d9-44a0-bc1a-4c4988cbe877",
   "metadata": {},
   "outputs": [
    {
     "name": "stdout",
     "output_type": "stream",
     "text": [
      "Validation Accuracy: 73.5632183908046\n"
     ]
    }
   ],
   "source": [
    "# model accuracy score\n",
    "accuracy = accuracy_score(y_test, y_pred)\n",
    "print(\"Validation Accuracy:\", accuracy*100)"
   ]
  },
  {
   "cell_type": "code",
   "execution_count": null,
   "id": "4b69d731-76b1-4786-946e-276c06da4e5c",
   "metadata": {},
   "outputs": [],
   "source": [
    "# model deployment: predict sentiments of test data\n",
    "#y_pred_test = model.predict(X_val_tfidf)"
   ]
  },
  {
   "cell_type": "code",
   "execution_count": 19,
   "id": "778da1e5-93e1-48c7-b96f-98602b05f274",
   "metadata": {},
   "outputs": [],
   "source": [
    "# save predictions to submission.csv\n",
    "#submission_df = pd.DataFrame(\n",
    "#    {\n",
    "#        'tweet_id': df_test['tweet_id'],\n",
    "#        'label': y_pred_test\n",
    "#    }\n",
    "#)\n",
    "#submission_df.to_csv('submission_t1.csv', index=False)\n",
    "#print(\"Submission file save successfully.\")"
   ]
  },
  {
   "cell_type": "markdown",
   "id": "5d56e04f-7597-423f-8a58-6d2157eed8f8",
   "metadata": {},
   "source": [
    "#### Hyperparameter tunning"
   ]
  },
  {
   "cell_type": "code",
   "execution_count": 20,
   "id": "34ca79e0-3568-4359-8411-7e234439442f",
   "metadata": {},
   "outputs": [],
   "source": [
    "import optuna"
   ]
  },
  {
   "cell_type": "code",
   "execution_count": 21,
   "id": "53763e2c-1f77-4a51-96f3-ac2849523bc7",
   "metadata": {},
   "outputs": [],
   "source": [
    "# Define objective function for Optuna\n",
    "def objective(trial):\n",
    "    # Define hyperparameters to search\n",
    "    params = {\n",
    "        'C': trial.suggest_loguniform('C', 0.001, 100)\n",
    "    }\n",
    "\n",
    "    # Initialize and train the model with the suggested hyperparameters\n",
    "    model = SVC(kernel='linear', **params)\n",
    "    model.fit(X_train_tfidf, y_train)\n",
    "\n",
    "    # Predict on validation set and calculate accuracy\n",
    "    y_pred_val = model.predict(X_test_tfidf)\n",
    "    accuracy = accuracy_score(y_test, y_pred_val)\n",
    "\n",
    "    return accuracy"
   ]
  },
  {
   "cell_type": "code",
   "execution_count": 22,
   "id": "4062b167-6802-4cb4-99eb-144a65044d15",
   "metadata": {},
   "outputs": [
    {
     "name": "stderr",
     "output_type": "stream",
     "text": [
      "[I 2024-03-24 23:00:26,512] A new study created in memory with name: no-name-fb70defb-cd24-42a9-b007-77eae0762ca5\n",
      "[I 2024-03-24 23:00:34,573] Trial 0 finished with value: 0.7026486756621689 and parameters: {'C': 3.6265157329970386}. Best is trial 0 with value: 0.7026486756621689.\n",
      "[I 2024-03-24 23:00:47,640] Trial 1 finished with value: 0.6196901549225388 and parameters: {'C': 86.91535446732136}. Best is trial 0 with value: 0.7026486756621689.\n",
      "[I 2024-03-24 23:00:56,047] Trial 2 finished with value: 0.7191404297851074 and parameters: {'C': 2.5181452079985926}. Best is trial 2 with value: 0.7191404297851074.\n",
      "[I 2024-03-24 23:01:04,286] Trial 3 finished with value: 0.6911544227886057 and parameters: {'C': 6.122162301702374}. Best is trial 2 with value: 0.7191404297851074.\n",
      "[I 2024-03-24 23:01:15,250] Trial 4 finished with value: 0.6906546726636682 and parameters: {'C': 0.06634602816742435}. Best is trial 2 with value: 0.7191404297851074.\n",
      "[I 2024-03-24 23:01:24,199] Trial 5 finished with value: 0.6216891554222889 and parameters: {'C': 0.030313507086288632}. Best is trial 2 with value: 0.7191404297851074.\n",
      "[I 2024-03-24 23:01:36,675] Trial 6 finished with value: 0.6731634182908546 and parameters: {'C': 16.71941720348664}. Best is trial 2 with value: 0.7191404297851074.\n",
      "[I 2024-03-24 23:01:45,037] Trial 7 finished with value: 0.7211394302848576 and parameters: {'C': 2.018850474792755}. Best is trial 7 with value: 0.7211394302848576.\n",
      "[I 2024-03-24 23:01:53,771] Trial 8 finished with value: 0.6806596701649176 and parameters: {'C': 10.093372017561887}. Best is trial 7 with value: 0.7211394302848576.\n",
      "[I 2024-03-24 23:02:05,031] Trial 9 finished with value: 0.49375312343828087 and parameters: {'C': 0.004485013838732838}. Best is trial 7 with value: 0.7211394302848576.\n",
      "[I 2024-03-24 23:02:12,185] Trial 10 finished with value: 0.7231384307846077 and parameters: {'C': 0.29438205878747037}. Best is trial 10 with value: 0.7231384307846077.\n",
      "[I 2024-03-24 23:02:19,544] Trial 11 finished with value: 0.7286356821589205 and parameters: {'C': 0.4193260660788295}. Best is trial 11 with value: 0.7286356821589205.\n",
      "[I 2024-03-24 23:02:28,685] Trial 12 finished with value: 0.7221389305347327 and parameters: {'C': 0.2829991679320985}. Best is trial 11 with value: 0.7286356821589205.\n",
      "[I 2024-03-24 23:02:35,688] Trial 13 finished with value: 0.7271364317841079 and parameters: {'C': 0.377350556642971}. Best is trial 11 with value: 0.7286356821589205.\n",
      "[I 2024-03-24 23:02:43,827] Trial 14 finished with value: 0.6261869065467266 and parameters: {'C': 0.03112885335136709}. Best is trial 11 with value: 0.7286356821589205.\n",
      "[I 2024-03-24 23:02:51,740] Trial 15 finished with value: 0.49375312343828087 and parameters: {'C': 0.001468859541472699}. Best is trial 11 with value: 0.7286356821589205.\n",
      "[I 2024-03-24 23:03:00,777] Trial 16 finished with value: 0.7316341829085458 and parameters: {'C': 0.6530387542663478}. Best is trial 16 with value: 0.7316341829085458.\n",
      "[I 2024-03-24 23:03:08,678] Trial 17 finished with value: 0.7336331834082959 and parameters: {'C': 0.859827490724929}. Best is trial 17 with value: 0.7336331834082959.\n",
      "[I 2024-03-24 23:03:15,423] Trial 18 finished with value: 0.7361319340329835 and parameters: {'C': 1.181099254529405}. Best is trial 18 with value: 0.7361319340329835.\n",
      "[I 2024-03-24 23:03:25,237] Trial 19 finished with value: 0.6531734132933533 and parameters: {'C': 30.411048257877727}. Best is trial 18 with value: 0.7361319340329835.\n",
      "[I 2024-03-24 23:03:35,709] Trial 20 finished with value: 0.6996501749125438 and parameters: {'C': 0.08157663548883129}. Best is trial 18 with value: 0.7361319340329835.\n",
      "[I 2024-03-24 23:03:42,446] Trial 21 finished with value: 0.736631684157921 and parameters: {'C': 1.0809429543295312}. Best is trial 21 with value: 0.736631684157921.\n",
      "[I 2024-03-24 23:03:52,470] Trial 22 finished with value: 0.7361319340329835 and parameters: {'C': 1.1014451626043635}. Best is trial 21 with value: 0.736631684157921.\n",
      "[I 2024-03-24 23:03:59,626] Trial 23 finished with value: 0.7256371814092953 and parameters: {'C': 1.7510749061355795}. Best is trial 21 with value: 0.736631684157921.\n",
      "[I 2024-03-24 23:04:07,070] Trial 24 finished with value: 0.7101449275362319 and parameters: {'C': 0.13114041159765705}. Best is trial 21 with value: 0.736631684157921.\n",
      "[I 2024-03-24 23:04:15,522] Trial 25 finished with value: 0.736631684157921 and parameters: {'C': 1.0826946642720796}. Best is trial 21 with value: 0.736631684157921.\n",
      "[I 2024-03-24 23:04:23,950] Trial 26 finished with value: 0.6926536731634183 and parameters: {'C': 5.925263231275443}. Best is trial 21 with value: 0.736631684157921.\n",
      "[I 2024-03-24 23:04:33,049] Trial 27 finished with value: 0.6446776611694153 and parameters: {'C': 36.071766863869684}. Best is trial 21 with value: 0.736631684157921.\n",
      "[I 2024-03-24 23:04:42,622] Trial 28 finished with value: 0.7171414292853573 and parameters: {'C': 0.17883205012396072}. Best is trial 21 with value: 0.736631684157921.\n",
      "[I 2024-03-24 23:04:50,819] Trial 29 finished with value: 0.7021489255372314 and parameters: {'C': 3.5878436001990757}. Best is trial 21 with value: 0.736631684157921.\n",
      "[I 2024-03-24 23:04:58,181] Trial 30 finished with value: 0.7361319340329835 and parameters: {'C': 1.1951041596395804}. Best is trial 21 with value: 0.736631684157921.\n",
      "[I 2024-03-24 23:05:07,994] Trial 31 finished with value: 0.7316341829085458 and parameters: {'C': 0.7500077970239285}. Best is trial 21 with value: 0.736631684157921.\n",
      "[I 2024-03-24 23:05:14,753] Trial 32 finished with value: 0.7361319340329835 and parameters: {'C': 1.2651924028364643}. Best is trial 21 with value: 0.736631684157921.\n",
      "[I 2024-03-24 23:05:22,207] Trial 33 finished with value: 0.7006496751624188 and parameters: {'C': 3.8624290857330834}. Best is trial 21 with value: 0.736631684157921.\n",
      "[I 2024-03-24 23:05:33,202] Trial 34 finished with value: 0.6831584207896052 and parameters: {'C': 8.574782487173731}. Best is trial 21 with value: 0.736631684157921.\n",
      "[I 2024-03-24 23:05:40,849] Trial 35 finished with value: 0.7131434282858571 and parameters: {'C': 2.786886412267301}. Best is trial 21 with value: 0.736631684157921.\n",
      "[I 2024-03-24 23:05:48,395] Trial 36 finished with value: 0.7321339330334833 and parameters: {'C': 0.6327655497544241}. Best is trial 21 with value: 0.736631684157921.\n",
      "[I 2024-03-24 23:05:57,480] Trial 37 finished with value: 0.7086456771614192 and parameters: {'C': 0.14572676886309402}. Best is trial 21 with value: 0.736631684157921.\n",
      "[I 2024-03-24 23:06:08,098] Trial 38 finished with value: 0.623688155922039 and parameters: {'C': 78.01579393558612}. Best is trial 21 with value: 0.736631684157921.\n",
      "[I 2024-03-24 23:06:16,233] Trial 39 finished with value: 0.6126936531734133 and parameters: {'C': 0.02835442771819024}. Best is trial 21 with value: 0.736631684157921.\n",
      "[I 2024-03-24 23:06:22,999] Trial 40 finished with value: 0.7321339330334833 and parameters: {'C': 1.5167292226005091}. Best is trial 21 with value: 0.736631684157921.\n",
      "[I 2024-03-24 23:06:31,650] Trial 41 finished with value: 0.735632183908046 and parameters: {'C': 1.2145712782132791}. Best is trial 21 with value: 0.736631684157921.\n",
      "[I 2024-03-24 23:06:39,404] Trial 42 finished with value: 0.6966516741629185 and parameters: {'C': 5.183985445251608}. Best is trial 21 with value: 0.736631684157921.\n",
      "[I 2024-03-24 23:06:46,540] Trial 43 finished with value: 0.7141429285357321 and parameters: {'C': 2.7619353539451974}. Best is trial 21 with value: 0.736631684157921.\n",
      "[I 2024-03-24 23:06:56,557] Trial 44 finished with value: 0.6721639180409795 and parameters: {'C': 11.488922249895861}. Best is trial 21 with value: 0.736631684157921.\n",
      "[I 2024-03-24 23:07:03,694] Trial 45 finished with value: 0.7286356821589205 and parameters: {'C': 0.548154784417705}. Best is trial 21 with value: 0.736631684157921.\n",
      "[I 2024-03-24 23:07:10,710] Trial 46 finished with value: 0.7216391804097951 and parameters: {'C': 0.23005383500531942}. Best is trial 21 with value: 0.736631684157921.\n",
      "[I 2024-03-24 23:07:17,698] Trial 47 finished with value: 0.7211394302848576 and parameters: {'C': 2.034534285739512}. Best is trial 21 with value: 0.736631684157921.\n",
      "[I 2024-03-24 23:07:24,901] Trial 48 finished with value: 0.7241379310344828 and parameters: {'C': 0.3174853788899865}. Best is trial 21 with value: 0.736631684157921.\n",
      "[I 2024-03-24 23:07:33,090] Trial 49 finished with value: 0.735632183908046 and parameters: {'C': 1.0571110050252635}. Best is trial 21 with value: 0.736631684157921.\n",
      "[I 2024-03-24 23:07:41,863] Trial 50 finished with value: 0.729135432283858 and parameters: {'C': 0.4853643709932708}. Best is trial 21 with value: 0.736631684157921.\n",
      "[I 2024-03-24 23:07:48,858] Trial 51 finished with value: 0.7341329335332334 and parameters: {'C': 1.3141069718680152}. Best is trial 21 with value: 0.736631684157921.\n",
      "[I 2024-03-24 23:07:56,720] Trial 52 finished with value: 0.7226386806596702 and parameters: {'C': 2.19036469701227}. Best is trial 21 with value: 0.736631684157921.\n",
      "[I 2024-03-24 23:08:06,980] Trial 53 finished with value: 0.7361319340329835 and parameters: {'C': 0.9246834448668338}. Best is trial 21 with value: 0.736631684157921.\n",
      "[I 2024-03-24 23:08:15,231] Trial 54 finished with value: 0.7016491754122939 and parameters: {'C': 4.22699559616369}. Best is trial 21 with value: 0.736631684157921.\n",
      "[I 2024-03-24 23:08:26,972] Trial 55 finished with value: 0.7021489255372314 and parameters: {'C': 0.08452142887166393}. Best is trial 21 with value: 0.736631684157921.\n",
      "[I 2024-03-24 23:08:35,077] Trial 56 finished with value: 0.7261369315342329 and parameters: {'C': 0.3704949322614691}. Best is trial 21 with value: 0.736631684157921.\n",
      "[I 2024-03-24 23:08:46,666] Trial 57 finished with value: 0.6841579210394803 and parameters: {'C': 8.00937684649904}. Best is trial 21 with value: 0.736631684157921.\n",
      "[I 2024-03-24 23:08:58,258] Trial 58 finished with value: 0.6711644177911045 and parameters: {'C': 17.793190747858883}. Best is trial 21 with value: 0.736631684157921.\n",
      "[I 2024-03-24 23:09:05,323] Trial 59 finished with value: 0.736631684157921 and parameters: {'C': 1.22562670619923}. Best is trial 21 with value: 0.736631684157921.\n",
      "[I 2024-03-24 23:09:15,412] Trial 60 finished with value: 0.7316341829085458 and parameters: {'C': 0.6468941351090725}. Best is trial 21 with value: 0.736631684157921.\n",
      "[I 2024-03-24 23:09:22,729] Trial 61 finished with value: 0.7321339330334833 and parameters: {'C': 1.531360060298775}. Best is trial 21 with value: 0.736631684157921.\n",
      "[I 2024-03-24 23:09:32,950] Trial 62 finished with value: 0.7336331834082959 and parameters: {'C': 0.859946771929595}. Best is trial 21 with value: 0.736631684157921.\n",
      "[I 2024-03-24 23:09:41,346] Trial 63 finished with value: 0.7176411794102948 and parameters: {'C': 2.5381061370790263}. Best is trial 21 with value: 0.736631684157921.\n",
      "[I 2024-03-24 23:09:48,507] Trial 64 finished with value: 0.7216391804097951 and parameters: {'C': 0.2320683577662208}. Best is trial 21 with value: 0.736631684157921.\n",
      "[I 2024-03-24 23:09:57,777] Trial 65 finished with value: 0.7316341829085458 and parameters: {'C': 1.4700141648562366}. Best is trial 21 with value: 0.736631684157921.\n",
      "[I 2024-03-24 23:10:04,530] Trial 66 finished with value: 0.7286356821589205 and parameters: {'C': 0.4285230304422915}. Best is trial 21 with value: 0.736631684157921.\n",
      "[I 2024-03-24 23:10:12,641] Trial 67 finished with value: 0.7021489255372314 and parameters: {'C': 3.4314560426040153}. Best is trial 21 with value: 0.736631684157921.\n",
      "[I 2024-03-24 23:10:20,334] Trial 68 finished with value: 0.735632183908046 and parameters: {'C': 0.9193480179598241}. Best is trial 21 with value: 0.736631684157921.\n",
      "[I 2024-03-24 23:10:28,756] Trial 69 finished with value: 0.7241379310344828 and parameters: {'C': 1.862960457919827}. Best is trial 21 with value: 0.736631684157921.\n",
      "[I 2024-03-24 23:10:35,750] Trial 70 finished with value: 0.7301349325337332 and parameters: {'C': 0.5751101876356982}. Best is trial 21 with value: 0.736631684157921.\n",
      "[I 2024-03-24 23:10:42,870] Trial 71 finished with value: 0.7331334332833583 and parameters: {'C': 0.852520151884091}. Best is trial 21 with value: 0.736631684157921.\n",
      "[I 2024-03-24 23:10:50,800] Trial 72 finished with value: 0.735632183908046 and parameters: {'C': 1.206048974675353}. Best is trial 21 with value: 0.736631684157921.\n",
      "[I 2024-03-24 23:10:58,107] Trial 73 finished with value: 0.735632183908046 and parameters: {'C': 1.002852526198208}. Best is trial 21 with value: 0.736631684157921.\n",
      "[I 2024-03-24 23:11:06,330] Trial 74 finished with value: 0.7061469265367316 and parameters: {'C': 3.069256489696477}. Best is trial 21 with value: 0.736631684157921.\n",
      "[I 2024-03-24 23:11:15,150] Trial 75 finished with value: 0.6976511744127936 and parameters: {'C': 4.58910296791047}. Best is trial 21 with value: 0.736631684157921.\n",
      "[I 2024-03-24 23:11:24,833] Trial 76 finished with value: 0.7226386806596702 and parameters: {'C': 2.2005601583988423}. Best is trial 21 with value: 0.736631684157921.\n",
      "[I 2024-03-24 23:11:32,789] Trial 77 finished with value: 0.7311344327836082 and parameters: {'C': 0.6963091301154404}. Best is trial 21 with value: 0.736631684157921.\n",
      "[I 2024-03-24 23:11:40,498] Trial 78 finished with value: 0.7226386806596702 and parameters: {'C': 0.2653181970768409}. Best is trial 21 with value: 0.736631684157921.\n",
      "[I 2024-03-24 23:11:50,915] Trial 79 finished with value: 0.49375312343828087 and parameters: {'C': 0.005267045344370736}. Best is trial 21 with value: 0.736631684157921.\n",
      "[I 2024-03-24 23:11:59,341] Trial 80 finished with value: 0.7311344327836082 and parameters: {'C': 1.5509341907358603}. Best is trial 21 with value: 0.736631684157921.\n",
      "[I 2024-03-24 23:12:07,119] Trial 81 finished with value: 0.7361319340329835 and parameters: {'C': 1.1636685488483556}. Best is trial 21 with value: 0.736631684157921.\n",
      "[I 2024-03-24 23:12:15,339] Trial 82 finished with value: 0.728135932033983 and parameters: {'C': 0.43014762374913196}. Best is trial 21 with value: 0.736631684157921.\n",
      "[I 2024-03-24 23:12:23,521] Trial 83 finished with value: 0.735632183908046 and parameters: {'C': 1.1023012059086812}. Best is trial 21 with value: 0.736631684157921.\n",
      "[I 2024-03-24 23:12:30,267] Trial 84 finished with value: 0.7321339330334833 and parameters: {'C': 0.7206604352169221}. Best is trial 21 with value: 0.736631684157921.\n",
      "[I 2024-03-24 23:12:37,930] Trial 85 finished with value: 0.7211394302848576 and parameters: {'C': 1.9965234631311612}. Best is trial 21 with value: 0.736631684157921.\n",
      "[I 2024-03-24 23:12:48,398] Trial 86 finished with value: 0.729135432283858 and parameters: {'C': 0.48676721304152076}. Best is trial 21 with value: 0.736631684157921.\n",
      "[I 2024-03-24 23:12:55,379] Trial 87 finished with value: 0.736631684157921 and parameters: {'C': 1.1864335041159002}. Best is trial 21 with value: 0.736631684157921.\n",
      "[I 2024-03-24 23:13:04,530] Trial 88 finished with value: 0.6906546726636682 and parameters: {'C': 6.833651395405404}. Best is trial 21 with value: 0.736631684157921.\n",
      "[I 2024-03-24 23:13:11,940] Trial 89 finished with value: 0.7191404297851074 and parameters: {'C': 2.511660812685663}. Best is trial 21 with value: 0.736631684157921.\n",
      "[I 2024-03-24 23:13:19,160] Trial 90 finished with value: 0.7256371814092953 and parameters: {'C': 1.7562335952354984}. Best is trial 21 with value: 0.736631684157921.\n",
      "[I 2024-03-24 23:13:26,080] Trial 91 finished with value: 0.735632183908046 and parameters: {'C': 1.1366996464037726}. Best is trial 21 with value: 0.736631684157921.\n",
      "[I 2024-03-24 23:13:33,282] Trial 92 finished with value: 0.7241379310344828 and parameters: {'C': 0.31913282526612147}. Best is trial 21 with value: 0.736631684157921.\n",
      "[I 2024-03-24 23:13:40,062] Trial 93 finished with value: 0.7331334332833583 and parameters: {'C': 0.8529396282341313}. Best is trial 21 with value: 0.736631684157921.\n",
      "[I 2024-03-24 23:13:47,038] Trial 94 finished with value: 0.7346326836581709 and parameters: {'C': 1.414845839661128}. Best is trial 21 with value: 0.736631684157921.\n",
      "[I 2024-03-24 23:13:54,814] Trial 95 finished with value: 0.729135432283858 and parameters: {'C': 0.563654778994926}. Best is trial 21 with value: 0.736631684157921.\n",
      "[I 2024-03-24 23:14:03,194] Trial 96 finished with value: 0.7066466766616691 and parameters: {'C': 3.1583033013875266}. Best is trial 21 with value: 0.736631684157921.\n",
      "[I 2024-03-24 23:14:11,249] Trial 97 finished with value: 0.711144427786107 and parameters: {'C': 0.1535877693884812}. Best is trial 21 with value: 0.736631684157921.\n",
      "[I 2024-03-24 23:14:18,794] Trial 98 finished with value: 0.7361319340329835 and parameters: {'C': 1.166360765126767}. Best is trial 21 with value: 0.736631684157921.\n",
      "[I 2024-03-24 23:14:26,398] Trial 99 finished with value: 0.7341329335332334 and parameters: {'C': 0.7907390705588867}. Best is trial 21 with value: 0.736631684157921.\n"
     ]
    }
   ],
   "source": [
    "# Perform hyperparameter optimization using Optuna\n",
    "study = optuna.create_study(direction='maximize')\n",
    "study.optimize(objective, n_trials=100)"
   ]
  },
  {
   "cell_type": "code",
   "execution_count": 24,
   "id": "027fd5f5-1adc-4220-bec6-f8365971aa09",
   "metadata": {},
   "outputs": [
    {
     "name": "stdout",
     "output_type": "stream",
     "text": [
      "Best Parameters: {'C': 1.0809429543295312}\n"
     ]
    }
   ],
   "source": [
    "best_params = study.best_params\n",
    "print(\"Best Parameters:\", best_params)"
   ]
  },
  {
   "cell_type": "code",
   "execution_count": 25,
   "id": "694fb573-2c6c-4cc6-9758-de4acb9c589c",
   "metadata": {},
   "outputs": [
    {
     "data": {
      "text/html": [
       "<style>#sk-container-id-2 {color: black;background-color: white;}#sk-container-id-2 pre{padding: 0;}#sk-container-id-2 div.sk-toggleable {background-color: white;}#sk-container-id-2 label.sk-toggleable__label {cursor: pointer;display: block;width: 100%;margin-bottom: 0;padding: 0.3em;box-sizing: border-box;text-align: center;}#sk-container-id-2 label.sk-toggleable__label-arrow:before {content: \"▸\";float: left;margin-right: 0.25em;color: #696969;}#sk-container-id-2 label.sk-toggleable__label-arrow:hover:before {color: black;}#sk-container-id-2 div.sk-estimator:hover label.sk-toggleable__label-arrow:before {color: black;}#sk-container-id-2 div.sk-toggleable__content {max-height: 0;max-width: 0;overflow: hidden;text-align: left;background-color: #f0f8ff;}#sk-container-id-2 div.sk-toggleable__content pre {margin: 0.2em;color: black;border-radius: 0.25em;background-color: #f0f8ff;}#sk-container-id-2 input.sk-toggleable__control:checked~div.sk-toggleable__content {max-height: 200px;max-width: 100%;overflow: auto;}#sk-container-id-2 input.sk-toggleable__control:checked~label.sk-toggleable__label-arrow:before {content: \"▾\";}#sk-container-id-2 div.sk-estimator input.sk-toggleable__control:checked~label.sk-toggleable__label {background-color: #d4ebff;}#sk-container-id-2 div.sk-label input.sk-toggleable__control:checked~label.sk-toggleable__label {background-color: #d4ebff;}#sk-container-id-2 input.sk-hidden--visually {border: 0;clip: rect(1px 1px 1px 1px);clip: rect(1px, 1px, 1px, 1px);height: 1px;margin: -1px;overflow: hidden;padding: 0;position: absolute;width: 1px;}#sk-container-id-2 div.sk-estimator {font-family: monospace;background-color: #f0f8ff;border: 1px dotted black;border-radius: 0.25em;box-sizing: border-box;margin-bottom: 0.5em;}#sk-container-id-2 div.sk-estimator:hover {background-color: #d4ebff;}#sk-container-id-2 div.sk-parallel-item::after {content: \"\";width: 100%;border-bottom: 1px solid gray;flex-grow: 1;}#sk-container-id-2 div.sk-label:hover label.sk-toggleable__label {background-color: #d4ebff;}#sk-container-id-2 div.sk-serial::before {content: \"\";position: absolute;border-left: 1px solid gray;box-sizing: border-box;top: 0;bottom: 0;left: 50%;z-index: 0;}#sk-container-id-2 div.sk-serial {display: flex;flex-direction: column;align-items: center;background-color: white;padding-right: 0.2em;padding-left: 0.2em;position: relative;}#sk-container-id-2 div.sk-item {position: relative;z-index: 1;}#sk-container-id-2 div.sk-parallel {display: flex;align-items: stretch;justify-content: center;background-color: white;position: relative;}#sk-container-id-2 div.sk-item::before, #sk-container-id-2 div.sk-parallel-item::before {content: \"\";position: absolute;border-left: 1px solid gray;box-sizing: border-box;top: 0;bottom: 0;left: 50%;z-index: -1;}#sk-container-id-2 div.sk-parallel-item {display: flex;flex-direction: column;z-index: 1;position: relative;background-color: white;}#sk-container-id-2 div.sk-parallel-item:first-child::after {align-self: flex-end;width: 50%;}#sk-container-id-2 div.sk-parallel-item:last-child::after {align-self: flex-start;width: 50%;}#sk-container-id-2 div.sk-parallel-item:only-child::after {width: 0;}#sk-container-id-2 div.sk-dashed-wrapped {border: 1px dashed gray;margin: 0 0.4em 0.5em 0.4em;box-sizing: border-box;padding-bottom: 0.4em;background-color: white;}#sk-container-id-2 div.sk-label label {font-family: monospace;font-weight: bold;display: inline-block;line-height: 1.2em;}#sk-container-id-2 div.sk-label-container {text-align: center;}#sk-container-id-2 div.sk-container {/* jupyter's `normalize.less` sets `[hidden] { display: none; }` but bootstrap.min.css set `[hidden] { display: none !important; }` so we also need the `!important` here to be able to override the default hidden behavior on the sphinx rendered scikit-learn.org. See: https://github.com/scikit-learn/scikit-learn/issues/21755 */display: inline-block !important;position: relative;}#sk-container-id-2 div.sk-text-repr-fallback {display: none;}</style><div id=\"sk-container-id-2\" class=\"sk-top-container\"><div class=\"sk-text-repr-fallback\"><pre>SVC(C=1.0809429543295312, kernel=&#x27;linear&#x27;)</pre><b>In a Jupyter environment, please rerun this cell to show the HTML representation or trust the notebook. <br />On GitHub, the HTML representation is unable to render, please try loading this page with nbviewer.org.</b></div><div class=\"sk-container\" hidden><div class=\"sk-item\"><div class=\"sk-estimator sk-toggleable\"><input class=\"sk-toggleable__control sk-hidden--visually\" id=\"sk-estimator-id-2\" type=\"checkbox\" checked><label for=\"sk-estimator-id-2\" class=\"sk-toggleable__label sk-toggleable__label-arrow\">SVC</label><div class=\"sk-toggleable__content\"><pre>SVC(C=1.0809429543295312, kernel=&#x27;linear&#x27;)</pre></div></div></div></div></div>"
      ],
      "text/plain": [
       "SVC(C=1.0809429543295312, kernel='linear')"
      ]
     },
     "execution_count": 25,
     "metadata": {},
     "output_type": "execute_result"
    }
   ],
   "source": [
    "# Train the final model with the best hyperparameters\n",
    "best_model = SVC(kernel='linear', **best_params)\n",
    "best_model.fit(X_train_tfidf, y_train)"
   ]
  },
  {
   "cell_type": "code",
   "execution_count": 26,
   "id": "6e263d6d-5551-4b0b-b5b1-16d065ca4d29",
   "metadata": {},
   "outputs": [
    {
     "name": "stdout",
     "output_type": "stream",
     "text": [
      "Validation Set Performance after tuning: \n",
      "              precision    recall  f1-score   support\n",
      "\n",
      "          -1       0.68      0.27      0.39       231\n",
      "           0       0.81      0.80      0.80       988\n",
      "           1       0.67      0.79      0.73       782\n",
      "\n",
      "    accuracy                           0.74      2001\n",
      "   macro avg       0.72      0.62      0.64      2001\n",
      "weighted avg       0.74      0.74      0.73      2001\n",
      "\n"
     ]
    }
   ],
   "source": [
    "# Model Evaluation\n",
    "y_pred_val = best_model.predict(X_test_tfidf)\n",
    "print(\"Validation Set Performance after tuning: \")\n",
    "print(classification_report(y_test, y_pred_val))"
   ]
  },
  {
   "cell_type": "code",
   "execution_count": 27,
   "id": "85032fa7-d8ad-49d3-b2d8-ee1d48cfa7e5",
   "metadata": {},
   "outputs": [
    {
     "name": "stdout",
     "output_type": "stream",
     "text": [
      "Validation Accuracy: 73.6631684157921\n"
     ]
    }
   ],
   "source": [
    "# model accuracy score\n",
    "accuracy = accuracy_score(y_test, y_pred_val)\n",
    "print(\"Validation Accuracy:\", accuracy*100)"
   ]
  },
  {
   "cell_type": "code",
   "execution_count": null,
   "id": "8aed21d5-44c6-4e2b-953d-2113c6a70633",
   "metadata": {},
   "outputs": [],
   "source": []
  },
  {
   "cell_type": "code",
   "execution_count": null,
   "id": "cd233d86-0052-435c-b6a0-224d3a86e312",
   "metadata": {},
   "outputs": [],
   "source": []
  },
  {
   "cell_type": "code",
   "execution_count": null,
   "id": "5c85ff4a-bb09-4aef-a43f-9593fc099c22",
   "metadata": {},
   "outputs": [],
   "source": []
  },
  {
   "cell_type": "code",
   "execution_count": null,
   "id": "4498c526-a470-4a4a-b6ca-495e67297dd3",
   "metadata": {},
   "outputs": [],
   "source": []
  }
 ],
 "metadata": {
  "kernelspec": {
   "display_name": "Python 3 (ipykernel)",
   "language": "python",
   "name": "python3"
  },
  "language_info": {
   "codemirror_mode": {
    "name": "ipython",
    "version": 3
   },
   "file_extension": ".py",
   "mimetype": "text/x-python",
   "name": "python",
   "nbconvert_exporter": "python",
   "pygments_lexer": "ipython3",
   "version": "3.11.7"
  }
 },
 "nbformat": 4,
 "nbformat_minor": 5
}
