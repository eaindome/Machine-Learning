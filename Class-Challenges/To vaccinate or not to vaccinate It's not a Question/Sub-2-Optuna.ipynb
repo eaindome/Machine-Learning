{
 "cells": [
  {
   "cell_type": "code",
   "execution_count": 1,
   "id": "442c7e10-687c-43a4-a69d-75bc4180b3cf",
   "metadata": {},
   "outputs": [],
   "source": [
    "import numpy as np\n",
    "import pandas as pd\n",
    "import seaborn as sns\n",
    "import matplotlib.pyplot as plt\n",
    "import warnings\n",
    "%matplotlib inline\n",
    "warnings.filterwarnings('ignore')   # suppress warnings"
   ]
  },
  {
   "cell_type": "markdown",
   "id": "06969be9-d019-4709-aa01-67773417964b",
   "metadata": {},
   "source": [
    "#### Data"
   ]
  },
  {
   "cell_type": "code",
   "execution_count": 2,
   "id": "06b924c4-2609-44e0-b8dc-77f37fdc36a6",
   "metadata": {},
   "outputs": [
    {
     "name": "stdout",
     "output_type": "stream",
     "text": [
      "(10001, 4)\n"
     ]
    },
    {
     "data": {
      "text/html": [
       "<div>\n",
       "<style scoped>\n",
       "    .dataframe tbody tr th:only-of-type {\n",
       "        vertical-align: middle;\n",
       "    }\n",
       "\n",
       "    .dataframe tbody tr th {\n",
       "        vertical-align: top;\n",
       "    }\n",
       "\n",
       "    .dataframe thead th {\n",
       "        text-align: right;\n",
       "    }\n",
       "</style>\n",
       "<table border=\"1\" class=\"dataframe\">\n",
       "  <thead>\n",
       "    <tr style=\"text-align: right;\">\n",
       "      <th></th>\n",
       "      <th>tweet_id</th>\n",
       "      <th>safe_text</th>\n",
       "      <th>label</th>\n",
       "      <th>agreement</th>\n",
       "    </tr>\n",
       "  </thead>\n",
       "  <tbody>\n",
       "    <tr>\n",
       "      <th>0</th>\n",
       "      <td>CL1KWCMY</td>\n",
       "      <td>Me &amp;amp; The Big Homie meanboy3000 #MEANBOY #M...</td>\n",
       "      <td>0.0</td>\n",
       "      <td>1.0</td>\n",
       "    </tr>\n",
       "    <tr>\n",
       "      <th>1</th>\n",
       "      <td>E3303EME</td>\n",
       "      <td>I'm 100% thinking of devoting my career to pro...</td>\n",
       "      <td>1.0</td>\n",
       "      <td>1.0</td>\n",
       "    </tr>\n",
       "    <tr>\n",
       "      <th>2</th>\n",
       "      <td>M4IVFSMS</td>\n",
       "      <td>#whatcausesautism VACCINES, DO NOT VACCINATE Y...</td>\n",
       "      <td>-1.0</td>\n",
       "      <td>1.0</td>\n",
       "    </tr>\n",
       "    <tr>\n",
       "      <th>3</th>\n",
       "      <td>1DR6ROZ4</td>\n",
       "      <td>I mean if they immunize my kid with something ...</td>\n",
       "      <td>-1.0</td>\n",
       "      <td>1.0</td>\n",
       "    </tr>\n",
       "    <tr>\n",
       "      <th>4</th>\n",
       "      <td>J77ENIIE</td>\n",
       "      <td>Thanks to &lt;user&gt; Catch me performing at La Nui...</td>\n",
       "      <td>0.0</td>\n",
       "      <td>1.0</td>\n",
       "    </tr>\n",
       "  </tbody>\n",
       "</table>\n",
       "</div>"
      ],
      "text/plain": [
       "   tweet_id                                          safe_text  label  \\\n",
       "0  CL1KWCMY  Me &amp; The Big Homie meanboy3000 #MEANBOY #M...    0.0   \n",
       "1  E3303EME  I'm 100% thinking of devoting my career to pro...    1.0   \n",
       "2  M4IVFSMS  #whatcausesautism VACCINES, DO NOT VACCINATE Y...   -1.0   \n",
       "3  1DR6ROZ4  I mean if they immunize my kid with something ...   -1.0   \n",
       "4  J77ENIIE  Thanks to <user> Catch me performing at La Nui...    0.0   \n",
       "\n",
       "   agreement  \n",
       "0        1.0  \n",
       "1        1.0  \n",
       "2        1.0  \n",
       "3        1.0  \n",
       "4        1.0  "
      ]
     },
     "execution_count": 2,
     "metadata": {},
     "output_type": "execute_result"
    }
   ],
   "source": [
    "# train data\n",
    "df_train = pd.read_csv('Train.csv')\n",
    "print(df_train.shape)\n",
    "df_train.head()"
   ]
  },
  {
   "cell_type": "code",
   "execution_count": 3,
   "id": "59fd84bc-98a6-45fa-abc8-ef5053ce1009",
   "metadata": {},
   "outputs": [
    {
     "name": "stdout",
     "output_type": "stream",
     "text": [
      "(5177, 2)\n"
     ]
    },
    {
     "data": {
      "text/html": [
       "<div>\n",
       "<style scoped>\n",
       "    .dataframe tbody tr th:only-of-type {\n",
       "        vertical-align: middle;\n",
       "    }\n",
       "\n",
       "    .dataframe tbody tr th {\n",
       "        vertical-align: top;\n",
       "    }\n",
       "\n",
       "    .dataframe thead th {\n",
       "        text-align: right;\n",
       "    }\n",
       "</style>\n",
       "<table border=\"1\" class=\"dataframe\">\n",
       "  <thead>\n",
       "    <tr style=\"text-align: right;\">\n",
       "      <th></th>\n",
       "      <th>tweet_id</th>\n",
       "      <th>safe_text</th>\n",
       "    </tr>\n",
       "  </thead>\n",
       "  <tbody>\n",
       "    <tr>\n",
       "      <th>0</th>\n",
       "      <td>00BHHHP1</td>\n",
       "      <td>&lt;user&gt; &lt;user&gt; ... &amp;amp; 4 a vaccine given 2 he...</td>\n",
       "    </tr>\n",
       "    <tr>\n",
       "      <th>1</th>\n",
       "      <td>00UNMD0E</td>\n",
       "      <td>Students starting school without whooping coug...</td>\n",
       "    </tr>\n",
       "    <tr>\n",
       "      <th>2</th>\n",
       "      <td>01AXPTJF</td>\n",
       "      <td>I'm kinda over every ep of &lt;user&gt; being \"rippe...</td>\n",
       "    </tr>\n",
       "    <tr>\n",
       "      <th>3</th>\n",
       "      <td>01HOEQJW</td>\n",
       "      <td>How many innocent children die for lack of vac...</td>\n",
       "    </tr>\n",
       "    <tr>\n",
       "      <th>4</th>\n",
       "      <td>01JUKMAO</td>\n",
       "      <td>CDC eyeing bird flu vaccine for humans, though...</td>\n",
       "    </tr>\n",
       "  </tbody>\n",
       "</table>\n",
       "</div>"
      ],
      "text/plain": [
       "   tweet_id                                          safe_text\n",
       "0  00BHHHP1  <user> <user> ... &amp; 4 a vaccine given 2 he...\n",
       "1  00UNMD0E  Students starting school without whooping coug...\n",
       "2  01AXPTJF  I'm kinda over every ep of <user> being \"rippe...\n",
       "3  01HOEQJW  How many innocent children die for lack of vac...\n",
       "4  01JUKMAO  CDC eyeing bird flu vaccine for humans, though..."
      ]
     },
     "execution_count": 3,
     "metadata": {},
     "output_type": "execute_result"
    }
   ],
   "source": [
    "# test data\n",
    "df_test = pd.read_csv('Test.csv')\n",
    "print(df_test.shape)\n",
    "df_test.head()"
   ]
  },
  {
   "cell_type": "markdown",
   "id": "3b915bff-9e79-4946-8737-5a4a4d1c04ac",
   "metadata": {},
   "source": [
    "### Characteristics"
   ]
  },
  {
   "cell_type": "code",
   "execution_count": 4,
   "id": "32441466-6ec0-4e0b-8ebb-5aa74e256147",
   "metadata": {},
   "outputs": [
    {
     "name": "stdout",
     "output_type": "stream",
     "text": [
      "<class 'pandas.core.frame.DataFrame'>\n",
      "RangeIndex: 5177 entries, 0 to 5176\n",
      "Data columns (total 2 columns):\n",
      " #   Column     Non-Null Count  Dtype \n",
      "---  ------     --------------  ----- \n",
      " 0   tweet_id   5177 non-null   object\n",
      " 1   safe_text  5176 non-null   object\n",
      "dtypes: object(2)\n",
      "memory usage: 81.0+ KB\n"
     ]
    }
   ],
   "source": [
    "# information \n",
    "df_test.info()"
   ]
  },
  {
   "cell_type": "code",
   "execution_count": 5,
   "id": "122d175f-459b-45e0-8621-83b8ae331b51",
   "metadata": {},
   "outputs": [
    {
     "data": {
      "text/plain": [
       "tweet_id     0\n",
       "safe_text    1\n",
       "dtype: int64"
      ]
     },
     "execution_count": 5,
     "metadata": {},
     "output_type": "execute_result"
    }
   ],
   "source": [
    "# check for missing values\n",
    "df_test.isnull().sum()"
   ]
  },
  {
   "cell_type": "code",
   "execution_count": 6,
   "id": "4af801f5-3b2b-4a58-8ce6-506680895747",
   "metadata": {},
   "outputs": [],
   "source": [
    "# fill the missing values"
   ]
  },
  {
   "cell_type": "markdown",
   "id": "884a65c4-e3e2-406e-9432-5b54d7d9fe91",
   "metadata": {},
   "source": [
    "##### train data"
   ]
  },
  {
   "cell_type": "code",
   "execution_count": 7,
   "id": "f6552f07-7e63-417a-8ef1-6a3b55838fa4",
   "metadata": {},
   "outputs": [
    {
     "name": "stdout",
     "output_type": "stream",
     "text": [
      "Column: label\n",
      "Mean round: 0\n",
      "Column: agreement\n",
      "Mean round: 1\n"
     ]
    }
   ],
   "source": [
    "# fill missing values\n",
    "# label and aggreement are floating numbers, use mean and round\n",
    "cols = ['label', 'agreement']\n",
    "for col in cols:\n",
    "    print(f'Column: {col}')\n",
    "    mean_rounded = round(df_train[col].mean())\n",
    "    print(f'Mean round: {mean_rounded}')\n",
    "    df_train[col].fillna(mean_rounded, inplace=True)"
   ]
  },
  {
   "cell_type": "code",
   "execution_count": 8,
   "id": "bd7c1e44-872b-4001-9e0a-d20c5962eecd",
   "metadata": {},
   "outputs": [
    {
     "name": "stdout",
     "output_type": "stream",
     "text": [
      "label\n",
      " 0    4909\n",
      " 1    4054\n",
      "-1    1038\n",
      "Name: count, dtype: int64\n"
     ]
    }
   ],
   "source": [
    "# there are some inconsistencies, label values should either be 1, 0, -1\n",
    "\n",
    "# Check the values in the target variable and handle any inconsistencies\n",
    "df_train['label'] = df_train['label'].round().astype(int)\n",
    "\n",
    "# Verify the counts of the target variable after handling inconsistencies\n",
    "label_counts = df_train['label'].value_counts()\n",
    "print(label_counts)"
   ]
  },
  {
   "cell_type": "markdown",
   "id": "f85072a6-2e58-4936-9446-0b9bfc2c5ea9",
   "metadata": {},
   "source": [
    "#### Further preprocessing"
   ]
  },
  {
   "cell_type": "markdown",
   "id": "90ed9c42-3344-4938-b736-376b9888b23c",
   "metadata": {},
   "source": [
    "##### Handle texts"
   ]
  },
  {
   "cell_type": "code",
   "execution_count": 9,
   "id": "a97a7991-c5e9-476b-8d58-6b9c6277be47",
   "metadata": {},
   "outputs": [],
   "source": [
    "# importing libraries for text preprocessing\n",
    "import nltk\n",
    "from nltk.corpus import stopwords\n",
    "from nltk.tokenize import word_tokenize\n",
    "from nltk.stem import WordNetLemmatizer\n",
    "import string"
   ]
  },
  {
   "cell_type": "code",
   "execution_count": 10,
   "id": "a7793268-af94-47e8-b0de-bc00feb937ad",
   "metadata": {
    "scrolled": true
   },
   "outputs": [],
   "source": [
    "# downloading nltk resources\n",
    "#nltk.download('punkt')\n",
    "#nltk.download('stopwords')\n",
    "#nltk.download('wordnet')"
   ]
  },
  {
   "cell_type": "code",
   "execution_count": 11,
   "id": "c9821755-e23a-4fe5-8297-deba3e376c73",
   "metadata": {},
   "outputs": [],
   "source": [
    "# initialize wordnet lemmatizer\n",
    "lemmatizer = WordNetLemmatizer()"
   ]
  },
  {
   "cell_type": "code",
   "execution_count": 12,
   "id": "8976bc71-267e-47bb-9ceb-48376fbacb39",
   "metadata": {},
   "outputs": [
    {
     "name": "stdout",
     "output_type": "stream",
     "text": [
      "Original Text:\n",
      "This is an example sentence for text preprocessing, including tokenization, lowercasing, stop word removal, and lemmatization.\n",
      "\n",
      "Preprocessed Text:\n",
      "example sentence text preprocessing including tokenization lowercasing stop word removal lemmatization\n"
     ]
    }
   ],
   "source": [
    "# Tokenization, lowercasing, removal of stop words, and lemmatization\n",
    "# function to preprocess texts\n",
    "def preprocess_text(text):\n",
    "    # tokenization\n",
    "    tokens = word_tokenize(text)\n",
    "\n",
    "    # lowercasing\n",
    "    tokens = [token.lower() for token in tokens]\n",
    "\n",
    "    # removal of punctuation\n",
    "    tokens = [token for token in tokens if token not in string.punctuation]\n",
    "\n",
    "    # removal of stop words\n",
    "    stop_words = set(stopwords.words('english'))\n",
    "    tokens = [token for token in tokens if token not in stop_words]\n",
    "\n",
    "    # lemmatization\n",
    "    tokens = [lemmatizer.lemmatize(token) for token in tokens]\n",
    "\n",
    "    # join tokens back into a single string\n",
    "    preprocessed_text = ' '.join(tokens)\n",
    "\n",
    "    return preprocessed_text\n",
    "\n",
    "# Example text\n",
    "text = \"This is an example sentence for text preprocessing, including tokenization, lowercasing, stop word removal, and lemmatization.\"\n",
    "\n",
    "# Preprocess the example text\n",
    "preprocessed_text = preprocess_text(text)\n",
    "print(\"Original Text:\")\n",
    "print(text)\n",
    "print(\"\\nPreprocessed Text:\")\n",
    "print(preprocessed_text)"
   ]
  },
  {
   "cell_type": "code",
   "execution_count": 13,
   "id": "97b45a82-24f2-4019-9d06-b84438f5e49d",
   "metadata": {},
   "outputs": [],
   "source": [
    "# preprocess texts in 'safe_text' column in train data\n",
    "df_train['safe_text'] = df_train['safe_text'].apply(preprocess_text)"
   ]
  },
  {
   "cell_type": "code",
   "execution_count": 14,
   "id": "18a5100a-c8b0-4f1f-8c3b-f390435054ec",
   "metadata": {},
   "outputs": [],
   "source": [
    "# Convert 'safe_text' column to strings\n",
    "df_test['safe_text'] = df_test['safe_text'].astype(str)\n",
    "\n",
    "# preprocess texts in 'safe_text' column in test_data\n",
    "df_test['safe_text'] = df_test['safe_text'].apply(preprocess_text)"
   ]
  },
  {
   "cell_type": "code",
   "execution_count": 16,
   "id": "17b2123e-ea7e-4900-9e69-7d9958d931a6",
   "metadata": {},
   "outputs": [],
   "source": [
    "from sklearn.model_selection import train_test_split\n",
    "from sklearn.ensemble import RandomForestClassifier\n",
    "from sklearn.metrics import accuracy_score, classification_report, confusion_matrix\n",
    "from sklearn.feature_selection import SelectKBest, f_classif\n",
    "from sklearn.feature_extraction.text import TfidfVectorizer\n",
    "from sklearn.model_selection import learning_curve"
   ]
  },
  {
   "cell_type": "code",
   "execution_count": 17,
   "id": "34f113db-8eb4-4e27-a46a-8ed86fda8a7d",
   "metadata": {},
   "outputs": [],
   "source": [
    "import optuna"
   ]
  },
  {
   "cell_type": "code",
   "execution_count": 18,
   "id": "46d211bd-a0c6-44a4-9a2e-f88bf7d2d5bd",
   "metadata": {},
   "outputs": [],
   "source": [
    "# TF-IDF Vectorization\n",
    "vectorizer = TfidfVectorizer(max_features=5000)\n",
    "X_train_text = vectorizer.fit_transform(df_train['safe_text'])\n",
    "X_test_text = vectorizer.transform(df_test['safe_text'])"
   ]
  },
  {
   "cell_type": "code",
   "execution_count": 19,
   "id": "5775873d-7042-43a9-95ab-d38cc9cba4c1",
   "metadata": {},
   "outputs": [],
   "source": [
    "# Combine text features with selected numerical features\n",
    "X_train_num = df_train.drop(columns=['label', 'agreement', 'tweet_id'])\n",
    "X_test_num = df_test.drop(columns=['tweet_id'])\n",
    "X_train = pd.concat([X_train_num, pd.DataFrame(X_train_text.toarray(), columns=vectorizer.get_feature_names_out())], axis=1)\n",
    "X_test = pd.concat([X_test_num, pd.DataFrame(X_test_text.toarray(), columns=vectorizer.get_feature_names_out())], axis=1)"
   ]
  },
  {
   "cell_type": "code",
   "execution_count": 20,
   "id": "e9433aab-22ff-4172-9067-955e114ed8e6",
   "metadata": {},
   "outputs": [],
   "source": [
    "# Remove non-numeric columns before feature selection\n",
    "X_train_numeric = X_train.select_dtypes(include=['float64'])\n",
    "X_test_numeric = X_test.select_dtypes(include=['float64'])\n",
    "\n",
    "# Feature Selection\n",
    "selector = SelectKBest(score_func=f_classif, k=23)\n",
    "X_train_selected = selector.fit_transform(X_train_numeric, df_train['label'])\n",
    "X_test_selected = selector.transform(X_test_numeric)"
   ]
  },
  {
   "cell_type": "code",
   "execution_count": 21,
   "id": "c490ea8d-e4ee-4a0b-ab5b-089eb33b16a9",
   "metadata": {},
   "outputs": [],
   "source": [
    "# Split data into training and testing sets\n",
    "X_train_final, X_val, y_train_final, y_val = train_test_split(X_train_selected, df_train['label'], test_size=0.2, random_state=42)"
   ]
  },
  {
   "cell_type": "code",
   "execution_count": 22,
   "id": "e4b64ff7-baba-471f-a882-eaeeb3f24629",
   "metadata": {},
   "outputs": [],
   "source": [
    "# handle imbalanced data\n",
    "from imblearn.over_sampling import RandomOverSampler\n",
    "from imblearn.under_sampling import RandomUnderSampler"
   ]
  },
  {
   "cell_type": "code",
   "execution_count": 23,
   "id": "d7f7f2f0-3ea2-49fa-adc1-f87e9196bd09",
   "metadata": {},
   "outputs": [],
   "source": [
    "# Handle class imbalance\n",
    "oversampler = RandomOverSampler(sampling_strategy='auto', random_state=42)\n",
    "X_train_resampled, y_train_resampled = oversampler.fit_resample(X_train_final, y_train_final)"
   ]
  },
  {
   "cell_type": "code",
   "execution_count": 24,
   "id": "9fb67e78-908a-4689-af0e-0c3dbf87af58",
   "metadata": {},
   "outputs": [],
   "source": [
    "# Define objective function for Optuna\n",
    "def objective(trial):\n",
    "    # Define hyperparameters to optimize\n",
    "    params = {\n",
    "        'n_estimators': trial.suggest_int('n_estimators', 100, 1000),\n",
    "        'max_depth': trial.suggest_int('max_depth', 2, 32, log=True),\n",
    "        'min_samples_split': trial.suggest_int('min_samples_split', 2, 20),\n",
    "        'min_samples_leaf': trial.suggest_int('min_samples_leaf', 1, 10),\n",
    "        'max_features': trial.suggest_categorical('max_features', ['auto', 'sqrt', 'log2'])\n",
    "    }\n",
    "    \n",
    "    # Initialize Random Forest Classifier with the suggested hyperparameters\n",
    "    rf_model = RandomForestClassifier(**params, random_state=42)\n",
    "    rf_model.fit(X_train_resampled, y_train_resampled)\n",
    "    \n",
    "    # Evaluate the model\n",
    "    y_pred_val = rf_model.predict(X_val)\n",
    "    accuracy = accuracy_score(y_val, y_pred_val)\n",
    "    return accuracy"
   ]
  },
  {
   "cell_type": "code",
   "execution_count": 35,
   "id": "b72b51e0-48cd-469f-b96a-ab5a6db2ff15",
   "metadata": {},
   "outputs": [
    {
     "name": "stderr",
     "output_type": "stream",
     "text": [
      "[I 2024-03-23 17:45:43,340] A new study created in memory with name: no-name-38f5d2a5-10e1-4c4a-876d-0851facc1f87\n",
      "[I 2024-03-23 17:45:47,821] Trial 0 finished with value: 0.6186906546726637 and parameters: {'n_estimators': 292, 'max_depth': 8, 'min_samples_split': 4, 'min_samples_leaf': 5, 'max_features': 'auto'}. Best is trial 0 with value: 0.6186906546726637.\n",
      "[I 2024-03-23 17:46:02,880] Trial 1 finished with value: 0.6256871564217891 and parameters: {'n_estimators': 696, 'max_depth': 20, 'min_samples_split': 16, 'min_samples_leaf': 6, 'max_features': 'log2'}. Best is trial 1 with value: 0.6256871564217891.\n",
      "[I 2024-03-23 17:46:06,941] Trial 2 finished with value: 0.5957021489255372 and parameters: {'n_estimators': 437, 'max_depth': 2, 'min_samples_split': 20, 'min_samples_leaf': 6, 'max_features': 'sqrt'}. Best is trial 1 with value: 0.6256871564217891.\n",
      "[I 2024-03-23 17:46:09,952] Trial 3 finished with value: 0.6241879060469765 and parameters: {'n_estimators': 148, 'max_depth': 27, 'min_samples_split': 3, 'min_samples_leaf': 8, 'max_features': 'log2'}. Best is trial 1 with value: 0.6256871564217891.\n",
      "[I 2024-03-23 17:46:16,371] Trial 4 finished with value: 0.617191404297851 and parameters: {'n_estimators': 550, 'max_depth': 3, 'min_samples_split': 7, 'min_samples_leaf': 4, 'max_features': 'log2'}. Best is trial 1 with value: 0.6256871564217891.\n",
      "[I 2024-03-23 17:46:27,051] Trial 5 finished with value: 0.6261869065467266 and parameters: {'n_estimators': 509, 'max_depth': 17, 'min_samples_split': 11, 'min_samples_leaf': 7, 'max_features': 'sqrt'}. Best is trial 5 with value: 0.6261869065467266.\n",
      "[I 2024-03-23 17:46:38,085] Trial 6 finished with value: 0.6211894052973513 and parameters: {'n_estimators': 769, 'max_depth': 6, 'min_samples_split': 14, 'min_samples_leaf': 5, 'max_features': 'sqrt'}. Best is trial 5 with value: 0.6261869065467266.\n",
      "[I 2024-03-23 17:46:49,981] Trial 7 finished with value: 0.624687656171914 and parameters: {'n_estimators': 542, 'max_depth': 27, 'min_samples_split': 4, 'min_samples_leaf': 6, 'max_features': 'sqrt'}. Best is trial 5 with value: 0.6261869065467266.\n",
      "[I 2024-03-23 17:46:53,916] Trial 8 finished with value: 0.6231884057971014 and parameters: {'n_estimators': 279, 'max_depth': 4, 'min_samples_split': 20, 'min_samples_leaf': 1, 'max_features': 'sqrt'}. Best is trial 5 with value: 0.6261869065467266.\n",
      "[I 2024-03-23 17:47:04,587] Trial 9 finished with value: 0.6231884057971014 and parameters: {'n_estimators': 550, 'max_depth': 17, 'min_samples_split': 15, 'min_samples_leaf': 7, 'max_features': 'sqrt'}. Best is trial 5 with value: 0.6261869065467266.\n",
      "[I 2024-03-23 17:47:20,231] Trial 10 finished with value: 0.6226886556721639 and parameters: {'n_estimators': 966, 'max_depth': 11, 'min_samples_split': 10, 'min_samples_leaf': 10, 'max_features': 'auto'}. Best is trial 5 with value: 0.6261869065467266.\n",
      "[I 2024-03-23 17:47:36,080] Trial 11 finished with value: 0.6266866566716641 and parameters: {'n_estimators': 746, 'max_depth': 14, 'min_samples_split': 14, 'min_samples_leaf': 9, 'max_features': 'log2'}. Best is trial 11 with value: 0.6266866566716641.\n",
      "[I 2024-03-23 17:47:50,233] Trial 12 finished with value: 0.6231884057971014 and parameters: {'n_estimators': 770, 'max_depth': 12, 'min_samples_split': 11, 'min_samples_leaf': 10, 'max_features': 'log2'}. Best is trial 11 with value: 0.6266866566716641.\n",
      "[I 2024-03-23 17:48:07,836] Trial 13 finished with value: 0.6256871564217891 and parameters: {'n_estimators': 985, 'max_depth': 13, 'min_samples_split': 8, 'min_samples_leaf': 8, 'max_features': 'log2'}. Best is trial 11 with value: 0.6266866566716641.\n",
      "[I 2024-03-23 17:48:19,535] Trial 14 finished with value: 0.6226886556721639 and parameters: {'n_estimators': 758, 'max_depth': 7, 'min_samples_split': 12, 'min_samples_leaf': 9, 'max_features': 'auto'}. Best is trial 11 with value: 0.6266866566716641.\n",
      "[I 2024-03-23 17:48:34,320] Trial 15 finished with value: 0.6251874062968515 and parameters: {'n_estimators': 679, 'max_depth': 18, 'min_samples_split': 17, 'min_samples_leaf': 3, 'max_features': 'sqrt'}. Best is trial 11 with value: 0.6266866566716641.\n",
      "[I 2024-03-23 17:48:41,415] Trial 16 finished with value: 0.6206896551724138 and parameters: {'n_estimators': 411, 'max_depth': 9, 'min_samples_split': 13, 'min_samples_leaf': 8, 'max_features': 'log2'}. Best is trial 11 with value: 0.6266866566716641.\n",
      "[I 2024-03-23 17:48:58,380] Trial 17 finished with value: 0.6256871564217891 and parameters: {'n_estimators': 874, 'max_depth': 32, 'min_samples_split': 10, 'min_samples_leaf': 9, 'max_features': 'log2'}. Best is trial 11 with value: 0.6266866566716641.\n",
      "[I 2024-03-23 17:49:09,982] Trial 18 finished with value: 0.617191404297851 and parameters: {'n_estimators': 634, 'max_depth': 5, 'min_samples_split': 6, 'min_samples_leaf': 7, 'max_features': 'sqrt'}. Best is trial 11 with value: 0.6266866566716641.\n",
      "[I 2024-03-23 17:49:21,305] Trial 19 finished with value: 0.6271864067966016 and parameters: {'n_estimators': 440, 'max_depth': 14, 'min_samples_split': 18, 'min_samples_leaf': 9, 'max_features': 'auto'}. Best is trial 19 with value: 0.6271864067966016.\n",
      "[I 2024-03-23 17:49:27,655] Trial 20 finished with value: 0.6186906546726637 and parameters: {'n_estimators': 386, 'max_depth': 10, 'min_samples_split': 18, 'min_samples_leaf': 9, 'max_features': 'auto'}. Best is trial 19 with value: 0.6271864067966016.\n",
      "[I 2024-03-23 17:49:36,817] Trial 21 finished with value: 0.6256871564217891 and parameters: {'n_estimators': 480, 'max_depth': 15, 'min_samples_split': 18, 'min_samples_leaf': 10, 'max_features': 'auto'}. Best is trial 19 with value: 0.6271864067966016.\n",
      "[I 2024-03-23 17:49:43,040] Trial 22 finished with value: 0.6301849075462269 and parameters: {'n_estimators': 334, 'max_depth': 20, 'min_samples_split': 14, 'min_samples_leaf': 7, 'max_features': 'auto'}. Best is trial 22 with value: 0.6301849075462269.\n",
      "[I 2024-03-23 17:49:49,010] Trial 23 finished with value: 0.6256871564217891 and parameters: {'n_estimators': 300, 'max_depth': 22, 'min_samples_split': 15, 'min_samples_leaf': 8, 'max_features': 'auto'}. Best is trial 22 with value: 0.6301849075462269.\n",
      "[I 2024-03-23 17:49:52,647] Trial 24 finished with value: 0.6261869065467266 and parameters: {'n_estimators': 121, 'max_depth': 14, 'min_samples_split': 13, 'min_samples_leaf': 9, 'max_features': 'auto'}. Best is trial 22 with value: 0.6301849075462269.\n",
      "[I 2024-03-23 17:49:56,692] Trial 25 finished with value: 0.623688155922039 and parameters: {'n_estimators': 196, 'max_depth': 25, 'min_samples_split': 18, 'min_samples_leaf': 7, 'max_features': 'auto'}. Best is trial 22 with value: 0.6301849075462269.\n",
      "[I 2024-03-23 17:50:02,993] Trial 26 finished with value: 0.6256871564217891 and parameters: {'n_estimators': 354, 'max_depth': 21, 'min_samples_split': 16, 'min_samples_leaf': 9, 'max_features': 'auto'}. Best is trial 22 with value: 0.6301849075462269.\n",
      "[I 2024-03-23 17:50:13,916] Trial 27 finished with value: 0.6191904047976012 and parameters: {'n_estimators': 609, 'max_depth': 10, 'min_samples_split': 13, 'min_samples_leaf': 10, 'max_features': 'auto'}. Best is trial 22 with value: 0.6301849075462269.\n",
      "[I 2024-03-23 17:50:19,284] Trial 28 finished with value: 0.6241879060469765 and parameters: {'n_estimators': 219, 'max_depth': 32, 'min_samples_split': 19, 'min_samples_leaf': 8, 'max_features': 'auto'}. Best is trial 22 with value: 0.6301849075462269.\n",
      "[I 2024-03-23 17:50:25,023] Trial 29 finished with value: 0.624687656171914 and parameters: {'n_estimators': 317, 'max_depth': 7, 'min_samples_split': 15, 'min_samples_leaf': 4, 'max_features': 'auto'}. Best is trial 22 with value: 0.6301849075462269.\n",
      "[I 2024-03-23 17:50:40,605] Trial 30 finished with value: 0.6206896551724138 and parameters: {'n_estimators': 868, 'max_depth': 8, 'min_samples_split': 17, 'min_samples_leaf': 1, 'max_features': 'log2'}. Best is trial 22 with value: 0.6301849075462269.\n",
      "[I 2024-03-23 17:50:49,663] Trial 31 finished with value: 0.6241879060469765 and parameters: {'n_estimators': 476, 'max_depth': 16, 'min_samples_split': 9, 'min_samples_leaf': 7, 'max_features': 'sqrt'}. Best is trial 22 with value: 0.6301849075462269.\n",
      "[I 2024-03-23 17:50:58,530] Trial 32 finished with value: 0.6251874062968515 and parameters: {'n_estimators': 473, 'max_depth': 20, 'min_samples_split': 12, 'min_samples_leaf': 6, 'max_features': 'auto'}. Best is trial 22 with value: 0.6301849075462269.\n",
      "[I 2024-03-23 17:51:09,842] Trial 33 finished with value: 0.6261869065467266 and parameters: {'n_estimators': 616, 'max_depth': 13, 'min_samples_split': 14, 'min_samples_leaf': 7, 'max_features': 'log2'}. Best is trial 22 with value: 0.6301849075462269.\n",
      "[I 2024-03-23 17:51:21,133] Trial 34 finished with value: 0.624687656171914 and parameters: {'n_estimators': 353, 'max_depth': 18, 'min_samples_split': 11, 'min_samples_leaf': 6, 'max_features': 'sqrt'}. Best is trial 22 with value: 0.6301849075462269.\n",
      "[I 2024-03-23 17:51:25,799] Trial 35 finished with value: 0.5942028985507246 and parameters: {'n_estimators': 248, 'max_depth': 2, 'min_samples_split': 16, 'min_samples_leaf': 8, 'max_features': 'log2'}. Best is trial 22 with value: 0.6301849075462269.\n",
      "[I 2024-03-23 17:51:36,414] Trial 36 finished with value: 0.6276861569215393 and parameters: {'n_estimators': 447, 'max_depth': 24, 'min_samples_split': 14, 'min_samples_leaf': 5, 'max_features': 'auto'}. Best is trial 22 with value: 0.6301849075462269.\n",
      "[I 2024-03-23 17:51:45,525] Trial 37 finished with value: 0.6266866566716641 and parameters: {'n_estimators': 447, 'max_depth': 23, 'min_samples_split': 14, 'min_samples_leaf': 4, 'max_features': 'auto'}. Best is trial 22 with value: 0.6301849075462269.\n",
      "[I 2024-03-23 17:51:54,235] Trial 38 finished with value: 0.6286856571714143 and parameters: {'n_estimators': 415, 'max_depth': 26, 'min_samples_split': 16, 'min_samples_leaf': 5, 'max_features': 'auto'}. Best is trial 22 with value: 0.6301849075462269.\n",
      "[I 2024-03-23 17:52:01,879] Trial 39 finished with value: 0.6301849075462269 and parameters: {'n_estimators': 387, 'max_depth': 29, 'min_samples_split': 20, 'min_samples_leaf': 5, 'max_features': 'auto'}. Best is trial 22 with value: 0.6301849075462269.\n",
      "[I 2024-03-23 17:52:09,175] Trial 40 finished with value: 0.6301849075462269 and parameters: {'n_estimators': 372, 'max_depth': 28, 'min_samples_split': 20, 'min_samples_leaf': 5, 'max_features': 'auto'}. Best is trial 22 with value: 0.6301849075462269.\n",
      "[I 2024-03-23 17:52:16,934] Trial 41 finished with value: 0.6291854072963519 and parameters: {'n_estimators': 391, 'max_depth': 26, 'min_samples_split': 20, 'min_samples_leaf': 5, 'max_features': 'auto'}. Best is trial 22 with value: 0.6301849075462269.\n",
      "[I 2024-03-23 17:52:24,808] Trial 42 finished with value: 0.6266866566716641 and parameters: {'n_estimators': 367, 'max_depth': 28, 'min_samples_split': 20, 'min_samples_leaf': 4, 'max_features': 'auto'}. Best is trial 22 with value: 0.6301849075462269.\n",
      "[I 2024-03-23 17:52:31,854] Trial 43 finished with value: 0.624687656171914 and parameters: {'n_estimators': 322, 'max_depth': 29, 'min_samples_split': 19, 'min_samples_leaf': 3, 'max_features': 'auto'}. Best is trial 22 with value: 0.6301849075462269.\n",
      "[I 2024-03-23 17:52:34,540] Trial 44 finished with value: 0.6111944027986007 and parameters: {'n_estimators': 266, 'max_depth': 3, 'min_samples_split': 19, 'min_samples_leaf': 5, 'max_features': 'auto'}. Best is trial 22 with value: 0.6301849075462269.\n",
      "[I 2024-03-23 17:52:41,688] Trial 45 finished with value: 0.624687656171914 and parameters: {'n_estimators': 402, 'max_depth': 26, 'min_samples_split': 20, 'min_samples_leaf': 3, 'max_features': 'auto'}. Best is trial 22 with value: 0.6301849075462269.\n",
      "[I 2024-03-23 17:52:50,844] Trial 46 finished with value: 0.6291854072963519 and parameters: {'n_estimators': 517, 'max_depth': 20, 'min_samples_split': 17, 'min_samples_leaf': 5, 'max_features': 'auto'}. Best is trial 22 with value: 0.6301849075462269.\n",
      "[I 2024-03-23 17:52:56,058] Trial 47 finished with value: 0.6271864067966016 and parameters: {'n_estimators': 553, 'max_depth': 19, 'min_samples_split': 20, 'min_samples_leaf': 4, 'max_features': 'auto'}. Best is trial 22 with value: 0.6301849075462269.\n",
      "[I 2024-03-23 17:52:59,981] Trial 48 finished with value: 0.6276861569215393 and parameters: {'n_estimators': 527, 'max_depth': 32, 'min_samples_split': 17, 'min_samples_leaf': 6, 'max_features': 'auto'}. Best is trial 22 with value: 0.6301849075462269.\n",
      "[I 2024-03-23 17:53:01,456] Trial 49 finished with value: 0.6276861569215393 and parameters: {'n_estimators': 189, 'max_depth': 21, 'min_samples_split': 19, 'min_samples_leaf': 5, 'max_features': 'auto'}. Best is trial 22 with value: 0.6301849075462269.\n",
      "[I 2024-03-23 17:53:05,690] Trial 50 finished with value: 0.6251874062968515 and parameters: {'n_estimators': 573, 'max_depth': 17, 'min_samples_split': 2, 'min_samples_leaf': 6, 'max_features': 'auto'}. Best is trial 22 with value: 0.6301849075462269.\n",
      "[I 2024-03-23 17:53:08,866] Trial 51 finished with value: 0.6286856571714143 and parameters: {'n_estimators': 408, 'max_depth': 28, 'min_samples_split': 17, 'min_samples_leaf': 5, 'max_features': 'auto'}. Best is trial 22 with value: 0.6301849075462269.\n",
      "[I 2024-03-23 17:53:12,657] Trial 52 finished with value: 0.6266866566716641 and parameters: {'n_estimators': 497, 'max_depth': 24, 'min_samples_split': 19, 'min_samples_leaf': 5, 'max_features': 'auto'}. Best is trial 22 with value: 0.6301849075462269.\n",
      "[I 2024-03-23 17:53:15,343] Trial 53 finished with value: 0.6281859070464768 and parameters: {'n_estimators': 324, 'max_depth': 29, 'min_samples_split': 16, 'min_samples_leaf': 5, 'max_features': 'auto'}. Best is trial 22 with value: 0.6301849075462269.\n",
      "[I 2024-03-23 17:53:21,456] Trial 54 finished with value: 0.6281859070464768 and parameters: {'n_estimators': 371, 'max_depth': 25, 'min_samples_split': 18, 'min_samples_leaf': 6, 'max_features': 'auto'}. Best is trial 22 with value: 0.6301849075462269.\n",
      "[I 2024-03-23 17:53:24,906] Trial 55 finished with value: 0.6251874062968515 and parameters: {'n_estimators': 433, 'max_depth': 20, 'min_samples_split': 20, 'min_samples_leaf': 4, 'max_features': 'auto'}. Best is trial 22 with value: 0.6301849075462269.\n",
      "[I 2024-03-23 17:53:29,208] Trial 56 finished with value: 0.6271864067966016 and parameters: {'n_estimators': 512, 'max_depth': 22, 'min_samples_split': 16, 'min_samples_leaf': 3, 'max_features': 'auto'}. Best is trial 22 with value: 0.6301849075462269.\n",
      "[I 2024-03-23 17:53:31,022] Trial 57 finished with value: 0.6266866566716641 and parameters: {'n_estimators': 244, 'max_depth': 32, 'min_samples_split': 15, 'min_samples_leaf': 6, 'max_features': 'auto'}. Best is trial 22 with value: 0.6301849075462269.\n",
      "[I 2024-03-23 17:53:33,247] Trial 58 finished with value: 0.6291854072963519 and parameters: {'n_estimators': 286, 'max_depth': 26, 'min_samples_split': 18, 'min_samples_leaf': 5, 'max_features': 'auto'}. Best is trial 22 with value: 0.6301849075462269.\n",
      "[I 2024-03-23 17:53:35,448] Trial 59 finished with value: 0.6271864067966016 and parameters: {'n_estimators': 281, 'max_depth': 16, 'min_samples_split': 20, 'min_samples_leaf': 4, 'max_features': 'auto'}. Best is trial 22 with value: 0.6301849075462269.\n",
      "[I 2024-03-23 17:53:36,245] Trial 60 finished with value: 0.6191904047976012 and parameters: {'n_estimators': 159, 'max_depth': 5, 'min_samples_split': 18, 'min_samples_leaf': 2, 'max_features': 'auto'}. Best is trial 22 with value: 0.6301849075462269.\n",
      "[I 2024-03-23 17:53:38,915] Trial 61 finished with value: 0.6286856571714143 and parameters: {'n_estimators': 343, 'max_depth': 28, 'min_samples_split': 17, 'min_samples_leaf': 5, 'max_features': 'auto'}. Best is trial 22 with value: 0.6301849075462269.\n",
      "[I 2024-03-23 17:53:44,748] Trial 62 finished with value: 0.6286856571714143 and parameters: {'n_estimators': 390, 'max_depth': 23, 'min_samples_split': 19, 'min_samples_leaf': 5, 'max_features': 'auto'}. Best is trial 22 with value: 0.6301849075462269.\n",
      "[I 2024-03-23 17:53:47,414] Trial 63 finished with value: 0.6261869065467266 and parameters: {'n_estimators': 296, 'max_depth': 19, 'min_samples_split': 18, 'min_samples_leaf': 4, 'max_features': 'auto'}. Best is trial 22 with value: 0.6301849075462269.\n",
      "[I 2024-03-23 17:53:50,723] Trial 64 finished with value: 0.6281859070464768 and parameters: {'n_estimators': 422, 'max_depth': 26, 'min_samples_split': 17, 'min_samples_leaf': 5, 'max_features': 'auto'}. Best is trial 22 with value: 0.6301849075462269.\n",
      "[I 2024-03-23 17:53:54,498] Trial 65 finished with value: 0.6261869065467266 and parameters: {'n_estimators': 470, 'max_depth': 30, 'min_samples_split': 19, 'min_samples_leaf': 6, 'max_features': 'auto'}. Best is trial 22 with value: 0.6301849075462269.\n",
      "[I 2024-03-23 17:53:57,481] Trial 66 finished with value: 0.631184407796102 and parameters: {'n_estimators': 337, 'max_depth': 26, 'min_samples_split': 20, 'min_samples_leaf': 5, 'max_features': 'sqrt'}. Best is trial 66 with value: 0.631184407796102.\n",
      "[I 2024-03-23 17:53:59,240] Trial 67 finished with value: 0.6271864067966016 and parameters: {'n_estimators': 220, 'max_depth': 22, 'min_samples_split': 20, 'min_samples_leaf': 4, 'max_features': 'sqrt'}. Best is trial 66 with value: 0.631184407796102.\n",
      "[I 2024-03-23 17:54:01,683] Trial 68 finished with value: 0.624687656171914 and parameters: {'n_estimators': 338, 'max_depth': 15, 'min_samples_split': 20, 'min_samples_leaf': 6, 'max_features': 'sqrt'}. Best is trial 66 with value: 0.631184407796102.\n",
      "[I 2024-03-23 17:54:03,878] Trial 69 finished with value: 0.6271864067966016 and parameters: {'n_estimators': 303, 'max_depth': 18, 'min_samples_split': 5, 'min_samples_leaf': 7, 'max_features': 'sqrt'}. Best is trial 66 with value: 0.631184407796102.\n",
      "[I 2024-03-23 17:54:06,509] Trial 70 finished with value: 0.6261869065467266 and parameters: {'n_estimators': 376, 'max_depth': 12, 'min_samples_split': 18, 'min_samples_leaf': 5, 'max_features': 'sqrt'}. Best is trial 66 with value: 0.631184407796102.\n",
      "[I 2024-03-23 17:54:08,598] Trial 71 finished with value: 0.6281859070464768 and parameters: {'n_estimators': 270, 'max_depth': 26, 'min_samples_split': 19, 'min_samples_leaf': 5, 'max_features': 'sqrt'}. Best is trial 66 with value: 0.631184407796102.\n",
      "[I 2024-03-23 17:54:11,603] Trial 72 finished with value: 0.6301849075462269 and parameters: {'n_estimators': 393, 'max_depth': 24, 'min_samples_split': 18, 'min_samples_leaf': 5, 'max_features': 'auto'}. Best is trial 66 with value: 0.631184407796102.\n",
      "[I 2024-03-23 17:54:14,182] Trial 73 finished with value: 0.6271864067966016 and parameters: {'n_estimators': 346, 'max_depth': 20, 'min_samples_split': 18, 'min_samples_leaf': 6, 'max_features': 'auto'}. Best is trial 66 with value: 0.631184407796102.\n",
      "[I 2024-03-23 17:54:19,916] Trial 74 finished with value: 0.6276861569215393 and parameters: {'n_estimators': 386, 'max_depth': 24, 'min_samples_split': 19, 'min_samples_leaf': 4, 'max_features': 'sqrt'}. Best is trial 66 with value: 0.631184407796102.\n",
      "[I 2024-03-23 17:54:22,735] Trial 75 finished with value: 0.6306846576711644 and parameters: {'n_estimators': 317, 'max_depth': 30, 'min_samples_split': 20, 'min_samples_leaf': 5, 'max_features': 'log2'}. Best is trial 66 with value: 0.631184407796102.\n",
      "[I 2024-03-23 17:54:24,543] Trial 76 finished with value: 0.6266866566716641 and parameters: {'n_estimators': 242, 'max_depth': 31, 'min_samples_split': 20, 'min_samples_leaf': 6, 'max_features': 'log2'}. Best is trial 66 with value: 0.631184407796102.\n",
      "[I 2024-03-23 17:54:27,212] Trial 77 finished with value: 0.5982008995502249 and parameters: {'n_estimators': 692, 'max_depth': 3, 'min_samples_split': 20, 'min_samples_leaf': 4, 'max_features': 'log2'}. Best is trial 66 with value: 0.631184407796102.\n",
      "[I 2024-03-23 17:54:30,647] Trial 78 finished with value: 0.6276861569215393 and parameters: {'n_estimators': 448, 'max_depth': 29, 'min_samples_split': 19, 'min_samples_leaf': 5, 'max_features': 'log2'}. Best is trial 66 with value: 0.631184407796102.\n",
      "[I 2024-03-23 17:54:32,985] Trial 79 finished with value: 0.6286856571714143 and parameters: {'n_estimators': 310, 'max_depth': 22, 'min_samples_split': 19, 'min_samples_leaf': 7, 'max_features': 'log2'}. Best is trial 66 with value: 0.631184407796102.\n",
      "[I 2024-03-23 17:54:38,329] Trial 80 finished with value: 0.6281859070464768 and parameters: {'n_estimators': 654, 'max_depth': 24, 'min_samples_split': 20, 'min_samples_leaf': 5, 'max_features': 'log2'}. Best is trial 66 with value: 0.631184407796102.\n",
      "[I 2024-03-23 17:54:41,165] Trial 81 finished with value: 0.6286856571714143 and parameters: {'n_estimators': 362, 'max_depth': 27, 'min_samples_split': 17, 'min_samples_leaf': 5, 'max_features': 'auto'}. Best is trial 66 with value: 0.631184407796102.\n",
      "[I 2024-03-23 17:54:43,621] Trial 82 finished with value: 0.6266866566716641 and parameters: {'n_estimators': 330, 'max_depth': 30, 'min_samples_split': 18, 'min_samples_leaf': 6, 'max_features': 'auto'}. Best is trial 66 with value: 0.631184407796102.\n",
      "[I 2024-03-23 17:54:46,777] Trial 83 finished with value: 0.6291854072963519 and parameters: {'n_estimators': 402, 'max_depth': 27, 'min_samples_split': 20, 'min_samples_leaf': 5, 'max_features': 'auto'}. Best is trial 66 with value: 0.631184407796102.\n",
      "[I 2024-03-23 17:54:51,491] Trial 84 finished with value: 0.6256871564217891 and parameters: {'n_estimators': 288, 'max_depth': 21, 'min_samples_split': 19, 'min_samples_leaf': 4, 'max_features': 'auto'}. Best is trial 66 with value: 0.631184407796102.\n",
      "[I 2024-03-23 17:54:53,653] Trial 85 finished with value: 0.6231884057971014 and parameters: {'n_estimators': 263, 'max_depth': 19, 'min_samples_split': 18, 'min_samples_leaf': 5, 'max_features': 'log2'}. Best is trial 66 with value: 0.631184407796102.\n",
      "[I 2024-03-23 17:54:58,170] Trial 86 finished with value: 0.6256871564217891 and parameters: {'n_estimators': 583, 'max_depth': 32, 'min_samples_split': 12, 'min_samples_leaf': 6, 'max_features': 'auto'}. Best is trial 66 with value: 0.631184407796102.\n",
      "[I 2024-03-23 17:54:59,707] Trial 87 finished with value: 0.6281859070464768 and parameters: {'n_estimators': 201, 'max_depth': 23, 'min_samples_split': 20, 'min_samples_leaf': 5, 'max_features': 'sqrt'}. Best is trial 66 with value: 0.631184407796102.\n",
      "[I 2024-03-23 17:55:03,153] Trial 88 finished with value: 0.6261869065467266 and parameters: {'n_estimators': 466, 'max_depth': 25, 'min_samples_split': 19, 'min_samples_leaf': 6, 'max_features': 'auto'}. Best is trial 66 with value: 0.631184407796102.\n",
      "[I 2024-03-23 17:55:06,020] Trial 89 finished with value: 0.6256871564217891 and parameters: {'n_estimators': 362, 'max_depth': 17, 'min_samples_split': 15, 'min_samples_leaf': 4, 'max_features': 'auto'}. Best is trial 66 with value: 0.631184407796102.\n",
      "[I 2024-03-23 17:55:09,959] Trial 90 finished with value: 0.6296851574212894 and parameters: {'n_estimators': 499, 'max_depth': 28, 'min_samples_split': 17, 'min_samples_leaf': 5, 'max_features': 'auto'}. Best is trial 66 with value: 0.631184407796102.\n",
      "[I 2024-03-23 17:55:14,205] Trial 91 finished with value: 0.6291854072963519 and parameters: {'n_estimators': 502, 'max_depth': 28, 'min_samples_split': 17, 'min_samples_leaf': 5, 'max_features': 'auto'}. Best is trial 66 with value: 0.631184407796102.\n",
      "[I 2024-03-23 17:55:18,628] Trial 92 finished with value: 0.6296851574212894 and parameters: {'n_estimators': 536, 'max_depth': 30, 'min_samples_split': 18, 'min_samples_leaf': 5, 'max_features': 'auto'}. Best is trial 66 with value: 0.631184407796102.\n",
      "[I 2024-03-23 17:55:22,923] Trial 93 finished with value: 0.6281859070464768 and parameters: {'n_estimators': 538, 'max_depth': 30, 'min_samples_split': 16, 'min_samples_leaf': 5, 'max_features': 'auto'}. Best is trial 66 with value: 0.631184407796102.\n",
      "[I 2024-03-23 17:55:30,617] Trial 94 finished with value: 0.6266866566716641 and parameters: {'n_estimators': 581, 'max_depth': 23, 'min_samples_split': 17, 'min_samples_leaf': 4, 'max_features': 'auto'}. Best is trial 66 with value: 0.631184407796102.\n",
      "[I 2024-03-23 17:55:34,694] Trial 95 finished with value: 0.6276861569215393 and parameters: {'n_estimators': 519, 'max_depth': 25, 'min_samples_split': 20, 'min_samples_leaf': 5, 'max_features': 'auto'}. Best is trial 66 with value: 0.631184407796102.\n",
      "[I 2024-03-23 17:55:38,346] Trial 96 finished with value: 0.6276861569215393 and parameters: {'n_estimators': 490, 'max_depth': 21, 'min_samples_split': 13, 'min_samples_leaf': 6, 'max_features': 'auto'}. Best is trial 66 with value: 0.631184407796102.\n",
      "[I 2024-03-23 17:55:42,390] Trial 97 finished with value: 0.6286856571714143 and parameters: {'n_estimators': 434, 'max_depth': 30, 'min_samples_split': 18, 'min_samples_leaf': 5, 'max_features': 'auto'}. Best is trial 66 with value: 0.631184407796102.\n",
      "[I 2024-03-23 17:55:48,632] Trial 98 finished with value: 0.6266866566716641 and parameters: {'n_estimators': 602, 'max_depth': 27, 'min_samples_split': 19, 'min_samples_leaf': 4, 'max_features': 'log2'}. Best is trial 66 with value: 0.631184407796102.\n",
      "[I 2024-03-23 17:55:52,726] Trial 99 finished with value: 0.6201899050474763 and parameters: {'n_estimators': 461, 'max_depth': 6, 'min_samples_split': 7, 'min_samples_leaf': 5, 'max_features': 'auto'}. Best is trial 66 with value: 0.631184407796102.\n",
      "[I 2024-03-23 17:55:57,265] Trial 100 finished with value: 0.6286856571714143 and parameters: {'n_estimators': 555, 'max_depth': 32, 'min_samples_split': 20, 'min_samples_leaf': 5, 'max_features': 'auto'}. Best is trial 66 with value: 0.631184407796102.\n",
      "[I 2024-03-23 17:56:00,704] Trial 101 finished with value: 0.6286856571714143 and parameters: {'n_estimators': 388, 'max_depth': 26, 'min_samples_split': 16, 'min_samples_leaf': 5, 'max_features': 'auto'}. Best is trial 66 with value: 0.631184407796102.\n",
      "[I 2024-03-23 17:56:04,217] Trial 102 finished with value: 0.6286856571714143 and parameters: {'n_estimators': 424, 'max_depth': 28, 'min_samples_split': 18, 'min_samples_leaf': 5, 'max_features': 'auto'}. Best is trial 66 with value: 0.631184407796102.\n",
      "[I 2024-03-23 17:56:06,840] Trial 103 finished with value: 0.6271864067966016 and parameters: {'n_estimators': 317, 'max_depth': 24, 'min_samples_split': 17, 'min_samples_leaf': 4, 'max_features': 'auto'}. Best is trial 66 with value: 0.631184407796102.\n",
      "[I 2024-03-23 17:56:12,294] Trial 104 finished with value: 0.6271864067966016 and parameters: {'n_estimators': 335, 'max_depth': 29, 'min_samples_split': 18, 'min_samples_leaf': 6, 'max_features': 'auto'}. Best is trial 66 with value: 0.631184407796102.\n",
      "[I 2024-03-23 17:56:16,325] Trial 105 finished with value: 0.6276861569215393 and parameters: {'n_estimators': 411, 'max_depth': 22, 'min_samples_split': 19, 'min_samples_leaf': 5, 'max_features': 'sqrt'}. Best is trial 66 with value: 0.631184407796102.\n",
      "[I 2024-03-23 17:56:19,318] Trial 106 finished with value: 0.6286856571714143 and parameters: {'n_estimators': 357, 'max_depth': 26, 'min_samples_split': 19, 'min_samples_leaf': 5, 'max_features': 'auto'}. Best is trial 66 with value: 0.631184407796102.\n",
      "[I 2024-03-23 17:56:21,500] Trial 107 finished with value: 0.6261869065467266 and parameters: {'n_estimators': 293, 'max_depth': 20, 'min_samples_split': 20, 'min_samples_leaf': 6, 'max_features': 'auto'}. Best is trial 66 with value: 0.631184407796102.\n",
      "[I 2024-03-23 17:56:24,664] Trial 108 finished with value: 0.6266866566716641 and parameters: {'n_estimators': 395, 'max_depth': 25, 'min_samples_split': 18, 'min_samples_leaf': 4, 'max_features': 'auto'}. Best is trial 66 with value: 0.631184407796102.\n",
      "[I 2024-03-23 17:56:27,530] Trial 109 finished with value: 0.6261869065467266 and parameters: {'n_estimators': 376, 'max_depth': 18, 'min_samples_split': 15, 'min_samples_leaf': 5, 'max_features': 'auto'}. Best is trial 66 with value: 0.631184407796102.\n",
      "[I 2024-03-23 17:56:31,043] Trial 110 finished with value: 0.6271864067966016 and parameters: {'n_estimators': 489, 'max_depth': 30, 'min_samples_split': 10, 'min_samples_leaf': 7, 'max_features': 'sqrt'}. Best is trial 66 with value: 0.631184407796102.\n",
      "[I 2024-03-23 17:56:34,465] Trial 111 finished with value: 0.6286856571714143 and parameters: {'n_estimators': 411, 'max_depth': 27, 'min_samples_split': 20, 'min_samples_leaf': 5, 'max_features': 'auto'}. Best is trial 66 with value: 0.631184407796102.\n",
      "[I 2024-03-23 17:56:37,095] Trial 112 finished with value: 0.6296851574212894 and parameters: {'n_estimators': 310, 'max_depth': 28, 'min_samples_split': 20, 'min_samples_leaf': 5, 'max_features': 'auto'}. Best is trial 66 with value: 0.631184407796102.\n",
      "[I 2024-03-23 17:56:41,125] Trial 113 finished with value: 0.6286856571714143 and parameters: {'n_estimators': 260, 'max_depth': 23, 'min_samples_split': 19, 'min_samples_leaf': 5, 'max_features': 'auto'}. Best is trial 66 with value: 0.631184407796102.\n",
      "[I 2024-03-23 17:56:43,861] Trial 114 finished with value: 0.6296851574212894 and parameters: {'n_estimators': 233, 'max_depth': 28, 'min_samples_split': 20, 'min_samples_leaf': 5, 'max_features': 'auto'}. Best is trial 66 with value: 0.631184407796102.\n",
      "[I 2024-03-23 17:56:44,957] Trial 115 finished with value: 0.6291854072963519 and parameters: {'n_estimators': 134, 'max_depth': 31, 'min_samples_split': 20, 'min_samples_leaf': 5, 'max_features': 'auto'}. Best is trial 66 with value: 0.631184407796102.\n",
      "[I 2024-03-23 17:56:47,318] Trial 116 finished with value: 0.6261869065467266 and parameters: {'n_estimators': 307, 'max_depth': 28, 'min_samples_split': 19, 'min_samples_leaf': 6, 'max_features': 'log2'}. Best is trial 66 with value: 0.631184407796102.\n",
      "[I 2024-03-23 17:56:48,846] Trial 117 finished with value: 0.6306846576711644 and parameters: {'n_estimators': 166, 'max_depth': 24, 'min_samples_split': 20, 'min_samples_leaf': 4, 'max_features': 'auto'}. Best is trial 66 with value: 0.631184407796102.\n",
      "[I 2024-03-23 17:56:50,816] Trial 118 finished with value: 0.6216891554222889 and parameters: {'n_estimators': 211, 'max_depth': 32, 'min_samples_split': 20, 'min_samples_leaf': 3, 'max_features': 'auto'}. Best is trial 66 with value: 0.631184407796102.\n",
      "[I 2024-03-23 17:56:52,650] Trial 119 finished with value: 0.624687656171914 and parameters: {'n_estimators': 191, 'max_depth': 24, 'min_samples_split': 20, 'min_samples_leaf': 2, 'max_features': 'auto'}. Best is trial 66 with value: 0.631184407796102.\n",
      "[I 2024-03-23 17:56:53,671] Trial 120 finished with value: 0.6281859070464768 and parameters: {'n_estimators': 123, 'max_depth': 29, 'min_samples_split': 20, 'min_samples_leaf': 4, 'max_features': 'auto'}. Best is trial 66 with value: 0.631184407796102.\n",
      "[I 2024-03-23 17:56:55,133] Trial 121 finished with value: 0.6276861569215393 and parameters: {'n_estimators': 167, 'max_depth': 27, 'min_samples_split': 19, 'min_samples_leaf': 4, 'max_features': 'auto'}. Best is trial 66 with value: 0.631184407796102.\n",
      "[I 2024-03-23 17:56:56,890] Trial 122 finished with value: 0.6286856571714143 and parameters: {'n_estimators': 226, 'max_depth': 22, 'min_samples_split': 20, 'min_samples_leaf': 5, 'max_features': 'auto'}. Best is trial 66 with value: 0.631184407796102.\n",
      "[I 2024-03-23 17:56:57,727] Trial 123 finished with value: 0.6296851574212894 and parameters: {'n_estimators': 104, 'max_depth': 25, 'min_samples_split': 19, 'min_samples_leaf': 5, 'max_features': 'auto'}. Best is trial 66 with value: 0.631184407796102.\n",
      "[I 2024-03-23 17:56:58,891] Trial 124 finished with value: 0.6296851574212894 and parameters: {'n_estimators': 146, 'max_depth': 25, 'min_samples_split': 19, 'min_samples_leaf': 5, 'max_features': 'auto'}. Best is trial 66 with value: 0.631184407796102.\n",
      "[I 2024-03-23 17:57:00,205] Trial 125 finished with value: 0.6301849075462269 and parameters: {'n_estimators': 166, 'max_depth': 25, 'min_samples_split': 19, 'min_samples_leaf': 5, 'max_features': 'auto'}. Best is trial 66 with value: 0.631184407796102.\n",
      "[I 2024-03-23 17:57:00,996] Trial 126 finished with value: 0.624687656171914 and parameters: {'n_estimators': 102, 'max_depth': 29, 'min_samples_split': 19, 'min_samples_leaf': 6, 'max_features': 'auto'}. Best is trial 66 with value: 0.631184407796102.\n",
      "[I 2024-03-23 17:57:02,282] Trial 127 finished with value: 0.6271864067966016 and parameters: {'n_estimators': 164, 'max_depth': 24, 'min_samples_split': 19, 'min_samples_leaf': 5, 'max_features': 'sqrt'}. Best is trial 66 with value: 0.631184407796102.\n",
      "[I 2024-03-23 17:57:03,142] Trial 128 finished with value: 0.6271864067966016 and parameters: {'n_estimators': 104, 'max_depth': 21, 'min_samples_split': 20, 'min_samples_leaf': 4, 'max_features': 'log2'}. Best is trial 66 with value: 0.631184407796102.\n",
      "[I 2024-03-23 17:57:04,844] Trial 129 finished with value: 0.6296851574212894 and parameters: {'n_estimators': 178, 'max_depth': 27, 'min_samples_split': 18, 'min_samples_leaf': 5, 'max_features': 'auto'}. Best is trial 66 with value: 0.631184407796102.\n",
      "[I 2024-03-23 17:57:08,239] Trial 130 finished with value: 0.6221889055472264 and parameters: {'n_estimators': 233, 'max_depth': 30, 'min_samples_split': 20, 'min_samples_leaf': 8, 'max_features': 'auto'}. Best is trial 66 with value: 0.631184407796102.\n",
      "[I 2024-03-23 17:57:09,438] Trial 131 finished with value: 0.6211894052973513 and parameters: {'n_estimators': 140, 'max_depth': 9, 'min_samples_split': 19, 'min_samples_leaf': 5, 'max_features': 'auto'}. Best is trial 66 with value: 0.631184407796102.\n",
      "[I 2024-03-23 17:57:10,726] Trial 132 finished with value: 0.6301849075462269 and parameters: {'n_estimators': 152, 'max_depth': 25, 'min_samples_split': 19, 'min_samples_leaf': 5, 'max_features': 'auto'}. Best is trial 66 with value: 0.631184407796102.\n",
      "[I 2024-03-23 17:57:11,731] Trial 133 finished with value: 0.6286856571714143 and parameters: {'n_estimators': 124, 'max_depth': 25, 'min_samples_split': 19, 'min_samples_leaf': 5, 'max_features': 'auto'}. Best is trial 66 with value: 0.631184407796102.\n",
      "[I 2024-03-23 17:57:13,176] Trial 134 finished with value: 0.6261869065467266 and parameters: {'n_estimators': 174, 'max_depth': 28, 'min_samples_split': 20, 'min_samples_leaf': 4, 'max_features': 'auto'}. Best is trial 66 with value: 0.631184407796102.\n",
      "[I 2024-03-23 17:57:14,764] Trial 135 finished with value: 0.6296851574212894 and parameters: {'n_estimators': 203, 'max_depth': 23, 'min_samples_split': 18, 'min_samples_leaf': 5, 'max_features': 'auto'}. Best is trial 66 with value: 0.631184407796102.\n",
      "[I 2024-03-23 17:57:15,892] Trial 136 finished with value: 0.6261869065467266 and parameters: {'n_estimators': 146, 'max_depth': 31, 'min_samples_split': 20, 'min_samples_leaf': 6, 'max_features': 'auto'}. Best is trial 66 with value: 0.631184407796102.\n",
      "[I 2024-03-23 17:57:18,543] Trial 137 finished with value: 0.6291854072963519 and parameters: {'n_estimators': 340, 'max_depth': 26, 'min_samples_split': 19, 'min_samples_leaf': 5, 'max_features': 'auto'}. Best is trial 66 with value: 0.631184407796102.\n",
      "[I 2024-03-23 17:57:20,745] Trial 138 finished with value: 0.6291854072963519 and parameters: {'n_estimators': 279, 'max_depth': 22, 'min_samples_split': 19, 'min_samples_leaf': 5, 'max_features': 'auto'}. Best is trial 66 with value: 0.631184407796102.\n",
      "[I 2024-03-23 17:57:27,517] Trial 139 finished with value: 0.6301849075462269 and parameters: {'n_estimators': 723, 'max_depth': 25, 'min_samples_split': 18, 'min_samples_leaf': 5, 'max_features': 'log2'}. Best is trial 66 with value: 0.631184407796102.\n",
      "[I 2024-03-23 17:57:34,782] Trial 140 finished with value: 0.6281859070464768 and parameters: {'n_estimators': 836, 'max_depth': 28, 'min_samples_split': 18, 'min_samples_leaf': 6, 'max_features': 'log2'}. Best is trial 66 with value: 0.631184407796102.\n",
      "[I 2024-03-23 17:57:40,795] Trial 141 finished with value: 0.6281859070464768 and parameters: {'n_estimators': 755, 'max_depth': 25, 'min_samples_split': 20, 'min_samples_leaf': 5, 'max_features': 'log2'}. Best is trial 66 with value: 0.631184407796102.\n",
      "[I 2024-03-23 17:57:43,355] Trial 142 finished with value: 0.6286856571714143 and parameters: {'n_estimators': 327, 'max_depth': 23, 'min_samples_split': 19, 'min_samples_leaf': 5, 'max_features': 'log2'}. Best is trial 66 with value: 0.631184407796102.\n",
      "[I 2024-03-23 17:57:50,829] Trial 143 finished with value: 0.6291854072963519 and parameters: {'n_estimators': 663, 'max_depth': 27, 'min_samples_split': 18, 'min_samples_leaf': 5, 'max_features': 'log2'}. Best is trial 66 with value: 0.631184407796102.\n",
      "[I 2024-03-23 17:57:58,467] Trial 144 finished with value: 0.6301849075462269 and parameters: {'n_estimators': 972, 'max_depth': 32, 'min_samples_split': 17, 'min_samples_leaf': 5, 'max_features': 'log2'}. Best is trial 66 with value: 0.631184407796102.\n",
      "[I 2024-03-23 17:58:01,379] Trial 145 finished with value: 0.6271864067966016 and parameters: {'n_estimators': 354, 'max_depth': 30, 'min_samples_split': 17, 'min_samples_leaf': 4, 'max_features': 'log2'}. Best is trial 66 with value: 0.631184407796102.\n",
      "[I 2024-03-23 17:58:03,404] Trial 146 finished with value: 0.6301849075462269 and parameters: {'n_estimators': 256, 'max_depth': 32, 'min_samples_split': 16, 'min_samples_leaf': 5, 'max_features': 'log2'}. Best is trial 66 with value: 0.631184407796102.\n",
      "[I 2024-03-23 17:58:13,190] Trial 147 finished with value: 0.6291854072963519 and parameters: {'n_estimators': 966, 'max_depth': 32, 'min_samples_split': 16, 'min_samples_leaf': 5, 'max_features': 'log2'}. Best is trial 66 with value: 0.631184407796102.\n",
      "[I 2024-03-23 17:58:15,543] Trial 148 finished with value: 0.6276861569215393 and parameters: {'n_estimators': 310, 'max_depth': 32, 'min_samples_split': 17, 'min_samples_leaf': 6, 'max_features': 'log2'}. Best is trial 66 with value: 0.631184407796102.\n",
      "[I 2024-03-23 17:58:21,452] Trial 149 finished with value: 0.6261869065467266 and parameters: {'n_estimators': 723, 'max_depth': 30, 'min_samples_split': 14, 'min_samples_leaf': 4, 'max_features': 'log2'}. Best is trial 66 with value: 0.631184407796102.\n"
     ]
    }
   ],
   "source": [
    "# Optimize hyperparameters with Optuna\n",
    "study = optuna.create_study(direction='maximize')\n",
    "study.optimize(objective, n_trials=150)"
   ]
  },
  {
   "cell_type": "code",
   "execution_count": 36,
   "id": "ede38e67-d349-463c-b2ff-6f35cab28dff",
   "metadata": {},
   "outputs": [],
   "source": [
    "# Get the best hyperparameters\n",
    "best_params = study.best_params"
   ]
  },
  {
   "cell_type": "code",
   "execution_count": 37,
   "id": "2c65ad1a-b1f1-4bb5-b1bb-fbd449b1af32",
   "metadata": {},
   "outputs": [
    {
     "data": {
      "text/html": [
       "<style>#sk-container-id-2 {color: black;background-color: white;}#sk-container-id-2 pre{padding: 0;}#sk-container-id-2 div.sk-toggleable {background-color: white;}#sk-container-id-2 label.sk-toggleable__label {cursor: pointer;display: block;width: 100%;margin-bottom: 0;padding: 0.3em;box-sizing: border-box;text-align: center;}#sk-container-id-2 label.sk-toggleable__label-arrow:before {content: \"▸\";float: left;margin-right: 0.25em;color: #696969;}#sk-container-id-2 label.sk-toggleable__label-arrow:hover:before {color: black;}#sk-container-id-2 div.sk-estimator:hover label.sk-toggleable__label-arrow:before {color: black;}#sk-container-id-2 div.sk-toggleable__content {max-height: 0;max-width: 0;overflow: hidden;text-align: left;background-color: #f0f8ff;}#sk-container-id-2 div.sk-toggleable__content pre {margin: 0.2em;color: black;border-radius: 0.25em;background-color: #f0f8ff;}#sk-container-id-2 input.sk-toggleable__control:checked~div.sk-toggleable__content {max-height: 200px;max-width: 100%;overflow: auto;}#sk-container-id-2 input.sk-toggleable__control:checked~label.sk-toggleable__label-arrow:before {content: \"▾\";}#sk-container-id-2 div.sk-estimator input.sk-toggleable__control:checked~label.sk-toggleable__label {background-color: #d4ebff;}#sk-container-id-2 div.sk-label input.sk-toggleable__control:checked~label.sk-toggleable__label {background-color: #d4ebff;}#sk-container-id-2 input.sk-hidden--visually {border: 0;clip: rect(1px 1px 1px 1px);clip: rect(1px, 1px, 1px, 1px);height: 1px;margin: -1px;overflow: hidden;padding: 0;position: absolute;width: 1px;}#sk-container-id-2 div.sk-estimator {font-family: monospace;background-color: #f0f8ff;border: 1px dotted black;border-radius: 0.25em;box-sizing: border-box;margin-bottom: 0.5em;}#sk-container-id-2 div.sk-estimator:hover {background-color: #d4ebff;}#sk-container-id-2 div.sk-parallel-item::after {content: \"\";width: 100%;border-bottom: 1px solid gray;flex-grow: 1;}#sk-container-id-2 div.sk-label:hover label.sk-toggleable__label {background-color: #d4ebff;}#sk-container-id-2 div.sk-serial::before {content: \"\";position: absolute;border-left: 1px solid gray;box-sizing: border-box;top: 0;bottom: 0;left: 50%;z-index: 0;}#sk-container-id-2 div.sk-serial {display: flex;flex-direction: column;align-items: center;background-color: white;padding-right: 0.2em;padding-left: 0.2em;position: relative;}#sk-container-id-2 div.sk-item {position: relative;z-index: 1;}#sk-container-id-2 div.sk-parallel {display: flex;align-items: stretch;justify-content: center;background-color: white;position: relative;}#sk-container-id-2 div.sk-item::before, #sk-container-id-2 div.sk-parallel-item::before {content: \"\";position: absolute;border-left: 1px solid gray;box-sizing: border-box;top: 0;bottom: 0;left: 50%;z-index: -1;}#sk-container-id-2 div.sk-parallel-item {display: flex;flex-direction: column;z-index: 1;position: relative;background-color: white;}#sk-container-id-2 div.sk-parallel-item:first-child::after {align-self: flex-end;width: 50%;}#sk-container-id-2 div.sk-parallel-item:last-child::after {align-self: flex-start;width: 50%;}#sk-container-id-2 div.sk-parallel-item:only-child::after {width: 0;}#sk-container-id-2 div.sk-dashed-wrapped {border: 1px dashed gray;margin: 0 0.4em 0.5em 0.4em;box-sizing: border-box;padding-bottom: 0.4em;background-color: white;}#sk-container-id-2 div.sk-label label {font-family: monospace;font-weight: bold;display: inline-block;line-height: 1.2em;}#sk-container-id-2 div.sk-label-container {text-align: center;}#sk-container-id-2 div.sk-container {/* jupyter's `normalize.less` sets `[hidden] { display: none; }` but bootstrap.min.css set `[hidden] { display: none !important; }` so we also need the `!important` here to be able to override the default hidden behavior on the sphinx rendered scikit-learn.org. See: https://github.com/scikit-learn/scikit-learn/issues/21755 */display: inline-block !important;position: relative;}#sk-container-id-2 div.sk-text-repr-fallback {display: none;}</style><div id=\"sk-container-id-2\" class=\"sk-top-container\"><div class=\"sk-text-repr-fallback\"><pre>RandomForestClassifier(max_depth=26, min_samples_leaf=5, min_samples_split=20,\n",
       "                       n_estimators=337, random_state=42)</pre><b>In a Jupyter environment, please rerun this cell to show the HTML representation or trust the notebook. <br />On GitHub, the HTML representation is unable to render, please try loading this page with nbviewer.org.</b></div><div class=\"sk-container\" hidden><div class=\"sk-item\"><div class=\"sk-estimator sk-toggleable\"><input class=\"sk-toggleable__control sk-hidden--visually\" id=\"sk-estimator-id-2\" type=\"checkbox\" checked><label for=\"sk-estimator-id-2\" class=\"sk-toggleable__label sk-toggleable__label-arrow\">RandomForestClassifier</label><div class=\"sk-toggleable__content\"><pre>RandomForestClassifier(max_depth=26, min_samples_leaf=5, min_samples_split=20,\n",
       "                       n_estimators=337, random_state=42)</pre></div></div></div></div></div>"
      ],
      "text/plain": [
       "RandomForestClassifier(max_depth=26, min_samples_leaf=5, min_samples_split=20,\n",
       "                       n_estimators=337, random_state=42)"
      ]
     },
     "execution_count": 37,
     "metadata": {},
     "output_type": "execute_result"
    }
   ],
   "source": [
    "# Train the model with the best hyperparameters\n",
    "rf_model = RandomForestClassifier(**best_params, random_state=42)\n",
    "rf_model.fit(X_train_resampled, y_train_resampled)"
   ]
  },
  {
   "cell_type": "code",
   "execution_count": 38,
   "id": "7e8e953a-6d95-489d-92f2-a69e20e45370",
   "metadata": {},
   "outputs": [
    {
     "name": "stdout",
     "output_type": "stream",
     "text": [
      "Best Validation Accuracy: 63.1184407796102\n",
      "Best Hyperparameters: {'n_estimators': 337, 'max_depth': 26, 'min_samples_split': 20, 'min_samples_leaf': 5, 'max_features': 'sqrt'}\n",
      "Classification Report:\n",
      "              precision    recall  f1-score   support\n",
      "\n",
      "          -1       0.27      0.63      0.37       231\n",
      "           0       0.85      0.69      0.76       988\n",
      "           1       0.67      0.56      0.61       782\n",
      "\n",
      "    accuracy                           0.63      2001\n",
      "   macro avg       0.59      0.63      0.58      2001\n",
      "weighted avg       0.71      0.63      0.66      2001\n",
      "\n",
      "Confusion Matrix:\n",
      "[[145  16  70]\n",
      " [156 683 149]\n",
      " [243 104 435]]\n"
     ]
    }
   ],
   "source": [
    "# Model Evaluation\n",
    "y_pred_val = rf_model.predict(X_val)\n",
    "accuracy = accuracy_score(y_val, y_pred_val)\n",
    "print(\"Best Validation Accuracy:\", accuracy*100)\n",
    "print(\"Best Hyperparameters:\", best_params)\n",
    "print(\"Classification Report:\")\n",
    "print(classification_report(y_val, y_pred_val))\n",
    "print(\"Confusion Matrix:\")\n",
    "print(confusion_matrix(y_val, y_pred_val))"
   ]
  },
  {
   "cell_type": "code",
   "execution_count": 32,
   "id": "05674877-31e5-4322-a143-46b337ff7f31",
   "metadata": {},
   "outputs": [],
   "source": [
    "# function check for overfitting or underfitting\n",
    "def plot_learning_curve(estimator, title, X, y, ylim=None, cv=None, n_jobs=None, train_sizes=np.linspace(.1, 1.0, 5)):\n",
    "    plt.figure()\n",
    "    plt.title(title)\n",
    "    if ylim is not None:\n",
    "        plt.ylim(*ylim)\n",
    "    plt.xlabel(\"Training examples\")\n",
    "    plt.ylabel(\"Score\")\n",
    "    train_sizes, train_scores, test_scores = learning_curve(\n",
    "        estimator, X, y, cv=cv, n_jobs=n_jobs, train_sizes=train_sizes)\n",
    "    train_scores_mean = np.mean(train_scores, axis=1)\n",
    "    train_scores_std = np.std(train_scores, axis=1)\n",
    "    test_scores_mean = np.mean(test_scores, axis=1)\n",
    "    test_scores_std = np.std(test_scores, axis=1)\n",
    "    plt.grid()\n",
    "\n",
    "    plt.fill_between(train_sizes, train_scores_mean - train_scores_std,\n",
    "                     train_scores_mean + train_scores_std, alpha=0.1,\n",
    "                     color=\"r\")\n",
    "    plt.fill_between(train_sizes, test_scores_mean - test_scores_std,\n",
    "                     test_scores_mean + test_scores_std, alpha=0.1, color=\"g\")\n",
    "    plt.plot(train_sizes, train_scores_mean, 'o-', color=\"r\",\n",
    "             label=\"Training score\")\n",
    "    plt.plot(train_sizes, test_scores_mean, 'o-', color=\"g\",\n",
    "             label=\"Cross-validation score\")\n",
    "\n",
    "    plt.legend(loc=\"best\")\n",
    "    \n",
    "    # Check for overfitting or underfitting\n",
    "    diff_scores = train_scores_mean - test_scores_mean\n",
    "    if np.any(diff_scores > 0):\n",
    "        print(\"Yes, overfitting\")\n",
    "    elif np.any(diff_scores < 0):\n",
    "        print(\"Yes, underfitting\")\n",
    "    else:\n",
    "        print(\"No overfitting or underfitting\")\n",
    "    \n",
    "    return plt"
   ]
  },
  {
   "cell_type": "code",
   "execution_count": 33,
   "id": "b5882c6e-da8e-46e8-827c-2030ab0f2bc8",
   "metadata": {},
   "outputs": [
    {
     "name": "stdout",
     "output_type": "stream",
     "text": [
      "Yes, overfitting\n"
     ]
    },
    {
     "data": {
      "image/png": "[encoded data removed]",
      "text/plain": [
       "<Figure size 640x480 with 1 Axes>"
      ]
     },
     "metadata": {},
     "output_type": "display_data"
    }
   ],
   "source": [
    "# Learning Curve\n",
    "title = \"Learning Curves (Random Forest Classifier)\"\n",
    "plot_learning_curve(rf_model, title, X_train_resampled, y_train_resampled, cv=5, n_jobs=-1)\n",
    "plt.show()"
   ]
  },
  {
   "cell_type": "code",
   "execution_count": 39,
   "id": "1e08f260-4a94-479f-894f-a9c3cf0e2a13",
   "metadata": {},
   "outputs": [],
   "source": [
    "# Make predictions on test data and create submission DataFrame\n",
    "test_predictions = rf_model.predict(X_test_selected)\n",
    "submission_df = pd.DataFrame({'tweet_id': df_test['tweet_id'], 'label': test_predictions})\n",
    "submission_df.to_csv('submission_rf_optuna.csv', index=False)"
   ]
  },
  {
   "cell_type": "code",
   "execution_count": null,
   "id": "227f51f9-f149-46a1-a395-76c24f77784b",
   "metadata": {},
   "outputs": [],
   "source": []
  },
  {
   "cell_type": "code",
   "execution_count": null,
   "id": "6dff2cb9-a702-4165-b7d0-84dd7da176f5",
   "metadata": {},
   "outputs": [],
   "source": []
  },
  {
   "cell_type": "code",
   "execution_count": null,
   "id": "42797271-9e14-4c98-81ef-e065d6673b94",
   "metadata": {},
   "outputs": [],
   "source": []
  },
  {
   "cell_type": "code",
   "execution_count": null,
   "id": "69a7204a-8515-485d-ba7b-2e5d2d87d7fe",
   "metadata": {},
   "outputs": [],
   "source": []
  }
 ],
 "metadata": {
  "kernelspec": {
   "display_name": "Python 3 (ipykernel)",
   "language": "python",
   "name": "python3"
  },
  "language_info": {
   "codemirror_mode": {
    "name": "ipython",
    "version": 3
   },
   "file_extension": ".py",
   "mimetype": "text/x-python",
   "name": "python",
   "nbconvert_exporter": "python",
   "pygments_lexer": "ipython3",
   "version": "3.11.7"
  }
 },
 "nbformat": 4,
 "nbformat_minor": 5
}
