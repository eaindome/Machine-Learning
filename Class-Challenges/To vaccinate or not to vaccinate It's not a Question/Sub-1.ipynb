{
 "cells": [
  {
   "cell_type": "code",
   "execution_count": 1,
   "id": "442c7e10-687c-43a4-a69d-75bc4180b3cf",
   "metadata": {},
   "outputs": [],
   "source": [
    "import numpy as np\n",
    "import pandas as pd\n",
    "import seaborn as sns\n",
    "import matplotlib.pyplot as plt\n",
    "import warnings\n",
    "%matplotlib inline\n",
    "warnings.filterwarnings('ignore')   # suppress warnings"
   ]
  },
  {
   "cell_type": "markdown",
   "id": "06969be9-d019-4709-aa01-67773417964b",
   "metadata": {},
   "source": [
    "#### Data"
   ]
  },
  {
   "cell_type": "code",
   "execution_count": 2,
   "id": "06b924c4-2609-44e0-b8dc-77f37fdc36a6",
   "metadata": {},
   "outputs": [
    {
     "name": "stdout",
     "output_type": "stream",
     "text": [
      "(10001, 4)\n"
     ]
    },
    {
     "data": {
      "text/html": [
       "<div>\n",
       "<style scoped>\n",
       "    .dataframe tbody tr th:only-of-type {\n",
       "        vertical-align: middle;\n",
       "    }\n",
       "\n",
       "    .dataframe tbody tr th {\n",
       "        vertical-align: top;\n",
       "    }\n",
       "\n",
       "    .dataframe thead th {\n",
       "        text-align: right;\n",
       "    }\n",
       "</style>\n",
       "<table border=\"1\" class=\"dataframe\">\n",
       "  <thead>\n",
       "    <tr style=\"text-align: right;\">\n",
       "      <th></th>\n",
       "      <th>tweet_id</th>\n",
       "      <th>safe_text</th>\n",
       "      <th>label</th>\n",
       "      <th>agreement</th>\n",
       "    </tr>\n",
       "  </thead>\n",
       "  <tbody>\n",
       "    <tr>\n",
       "      <th>0</th>\n",
       "      <td>CL1KWCMY</td>\n",
       "      <td>Me &amp;amp; The Big Homie meanboy3000 #MEANBOY #M...</td>\n",
       "      <td>0.0</td>\n",
       "      <td>1.0</td>\n",
       "    </tr>\n",
       "    <tr>\n",
       "      <th>1</th>\n",
       "      <td>E3303EME</td>\n",
       "      <td>I'm 100% thinking of devoting my career to pro...</td>\n",
       "      <td>1.0</td>\n",
       "      <td>1.0</td>\n",
       "    </tr>\n",
       "    <tr>\n",
       "      <th>2</th>\n",
       "      <td>M4IVFSMS</td>\n",
       "      <td>#whatcausesautism VACCINES, DO NOT VACCINATE Y...</td>\n",
       "      <td>-1.0</td>\n",
       "      <td>1.0</td>\n",
       "    </tr>\n",
       "    <tr>\n",
       "      <th>3</th>\n",
       "      <td>1DR6ROZ4</td>\n",
       "      <td>I mean if they immunize my kid with something ...</td>\n",
       "      <td>-1.0</td>\n",
       "      <td>1.0</td>\n",
       "    </tr>\n",
       "    <tr>\n",
       "      <th>4</th>\n",
       "      <td>J77ENIIE</td>\n",
       "      <td>Thanks to &lt;user&gt; Catch me performing at La Nui...</td>\n",
       "      <td>0.0</td>\n",
       "      <td>1.0</td>\n",
       "    </tr>\n",
       "  </tbody>\n",
       "</table>\n",
       "</div>"
      ],
      "text/plain": [
       "   tweet_id                                          safe_text  label  \\\n",
       "0  CL1KWCMY  Me &amp; The Big Homie meanboy3000 #MEANBOY #M...    0.0   \n",
       "1  E3303EME  I'm 100% thinking of devoting my career to pro...    1.0   \n",
       "2  M4IVFSMS  #whatcausesautism VACCINES, DO NOT VACCINATE Y...   -1.0   \n",
       "3  1DR6ROZ4  I mean if they immunize my kid with something ...   -1.0   \n",
       "4  J77ENIIE  Thanks to <user> Catch me performing at La Nui...    0.0   \n",
       "\n",
       "   agreement  \n",
       "0        1.0  \n",
       "1        1.0  \n",
       "2        1.0  \n",
       "3        1.0  \n",
       "4        1.0  "
      ]
     },
     "execution_count": 2,
     "metadata": {},
     "output_type": "execute_result"
    }
   ],
   "source": [
    "# train data\n",
    "df_train = pd.read_csv('Train.csv')\n",
    "print(df_train.shape)\n",
    "df_train.head()"
   ]
  },
  {
   "cell_type": "code",
   "execution_count": 3,
   "id": "59fd84bc-98a6-45fa-abc8-ef5053ce1009",
   "metadata": {},
   "outputs": [
    {
     "name": "stdout",
     "output_type": "stream",
     "text": [
      "(5177, 2)\n"
     ]
    },
    {
     "data": {
      "text/html": [
       "<div>\n",
       "<style scoped>\n",
       "    .dataframe tbody tr th:only-of-type {\n",
       "        vertical-align: middle;\n",
       "    }\n",
       "\n",
       "    .dataframe tbody tr th {\n",
       "        vertical-align: top;\n",
       "    }\n",
       "\n",
       "    .dataframe thead th {\n",
       "        text-align: right;\n",
       "    }\n",
       "</style>\n",
       "<table border=\"1\" class=\"dataframe\">\n",
       "  <thead>\n",
       "    <tr style=\"text-align: right;\">\n",
       "      <th></th>\n",
       "      <th>tweet_id</th>\n",
       "      <th>safe_text</th>\n",
       "    </tr>\n",
       "  </thead>\n",
       "  <tbody>\n",
       "    <tr>\n",
       "      <th>0</th>\n",
       "      <td>00BHHHP1</td>\n",
       "      <td>&lt;user&gt; &lt;user&gt; ... &amp;amp; 4 a vaccine given 2 he...</td>\n",
       "    </tr>\n",
       "    <tr>\n",
       "      <th>1</th>\n",
       "      <td>00UNMD0E</td>\n",
       "      <td>Students starting school without whooping coug...</td>\n",
       "    </tr>\n",
       "    <tr>\n",
       "      <th>2</th>\n",
       "      <td>01AXPTJF</td>\n",
       "      <td>I'm kinda over every ep of &lt;user&gt; being \"rippe...</td>\n",
       "    </tr>\n",
       "    <tr>\n",
       "      <th>3</th>\n",
       "      <td>01HOEQJW</td>\n",
       "      <td>How many innocent children die for lack of vac...</td>\n",
       "    </tr>\n",
       "    <tr>\n",
       "      <th>4</th>\n",
       "      <td>01JUKMAO</td>\n",
       "      <td>CDC eyeing bird flu vaccine for humans, though...</td>\n",
       "    </tr>\n",
       "  </tbody>\n",
       "</table>\n",
       "</div>"
      ],
      "text/plain": [
       "   tweet_id                                          safe_text\n",
       "0  00BHHHP1  <user> <user> ... &amp; 4 a vaccine given 2 he...\n",
       "1  00UNMD0E  Students starting school without whooping coug...\n",
       "2  01AXPTJF  I'm kinda over every ep of <user> being \"rippe...\n",
       "3  01HOEQJW  How many innocent children die for lack of vac...\n",
       "4  01JUKMAO  CDC eyeing bird flu vaccine for humans, though..."
      ]
     },
     "execution_count": 3,
     "metadata": {},
     "output_type": "execute_result"
    }
   ],
   "source": [
    "# test data\n",
    "df_test = pd.read_csv('Test.csv')\n",
    "print(df_test.shape)\n",
    "df_test.head()"
   ]
  },
  {
   "cell_type": "markdown",
   "id": "3b915bff-9e79-4946-8737-5a4a4d1c04ac",
   "metadata": {},
   "source": [
    "### Characteristics"
   ]
  },
  {
   "cell_type": "markdown",
   "id": "6516ed3d-591e-4a22-8b29-71e03ba089d8",
   "metadata": {},
   "source": [
    "##### test data"
   ]
  },
  {
   "cell_type": "code",
   "execution_count": null,
   "id": "32441466-6ec0-4e0b-8ebb-5aa74e256147",
   "metadata": {},
   "outputs": [],
   "source": [
    "# information \n",
    "df_test.info()"
   ]
  },
  {
   "cell_type": "code",
   "execution_count": null,
   "id": "122d175f-459b-45e0-8621-83b8ae331b51",
   "metadata": {},
   "outputs": [],
   "source": [
    "# check for missing values\n",
    "df_test.isnull().sum()"
   ]
  },
  {
   "cell_type": "code",
   "execution_count": null,
   "id": "4af801f5-3b2b-4a58-8ce6-506680895747",
   "metadata": {},
   "outputs": [],
   "source": [
    "# fill the missing values"
   ]
  },
  {
   "cell_type": "markdown",
   "id": "884a65c4-e3e2-406e-9432-5b54d7d9fe91",
   "metadata": {},
   "source": [
    "##### train data"
   ]
  },
  {
   "cell_type": "code",
   "execution_count": null,
   "id": "9e49cc5b-d18e-486f-9b3d-1a63587dd8ec",
   "metadata": {},
   "outputs": [],
   "source": [
    "# information\n",
    "df_train.info()"
   ]
  },
  {
   "cell_type": "code",
   "execution_count": null,
   "id": "f08093b6-9a0a-4b36-b112-373479a2c9f5",
   "metadata": {},
   "outputs": [],
   "source": [
    "# description\n",
    "df_train.describe()"
   ]
  },
  {
   "cell_type": "code",
   "execution_count": null,
   "id": "a205be62-9991-476c-9b56-43d5cb6b8d9c",
   "metadata": {},
   "outputs": [],
   "source": [
    "# check the values in target variable\n",
    "df_train['label'].value_counts()"
   ]
  },
  {
   "cell_type": "code",
   "execution_count": null,
   "id": "d0fa6bf6-1374-4120-bd78-c55faf91f72f",
   "metadata": {},
   "outputs": [],
   "source": [
    "# missing values\n",
    "df_train.isnull().sum()"
   ]
  },
  {
   "cell_type": "code",
   "execution_count": 4,
   "id": "f6552f07-7e63-417a-8ef1-6a3b55838fa4",
   "metadata": {},
   "outputs": [
    {
     "name": "stdout",
     "output_type": "stream",
     "text": [
      "Column: label\n",
      "Mean round: 0\n",
      "Column: agreement\n",
      "Mean round: 1\n"
     ]
    }
   ],
   "source": [
    "# fill missing values\n",
    "# label and aggreement are floating numbers, use mean and round\n",
    "cols = ['label', 'agreement']\n",
    "for col in cols:\n",
    "    print(f'Column: {col}')\n",
    "    mean_rounded = round(df_train[col].mean())\n",
    "    print(f'Mean round: {mean_rounded}')\n",
    "    df_train[col].fillna(mean_rounded, inplace=True)"
   ]
  },
  {
   "cell_type": "code",
   "execution_count": null,
   "id": "39a335da-49ce-4d6c-9b8d-dcdd0fe844cb",
   "metadata": {},
   "outputs": [],
   "source": [
    "# check for missing values again\n",
    "df_train.isnull().sum()"
   ]
  },
  {
   "cell_type": "code",
   "execution_count": null,
   "id": "d2b35cdc-2ecf-4d3c-82be-9028b39cef27",
   "metadata": {},
   "outputs": [],
   "source": [
    "# check the values in target variable again\n",
    "df_train['label'].value_counts()"
   ]
  },
  {
   "cell_type": "code",
   "execution_count": 5,
   "id": "bd7c1e44-872b-4001-9e0a-d20c5962eecd",
   "metadata": {},
   "outputs": [
    {
     "name": "stdout",
     "output_type": "stream",
     "text": [
      "label\n",
      " 0    4909\n",
      " 1    4054\n",
      "-1    1038\n",
      "Name: count, dtype: int64\n"
     ]
    }
   ],
   "source": [
    "# there are some inconsistencies, label values should either be 1, 0, -1\n",
    "\n",
    "# Check the values in the target variable and handle any inconsistencies\n",
    "df_train['label'] = df_train['label'].round().astype(int)\n",
    "\n",
    "# Verify the counts of the target variable after handling inconsistencies\n",
    "label_counts = df_train['label'].value_counts()\n",
    "print(label_counts)"
   ]
  },
  {
   "cell_type": "code",
   "execution_count": null,
   "id": "daaba916-2ced-4984-b13f-6fcdbe68fb61",
   "metadata": {},
   "outputs": [],
   "source": [
    "# Check for duplicates in the DataFrame\n",
    "duplicate_rows = df_train[df_train.duplicated()]\n",
    "\n",
    "# Print duplicate rows if any\n",
    "if not duplicate_rows.empty:\n",
    "    print(\"Duplicate rows found:\")\n",
    "    print(duplicate_rows)\n",
    "else:\n",
    "    print(\"No duplicate rows found.\")"
   ]
  },
  {
   "cell_type": "code",
   "execution_count": null,
   "id": "7f442ce3-d186-4260-adf7-4a87e0758c75",
   "metadata": {
    "scrolled": true
   },
   "outputs": [],
   "source": [
    "# Checking for outliers\n",
    "\n",
    "# a function to detect outliers using IQR method\n",
    "def detect_outliers(series):\n",
    "    Q1 = series.quantile(0.25)\n",
    "    Q3 = series.quantile(0.75)\n",
    "    IQR = Q3 - Q1\n",
    "    lower_bound = Q1 - 1.5 * IQR\n",
    "    upper_bound = Q3 + 1.5 * IQR\n",
    "    outliers = (series < lower_bound) | (series > upper_bound)\n",
    "    return outliers\n",
    "\n",
    "# Identify outliers in numerical columns\n",
    "numerical_cols = df_train.select_dtypes(include='number').columns\n",
    "outliers_present = False\n",
    "outliers_dict = {}\n",
    "for col in numerical_cols:\n",
    "    outliers_dict[col] = detect_outliers(df_train[col])\n",
    "    if outliers_dict[col].any():\n",
    "        outliers_present = True\n",
    "\n",
    "# Inform whether outliers are present or not\n",
    "if outliers_present:\n",
    "    print(\"Yes, outliers present\")\n",
    "else:\n",
    "    print(\"No, no outliers present\")\n",
    "\n",
    "# Visualize outliers using box plots\n",
    "plt.figure(figsize=(12, 8))\n",
    "for i, col in enumerate(numerical_cols, start=1):\n",
    "    plt.subplot(2, 2, i)\n",
    "    sns.boxplot(x=outliers_dict[col], y=df_train[col])\n",
    "    plt.title(f'Boxplot of {col}')\n",
    "    plt.xlabel('Outlier')\n",
    "    plt.ylabel(col)\n",
    "plt.tight_layout()\n",
    "plt.show()"
   ]
  },
  {
   "cell_type": "markdown",
   "id": "f85072a6-2e58-4936-9446-0b9bfc2c5ea9",
   "metadata": {},
   "source": [
    "#### Further preprocessing"
   ]
  },
  {
   "cell_type": "markdown",
   "id": "90ed9c42-3344-4938-b736-376b9888b23c",
   "metadata": {},
   "source": [
    "##### Handle texts"
   ]
  },
  {
   "cell_type": "code",
   "execution_count": 6,
   "id": "a97a7991-c5e9-476b-8d58-6b9c6277be47",
   "metadata": {},
   "outputs": [],
   "source": [
    "# importing libraries for text preprocessing\n",
    "import nltk\n",
    "from nltk.corpus import stopwords\n",
    "from nltk.tokenize import word_tokenize\n",
    "from nltk.stem import WordNetLemmatizer\n",
    "import string"
   ]
  },
  {
   "cell_type": "code",
   "execution_count": 7,
   "id": "a7793268-af94-47e8-b0de-bc00feb937ad",
   "metadata": {
    "scrolled": true
   },
   "outputs": [
    {
     "name": "stderr",
     "output_type": "stream",
     "text": [
      "[nltk_data] Downloading package punkt to\n",
      "[nltk_data]     C:\\Users\\USER\\AppData\\Roaming\\nltk_data...\n",
      "[nltk_data]   Package punkt is already up-to-date!\n",
      "[nltk_data] Downloading package stopwords to\n",
      "[nltk_data]     C:\\Users\\USER\\AppData\\Roaming\\nltk_data...\n",
      "[nltk_data]   Package stopwords is already up-to-date!\n",
      "[nltk_data] Downloading package wordnet to\n",
      "[nltk_data]     C:\\Users\\USER\\AppData\\Roaming\\nltk_data...\n",
      "[nltk_data]   Package wordnet is already up-to-date!\n"
     ]
    },
    {
     "data": {
      "text/plain": [
       "True"
      ]
     },
     "execution_count": 7,
     "metadata": {},
     "output_type": "execute_result"
    }
   ],
   "source": [
    "# downloading nltk resources\n",
    "nltk.download('punkt')\n",
    "nltk.download('stopwords')\n",
    "nltk.download('wordnet')"
   ]
  },
  {
   "cell_type": "code",
   "execution_count": 8,
   "id": "c9821755-e23a-4fe5-8297-deba3e376c73",
   "metadata": {},
   "outputs": [],
   "source": [
    "# initialize wordnet lemmatizer\n",
    "lemmatizer = WordNetLemmatizer()"
   ]
  },
  {
   "cell_type": "code",
   "execution_count": 9,
   "id": "8976bc71-267e-47bb-9ceb-48376fbacb39",
   "metadata": {},
   "outputs": [
    {
     "name": "stdout",
     "output_type": "stream",
     "text": [
      "Original Text:\n",
      "This is an example sentence for text preprocessing, including tokenization, lowercasing, stop word removal, and lemmatization.\n",
      "\n",
      "Preprocessed Text:\n",
      "example sentence text preprocessing including tokenization lowercasing stop word removal lemmatization\n"
     ]
    }
   ],
   "source": [
    "# Tokenization, lowercasing, removal of stop words, and lemmatization\n",
    "# function to preprocess texts\n",
    "def preprocess_text(text):\n",
    "    # tokenization\n",
    "    tokens = word_tokenize(text)\n",
    "\n",
    "    # lowercasing\n",
    "    tokens = [token.lower() for token in tokens]\n",
    "\n",
    "    # removal of punctuation\n",
    "    tokens = [token for token in tokens if token not in string.punctuation]\n",
    "\n",
    "    # removal of stop words\n",
    "    stop_words = set(stopwords.words('english'))\n",
    "    tokens = [token for token in tokens if token not in stop_words]\n",
    "\n",
    "    # lemmatization\n",
    "    tokens = [lemmatizer.lemmatize(token) for token in tokens]\n",
    "\n",
    "    # join tokens back into a single string\n",
    "    preprocessed_text = ' '.join(tokens)\n",
    "\n",
    "    return preprocessed_text\n",
    "\n",
    "# Example text\n",
    "text = \"This is an example sentence for text preprocessing, including tokenization, lowercasing, stop word removal, and lemmatization.\"\n",
    "\n",
    "# Preprocess the example text\n",
    "preprocessed_text = preprocess_text(text)\n",
    "print(\"Original Text:\")\n",
    "print(text)\n",
    "print(\"\\nPreprocessed Text:\")\n",
    "print(preprocessed_text)"
   ]
  },
  {
   "cell_type": "code",
   "execution_count": null,
   "id": "0dfd3af7-263c-4152-b170-9481fc3c65a3",
   "metadata": {},
   "outputs": [],
   "source": [
    "# confirming the text column in the train data\n",
    "df_train.head()"
   ]
  },
  {
   "cell_type": "code",
   "execution_count": 10,
   "id": "97b45a82-24f2-4019-9d06-b84438f5e49d",
   "metadata": {},
   "outputs": [],
   "source": [
    "# preprocess texts in 'safe_text' column in train data\n",
    "df_train['safe_text'] = df_train['safe_text'].apply(preprocess_text)"
   ]
  },
  {
   "cell_type": "code",
   "execution_count": 11,
   "id": "18a5100a-c8b0-4f1f-8c3b-f390435054ec",
   "metadata": {},
   "outputs": [],
   "source": [
    "# Convert 'safe_text' column to strings\n",
    "df_test['safe_text'] = df_test['safe_text'].astype(str)\n",
    "\n",
    "# preprocess texts in 'safe_text' column in test_data\n",
    "df_test['safe_text'] = df_test['safe_text'].apply(preprocess_text)"
   ]
  },
  {
   "cell_type": "code",
   "execution_count": 12,
   "id": "17b2123e-ea7e-4900-9e69-7d9958d931a6",
   "metadata": {},
   "outputs": [],
   "source": [
    "from sklearn.model_selection import train_test_split\n",
    "from sklearn.linear_model import LogisticRegression\n",
    "from sklearn.metrics import accuracy_score, classification_report, confusion_matrix\n",
    "from sklearn.feature_selection import SelectKBest, f_classif\n",
    "from sklearn.feature_extraction.text import TfidfVectorizer\n",
    "from sklearn.model_selection import learning_curve"
   ]
  },
  {
   "cell_type": "code",
   "execution_count": 13,
   "id": "46d211bd-a0c6-44a4-9a2e-f88bf7d2d5bd",
   "metadata": {},
   "outputs": [],
   "source": [
    "# TF-IDF Vectorization\n",
    "vectorizer = TfidfVectorizer(max_features=5000)\n",
    "X_train_text = vectorizer.fit_transform(df_train['safe_text'])\n",
    "X_test_text = vectorizer.transform(df_test['safe_text'])"
   ]
  },
  {
   "cell_type": "code",
   "execution_count": 14,
   "id": "5775873d-7042-43a9-95ab-d38cc9cba4c1",
   "metadata": {},
   "outputs": [],
   "source": [
    "# Combine text features with selected numerical features\n",
    "X_train_num = df_train.drop(columns=['label', 'agreement', 'tweet_id'])\n",
    "X_test_num = df_test.drop(columns=['tweet_id'])\n",
    "X_train = pd.concat([X_train_num, pd.DataFrame(X_train_text.toarray(), columns=vectorizer.get_feature_names_out())], axis=1)\n",
    "X_test = pd.concat([X_test_num, pd.DataFrame(X_test_text.toarray(), columns=vectorizer.get_feature_names_out())], axis=1)"
   ]
  },
  {
   "cell_type": "code",
   "execution_count": 22,
   "id": "6538b804-afad-4723-a829-9a6af84bee08",
   "metadata": {},
   "outputs": [
    {
     "name": "stdout",
     "output_type": "stream",
     "text": [
      "<class 'pandas.core.frame.DataFrame'>\n",
      "RangeIndex: 10001 entries, 0 to 10000\n",
      "Columns: 5001 entries, safe_text to ºoº\n",
      "dtypes: float64(5000), object(1)\n",
      "memory usage: 381.6+ MB\n"
     ]
    }
   ],
   "source": [
    "X_train.info()"
   ]
  },
  {
   "cell_type": "code",
   "execution_count": 17,
   "id": "a40890cb-d5dd-4ef9-b629-5c8e6672faf6",
   "metadata": {},
   "outputs": [
    {
     "name": "stdout",
     "output_type": "stream",
     "text": [
      "<class 'pandas.core.frame.DataFrame'>\n",
      "RangeIndex: 5177 entries, 0 to 5176\n",
      "Columns: 5001 entries, safe_text to ºoº\n",
      "dtypes: float64(5000), object(1)\n",
      "memory usage: 197.5+ MB\n"
     ]
    }
   ],
   "source": [
    "X_test.info()"
   ]
  },
  {
   "cell_type": "code",
   "execution_count": 30,
   "id": "e9433aab-22ff-4172-9067-955e114ed8e6",
   "metadata": {},
   "outputs": [],
   "source": [
    "# Remove non-numeric columns before feature selection\n",
    "X_train_numeric = X_train.select_dtypes(include=['float64'])\n",
    "X_test_numeric = X_test.select_dtypes(include=['float64'])\n",
    "\n",
    "# Feature Selection\n",
    "selector = SelectKBest(score_func=f_classif, k=23)\n",
    "X_train_selected = selector.fit_transform(X_train_numeric, df_train['label'])\n",
    "X_test_selected = selector.transform(X_test_numeric)"
   ]
  },
  {
   "cell_type": "code",
   "execution_count": null,
   "id": "3e34d5ee-be0b-40ea-b0ab-6d5daecc4323",
   "metadata": {},
   "outputs": [],
   "source": [
    "# Feature Selection\n",
    "selector = SelectKBest(score_func=f_classif, k=23)\n",
    "X_train_selected = selector.fit_transform(X_train, df_train['label'])\n",
    "X_test_selected = selector.transform(X_test)"
   ]
  },
  {
   "cell_type": "code",
   "execution_count": 31,
   "id": "c490ea8d-e4ee-4a0b-ab5b-089eb33b16a9",
   "metadata": {},
   "outputs": [],
   "source": [
    "# Split data into training and testing sets\n",
    "X_train_final, X_val, y_train_final, y_val = train_test_split(X_train_selected, df_train['label'], test_size=0.2, random_state=42)"
   ]
  },
  {
   "cell_type": "code",
   "execution_count": 33,
   "id": "e4b64ff7-baba-471f-a882-eaeeb3f24629",
   "metadata": {},
   "outputs": [],
   "source": [
    "# handle imbalanced data\n",
    "from imblearn.over_sampling import RandomOverSampler\n",
    "from imblearn.under_sampling import RandomUnderSampler"
   ]
  },
  {
   "cell_type": "code",
   "execution_count": 34,
   "id": "d7f7f2f0-3ea2-49fa-adc1-f87e9196bd09",
   "metadata": {},
   "outputs": [],
   "source": [
    "# Handle class imbalance\n",
    "oversampler = RandomOverSampler(sampling_strategy='auto', random_state=42)\n",
    "X_train_resampled, y_train_resampled = oversampler.fit_resample(X_train_final, y_train_final)"
   ]
  },
  {
   "cell_type": "code",
   "execution_count": 35,
   "id": "b72b51e0-48cd-469f-b96a-ab5a6db2ff15",
   "metadata": {},
   "outputs": [
    {
     "data": {
      "text/html": [
       "<style>#sk-container-id-1 {color: black;background-color: white;}#sk-container-id-1 pre{padding: 0;}#sk-container-id-1 div.sk-toggleable {background-color: white;}#sk-container-id-1 label.sk-toggleable__label {cursor: pointer;display: block;width: 100%;margin-bottom: 0;padding: 0.3em;box-sizing: border-box;text-align: center;}#sk-container-id-1 label.sk-toggleable__label-arrow:before {content: \"▸\";float: left;margin-right: 0.25em;color: #696969;}#sk-container-id-1 label.sk-toggleable__label-arrow:hover:before {color: black;}#sk-container-id-1 div.sk-estimator:hover label.sk-toggleable__label-arrow:before {color: black;}#sk-container-id-1 div.sk-toggleable__content {max-height: 0;max-width: 0;overflow: hidden;text-align: left;background-color: #f0f8ff;}#sk-container-id-1 div.sk-toggleable__content pre {margin: 0.2em;color: black;border-radius: 0.25em;background-color: #f0f8ff;}#sk-container-id-1 input.sk-toggleable__control:checked~div.sk-toggleable__content {max-height: 200px;max-width: 100%;overflow: auto;}#sk-container-id-1 input.sk-toggleable__control:checked~label.sk-toggleable__label-arrow:before {content: \"▾\";}#sk-container-id-1 div.sk-estimator input.sk-toggleable__control:checked~label.sk-toggleable__label {background-color: #d4ebff;}#sk-container-id-1 div.sk-label input.sk-toggleable__control:checked~label.sk-toggleable__label {background-color: #d4ebff;}#sk-container-id-1 input.sk-hidden--visually {border: 0;clip: rect(1px 1px 1px 1px);clip: rect(1px, 1px, 1px, 1px);height: 1px;margin: -1px;overflow: hidden;padding: 0;position: absolute;width: 1px;}#sk-container-id-1 div.sk-estimator {font-family: monospace;background-color: #f0f8ff;border: 1px dotted black;border-radius: 0.25em;box-sizing: border-box;margin-bottom: 0.5em;}#sk-container-id-1 div.sk-estimator:hover {background-color: #d4ebff;}#sk-container-id-1 div.sk-parallel-item::after {content: \"\";width: 100%;border-bottom: 1px solid gray;flex-grow: 1;}#sk-container-id-1 div.sk-label:hover label.sk-toggleable__label {background-color: #d4ebff;}#sk-container-id-1 div.sk-serial::before {content: \"\";position: absolute;border-left: 1px solid gray;box-sizing: border-box;top: 0;bottom: 0;left: 50%;z-index: 0;}#sk-container-id-1 div.sk-serial {display: flex;flex-direction: column;align-items: center;background-color: white;padding-right: 0.2em;padding-left: 0.2em;position: relative;}#sk-container-id-1 div.sk-item {position: relative;z-index: 1;}#sk-container-id-1 div.sk-parallel {display: flex;align-items: stretch;justify-content: center;background-color: white;position: relative;}#sk-container-id-1 div.sk-item::before, #sk-container-id-1 div.sk-parallel-item::before {content: \"\";position: absolute;border-left: 1px solid gray;box-sizing: border-box;top: 0;bottom: 0;left: 50%;z-index: -1;}#sk-container-id-1 div.sk-parallel-item {display: flex;flex-direction: column;z-index: 1;position: relative;background-color: white;}#sk-container-id-1 div.sk-parallel-item:first-child::after {align-self: flex-end;width: 50%;}#sk-container-id-1 div.sk-parallel-item:last-child::after {align-self: flex-start;width: 50%;}#sk-container-id-1 div.sk-parallel-item:only-child::after {width: 0;}#sk-container-id-1 div.sk-dashed-wrapped {border: 1px dashed gray;margin: 0 0.4em 0.5em 0.4em;box-sizing: border-box;padding-bottom: 0.4em;background-color: white;}#sk-container-id-1 div.sk-label label {font-family: monospace;font-weight: bold;display: inline-block;line-height: 1.2em;}#sk-container-id-1 div.sk-label-container {text-align: center;}#sk-container-id-1 div.sk-container {/* jupyter's `normalize.less` sets `[hidden] { display: none; }` but bootstrap.min.css set `[hidden] { display: none !important; }` so we also need the `!important` here to be able to override the default hidden behavior on the sphinx rendered scikit-learn.org. See: https://github.com/scikit-learn/scikit-learn/issues/21755 */display: inline-block !important;position: relative;}#sk-container-id-1 div.sk-text-repr-fallback {display: none;}</style><div id=\"sk-container-id-1\" class=\"sk-top-container\"><div class=\"sk-text-repr-fallback\"><pre>LogisticRegression(max_iter=1000)</pre><b>In a Jupyter environment, please rerun this cell to show the HTML representation or trust the notebook. <br />On GitHub, the HTML representation is unable to render, please try loading this page with nbviewer.org.</b></div><div class=\"sk-container\" hidden><div class=\"sk-item\"><div class=\"sk-estimator sk-toggleable\"><input class=\"sk-toggleable__control sk-hidden--visually\" id=\"sk-estimator-id-1\" type=\"checkbox\" checked><label for=\"sk-estimator-id-1\" class=\"sk-toggleable__label sk-toggleable__label-arrow\">LogisticRegression</label><div class=\"sk-toggleable__content\"><pre>LogisticRegression(max_iter=1000)</pre></div></div></div></div></div>"
      ],
      "text/plain": [
       "LogisticRegression(max_iter=1000)"
      ]
     },
     "execution_count": 35,
     "metadata": {},
     "output_type": "execute_result"
    }
   ],
   "source": [
    "# Model Training\n",
    "logistic_model = LogisticRegression(max_iter=1000)\n",
    "logistic_model.fit(X_train_resampled, y_train_resampled)"
   ]
  },
  {
   "cell_type": "code",
   "execution_count": 37,
   "id": "98fba97d-6057-42b0-ad22-5f9fc80ee597",
   "metadata": {},
   "outputs": [
    {
     "name": "stdout",
     "output_type": "stream",
     "text": [
      "Validation Accuracy: 60.16991504247876\n",
      "Classification Report:\n",
      "              precision    recall  f1-score   support\n",
      "\n",
      "          -1       0.25      0.62      0.36       231\n",
      "           0       0.77      0.75      0.76       988\n",
      "           1       0.69      0.41      0.52       782\n",
      "\n",
      "    accuracy                           0.60      2001\n",
      "   macro avg       0.57      0.59      0.54      2001\n",
      "weighted avg       0.68      0.60      0.62      2001\n",
      "\n",
      "Confusion Matrix:\n",
      "[[143  28  60]\n",
      " [165 739  84]\n",
      " [263 197 322]]\n"
     ]
    }
   ],
   "source": [
    "# Model Evaluation\n",
    "y_pred_val = logistic_model.predict(X_val)\n",
    "accuracy = accuracy_score(y_val, y_pred_val)\n",
    "print(\"Validation Accuracy:\", accuracy*100)\n",
    "print(\"Classification Report:\")\n",
    "print(classification_report(y_val, y_pred_val))\n",
    "print(\"Confusion Matrix:\")\n",
    "print(confusion_matrix(y_val, y_pred_val))"
   ]
  },
  {
   "cell_type": "code",
   "execution_count": 39,
   "id": "05674877-31e5-4322-a143-46b337ff7f31",
   "metadata": {},
   "outputs": [],
   "source": [
    "# function check for overfitting or underfitting\n",
    "def plot_learning_curve(estimator, title, X, y, ylim=None, cv=None, n_jobs=None, train_sizes=np.linspace(.1, 1.0, 5)):\n",
    "    plt.figure()\n",
    "    plt.title(title)\n",
    "    if ylim is not None:\n",
    "        plt.ylim(*ylim)\n",
    "    plt.xlabel(\"Training examples\")\n",
    "    plt.ylabel(\"Score\")\n",
    "    train_sizes, train_scores, test_scores = learning_curve(\n",
    "        estimator, X, y, cv=cv, n_jobs=n_jobs, train_sizes=train_sizes)\n",
    "    train_scores_mean = np.mean(train_scores, axis=1)\n",
    "    train_scores_std = np.std(train_scores, axis=1)\n",
    "    test_scores_mean = np.mean(test_scores, axis=1)\n",
    "    test_scores_std = np.std(test_scores, axis=1)\n",
    "    plt.grid()\n",
    "\n",
    "    plt.fill_between(train_sizes, train_scores_mean - train_scores_std,\n",
    "                     train_scores_mean + train_scores_std, alpha=0.1,\n",
    "                     color=\"r\")\n",
    "    plt.fill_between(train_sizes, test_scores_mean - test_scores_std,\n",
    "                     test_scores_mean + test_scores_std, alpha=0.1, color=\"g\")\n",
    "    plt.plot(train_sizes, train_scores_mean, 'o-', color=\"r\",\n",
    "             label=\"Training score\")\n",
    "    plt.plot(train_sizes, test_scores_mean, 'o-', color=\"g\",\n",
    "             label=\"Cross-validation score\")\n",
    "\n",
    "    plt.legend(loc=\"best\")\n",
    "    \n",
    "    # Check for overfitting or underfitting\n",
    "    diff_scores = train_scores_mean - test_scores_mean\n",
    "    if np.any(diff_scores > 0):\n",
    "        print(\"Yes, overfitting\")\n",
    "    elif np.any(diff_scores < 0):\n",
    "        print(\"Yes, underfitting\")\n",
    "    else:\n",
    "        print(\"No overfitting or underfitting\")\n",
    "    \n",
    "    return plt"
   ]
  },
  {
   "cell_type": "code",
   "execution_count": 40,
   "id": "b5882c6e-da8e-46e8-827c-2030ab0f2bc8",
   "metadata": {},
   "outputs": [
    {
     "name": "stdout",
     "output_type": "stream",
     "text": [
      "Yes, overfitting\n"
     ]
    },
    {
     "data": {
      "image/png": "[encoded data removed]",
      "text/plain": [
       "<Figure size 640x480 with 1 Axes>"
      ]
     },
     "metadata": {},
     "output_type": "display_data"
    }
   ],
   "source": [
    "# Learning Curve\n",
    "title = \"Learning Curves (Logistic Regression)\"\n",
    "plot_learning_curve(logistic_model, title, X_train_resampled, y_train_resampled, cv=5, n_jobs=-1)\n",
    "plt.show()"
   ]
  },
  {
   "cell_type": "code",
   "execution_count": 43,
   "id": "1e08f260-4a94-479f-894f-a9c3cf0e2a13",
   "metadata": {},
   "outputs": [],
   "source": [
    "# Make predictions on test data and create submission DataFrame\n",
    "test_predictions = logistic_model.predict(X_test_selected)\n",
    "submission_df = pd.DataFrame({'tweet_id': df_test['tweet_id'], 'label': test_predictions})\n",
    "submission_df.to_csv('submission.csv', index=False)"
   ]
  },
  {
   "cell_type": "code",
   "execution_count": null,
   "id": "227f51f9-f149-46a1-a395-76c24f77784b",
   "metadata": {},
   "outputs": [],
   "source": []
  },
  {
   "cell_type": "code",
   "execution_count": null,
   "id": "6dff2cb9-a702-4165-b7d0-84dd7da176f5",
   "metadata": {},
   "outputs": [],
   "source": []
  },
  {
   "cell_type": "code",
   "execution_count": null,
   "id": "42797271-9e14-4c98-81ef-e065d6673b94",
   "metadata": {},
   "outputs": [],
   "source": []
  },
  {
   "cell_type": "code",
   "execution_count": null,
   "id": "d767c23c-306d-4341-9852-72ee8a256d67",
   "metadata": {},
   "outputs": [],
   "source": [
    "# check for imbalanced data\n",
    "class_counts = df_train['label'].value_counts()\n",
    "print(f\"Class Distribution: \\n{class_counts}\")"
   ]
  },
  {
   "cell_type": "code",
   "execution_count": null,
   "id": "2eb329c4-91b0-41b4-a31a-8cc4e1d97487",
   "metadata": {},
   "outputs": [],
   "source": [
    "# handle imbalanced data\n",
    "from imblearn.over_sampling import RandomOverSampler\n",
    "from imblearn.under_sampling import RandomUnderSampler"
   ]
  },
  {
   "cell_type": "code",
   "execution_count": null,
   "id": "1044d106-9ebc-4bda-bcd9-4b80e55ee516",
   "metadata": {},
   "outputs": [],
   "source": [
    "# check if imbalance is significant\n",
    "if len(class_counts) > 1:\n",
    "    minority_class = class_counts.idxmin()\n",
    "    majority_class = class_counts.idxmax()\n",
    "    minority_count = class_counts[minority_class]\n",
    "    majority_count = class_counts[majority_class]\n",
    "    imbalance_ratio = minority_count / majority_count\n",
    "\n",
    "    if imbalance_ratio < 0.1:  # Imbalance threshold (adjust as needed)\n",
    "        print(\"Imbalanced data detected. Applying resampling technique...\")\n",
    "\n",
    "        # Resampling technique (choose between oversampling or undersampling)\n",
    "        # Oversampling\n",
    "        oversampler = RandomOverSampler(sampling_strategy='auto', random_state=42)\n",
    "        X_resampled, y_resampled = oversampler.fit_resample(X_train, y_train)\n",
    "\n",
    "        # Undersampling\n",
    "        # undersampler = RandomUnderSampler(sampling_strategy='auto', random_state=42)\n",
    "        # X_resampled, y_resampled = undersampler.fit_resample(X_train, y_train)\n",
    "\n",
    "        # Update training data with resampled data\n",
    "        X_train = X_resampled\n",
    "        y_train = y_resampled\n",
    "\n",
    "        print(\"Resampling completed.\")\n",
    "\n",
    "    else:\n",
    "        print(\"No significant imbalance detected. Proceeding with the original data.\")\n",
    "\n",
    "else:\n",
    "    print(\"Single class detected. No imbalance issue.\")"
   ]
  },
  {
   "cell_type": "code",
   "execution_count": null,
   "id": "bcda4776-e1ce-4ed8-8c43-1abf26075801",
   "metadata": {},
   "outputs": [],
   "source": [
    "# importing libraries for feature selection and dimensionality reduction\n",
    "from sklearn.feature_selection import SelectKBest, f_classif\n",
    "from sklearn.decomposition import PCA\n",
    "from sklearn.preprocessing import StandardScaler"
   ]
  },
  {
   "cell_type": "markdown",
   "id": "ab4e061b-5932-4c4f-bdfc-4cb5e6d3de2f",
   "metadata": {},
   "source": [
    "###### check if feature selection or dimensionality reduction is needed\n",
    "###### correlation"
   ]
  },
  {
   "cell_type": "code",
   "execution_count": null,
   "id": "a86017ec-464f-47e1-ab46-798f97599416",
   "metadata": {},
   "outputs": [],
   "source": [
    "# Exclude non-numeric columns (tweet_id and safe_text) before computing correlation matrix\n",
    "#cols = ['label','agreement']\n",
    "#cor_matrix = df_train[cols].corr()\n",
    "\n",
    "# Visualize correlation matrix\n",
    "#plt.figure(figsize=(10, 8))\n",
    "#sns.heatmap(cor_matrix, annot=True, cmap='coolwarm', fmt=\".2f\")\n",
    "#plt.title(\"Correlation Matrix\")\n",
    "#plt.show()"
   ]
  },
  {
   "cell_type": "markdown",
   "id": "f52e7f01-1e7b-451e-92de-a381c4e1b707",
   "metadata": {},
   "source": [
    "###### Feature Selection"
   ]
  },
  {
   "cell_type": "code",
   "execution_count": null,
   "id": "c37e0ed7-5fe8-444b-8545-f6106295ed10",
   "metadata": {},
   "outputs": [],
   "source": [
    "# save tweet_id column\n",
    "tweet_id = df_train['tweet_id']"
   ]
  },
  {
   "cell_type": "code",
   "execution_count": null,
   "id": "2c5bf789-7f44-40e3-8cfc-9deb867ae10e",
   "metadata": {},
   "outputs": [],
   "source": [
    "# Drop the tweet_id column from the DataFrame\n",
    "df_train.drop(columns=['tweet_id'], inplace=True)"
   ]
  },
  {
   "cell_type": "code",
   "execution_count": null,
   "id": "56aa85ee-aa01-4428-830a-eb80b12c39a4",
   "metadata": {},
   "outputs": [],
   "source": [
    "# we have to deal with the texts in safe_tweet\n",
    "# import necessary library\n",
    "from sklearn.feature_extraction.text import TfidfVectorizer"
   ]
  },
  {
   "cell_type": "code",
   "execution_count": null,
   "id": "c7f4e906-7e18-4335-9dfa-5fd1973e9e80",
   "metadata": {},
   "outputs": [],
   "source": [
    "# preprocess text data\n",
    "vectorizer = TfidfVectorizer(max_features=5000)\n",
    "X_text = vectorizer.fit_transform(df_train['safe_text'])\n",
    "Y_text = vectorizer.fit_transform(df_test['safe_text'])"
   ]
  },
  {
   "cell_type": "code",
   "execution_count": null,
   "id": "d0050cbd-86d4-4357-b788-07ef8d81b1e0",
   "metadata": {},
   "outputs": [],
   "source": [
    "# Convert text data to DataFrame\n",
    "X_text_df = pd.DataFrame(X_text.toarray(), columns=vectorizer.get_feature_names_out())\n",
    "Y_text_df = pd.DataFrame(Y_text.toarray(), columns=vectorizer.get_feature_names_out())\n",
    "X_text_df.head(2)"
   ]
  },
  {
   "cell_type": "code",
   "execution_count": null,
   "id": "87aeee94-d20c-4add-9568-c7b44ac240d4",
   "metadata": {},
   "outputs": [],
   "source": [
    "Y_text_df.head(2)"
   ]
  },
  {
   "cell_type": "code",
   "execution_count": null,
   "id": "12dff2d5-3227-4db4-b877-a9bb88a91a8d",
   "metadata": {},
   "outputs": [],
   "source": [
    "# Drop the original 'safe_text' column from the DataFrame\n",
    "df_train.drop(columns=['safe_text'], inplace=True)"
   ]
  },
  {
   "cell_type": "code",
   "execution_count": null,
   "id": "d8c37113-b5e0-486e-bef4-4e8942be075c",
   "metadata": {},
   "outputs": [],
   "source": [
    "# Concatenate the numerical features (if any) with the preprocessed text features\n",
    "X = pd.concat([df_train.drop(columns=['label', 'agreement']), X_text_df], axis=1)\n",
    "y = df_train['label']"
   ]
  },
  {
   "cell_type": "code",
   "execution_count": null,
   "id": "86b1294b-1342-4c4e-a906-e5dee4112432",
   "metadata": {},
   "outputs": [],
   "source": [
    "df_test = pd.concat([df_test.drop(columns=['safe_text']), Y_text_df], axis=1)"
   ]
  },
  {
   "cell_type": "code",
   "execution_count": null,
   "id": "47c73efe-596f-4813-826c-f9f8046fde96",
   "metadata": {},
   "outputs": [],
   "source": [
    "df_test.head()"
   ]
  },
  {
   "cell_type": "code",
   "execution_count": null,
   "id": "e23b60e5-0146-4b29-88f9-379eb24066d9",
   "metadata": {},
   "outputs": [],
   "source": [
    "X.head()"
   ]
  },
  {
   "cell_type": "code",
   "execution_count": null,
   "id": "8040d73b-9605-4844-9fb5-b486b21fa403",
   "metadata": {},
   "outputs": [],
   "source": [
    "# Feature Selection\n",
    "# Select top k features using ANOVA F-value\n",
    "selector = SelectKBest(score_func=f_classif, k=23)  # Adjust k as needed\n",
    "X_selected = selector.fit_transform(X, y)"
   ]
  },
  {
   "cell_type": "code",
   "execution_count": null,
   "id": "fd303987-c2d1-4d13-ac78-18e91b50a906",
   "metadata": {},
   "outputs": [],
   "source": [
    "# Get the selected feature indices\n",
    "selected_indices = selector.get_support(indices=True)\n",
    "\n",
    "# Print selected feature names (optional)\n",
    "selected_feature_names = X.columns[selected_indices]\n",
    "print(\"Selected Features:\")\n",
    "print(selected_feature_names)"
   ]
  },
  {
   "cell_type": "code",
   "execution_count": null,
   "id": "2825b376-cdbd-465f-b788-94f67a6f3bee",
   "metadata": {},
   "outputs": [],
   "source": [
    "y"
   ]
  },
  {
   "cell_type": "code",
   "execution_count": null,
   "id": "a48962e9-b5b8-43a0-acf1-ce24b926f065",
   "metadata": {},
   "outputs": [],
   "source": [
    "# import necessary libraries\n",
    "from sklearn.model_selection import train_test_split\n",
    "from sklearn.linear_model import LogisticRegression\n",
    "from sklearn.metrics import accuracy_score, classification_report, confusion_matrix"
   ]
  },
  {
   "cell_type": "code",
   "execution_count": null,
   "id": "9247fc0e-afb7-4b27-8118-369a7559859c",
   "metadata": {},
   "outputs": [],
   "source": [
    "# Split the data into training and testing sets\n",
    "X_train, X_test, y_train, y_test = train_test_split(X, y, test_size=0.2, random_state=42)"
   ]
  },
  {
   "cell_type": "code",
   "execution_count": null,
   "id": "2152b310-292f-48d6-ae14-4814d87a25b2",
   "metadata": {},
   "outputs": [],
   "source": [
    "# Initialize and train the logistic regression model\n",
    "logistic_model = LogisticRegression(max_iter=1000)\n",
    "logistic_model.fit(X_train, y_train)"
   ]
  },
  {
   "cell_type": "code",
   "execution_count": null,
   "id": "c21f3c24-fd46-4b65-9dd6-fe268e6a6990",
   "metadata": {},
   "outputs": [],
   "source": [
    "# Make predictions on the test set\n",
    "y_pred = logistic_model.predict(X_test)"
   ]
  },
  {
   "cell_type": "code",
   "execution_count": null,
   "id": "4721de40-1001-405d-aec7-4b95ef1eb162",
   "metadata": {},
   "outputs": [],
   "source": [
    "# Evaluate the model\n",
    "accuracy = accuracy_score(y_test, y_pred)\n",
    "print(\"Accuracy:\", accuracy*100)"
   ]
  },
  {
   "cell_type": "code",
   "execution_count": null,
   "id": "bedb0ab3-9e9f-4fbf-9313-b984339ddab3",
   "metadata": {},
   "outputs": [],
   "source": [
    "# Print classification report\n",
    "print(\"Classification Report:\")\n",
    "print(classification_report(y_test, y_pred))"
   ]
  },
  {
   "cell_type": "code",
   "execution_count": null,
   "id": "60427461-1667-4e2a-a8aa-208a19cb366c",
   "metadata": {},
   "outputs": [],
   "source": [
    "# Print confusion matrix\n",
    "print(\"Confusion Matrix:\")\n",
    "print(confusion_matrix(y_test, y_pred))"
   ]
  },
  {
   "cell_type": "code",
   "execution_count": null,
   "id": "1d649c7d-4c2a-42be-a52a-f070b4dd9620",
   "metadata": {},
   "outputs": [],
   "source": [
    "# check for overfittin gor underfitting\n",
    "# importing necessary libraries\n",
    "from sklearn.model_selection import learning_curve"
   ]
  },
  {
   "cell_type": "code",
   "execution_count": null,
   "id": "e27c6457-64f7-4698-b399-e87e13aa439e",
   "metadata": {},
   "outputs": [],
   "source": [
    "# function check for overfitting or underfitting\n",
    "def plot_learning_curve(estimator, title, X, y, ylim=None, cv=None, n_jobs=None, train_sizes=np.linspace(.1, 1.0, 5)):\n",
    "    plt.figure()\n",
    "    plt.title(title)\n",
    "    if ylim is not None:\n",
    "        plt.ylim(*ylim)\n",
    "    plt.xlabel(\"Training examples\")\n",
    "    plt.ylabel(\"Score\")\n",
    "    train_sizes, train_scores, test_scores = learning_curve(\n",
    "        estimator, X, y, cv=cv, n_jobs=n_jobs, train_sizes=train_sizes)\n",
    "    train_scores_mean = np.mean(train_scores, axis=1)\n",
    "    train_scores_std = np.std(train_scores, axis=1)\n",
    "    test_scores_mean = np.mean(test_scores, axis=1)\n",
    "    test_scores_std = np.std(test_scores, axis=1)\n",
    "    plt.grid()\n",
    "\n",
    "    plt.fill_between(train_sizes, train_scores_mean - train_scores_std,\n",
    "                     train_scores_mean + train_scores_std, alpha=0.1,\n",
    "                     color=\"r\")\n",
    "    plt.fill_between(train_sizes, test_scores_mean - test_scores_std,\n",
    "                     test_scores_mean + test_scores_std, alpha=0.1, color=\"g\")\n",
    "    plt.plot(train_sizes, train_scores_mean, 'o-', color=\"r\",\n",
    "             label=\"Training score\")\n",
    "    plt.plot(train_sizes, test_scores_mean, 'o-', color=\"g\",\n",
    "             label=\"Cross-validation score\")\n",
    "\n",
    "    plt.legend(loc=\"best\")\n",
    "    \n",
    "    # Check for overfitting or underfitting\n",
    "    diff_scores = train_scores_mean - test_scores_mean\n",
    "    if np.any(diff_scores > 0):\n",
    "        print(\"Yes, overfitting\")\n",
    "    elif np.any(diff_scores < 0):\n",
    "        print(\"Yes, underfitting\")\n",
    "    else:\n",
    "        print(\"No overfitting or underfitting\")\n",
    "    \n",
    "    return plt"
   ]
  },
  {
   "cell_type": "code",
   "execution_count": null,
   "id": "7c08444f-9090-4658-9656-80e2698d7475",
   "metadata": {},
   "outputs": [],
   "source": [
    "# Plot learning curves\n",
    "title = \"Learning Curves (Logistic Regression)\"\n",
    "plot_learning_curve(logistic_model, title, X_train, y_train, cv=5, n_jobs=-1)\n",
    "\n",
    "plt.show()"
   ]
  },
  {
   "cell_type": "code",
   "execution_count": null,
   "id": "97bfe26d-df62-47de-945a-ae41336b8fe2",
   "metadata": {},
   "outputs": [],
   "source": [
    "# Drop 'tweet_id' from the test data\n",
    "df_test.drop(columns=['tweet_id'], inplace=True)"
   ]
  },
  {
   "cell_type": "code",
   "execution_count": null,
   "id": "c5f5e11c-e8a8-48c1-8e24-326d69daad16",
   "metadata": {},
   "outputs": [],
   "source": [
    "# Make predictions on the test data\n",
    "test_predictions = logistic_model.predict(df_test)"
   ]
  },
  {
   "cell_type": "code",
   "execution_count": null,
   "id": "4afe1b34-1d40-4512-a6b2-977120e6cef2",
   "metadata": {},
   "outputs": [],
   "source": [
    "# Create a DataFrame for submission\n",
    "submission_df = pd.DataFrame({'tweet_id': tweet_id, 'label': test_predictions})"
   ]
  },
  {
   "cell_type": "code",
   "execution_count": null,
   "id": "a873c066-c652-4cad-8508-d80946fbbcc4",
   "metadata": {},
   "outputs": [],
   "source": []
  },
  {
   "cell_type": "code",
   "execution_count": null,
   "id": "40b976a9-d908-4321-8f8d-3d862035af6f",
   "metadata": {},
   "outputs": [],
   "source": []
  },
  {
   "cell_type": "code",
   "execution_count": null,
   "id": "4758c252-5514-42f8-b7d4-6f465b159ccf",
   "metadata": {},
   "outputs": [],
   "source": []
  },
  {
   "cell_type": "code",
   "execution_count": null,
   "id": "143870cb-2ae0-40ce-9559-e98771302cc5",
   "metadata": {},
   "outputs": [],
   "source": []
  },
  {
   "cell_type": "code",
   "execution_count": null,
   "id": "ffd2b322-dc78-41ae-a5ff-9d618e754a72",
   "metadata": {},
   "outputs": [],
   "source": []
  },
  {
   "cell_type": "code",
   "execution_count": null,
   "id": "ec530a0e-0e65-4809-97df-76c75d42edec",
   "metadata": {},
   "outputs": [],
   "source": []
  },
  {
   "cell_type": "code",
   "execution_count": null,
   "id": "69a7204a-8515-485d-ba7b-2e5d2d87d7fe",
   "metadata": {},
   "outputs": [],
   "source": []
  }
 ],
 "metadata": {
  "kernelspec": {
   "display_name": "Python 3 (ipykernel)",
   "language": "python",
   "name": "python3"
  },
  "language_info": {
   "codemirror_mode": {
    "name": "ipython",
    "version": 3
   },
   "file_extension": ".py",
   "mimetype": "text/x-python",
   "name": "python",
   "nbconvert_exporter": "python",
   "pygments_lexer": "ipython3",
   "version": "3.11.7"
  }
 },
 "nbformat": 4,
 "nbformat_minor": 5
}
