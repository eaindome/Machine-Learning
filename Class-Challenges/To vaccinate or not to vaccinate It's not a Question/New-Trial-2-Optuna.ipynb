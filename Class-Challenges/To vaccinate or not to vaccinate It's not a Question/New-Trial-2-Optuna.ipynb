{
 "cells": [
  {
   "cell_type": "code",
   "execution_count": 1,
   "id": "7eb9a82e-a60d-4bef-82a2-b7d14193930a",
   "metadata": {},
   "outputs": [],
   "source": [
    "import numpy as np\n",
    "import pandas as pd\n",
    "import seaborn as sns\n",
    "import matplotlib.pyplot as plt\n",
    "import warnings\n",
    "%matplotlib inline\n",
    "warnings.filterwarnings('ignore')   # suppress warnings"
   ]
  },
  {
   "cell_type": "code",
   "execution_count": 2,
   "id": "65254725-da99-4656-90a9-a90f68c2670d",
   "metadata": {},
   "outputs": [
    {
     "name": "stdout",
     "output_type": "stream",
     "text": [
      "(10001, 4)\n"
     ]
    },
    {
     "data": {
      "text/html": [
       "<div>\n",
       "<style scoped>\n",
       "    .dataframe tbody tr th:only-of-type {\n",
       "        vertical-align: middle;\n",
       "    }\n",
       "\n",
       "    .dataframe tbody tr th {\n",
       "        vertical-align: top;\n",
       "    }\n",
       "\n",
       "    .dataframe thead th {\n",
       "        text-align: right;\n",
       "    }\n",
       "</style>\n",
       "<table border=\"1\" class=\"dataframe\">\n",
       "  <thead>\n",
       "    <tr style=\"text-align: right;\">\n",
       "      <th></th>\n",
       "      <th>tweet_id</th>\n",
       "      <th>safe_text</th>\n",
       "      <th>label</th>\n",
       "      <th>agreement</th>\n",
       "    </tr>\n",
       "  </thead>\n",
       "  <tbody>\n",
       "    <tr>\n",
       "      <th>0</th>\n",
       "      <td>CL1KWCMY</td>\n",
       "      <td>Me &amp;amp; The Big Homie meanboy3000 #MEANBOY #M...</td>\n",
       "      <td>0.0</td>\n",
       "      <td>1.0</td>\n",
       "    </tr>\n",
       "    <tr>\n",
       "      <th>1</th>\n",
       "      <td>E3303EME</td>\n",
       "      <td>I'm 100% thinking of devoting my career to pro...</td>\n",
       "      <td>1.0</td>\n",
       "      <td>1.0</td>\n",
       "    </tr>\n",
       "    <tr>\n",
       "      <th>2</th>\n",
       "      <td>M4IVFSMS</td>\n",
       "      <td>#whatcausesautism VACCINES, DO NOT VACCINATE Y...</td>\n",
       "      <td>-1.0</td>\n",
       "      <td>1.0</td>\n",
       "    </tr>\n",
       "    <tr>\n",
       "      <th>3</th>\n",
       "      <td>1DR6ROZ4</td>\n",
       "      <td>I mean if they immunize my kid with something ...</td>\n",
       "      <td>-1.0</td>\n",
       "      <td>1.0</td>\n",
       "    </tr>\n",
       "    <tr>\n",
       "      <th>4</th>\n",
       "      <td>J77ENIIE</td>\n",
       "      <td>Thanks to &lt;user&gt; Catch me performing at La Nui...</td>\n",
       "      <td>0.0</td>\n",
       "      <td>1.0</td>\n",
       "    </tr>\n",
       "  </tbody>\n",
       "</table>\n",
       "</div>"
      ],
      "text/plain": [
       "   tweet_id                                          safe_text  label  \\\n",
       "0  CL1KWCMY  Me &amp; The Big Homie meanboy3000 #MEANBOY #M...    0.0   \n",
       "1  E3303EME  I'm 100% thinking of devoting my career to pro...    1.0   \n",
       "2  M4IVFSMS  #whatcausesautism VACCINES, DO NOT VACCINATE Y...   -1.0   \n",
       "3  1DR6ROZ4  I mean if they immunize my kid with something ...   -1.0   \n",
       "4  J77ENIIE  Thanks to <user> Catch me performing at La Nui...    0.0   \n",
       "\n",
       "   agreement  \n",
       "0        1.0  \n",
       "1        1.0  \n",
       "2        1.0  \n",
       "3        1.0  \n",
       "4        1.0  "
      ]
     },
     "execution_count": 2,
     "metadata": {},
     "output_type": "execute_result"
    }
   ],
   "source": [
    "# train data\n",
    "df_train = pd.read_csv('Train.csv')\n",
    "print(df_train.shape)\n",
    "df_train.head()"
   ]
  },
  {
   "cell_type": "code",
   "execution_count": 3,
   "id": "03271e91-c43b-49ce-be24-461876c0b34c",
   "metadata": {},
   "outputs": [
    {
     "name": "stdout",
     "output_type": "stream",
     "text": [
      "(5177, 2)\n"
     ]
    },
    {
     "data": {
      "text/html": [
       "<div>\n",
       "<style scoped>\n",
       "    .dataframe tbody tr th:only-of-type {\n",
       "        vertical-align: middle;\n",
       "    }\n",
       "\n",
       "    .dataframe tbody tr th {\n",
       "        vertical-align: top;\n",
       "    }\n",
       "\n",
       "    .dataframe thead th {\n",
       "        text-align: right;\n",
       "    }\n",
       "</style>\n",
       "<table border=\"1\" class=\"dataframe\">\n",
       "  <thead>\n",
       "    <tr style=\"text-align: right;\">\n",
       "      <th></th>\n",
       "      <th>tweet_id</th>\n",
       "      <th>safe_text</th>\n",
       "    </tr>\n",
       "  </thead>\n",
       "  <tbody>\n",
       "    <tr>\n",
       "      <th>0</th>\n",
       "      <td>00BHHHP1</td>\n",
       "      <td>&lt;user&gt; &lt;user&gt; ... &amp;amp; 4 a vaccine given 2 he...</td>\n",
       "    </tr>\n",
       "    <tr>\n",
       "      <th>1</th>\n",
       "      <td>00UNMD0E</td>\n",
       "      <td>Students starting school without whooping coug...</td>\n",
       "    </tr>\n",
       "    <tr>\n",
       "      <th>2</th>\n",
       "      <td>01AXPTJF</td>\n",
       "      <td>I'm kinda over every ep of &lt;user&gt; being \"rippe...</td>\n",
       "    </tr>\n",
       "    <tr>\n",
       "      <th>3</th>\n",
       "      <td>01HOEQJW</td>\n",
       "      <td>How many innocent children die for lack of vac...</td>\n",
       "    </tr>\n",
       "    <tr>\n",
       "      <th>4</th>\n",
       "      <td>01JUKMAO</td>\n",
       "      <td>CDC eyeing bird flu vaccine for humans, though...</td>\n",
       "    </tr>\n",
       "  </tbody>\n",
       "</table>\n",
       "</div>"
      ],
      "text/plain": [
       "   tweet_id                                          safe_text\n",
       "0  00BHHHP1  <user> <user> ... &amp; 4 a vaccine given 2 he...\n",
       "1  00UNMD0E  Students starting school without whooping coug...\n",
       "2  01AXPTJF  I'm kinda over every ep of <user> being \"rippe...\n",
       "3  01HOEQJW  How many innocent children die for lack of vac...\n",
       "4  01JUKMAO  CDC eyeing bird flu vaccine for humans, though..."
      ]
     },
     "execution_count": 3,
     "metadata": {},
     "output_type": "execute_result"
    }
   ],
   "source": [
    "# test data\n",
    "df_test = pd.read_csv('Test.csv')\n",
    "print(df_test.shape)\n",
    "df_test.head()"
   ]
  },
  {
   "cell_type": "code",
   "execution_count": 4,
   "id": "78ee7f1e-8d21-4c0b-b410-6b2d4657e5d2",
   "metadata": {},
   "outputs": [
    {
     "name": "stdout",
     "output_type": "stream",
     "text": [
      "Column: label\n",
      "Mean round: 0\n",
      "Column: agreement\n",
      "Mean round: 1\n"
     ]
    }
   ],
   "source": [
    "# fill missing values\n",
    "# label and aggreement are floating numbers, use mean and round\n",
    "cols = ['label', 'agreement']\n",
    "for col in cols:\n",
    "    print(f'Column: {col}')\n",
    "    mean_rounded = round(df_train[col].mean())\n",
    "    print(f'Mean round: {mean_rounded}')\n",
    "    df_train[col].fillna(mean_rounded, inplace=True)"
   ]
  },
  {
   "cell_type": "code",
   "execution_count": 5,
   "id": "00731ab6-abb5-4149-a1fa-82c51357abc7",
   "metadata": {},
   "outputs": [
    {
     "name": "stdout",
     "output_type": "stream",
     "text": [
      "label\n",
      " 0    4909\n",
      " 1    4054\n",
      "-1    1038\n",
      "Name: count, dtype: int64\n"
     ]
    }
   ],
   "source": [
    "# there are some inconsistencies, label values should either be 1, 0, -1\n",
    "\n",
    "# Check the values in the target variable and handle any inconsistencies\n",
    "df_train['label'] = df_train['label'].round().astype(int)\n",
    "\n",
    "# Verify the counts of the target variable after handling inconsistencies\n",
    "label_counts = df_train['label'].value_counts()\n",
    "print(label_counts)"
   ]
  },
  {
   "cell_type": "code",
   "execution_count": 6,
   "id": "3ceee8e4-e03b-4b46-b067-aa8a0f06e78d",
   "metadata": {},
   "outputs": [],
   "source": [
    "from sklearn.model_selection import train_test_split\n",
    "from sklearn.feature_extraction.text import TfidfVectorizer\n",
    "from sklearn.ensemble import RandomForestClassifier\n",
    "from sklearn.metrics import classification_report, accuracy_score"
   ]
  },
  {
   "cell_type": "code",
   "execution_count": 7,
   "id": "1181ca5f-cf95-49f3-bef1-90fcf21bc5ac",
   "metadata": {},
   "outputs": [],
   "source": [
    "# Text Preprocessing\n",
    "# (You may need to install nltk and download its data using nltk.download() for stopwords and WordNet)\n",
    "import nltk\n",
    "from nltk.corpus import stopwords\n",
    "from nltk.stem import WordNetLemmatizer"
   ]
  },
  {
   "cell_type": "code",
   "execution_count": 8,
   "id": "21faee04-0394-4155-a6d5-afe9c9237e9e",
   "metadata": {},
   "outputs": [
    {
     "name": "stderr",
     "output_type": "stream",
     "text": [
      "[nltk_data] Downloading package punkt to\n",
      "[nltk_data]     C:\\Users\\USER\\AppData\\Roaming\\nltk_data...\n",
      "[nltk_data]   Package punkt is already up-to-date!\n",
      "[nltk_data] Downloading package stopwords to\n",
      "[nltk_data]     C:\\Users\\USER\\AppData\\Roaming\\nltk_data...\n",
      "[nltk_data]   Package stopwords is already up-to-date!\n",
      "[nltk_data] Downloading package wordnet to\n",
      "[nltk_data]     C:\\Users\\USER\\AppData\\Roaming\\nltk_data...\n",
      "[nltk_data]   Package wordnet is already up-to-date!\n"
     ]
    },
    {
     "data": {
      "text/plain": [
       "True"
      ]
     },
     "execution_count": 8,
     "metadata": {},
     "output_type": "execute_result"
    }
   ],
   "source": [
    "# downloading nltk resources\n",
    "nltk.download('punkt')\n",
    "nltk.download('stopwords')\n",
    "nltk.download('wordnet')"
   ]
  },
  {
   "cell_type": "code",
   "execution_count": 9,
   "id": "2af47c6c-420f-4032-96cb-ada5140ae191",
   "metadata": {},
   "outputs": [],
   "source": [
    "# initialize wordnet lemmatizer\n",
    "lemmatizer = WordNetLemmatizer()"
   ]
  },
  {
   "cell_type": "code",
   "execution_count": 10,
   "id": "e243d458-390c-4998-acff-1c06b4eaa1a4",
   "metadata": {},
   "outputs": [],
   "source": [
    "def preprocess_text(text):\n",
    "    tokens = text.split()\n",
    "    stop_words = set(stopwords.words('english'))\n",
    "    tokens = [token.lower() for token in tokens if token.lower() not in stop_words]\n",
    "    tokens = [lemmatizer.lemmatize(token) for token in tokens]\n",
    "    return ' '.join(tokens)"
   ]
  },
  {
   "cell_type": "code",
   "execution_count": 11,
   "id": "7f31ea3c-9a39-4981-9bbc-1789631860c6",
   "metadata": {},
   "outputs": [],
   "source": [
    "df_train['clean_text'] = df_train['safe_text'].apply(preprocess_text)"
   ]
  },
  {
   "cell_type": "code",
   "execution_count": 12,
   "id": "ff2dcc49-0ab0-4b92-85f9-3a485a4e1c61",
   "metadata": {},
   "outputs": [],
   "source": [
    "# Convert 'safe_text' column to strings\n",
    "df_test['safe_text'] = df_test['safe_text'].astype(str)\n",
    "\n",
    "# preprocess texts in 'safe_text' column in test_data\n",
    "df_test['safe_text'] = df_test['safe_text'].apply(preprocess_text)"
   ]
  },
  {
   "cell_type": "code",
   "execution_count": 13,
   "id": "4996ff7e-7e33-41d0-adb8-4fcf10290945",
   "metadata": {},
   "outputs": [],
   "source": [
    "# Splitting the data into training and testing sets\n",
    "X_train, X_test, y_train, y_test = train_test_split(df_train['clean_text'], df_train['label'], test_size=0.2, random_state=42)"
   ]
  },
  {
   "cell_type": "code",
   "execution_count": 14,
   "id": "d194eae1-c699-4d0d-8867-5bbaeed64fa1",
   "metadata": {},
   "outputs": [],
   "source": [
    "# Feature Extraction\n",
    "vectorizer = TfidfVectorizer()\n",
    "X_train_tfidf = vectorizer.fit_transform(X_train)\n",
    "X_test_tfidf = vectorizer.transform(X_test)"
   ]
  },
  {
   "cell_type": "code",
   "execution_count": 15,
   "id": "3f3b5eec-4726-4bfc-aeda-013001646d1f",
   "metadata": {},
   "outputs": [],
   "source": [
    "X_val_tfidf = vectorizer.transform(df_test[\"safe_text\"])"
   ]
  },
  {
   "cell_type": "code",
   "execution_count": 16,
   "id": "37d12bc7-f23c-4c26-997b-2576a5af0e1c",
   "metadata": {},
   "outputs": [
    {
     "data": {
      "text/html": [
       "<style>#sk-container-id-1 {color: black;background-color: white;}#sk-container-id-1 pre{padding: 0;}#sk-container-id-1 div.sk-toggleable {background-color: white;}#sk-container-id-1 label.sk-toggleable__label {cursor: pointer;display: block;width: 100%;margin-bottom: 0;padding: 0.3em;box-sizing: border-box;text-align: center;}#sk-container-id-1 label.sk-toggleable__label-arrow:before {content: \"▸\";float: left;margin-right: 0.25em;color: #696969;}#sk-container-id-1 label.sk-toggleable__label-arrow:hover:before {color: black;}#sk-container-id-1 div.sk-estimator:hover label.sk-toggleable__label-arrow:before {color: black;}#sk-container-id-1 div.sk-toggleable__content {max-height: 0;max-width: 0;overflow: hidden;text-align: left;background-color: #f0f8ff;}#sk-container-id-1 div.sk-toggleable__content pre {margin: 0.2em;color: black;border-radius: 0.25em;background-color: #f0f8ff;}#sk-container-id-1 input.sk-toggleable__control:checked~div.sk-toggleable__content {max-height: 200px;max-width: 100%;overflow: auto;}#sk-container-id-1 input.sk-toggleable__control:checked~label.sk-toggleable__label-arrow:before {content: \"▾\";}#sk-container-id-1 div.sk-estimator input.sk-toggleable__control:checked~label.sk-toggleable__label {background-color: #d4ebff;}#sk-container-id-1 div.sk-label input.sk-toggleable__control:checked~label.sk-toggleable__label {background-color: #d4ebff;}#sk-container-id-1 input.sk-hidden--visually {border: 0;clip: rect(1px 1px 1px 1px);clip: rect(1px, 1px, 1px, 1px);height: 1px;margin: -1px;overflow: hidden;padding: 0;position: absolute;width: 1px;}#sk-container-id-1 div.sk-estimator {font-family: monospace;background-color: #f0f8ff;border: 1px dotted black;border-radius: 0.25em;box-sizing: border-box;margin-bottom: 0.5em;}#sk-container-id-1 div.sk-estimator:hover {background-color: #d4ebff;}#sk-container-id-1 div.sk-parallel-item::after {content: \"\";width: 100%;border-bottom: 1px solid gray;flex-grow: 1;}#sk-container-id-1 div.sk-label:hover label.sk-toggleable__label {background-color: #d4ebff;}#sk-container-id-1 div.sk-serial::before {content: \"\";position: absolute;border-left: 1px solid gray;box-sizing: border-box;top: 0;bottom: 0;left: 50%;z-index: 0;}#sk-container-id-1 div.sk-serial {display: flex;flex-direction: column;align-items: center;background-color: white;padding-right: 0.2em;padding-left: 0.2em;position: relative;}#sk-container-id-1 div.sk-item {position: relative;z-index: 1;}#sk-container-id-1 div.sk-parallel {display: flex;align-items: stretch;justify-content: center;background-color: white;position: relative;}#sk-container-id-1 div.sk-item::before, #sk-container-id-1 div.sk-parallel-item::before {content: \"\";position: absolute;border-left: 1px solid gray;box-sizing: border-box;top: 0;bottom: 0;left: 50%;z-index: -1;}#sk-container-id-1 div.sk-parallel-item {display: flex;flex-direction: column;z-index: 1;position: relative;background-color: white;}#sk-container-id-1 div.sk-parallel-item:first-child::after {align-self: flex-end;width: 50%;}#sk-container-id-1 div.sk-parallel-item:last-child::after {align-self: flex-start;width: 50%;}#sk-container-id-1 div.sk-parallel-item:only-child::after {width: 0;}#sk-container-id-1 div.sk-dashed-wrapped {border: 1px dashed gray;margin: 0 0.4em 0.5em 0.4em;box-sizing: border-box;padding-bottom: 0.4em;background-color: white;}#sk-container-id-1 div.sk-label label {font-family: monospace;font-weight: bold;display: inline-block;line-height: 1.2em;}#sk-container-id-1 div.sk-label-container {text-align: center;}#sk-container-id-1 div.sk-container {/* jupyter's `normalize.less` sets `[hidden] { display: none; }` but bootstrap.min.css set `[hidden] { display: none !important; }` so we also need the `!important` here to be able to override the default hidden behavior on the sphinx rendered scikit-learn.org. See: https://github.com/scikit-learn/scikit-learn/issues/21755 */display: inline-block !important;position: relative;}#sk-container-id-1 div.sk-text-repr-fallback {display: none;}</style><div id=\"sk-container-id-1\" class=\"sk-top-container\"><div class=\"sk-text-repr-fallback\"><pre>RandomForestClassifier(random_state=42)</pre><b>In a Jupyter environment, please rerun this cell to show the HTML representation or trust the notebook. <br />On GitHub, the HTML representation is unable to render, please try loading this page with nbviewer.org.</b></div><div class=\"sk-container\" hidden><div class=\"sk-item\"><div class=\"sk-estimator sk-toggleable\"><input class=\"sk-toggleable__control sk-hidden--visually\" id=\"sk-estimator-id-1\" type=\"checkbox\" checked><label for=\"sk-estimator-id-1\" class=\"sk-toggleable__label sk-toggleable__label-arrow\">RandomForestClassifier</label><div class=\"sk-toggleable__content\"><pre>RandomForestClassifier(random_state=42)</pre></div></div></div></div></div>"
      ],
      "text/plain": [
       "RandomForestClassifier(random_state=42)"
      ]
     },
     "execution_count": 16,
     "metadata": {},
     "output_type": "execute_result"
    }
   ],
   "source": [
    "# Model Training (Random Forest)\n",
    "model = RandomForestClassifier(n_estimators=100, random_state=42)\n",
    "model.fit(X_train_tfidf, y_train)"
   ]
  },
  {
   "cell_type": "code",
   "execution_count": 17,
   "id": "1894805a-e1ae-4953-932f-26e1045e1c91",
   "metadata": {},
   "outputs": [
    {
     "name": "stdout",
     "output_type": "stream",
     "text": [
      "Validation Set Performance: \n",
      "              precision    recall  f1-score   support\n",
      "\n",
      "          -1       0.79      0.15      0.25       231\n",
      "           0       0.80      0.80      0.80       988\n",
      "           1       0.64      0.80      0.71       782\n",
      "\n",
      "    accuracy                           0.72      2001\n",
      "   macro avg       0.75      0.58      0.59      2001\n",
      "weighted avg       0.74      0.72      0.70      2001\n",
      "\n"
     ]
    }
   ],
   "source": [
    "# Model Evaluation\n",
    "y_pred = model.predict(X_test_tfidf)\n",
    "print(\"Validation Set Performance: \")\n",
    "print(classification_report(y_test, y_pred))"
   ]
  },
  {
   "cell_type": "code",
   "execution_count": 18,
   "id": "53df2763-c3d9-44a0-bc1a-4c4988cbe877",
   "metadata": {},
   "outputs": [
    {
     "name": "stdout",
     "output_type": "stream",
     "text": [
      "Validation Accuracy: 72.36381809095452\n"
     ]
    }
   ],
   "source": [
    "# model accuracy score\n",
    "accuracy = accuracy_score(y_test, y_pred)\n",
    "print(\"Validation Accuracy:\", accuracy*100)"
   ]
  },
  {
   "cell_type": "code",
   "execution_count": 19,
   "id": "4b69d731-76b1-4786-946e-276c06da4e5c",
   "metadata": {},
   "outputs": [],
   "source": [
    "# model deployment: predict sentiments of test data\n",
    "#y_pred_test = model.predict(X_val_tfidf)"
   ]
  },
  {
   "cell_type": "code",
   "execution_count": 20,
   "id": "778da1e5-93e1-48c7-b96f-98602b05f274",
   "metadata": {},
   "outputs": [],
   "source": [
    "# save predictions to submission.csv\n",
    "#submission_df = pd.DataFrame(\n",
    "#    {\n",
    "#        'tweet_id': df_test['tweet_id'],\n",
    "#        'label': y_pred_test\n",
    "#    }\n",
    "#)\n",
    "#submission_df.to_csv('submission_t1.csv', index=False)\n",
    "#print(\"Submission file save successfully.\")"
   ]
  },
  {
   "cell_type": "markdown",
   "id": "9e724ab1-c62a-4c78-91fa-689889aa8e0a",
   "metadata": {},
   "source": [
    "#### Hyperparameter tunning"
   ]
  },
  {
   "cell_type": "code",
   "execution_count": 21,
   "id": "34ca79e0-3568-4359-8411-7e234439442f",
   "metadata": {},
   "outputs": [],
   "source": [
    "import optuna"
   ]
  },
  {
   "cell_type": "code",
   "execution_count": 22,
   "id": "185e95ce-dc4c-4e5e-82b7-156d5974c7ab",
   "metadata": {},
   "outputs": [],
   "source": [
    "# Define objective function for Optuna\n",
    "def objective(trial):\n",
    "    params = {\n",
    "        'n_estimators': trial.suggest_int('n_estimators', 50, 200),\n",
    "        'max_depth': trial.suggest_int('max_depth', 5, 30),\n",
    "        'min_samples_split': trial.suggest_int('min_samples_split', 2, 10),\n",
    "        'min_samples_leaf': trial.suggest_int('min_samples_leaf', 1, 5)\n",
    "    }\n",
    "\n",
    "    model = RandomForestClassifier(**params)\n",
    "    model.fit(X_train_tfidf, y_train)\n",
    "\n",
    "    y_pred_val = model.predict(X_test_tfidf)\n",
    "    accuracy = accuracy_score(y_test, y_pred_val)\n",
    "    return accuracy"
   ]
  },
  {
   "cell_type": "code",
   "execution_count": 23,
   "id": "75f0ef27-35c1-4457-b35e-5f3a8cce3a2e",
   "metadata": {},
   "outputs": [
    {
     "name": "stderr",
     "output_type": "stream",
     "text": [
      "[I 2024-03-24 22:10:44,559] A new study created in memory with name: no-name-80bbeb52-f1ac-4a90-9c2a-e68bb8459d2d\n",
      "[I 2024-03-24 22:10:48,838] Trial 0 finished with value: 0.6816591704147926 and parameters: {'n_estimators': 199, 'max_depth': 22, 'min_samples_split': 7, 'min_samples_leaf': 4}. Best is trial 0 with value: 0.6816591704147926.\n",
      "[I 2024-03-24 22:10:51,955] Trial 1 finished with value: 0.6621689155422289 and parameters: {'n_estimators': 151, 'max_depth': 16, 'min_samples_split': 4, 'min_samples_leaf': 2}. Best is trial 0 with value: 0.6816591704147926.\n",
      "[I 2024-03-24 22:10:54,401] Trial 2 finished with value: 0.6806596701649176 and parameters: {'n_estimators': 88, 'max_depth': 24, 'min_samples_split': 9, 'min_samples_leaf': 2}. Best is trial 0 with value: 0.6816591704147926.\n",
      "[I 2024-03-24 22:10:57,078] Trial 3 finished with value: 0.6591704147926037 and parameters: {'n_estimators': 144, 'max_depth': 15, 'min_samples_split': 3, 'min_samples_leaf': 2}. Best is trial 0 with value: 0.6816591704147926.\n",
      "[I 2024-03-24 22:10:58,322] Trial 4 finished with value: 0.5342328835582209 and parameters: {'n_estimators': 148, 'max_depth': 5, 'min_samples_split': 6, 'min_samples_leaf': 3}. Best is trial 0 with value: 0.6816591704147926.\n",
      "[I 2024-03-24 22:11:01,792] Trial 5 finished with value: 0.670664667666167 and parameters: {'n_estimators': 72, 'max_depth': 16, 'min_samples_split': 3, 'min_samples_leaf': 1}. Best is trial 0 with value: 0.6816591704147926.\n",
      "[I 2024-03-24 22:11:11,778] Trial 6 finished with value: 0.6911544227886057 and parameters: {'n_estimators': 173, 'max_depth': 22, 'min_samples_split': 7, 'min_samples_leaf': 1}. Best is trial 6 with value: 0.6911544227886057.\n",
      "[I 2024-03-24 22:11:14,570] Trial 7 finished with value: 0.6741629185407296 and parameters: {'n_estimators': 114, 'max_depth': 20, 'min_samples_split': 5, 'min_samples_leaf': 3}. Best is trial 6 with value: 0.6911544227886057.\n",
      "[I 2024-03-24 22:11:15,914] Trial 8 finished with value: 0.6156921539230384 and parameters: {'n_estimators': 100, 'max_depth': 9, 'min_samples_split': 6, 'min_samples_leaf': 2}. Best is trial 6 with value: 0.6911544227886057.\n",
      "[I 2024-03-24 22:11:17,851] Trial 9 finished with value: 0.6896551724137931 and parameters: {'n_estimators': 70, 'max_depth': 25, 'min_samples_split': 5, 'min_samples_leaf': 3}. Best is trial 6 with value: 0.6911544227886057.\n",
      "[I 2024-03-24 22:11:23,239] Trial 10 finished with value: 0.697151424287856 and parameters: {'n_estimators': 200, 'max_depth': 30, 'min_samples_split': 10, 'min_samples_leaf': 5}. Best is trial 10 with value: 0.697151424287856.\n",
      "[I 2024-03-24 22:11:28,325] Trial 11 finished with value: 0.6931534232883558 and parameters: {'n_estimators': 200, 'max_depth': 30, 'min_samples_split': 10, 'min_samples_leaf': 5}. Best is trial 10 with value: 0.697151424287856.\n",
      "[I 2024-03-24 22:11:33,361] Trial 12 finished with value: 0.6931534232883558 and parameters: {'n_estimators': 198, 'max_depth': 30, 'min_samples_split': 10, 'min_samples_leaf': 5}. Best is trial 10 with value: 0.697151424287856.\n",
      "[I 2024-03-24 22:11:38,268] Trial 13 finished with value: 0.6916541729135433 and parameters: {'n_estimators': 176, 'max_depth': 30, 'min_samples_split': 9, 'min_samples_leaf': 5}. Best is trial 10 with value: 0.697151424287856.\n",
      "[I 2024-03-24 22:11:43,249] Trial 14 finished with value: 0.6991504247876063 and parameters: {'n_estimators': 177, 'max_depth': 28, 'min_samples_split': 10, 'min_samples_leaf': 4}. Best is trial 14 with value: 0.6991504247876063.\n",
      "[I 2024-03-24 22:11:48,366] Trial 15 finished with value: 0.688655672163918 and parameters: {'n_estimators': 172, 'max_depth': 26, 'min_samples_split': 8, 'min_samples_leaf': 4}. Best is trial 14 with value: 0.6991504247876063.\n",
      "[I 2024-03-24 22:11:52,143] Trial 16 finished with value: 0.6876561719140429 and parameters: {'n_estimators': 127, 'max_depth': 27, 'min_samples_split': 9, 'min_samples_leaf': 4}. Best is trial 14 with value: 0.6991504247876063.\n",
      "[I 2024-03-24 22:11:54,796] Trial 17 finished with value: 0.6486756621689156 and parameters: {'n_estimators': 183, 'max_depth': 13, 'min_samples_split': 10, 'min_samples_leaf': 4}. Best is trial 14 with value: 0.6991504247876063.\n",
      "[I 2024-03-24 22:11:58,796] Trial 18 finished with value: 0.6871564217891054 and parameters: {'n_estimators': 160, 'max_depth': 27, 'min_samples_split': 8, 'min_samples_leaf': 5}. Best is trial 14 with value: 0.6991504247876063.\n",
      "[I 2024-03-24 22:12:05,623] Trial 19 finished with value: 0.6686656671664168 and parameters: {'n_estimators': 129, 'max_depth': 21, 'min_samples_split': 2, 'min_samples_leaf': 4}. Best is trial 14 with value: 0.6991504247876063.\n",
      "[I 2024-03-24 22:12:13,663] Trial 20 finished with value: 0.6701649175412294 and parameters: {'n_estimators': 185, 'max_depth': 19, 'min_samples_split': 8, 'min_samples_leaf': 5}. Best is trial 14 with value: 0.6991504247876063.\n",
      "[I 2024-03-24 22:12:18,181] Trial 21 finished with value: 0.6906546726636682 and parameters: {'n_estimators': 199, 'max_depth': 30, 'min_samples_split': 10, 'min_samples_leaf': 5}. Best is trial 14 with value: 0.6991504247876063.\n",
      "[I 2024-03-24 22:12:22,854] Trial 22 finished with value: 0.6951524237881059 and parameters: {'n_estimators': 187, 'max_depth': 29, 'min_samples_split': 10, 'min_samples_leaf': 5}. Best is trial 14 with value: 0.6991504247876063.\n",
      "[I 2024-03-24 22:12:27,143] Trial 23 finished with value: 0.6876561719140429 and parameters: {'n_estimators': 161, 'max_depth': 28, 'min_samples_split': 9, 'min_samples_leaf': 4}. Best is trial 14 with value: 0.6991504247876063.\n",
      "[I 2024-03-24 22:12:32,123] Trial 24 finished with value: 0.6841579210394803 and parameters: {'n_estimators': 186, 'max_depth': 24, 'min_samples_split': 10, 'min_samples_leaf': 5}. Best is trial 14 with value: 0.6991504247876063.\n",
      "[I 2024-03-24 22:12:37,850] Trial 25 finished with value: 0.6911544227886057 and parameters: {'n_estimators': 164, 'max_depth': 28, 'min_samples_split': 9, 'min_samples_leaf': 4}. Best is trial 14 with value: 0.6991504247876063.\n",
      "[I 2024-03-24 22:12:42,611] Trial 26 finished with value: 0.6816591704147926 and parameters: {'n_estimators': 186, 'max_depth': 24, 'min_samples_split': 7, 'min_samples_leaf': 5}. Best is trial 14 with value: 0.6991504247876063.\n",
      "[I 2024-03-24 22:12:44,378] Trial 27 finished with value: 0.6806596701649176 and parameters: {'n_estimators': 56, 'max_depth': 28, 'min_samples_split': 8, 'min_samples_leaf': 4}. Best is trial 14 with value: 0.6991504247876063.\n",
      "[I 2024-03-24 22:12:47,708] Trial 28 finished with value: 0.6871564217891054 and parameters: {'n_estimators': 138, 'max_depth': 26, 'min_samples_split': 10, 'min_samples_leaf': 5}. Best is trial 14 with value: 0.6991504247876063.\n",
      "[I 2024-03-24 22:12:52,119] Trial 29 finished with value: 0.6821589205397302 and parameters: {'n_estimators': 192, 'max_depth': 23, 'min_samples_split': 7, 'min_samples_leaf': 4}. Best is trial 14 with value: 0.6991504247876063.\n",
      "[I 2024-03-24 22:12:54,767] Trial 30 finished with value: 0.6341829085457271 and parameters: {'n_estimators': 170, 'max_depth': 11, 'min_samples_split': 9, 'min_samples_leaf': 4}. Best is trial 14 with value: 0.6991504247876063.\n",
      "[I 2024-03-24 22:13:00,586] Trial 31 finished with value: 0.6926536731634183 and parameters: {'n_estimators': 200, 'max_depth': 30, 'min_samples_split': 10, 'min_samples_leaf': 5}. Best is trial 14 with value: 0.6991504247876063.\n",
      "[I 2024-03-24 22:13:05,622] Trial 32 finished with value: 0.6966516741629185 and parameters: {'n_estimators': 191, 'max_depth': 29, 'min_samples_split': 10, 'min_samples_leaf': 5}. Best is trial 14 with value: 0.6991504247876063.\n",
      "[I 2024-03-24 22:13:10,797] Trial 33 finished with value: 0.6921539230384808 and parameters: {'n_estimators': 180, 'max_depth': 28, 'min_samples_split': 9, 'min_samples_leaf': 5}. Best is trial 14 with value: 0.6991504247876063.\n",
      "[I 2024-03-24 22:13:15,601] Trial 34 finished with value: 0.6901549225387307 and parameters: {'n_estimators': 191, 'max_depth': 26, 'min_samples_split': 10, 'min_samples_leaf': 5}. Best is trial 14 with value: 0.6991504247876063.\n",
      "[I 2024-03-24 22:13:20,351] Trial 35 finished with value: 0.6946526736631684 and parameters: {'n_estimators': 154, 'max_depth': 29, 'min_samples_split': 9, 'min_samples_leaf': 3}. Best is trial 14 with value: 0.6991504247876063.\n",
      "[I 2024-03-24 22:13:24,579] Trial 36 finished with value: 0.6846576711644178 and parameters: {'n_estimators': 167, 'max_depth': 25, 'min_samples_split': 8, 'min_samples_leaf': 5}. Best is trial 14 with value: 0.6991504247876063.\n",
      "[I 2024-03-24 22:13:27,988] Trial 37 finished with value: 0.6666666666666666 and parameters: {'n_estimators': 192, 'max_depth': 17, 'min_samples_split': 10, 'min_samples_leaf': 4}. Best is trial 14 with value: 0.6991504247876063.\n",
      "[I 2024-03-24 22:13:31,462] Trial 38 finished with value: 0.6796601699150425 and parameters: {'n_estimators': 143, 'max_depth': 22, 'min_samples_split': 9, 'min_samples_leaf': 3}. Best is trial 14 with value: 0.6991504247876063.\n",
      "[I 2024-03-24 22:13:32,984] Trial 39 finished with value: 0.5502248875562219 and parameters: {'n_estimators': 154, 'max_depth': 6, 'min_samples_split': 6, 'min_samples_leaf': 5}. Best is trial 14 with value: 0.6991504247876063.\n",
      "[I 2024-03-24 22:13:35,966] Trial 40 finished with value: 0.6946526736631684 and parameters: {'n_estimators': 113, 'max_depth': 27, 'min_samples_split': 4, 'min_samples_leaf': 4}. Best is trial 14 with value: 0.6991504247876063.\n",
      "[I 2024-03-24 22:13:42,828] Trial 41 finished with value: 0.6926536731634183 and parameters: {'n_estimators': 176, 'max_depth': 29, 'min_samples_split': 10, 'min_samples_leaf': 3}. Best is trial 14 with value: 0.6991504247876063.\n",
      "[I 2024-03-24 22:13:48,746] Trial 42 finished with value: 0.6931534232883558 and parameters: {'n_estimators': 150, 'max_depth': 29, 'min_samples_split': 9, 'min_samples_leaf': 2}. Best is trial 14 with value: 0.6991504247876063.\n",
      "[I 2024-03-24 22:13:53,190] Trial 43 finished with value: 0.6946526736631684 and parameters: {'n_estimators': 156, 'max_depth': 29, 'min_samples_split': 10, 'min_samples_leaf': 3}. Best is trial 14 with value: 0.6991504247876063.\n",
      "[I 2024-03-24 22:13:57,885] Trial 44 finished with value: 0.6851574212893553 and parameters: {'n_estimators': 179, 'max_depth': 25, 'min_samples_split': 9, 'min_samples_leaf': 3}. Best is trial 14 with value: 0.6991504247876063.\n",
      "[I 2024-03-24 22:14:04,164] Trial 45 finished with value: 0.7001499250374813 and parameters: {'n_estimators': 192, 'max_depth': 29, 'min_samples_split': 10, 'min_samples_leaf': 2}. Best is trial 45 with value: 0.7001499250374813.\n",
      "[I 2024-03-24 22:14:16,029] Trial 46 finished with value: 0.696151924037981 and parameters: {'n_estimators': 190, 'max_depth': 27, 'min_samples_split': 10, 'min_samples_leaf': 1}. Best is trial 45 with value: 0.7001499250374813.\n",
      "[I 2024-03-24 22:14:31,474] Trial 47 finished with value: 0.6981509245377311 and parameters: {'n_estimators': 193, 'max_depth': 27, 'min_samples_split': 5, 'min_samples_leaf': 1}. Best is trial 45 with value: 0.7001499250374813.\n",
      "[I 2024-03-24 22:14:47,302] Trial 48 finished with value: 0.7006496751624188 and parameters: {'n_estimators': 195, 'max_depth': 26, 'min_samples_split': 5, 'min_samples_leaf': 1}. Best is trial 48 with value: 0.7006496751624188.\n",
      "[I 2024-03-24 22:14:57,320] Trial 49 finished with value: 0.68015992003998 and parameters: {'n_estimators': 195, 'max_depth': 19, 'min_samples_split': 5, 'min_samples_leaf': 1}. Best is trial 48 with value: 0.7006496751624188.\n",
      "[I 2024-03-24 22:15:10,233] Trial 50 finished with value: 0.6951524237881059 and parameters: {'n_estimators': 174, 'max_depth': 24, 'min_samples_split': 4, 'min_samples_leaf': 1}. Best is trial 48 with value: 0.7006496751624188.\n",
      "[I 2024-03-24 22:15:16,579] Trial 51 finished with value: 0.6936531734132934 and parameters: {'n_estimators': 195, 'max_depth': 26, 'min_samples_split': 5, 'min_samples_leaf': 2}. Best is trial 48 with value: 0.7006496751624188.\n",
      "[I 2024-03-24 22:15:32,298] Trial 52 finished with value: 0.6976511744127936 and parameters: {'n_estimators': 182, 'max_depth': 28, 'min_samples_split': 5, 'min_samples_leaf': 1}. Best is trial 48 with value: 0.7006496751624188.\n",
      "[I 2024-03-24 22:15:47,148] Trial 53 finished with value: 0.697151424287856 and parameters: {'n_estimators': 182, 'max_depth': 27, 'min_samples_split': 5, 'min_samples_leaf': 1}. Best is trial 48 with value: 0.7006496751624188.\n",
      "[I 2024-03-24 22:15:55,374] Trial 54 finished with value: 0.7001499250374813 and parameters: {'n_estimators': 89, 'max_depth': 30, 'min_samples_split': 6, 'min_samples_leaf': 1}. Best is trial 48 with value: 0.7006496751624188.\n",
      "[I 2024-03-24 22:16:01,796] Trial 55 finished with value: 0.6911544227886057 and parameters: {'n_estimators': 91, 'max_depth': 25, 'min_samples_split': 6, 'min_samples_leaf': 1}. Best is trial 48 with value: 0.7006496751624188.\n",
      "[I 2024-03-24 22:16:05,692] Trial 56 finished with value: 0.6986506746626686 and parameters: {'n_estimators': 111, 'max_depth': 28, 'min_samples_split': 6, 'min_samples_leaf': 2}. Best is trial 48 with value: 0.7006496751624188.\n",
      "[I 2024-03-24 22:16:07,679] Trial 57 finished with value: 0.6551724137931034 and parameters: {'n_estimators': 102, 'max_depth': 14, 'min_samples_split': 6, 'min_samples_leaf': 2}. Best is trial 48 with value: 0.7006496751624188.\n",
      "[I 2024-03-24 22:16:11,893] Trial 58 finished with value: 0.6956521739130435 and parameters: {'n_estimators': 77, 'max_depth': 30, 'min_samples_split': 3, 'min_samples_leaf': 2}. Best is trial 48 with value: 0.7006496751624188.\n",
      "[I 2024-03-24 22:16:15,831] Trial 59 finished with value: 0.6926536731634183 and parameters: {'n_estimators': 110, 'max_depth': 23, 'min_samples_split': 6, 'min_samples_leaf': 2}. Best is trial 48 with value: 0.7006496751624188.\n",
      "[I 2024-03-24 22:16:25,488] Trial 60 finished with value: 0.6986506746626686 and parameters: {'n_estimators': 120, 'max_depth': 27, 'min_samples_split': 7, 'min_samples_leaf': 1}. Best is trial 48 with value: 0.7006496751624188.\n",
      "[I 2024-03-24 22:16:34,412] Trial 61 finished with value: 0.6951524237881059 and parameters: {'n_estimators': 123, 'max_depth': 27, 'min_samples_split': 7, 'min_samples_leaf': 1}. Best is trial 48 with value: 0.7006496751624188.\n",
      "[I 2024-03-24 22:16:41,227] Trial 62 finished with value: 0.6946526736631684 and parameters: {'n_estimators': 90, 'max_depth': 26, 'min_samples_split': 6, 'min_samples_leaf': 1}. Best is trial 48 with value: 0.7006496751624188.\n",
      "[I 2024-03-24 22:16:50,379] Trial 63 finished with value: 0.6986506746626686 and parameters: {'n_estimators': 104, 'max_depth': 28, 'min_samples_split': 4, 'min_samples_leaf': 1}. Best is trial 48 with value: 0.7006496751624188.\n",
      "[I 2024-03-24 22:16:54,252] Trial 64 finished with value: 0.6946526736631684 and parameters: {'n_estimators': 100, 'max_depth': 28, 'min_samples_split': 4, 'min_samples_leaf': 2}. Best is trial 48 with value: 0.7006496751624188.\n",
      "[I 2024-03-24 22:17:07,080] Trial 65 finished with value: 0.6936531734132934 and parameters: {'n_estimators': 109, 'max_depth': 30, 'min_samples_split': 3, 'min_samples_leaf': 1}. Best is trial 48 with value: 0.7006496751624188.\n",
      "[I 2024-03-24 22:17:13,437] Trial 66 finished with value: 0.6986506746626686 and parameters: {'n_estimators': 79, 'max_depth': 28, 'min_samples_split': 7, 'min_samples_leaf': 1}. Best is trial 48 with value: 0.7006496751624188.\n",
      "[I 2024-03-24 22:17:17,689] Trial 67 finished with value: 0.6931534232883558 and parameters: {'n_estimators': 122, 'max_depth': 26, 'min_samples_split': 4, 'min_samples_leaf': 2}. Best is trial 48 with value: 0.7006496751624188.\n",
      "[I 2024-03-24 22:17:29,375] Trial 68 finished with value: 0.7031484257871065 and parameters: {'n_estimators': 134, 'max_depth': 29, 'min_samples_split': 6, 'min_samples_leaf': 1}. Best is trial 68 with value: 0.7031484257871065.\n",
      "[I 2024-03-24 22:17:34,153] Trial 69 finished with value: 0.7016491754122939 and parameters: {'n_estimators': 134, 'max_depth': 30, 'min_samples_split': 7, 'min_samples_leaf': 2}. Best is trial 68 with value: 0.7031484257871065.\n",
      "[I 2024-03-24 22:17:38,990] Trial 70 finished with value: 0.6941529235382309 and parameters: {'n_estimators': 131, 'max_depth': 30, 'min_samples_split': 6, 'min_samples_leaf': 2}. Best is trial 68 with value: 0.7031484257871065.\n",
      "[I 2024-03-24 22:17:44,200] Trial 71 finished with value: 0.7001499250374813 and parameters: {'n_estimators': 133, 'max_depth': 29, 'min_samples_split': 7, 'min_samples_leaf': 2}. Best is trial 68 with value: 0.7031484257871065.\n",
      "[I 2024-03-24 22:17:50,138] Trial 72 finished with value: 0.6976511744127936 and parameters: {'n_estimators': 137, 'max_depth': 29, 'min_samples_split': 7, 'min_samples_leaf': 2}. Best is trial 68 with value: 0.7031484257871065.\n",
      "[I 2024-03-24 22:17:56,509] Trial 73 finished with value: 0.6976511744127936 and parameters: {'n_estimators': 133, 'max_depth': 30, 'min_samples_split': 8, 'min_samples_leaf': 2}. Best is trial 68 with value: 0.7031484257871065.\n",
      "[I 2024-03-24 22:18:03,881] Trial 74 finished with value: 0.6946526736631684 and parameters: {'n_estimators': 142, 'max_depth': 29, 'min_samples_split': 6, 'min_samples_leaf': 2}. Best is trial 68 with value: 0.7031484257871065.\n",
      "[I 2024-03-24 22:18:07,957] Trial 75 finished with value: 0.6871564217891054 and parameters: {'n_estimators': 118, 'max_depth': 29, 'min_samples_split': 6, 'min_samples_leaf': 3}. Best is trial 68 with value: 0.7031484257871065.\n",
      "[I 2024-03-24 22:18:10,575] Trial 76 finished with value: 0.703648175912044 and parameters: {'n_estimators': 54, 'max_depth': 30, 'min_samples_split': 7, 'min_samples_leaf': 2}. Best is trial 76 with value: 0.703648175912044.\n",
      "[I 2024-03-24 22:18:13,552] Trial 77 finished with value: 0.6991504247876063 and parameters: {'n_estimators': 51, 'max_depth': 30, 'min_samples_split': 7, 'min_samples_leaf': 2}. Best is trial 76 with value: 0.703648175912044.\n",
      "[I 2024-03-24 22:18:19,437] Trial 78 finished with value: 0.7021489255372314 and parameters: {'n_estimators': 64, 'max_depth': 29, 'min_samples_split': 8, 'min_samples_leaf': 1}. Best is trial 76 with value: 0.703648175912044.\n",
      "[I 2024-03-24 22:18:25,200] Trial 79 finished with value: 0.7011494252873564 and parameters: {'n_estimators': 65, 'max_depth': 29, 'min_samples_split': 8, 'min_samples_leaf': 1}. Best is trial 76 with value: 0.703648175912044.\n",
      "[I 2024-03-24 22:18:31,473] Trial 80 finished with value: 0.6976511744127936 and parameters: {'n_estimators': 63, 'max_depth': 30, 'min_samples_split': 8, 'min_samples_leaf': 1}. Best is trial 76 with value: 0.703648175912044.\n",
      "[I 2024-03-24 22:18:36,524] Trial 81 finished with value: 0.7021489255372314 and parameters: {'n_estimators': 61, 'max_depth': 29, 'min_samples_split': 8, 'min_samples_leaf': 1}. Best is trial 76 with value: 0.703648175912044.\n",
      "[I 2024-03-24 22:18:42,811] Trial 82 finished with value: 0.7001499250374813 and parameters: {'n_estimators': 63, 'max_depth': 30, 'min_samples_split': 8, 'min_samples_leaf': 1}. Best is trial 76 with value: 0.703648175912044.\n",
      "[I 2024-03-24 22:18:48,960] Trial 83 finished with value: 0.6991504247876063 and parameters: {'n_estimators': 63, 'max_depth': 29, 'min_samples_split': 8, 'min_samples_leaf': 1}. Best is trial 76 with value: 0.703648175912044.\n",
      "[I 2024-03-24 22:18:55,693] Trial 84 finished with value: 0.7041479260369815 and parameters: {'n_estimators': 69, 'max_depth': 28, 'min_samples_split': 8, 'min_samples_leaf': 1}. Best is trial 84 with value: 0.7041479260369815.\n",
      "[I 2024-03-24 22:19:02,080] Trial 85 finished with value: 0.7016491754122939 and parameters: {'n_estimators': 69, 'max_depth': 28, 'min_samples_split': 8, 'min_samples_leaf': 1}. Best is trial 84 with value: 0.7041479260369815.\n",
      "[I 2024-03-24 22:19:07,126] Trial 86 finished with value: 0.6946526736631684 and parameters: {'n_estimators': 68, 'max_depth': 28, 'min_samples_split': 8, 'min_samples_leaf': 1}. Best is trial 84 with value: 0.7041479260369815.\n",
      "[I 2024-03-24 22:19:11,144] Trial 87 finished with value: 0.6921539230384808 and parameters: {'n_estimators': 56, 'max_depth': 27, 'min_samples_split': 8, 'min_samples_leaf': 1}. Best is trial 84 with value: 0.7041479260369815.\n",
      "[I 2024-03-24 22:19:16,051] Trial 88 finished with value: 0.6976511744127936 and parameters: {'n_estimators': 74, 'max_depth': 26, 'min_samples_split': 8, 'min_samples_leaf': 1}. Best is trial 84 with value: 0.7041479260369815.\n",
      "[I 2024-03-24 22:19:20,528] Trial 89 finished with value: 0.6936531734132934 and parameters: {'n_estimators': 68, 'max_depth': 25, 'min_samples_split': 8, 'min_samples_leaf': 1}. Best is trial 84 with value: 0.7041479260369815.\n",
      "[I 2024-03-24 22:19:28,402] Trial 90 finished with value: 0.7016491754122939 and parameters: {'n_estimators': 83, 'max_depth': 29, 'min_samples_split': 7, 'min_samples_leaf': 1}. Best is trial 84 with value: 0.7041479260369815.\n",
      "[I 2024-03-24 22:19:33,861] Trial 91 finished with value: 0.696151924037981 and parameters: {'n_estimators': 57, 'max_depth': 29, 'min_samples_split': 7, 'min_samples_leaf': 1}. Best is trial 84 with value: 0.7041479260369815.\n",
      "[I 2024-03-24 22:19:41,074] Trial 92 finished with value: 0.6921539230384808 and parameters: {'n_estimators': 80, 'max_depth': 28, 'min_samples_split': 7, 'min_samples_leaf': 1}. Best is trial 84 with value: 0.7041479260369815.\n",
      "[I 2024-03-24 22:19:45,197] Trial 93 finished with value: 0.6926536731634183 and parameters: {'n_estimators': 50, 'max_depth': 27, 'min_samples_split': 8, 'min_samples_leaf': 1}. Best is trial 84 with value: 0.7041479260369815.\n",
      "[I 2024-03-24 22:19:53,634] Trial 94 finished with value: 0.6936531734132934 and parameters: {'n_estimators': 61, 'max_depth': 28, 'min_samples_split': 8, 'min_samples_leaf': 1}. Best is trial 84 with value: 0.7041479260369815.\n",
      "[I 2024-03-24 22:20:01,448] Trial 95 finished with value: 0.6956521739130435 and parameters: {'n_estimators': 82, 'max_depth': 29, 'min_samples_split': 7, 'min_samples_leaf': 1}. Best is trial 84 with value: 0.7041479260369815.\n",
      "[I 2024-03-24 22:20:02,488] Trial 96 finished with value: 0.6056971514242878 and parameters: {'n_estimators': 67, 'max_depth': 7, 'min_samples_split': 7, 'min_samples_leaf': 1}. Best is trial 84 with value: 0.7041479260369815.\n",
      "[I 2024-03-24 22:20:09,810] Trial 97 finished with value: 0.6951524237881059 and parameters: {'n_estimators': 85, 'max_depth': 30, 'min_samples_split': 9, 'min_samples_leaf': 1}. Best is trial 84 with value: 0.7041479260369815.\n",
      "[I 2024-03-24 22:20:15,708] Trial 98 finished with value: 0.6951524237881059 and parameters: {'n_estimators': 73, 'max_depth': 28, 'min_samples_split': 8, 'min_samples_leaf': 1}. Best is trial 84 with value: 0.7041479260369815.\n",
      "[I 2024-03-24 22:20:18,111] Trial 99 finished with value: 0.663168415792104 and parameters: {'n_estimators': 59, 'max_depth': 16, 'min_samples_split': 7, 'min_samples_leaf': 1}. Best is trial 84 with value: 0.7041479260369815.\n"
     ]
    }
   ],
   "source": [
    "# Perform hyperparameter optimization using Optuna\n",
    "study = optuna.create_study(direction='maximize')\n",
    "study.optimize(objective, n_trials=100)"
   ]
  },
  {
   "cell_type": "code",
   "execution_count": 24,
   "id": "f674ec71-7799-4863-ad0e-ba6fc25700ae",
   "metadata": {},
   "outputs": [
    {
     "name": "stdout",
     "output_type": "stream",
     "text": [
      "Best Parameters: {'n_estimators': 69, 'max_depth': 28, 'min_samples_split': 8, 'min_samples_leaf': 1}\n"
     ]
    }
   ],
   "source": [
    "best_params = study.best_params\n",
    "print(\"Best Parameters:\", best_params)"
   ]
  },
  {
   "cell_type": "code",
   "execution_count": 25,
   "id": "8f058d96-51bc-4e15-8ddd-48c26d4ef137",
   "metadata": {},
   "outputs": [
    {
     "data": {
      "text/html": [
       "<style>#sk-container-id-2 {color: black;background-color: white;}#sk-container-id-2 pre{padding: 0;}#sk-container-id-2 div.sk-toggleable {background-color: white;}#sk-container-id-2 label.sk-toggleable__label {cursor: pointer;display: block;width: 100%;margin-bottom: 0;padding: 0.3em;box-sizing: border-box;text-align: center;}#sk-container-id-2 label.sk-toggleable__label-arrow:before {content: \"▸\";float: left;margin-right: 0.25em;color: #696969;}#sk-container-id-2 label.sk-toggleable__label-arrow:hover:before {color: black;}#sk-container-id-2 div.sk-estimator:hover label.sk-toggleable__label-arrow:before {color: black;}#sk-container-id-2 div.sk-toggleable__content {max-height: 0;max-width: 0;overflow: hidden;text-align: left;background-color: #f0f8ff;}#sk-container-id-2 div.sk-toggleable__content pre {margin: 0.2em;color: black;border-radius: 0.25em;background-color: #f0f8ff;}#sk-container-id-2 input.sk-toggleable__control:checked~div.sk-toggleable__content {max-height: 200px;max-width: 100%;overflow: auto;}#sk-container-id-2 input.sk-toggleable__control:checked~label.sk-toggleable__label-arrow:before {content: \"▾\";}#sk-container-id-2 div.sk-estimator input.sk-toggleable__control:checked~label.sk-toggleable__label {background-color: #d4ebff;}#sk-container-id-2 div.sk-label input.sk-toggleable__control:checked~label.sk-toggleable__label {background-color: #d4ebff;}#sk-container-id-2 input.sk-hidden--visually {border: 0;clip: rect(1px 1px 1px 1px);clip: rect(1px, 1px, 1px, 1px);height: 1px;margin: -1px;overflow: hidden;padding: 0;position: absolute;width: 1px;}#sk-container-id-2 div.sk-estimator {font-family: monospace;background-color: #f0f8ff;border: 1px dotted black;border-radius: 0.25em;box-sizing: border-box;margin-bottom: 0.5em;}#sk-container-id-2 div.sk-estimator:hover {background-color: #d4ebff;}#sk-container-id-2 div.sk-parallel-item::after {content: \"\";width: 100%;border-bottom: 1px solid gray;flex-grow: 1;}#sk-container-id-2 div.sk-label:hover label.sk-toggleable__label {background-color: #d4ebff;}#sk-container-id-2 div.sk-serial::before {content: \"\";position: absolute;border-left: 1px solid gray;box-sizing: border-box;top: 0;bottom: 0;left: 50%;z-index: 0;}#sk-container-id-2 div.sk-serial {display: flex;flex-direction: column;align-items: center;background-color: white;padding-right: 0.2em;padding-left: 0.2em;position: relative;}#sk-container-id-2 div.sk-item {position: relative;z-index: 1;}#sk-container-id-2 div.sk-parallel {display: flex;align-items: stretch;justify-content: center;background-color: white;position: relative;}#sk-container-id-2 div.sk-item::before, #sk-container-id-2 div.sk-parallel-item::before {content: \"\";position: absolute;border-left: 1px solid gray;box-sizing: border-box;top: 0;bottom: 0;left: 50%;z-index: -1;}#sk-container-id-2 div.sk-parallel-item {display: flex;flex-direction: column;z-index: 1;position: relative;background-color: white;}#sk-container-id-2 div.sk-parallel-item:first-child::after {align-self: flex-end;width: 50%;}#sk-container-id-2 div.sk-parallel-item:last-child::after {align-self: flex-start;width: 50%;}#sk-container-id-2 div.sk-parallel-item:only-child::after {width: 0;}#sk-container-id-2 div.sk-dashed-wrapped {border: 1px dashed gray;margin: 0 0.4em 0.5em 0.4em;box-sizing: border-box;padding-bottom: 0.4em;background-color: white;}#sk-container-id-2 div.sk-label label {font-family: monospace;font-weight: bold;display: inline-block;line-height: 1.2em;}#sk-container-id-2 div.sk-label-container {text-align: center;}#sk-container-id-2 div.sk-container {/* jupyter's `normalize.less` sets `[hidden] { display: none; }` but bootstrap.min.css set `[hidden] { display: none !important; }` so we also need the `!important` here to be able to override the default hidden behavior on the sphinx rendered scikit-learn.org. See: https://github.com/scikit-learn/scikit-learn/issues/21755 */display: inline-block !important;position: relative;}#sk-container-id-2 div.sk-text-repr-fallback {display: none;}</style><div id=\"sk-container-id-2\" class=\"sk-top-container\"><div class=\"sk-text-repr-fallback\"><pre>RandomForestClassifier(max_depth=28, min_samples_split=8, n_estimators=69)</pre><b>In a Jupyter environment, please rerun this cell to show the HTML representation or trust the notebook. <br />On GitHub, the HTML representation is unable to render, please try loading this page with nbviewer.org.</b></div><div class=\"sk-container\" hidden><div class=\"sk-item\"><div class=\"sk-estimator sk-toggleable\"><input class=\"sk-toggleable__control sk-hidden--visually\" id=\"sk-estimator-id-2\" type=\"checkbox\" checked><label for=\"sk-estimator-id-2\" class=\"sk-toggleable__label sk-toggleable__label-arrow\">RandomForestClassifier</label><div class=\"sk-toggleable__content\"><pre>RandomForestClassifier(max_depth=28, min_samples_split=8, n_estimators=69)</pre></div></div></div></div></div>"
      ],
      "text/plain": [
       "RandomForestClassifier(max_depth=28, min_samples_split=8, n_estimators=69)"
      ]
     },
     "execution_count": 25,
     "metadata": {},
     "output_type": "execute_result"
    }
   ],
   "source": [
    "# Model Training with best parameters\n",
    "best_model = RandomForestClassifier(**best_params)\n",
    "best_model.fit(X_train_tfidf, y_train)"
   ]
  },
  {
   "cell_type": "code",
   "execution_count": 28,
   "id": "359f545e-8016-46d0-9743-3f56028f0d23",
   "metadata": {},
   "outputs": [
    {
     "name": "stdout",
     "output_type": "stream",
     "text": [
      "Validation Set Performance after tuning: \n",
      "              precision    recall  f1-score   support\n",
      "\n",
      "          -1       0.00      0.00      0.00       231\n",
      "           0       0.72      0.86      0.78       988\n",
      "           1       0.65      0.68      0.66       782\n",
      "\n",
      "    accuracy                           0.69      2001\n",
      "   macro avg       0.46      0.51      0.48      2001\n",
      "weighted avg       0.61      0.69      0.65      2001\n",
      "\n"
     ]
    }
   ],
   "source": [
    "# Model Evaluation\n",
    "y_pred_val = best_model.predict(X_test_tfidf)\n",
    "print(\"Validation Set Performance after tuning: \")\n",
    "print(classification_report(y_test, y_pred_val))"
   ]
  },
  {
   "cell_type": "code",
   "execution_count": 29,
   "id": "a4b6b45a-9a48-4a6c-a2ae-d099f9cbb882",
   "metadata": {},
   "outputs": [
    {
     "name": "stdout",
     "output_type": "stream",
     "text": [
      "Validation Accuracy: 68.91554222888556\n"
     ]
    }
   ],
   "source": [
    "# model accuracy score\n",
    "accuracy = accuracy_score(y_test, y_pred_val)\n",
    "print(\"Validation Accuracy:\", accuracy*100)"
   ]
  },
  {
   "cell_type": "code",
   "execution_count": null,
   "id": "8a1af163-1b8b-44ba-97ff-24cd1f543e63",
   "metadata": {},
   "outputs": [],
   "source": []
  },
  {
   "cell_type": "code",
   "execution_count": null,
   "id": "891b9af4-b5ba-4ee3-b34c-f2b79a52c73e",
   "metadata": {},
   "outputs": [],
   "source": []
  },
  {
   "cell_type": "code",
   "execution_count": null,
   "id": "2c9f15c4-45e0-4a41-bb7d-b04f91243ec3",
   "metadata": {},
   "outputs": [],
   "source": []
  },
  {
   "cell_type": "code",
   "execution_count": null,
   "id": "7260dbf5-4ab0-43a1-aaac-346bb1350152",
   "metadata": {},
   "outputs": [],
   "source": []
  },
  {
   "cell_type": "code",
   "execution_count": null,
   "id": "47f16dc3-6985-48ff-abeb-8ec769621a80",
   "metadata": {},
   "outputs": [],
   "source": []
  }
 ],
 "metadata": {
  "kernelspec": {
   "display_name": "Python 3 (ipykernel)",
   "language": "python",
   "name": "python3"
  },
  "language_info": {
   "codemirror_mode": {
    "name": "ipython",
    "version": 3
   },
   "file_extension": ".py",
   "mimetype": "text/x-python",
   "name": "python",
   "nbconvert_exporter": "python",
   "pygments_lexer": "ipython3",
   "version": "3.11.7"
  }
 },
 "nbformat": 4,
 "nbformat_minor": 5
}
