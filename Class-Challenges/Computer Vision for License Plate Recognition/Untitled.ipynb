{
 "cells": [
  {
   "cell_type": "code",
   "execution_count": null,
   "id": "15483c7c-b46e-472a-865a-7a8a0287424c",
   "metadata": {},
   "outputs": [],
   "source": [
    "import os\n",
    "import cv2\n",
    "import numpy as np\n",
    "from tensorflow.keras.preprocessing.image import ImageDataGenerator"
   ]
  },
  {
   "cell_type": "code",
   "execution_count": null,
   "id": "2194f38e-f8ea-4ea2-b0d4-8dd57af4a2b6",
   "metadata": {},
   "outputs": [],
   "source": [
    "# Function to read and preprocess images\n",
    "def preprocess_image(image_path):\n",
    "    # Read image\n",
    "    image = cv2.imread(image_path)\n",
    "    # Resize image to a fixed size (e.g., 224x224)\n",
    "    image = cv2.resize(image, (224, 224))\n",
    "    # Normalize pixel values to range [0, 1]\n",
    "    image = image.astype(np.float32) / 255.0\n",
    "    return image"
   ]
  },
  {
   "cell_type": "code",
   "execution_count": null,
   "id": "46de170c-c172-4a60-bac7-78a0b3282e50",
   "metadata": {},
   "outputs": [],
   "source": [
    "# Function to perform data augmentation\n",
    "def augment_data(images):\n",
    "    # Create an instance of ImageDataGenerator for augmentation\n",
    "    datagen = ImageDataGenerator(\n",
    "        rotation_range=20,\n",
    "        width_shift_range=0.2,\n",
    "        height_shift_range=0.2,\n",
    "        shear_range=0.2,\n",
    "        zoom_range=0.2,\n",
    "        horizontal_flip=True,\n",
    "        fill_mode='nearest')\n",
    "    \n",
    "    # Augment the images\n",
    "    augmented_images = []\n",
    "    for image in images:\n",
    "        image = np.expand_dims(image, axis=0)  # ImageDataGenerator expects 4D input\n",
    "        augmented_image = datagen.flow(image).next()[0]\n",
    "        augmented_images.append(augmented_image)\n",
    "    \n",
    "    return augmented_images"
   ]
  },
  {
   "cell_type": "code",
   "execution_count": null,
   "id": "651ee33f-919e-4837-83a1-c53ec8e5375b",
   "metadata": {},
   "outputs": [],
   "source": [
    "# Main function to preprocess the data\n",
    "def main():\n",
    "    # Directory containing images\n",
    "    data_dir = 'path_to_data_directory'\n",
    "    image_files = os.listdir(data_dir)\n",
    "    \n",
    "    # Read and preprocess images\n",
    "    preprocessed_images = []\n",
    "    for file in image_files:\n",
    "        image_path = os.path.join(data_dir, file)\n",
    "        image = preprocess_image(image_path)\n",
    "        preprocessed_images.append(image)\n",
    "    \n",
    "    # Augment the data\n",
    "    augmented_images = augment_data(preprocessed_images)\n",
    "    \n",
    "    # Example: Save augmented images or use them for further processing\n",
    "\n",
    "if __name__ == \"__main__\":\n",
    "    main()"
   ]
  },
  {
   "cell_type": "code",
   "execution_count": null,
   "id": "a902b3b7-eb7f-4e20-9d62-03157a9b205a",
   "metadata": {},
   "outputs": [],
   "source": []
  },
  {
   "cell_type": "code",
   "execution_count": null,
   "id": "ed796096-b3bc-40b7-9676-59b160700d96",
   "metadata": {},
   "outputs": [],
   "source": []
  },
  {
   "cell_type": "code",
   "execution_count": null,
   "id": "52fbff08-2ae1-4a11-a6a5-bda9b8e16f07",
   "metadata": {},
   "outputs": [],
   "source": []
  },
  {
   "cell_type": "code",
   "execution_count": null,
   "id": "a40c5d85-2623-4fcd-b936-c579d89c405f",
   "metadata": {},
   "outputs": [],
   "source": []
  },
  {
   "cell_type": "code",
   "execution_count": null,
   "id": "1849c3d9-b36d-4c7b-9457-33a969b03e8f",
   "metadata": {},
   "outputs": [],
   "source": []
  },
  {
   "cell_type": "code",
   "execution_count": null,
   "id": "40a3ddfa-ebaa-42c3-84ab-03b0afe37e5b",
   "metadata": {},
   "outputs": [],
   "source": []
  },
  {
   "cell_type": "code",
   "execution_count": null,
   "id": "a49987ef-ea7f-4079-b78b-1d2cc79b1a42",
   "metadata": {},
   "outputs": [],
   "source": []
  },
  {
   "cell_type": "code",
   "execution_count": null,
   "id": "26142022-bcd4-41a3-9059-2cb97bf7a689",
   "metadata": {},
   "outputs": [],
   "source": []
  },
  {
   "cell_type": "code",
   "execution_count": null,
   "id": "df12b695-f2b1-491b-9d77-b7649a713c93",
   "metadata": {},
   "outputs": [],
   "source": []
  },
  {
   "cell_type": "code",
   "execution_count": null,
   "id": "3f910045-da91-4631-8cbe-7cc6249b776b",
   "metadata": {},
   "outputs": [],
   "source": []
  },
  {
   "cell_type": "code",
   "execution_count": null,
   "id": "de23984a-94c2-45cb-8c14-529c7c36efe7",
   "metadata": {},
   "outputs": [],
   "source": []
  },
  {
   "cell_type": "code",
   "execution_count": null,
   "id": "68bb5b50-b159-4e08-ba39-708483d4e724",
   "metadata": {},
   "outputs": [],
   "source": []
  }
 ],
 "metadata": {
  "kernelspec": {
   "display_name": "Python 3 (ipykernel)",
   "language": "python",
   "name": "python3"
  },
  "language_info": {
   "codemirror_mode": {
    "name": "ipython",
    "version": 3
   },
   "file_extension": ".py",
   "mimetype": "text/x-python",
   "name": "python",
   "nbconvert_exporter": "python",
   "pygments_lexer": "ipython3",
   "version": "3.11.7"
  }
 },
 "nbformat": 4,
 "nbformat_minor": 5
}
