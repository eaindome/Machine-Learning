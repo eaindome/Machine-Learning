{
 "cells": [
  {
   "cell_type": "code",
   "execution_count": 22,
   "id": "20aa4eed-1379-492d-ad3c-7de7cfbe5a5b",
   "metadata": {},
   "outputs": [],
   "source": [
    "# import necessary libraries\n",
    "import numpy as np\n",
    "import pandas as pd\n",
    "import seaborn as sns\n",
    "import matplotlib.pyplot as plt\n",
    "import warnings\n",
    "%matplotlib inline"
   ]
  },
  {
   "cell_type": "code",
   "execution_count": 23,
   "id": "825fa777-d12d-41d9-b56a-35afe791ef3b",
   "metadata": {},
   "outputs": [],
   "source": [
    "# suppress warnings\n",
    "warnings.filterwarnings('ignore')   "
   ]
  },
  {
   "cell_type": "markdown",
   "id": "3a3f641a-29d7-45d6-b041-5dbee539096e",
   "metadata": {},
   "source": [
    "#### Data"
   ]
  },
  {
   "cell_type": "code",
   "execution_count": 24,
   "id": "972cc4d7-eb91-4cb9-9ec5-4a4ea795cd11",
   "metadata": {},
   "outputs": [
    {
     "data": {
      "text/html": [
       "<div>\n",
       "<style scoped>\n",
       "    .dataframe tbody tr th:only-of-type {\n",
       "        vertical-align: middle;\n",
       "    }\n",
       "\n",
       "    .dataframe tbody tr th {\n",
       "        vertical-align: top;\n",
       "    }\n",
       "\n",
       "    .dataframe thead th {\n",
       "        text-align: right;\n",
       "    }\n",
       "</style>\n",
       "<table border=\"1\" class=\"dataframe\">\n",
       "  <thead>\n",
       "    <tr style=\"text-align: right;\">\n",
       "      <th></th>\n",
       "      <th>Place_ID X Date</th>\n",
       "      <th>Date</th>\n",
       "      <th>Place_ID</th>\n",
       "      <th>target</th>\n",
       "      <th>target_min</th>\n",
       "      <th>target_max</th>\n",
       "      <th>target_variance</th>\n",
       "      <th>target_count</th>\n",
       "      <th>precipitable_water_entire_atmosphere</th>\n",
       "      <th>relative_humidity_2m_above_ground</th>\n",
       "      <th>...</th>\n",
       "      <th>L3_SO2_sensor_zenith_angle</th>\n",
       "      <th>L3_SO2_solar_azimuth_angle</th>\n",
       "      <th>L3_SO2_solar_zenith_angle</th>\n",
       "      <th>L3_CH4_CH4_column_volume_mixing_ratio_dry_air</th>\n",
       "      <th>L3_CH4_aerosol_height</th>\n",
       "      <th>L3_CH4_aerosol_optical_depth</th>\n",
       "      <th>L3_CH4_sensor_azimuth_angle</th>\n",
       "      <th>L3_CH4_sensor_zenith_angle</th>\n",
       "      <th>L3_CH4_solar_azimuth_angle</th>\n",
       "      <th>L3_CH4_solar_zenith_angle</th>\n",
       "    </tr>\n",
       "  </thead>\n",
       "  <tbody>\n",
       "    <tr>\n",
       "      <th>0</th>\n",
       "      <td>010Q650 X 2020-01-02</td>\n",
       "      <td>2020-01-02</td>\n",
       "      <td>010Q650</td>\n",
       "      <td>38.0</td>\n",
       "      <td>23.0</td>\n",
       "      <td>53.0</td>\n",
       "      <td>769.50</td>\n",
       "      <td>92</td>\n",
       "      <td>11.0</td>\n",
       "      <td>60.200001</td>\n",
       "      <td>...</td>\n",
       "      <td>38.593017</td>\n",
       "      <td>-61.752587</td>\n",
       "      <td>22.363665</td>\n",
       "      <td>1793.793579</td>\n",
       "      <td>3227.855469</td>\n",
       "      <td>0.010579</td>\n",
       "      <td>74.481049</td>\n",
       "      <td>37.501499</td>\n",
       "      <td>-62.142639</td>\n",
       "      <td>22.545118</td>\n",
       "    </tr>\n",
       "    <tr>\n",
       "      <th>1</th>\n",
       "      <td>010Q650 X 2020-01-03</td>\n",
       "      <td>2020-01-03</td>\n",
       "      <td>010Q650</td>\n",
       "      <td>39.0</td>\n",
       "      <td>25.0</td>\n",
       "      <td>63.0</td>\n",
       "      <td>1319.85</td>\n",
       "      <td>91</td>\n",
       "      <td>14.6</td>\n",
       "      <td>48.799999</td>\n",
       "      <td>...</td>\n",
       "      <td>59.624912</td>\n",
       "      <td>-67.693509</td>\n",
       "      <td>28.614804</td>\n",
       "      <td>1789.960449</td>\n",
       "      <td>3384.226562</td>\n",
       "      <td>0.015104</td>\n",
       "      <td>75.630043</td>\n",
       "      <td>55.657486</td>\n",
       "      <td>-53.868134</td>\n",
       "      <td>19.293652</td>\n",
       "    </tr>\n",
       "  </tbody>\n",
       "</table>\n",
       "<p>2 rows × 82 columns</p>\n",
       "</div>"
      ],
      "text/plain": [
       "        Place_ID X Date        Date Place_ID  target  target_min  target_max  \\\n",
       "0  010Q650 X 2020-01-02  2020-01-02  010Q650    38.0        23.0        53.0   \n",
       "1  010Q650 X 2020-01-03  2020-01-03  010Q650    39.0        25.0        63.0   \n",
       "\n",
       "   target_variance  target_count  precipitable_water_entire_atmosphere  \\\n",
       "0           769.50            92                                  11.0   \n",
       "1          1319.85            91                                  14.6   \n",
       "\n",
       "   relative_humidity_2m_above_ground  ...  L3_SO2_sensor_zenith_angle  \\\n",
       "0                          60.200001  ...                   38.593017   \n",
       "1                          48.799999  ...                   59.624912   \n",
       "\n",
       "   L3_SO2_solar_azimuth_angle  L3_SO2_solar_zenith_angle  \\\n",
       "0                  -61.752587                  22.363665   \n",
       "1                  -67.693509                  28.614804   \n",
       "\n",
       "   L3_CH4_CH4_column_volume_mixing_ratio_dry_air  L3_CH4_aerosol_height  \\\n",
       "0                                    1793.793579            3227.855469   \n",
       "1                                    1789.960449            3384.226562   \n",
       "\n",
       "   L3_CH4_aerosol_optical_depth  L3_CH4_sensor_azimuth_angle  \\\n",
       "0                      0.010579                    74.481049   \n",
       "1                      0.015104                    75.630043   \n",
       "\n",
       "   L3_CH4_sensor_zenith_angle  L3_CH4_solar_azimuth_angle  \\\n",
       "0                   37.501499                  -62.142639   \n",
       "1                   55.657486                  -53.868134   \n",
       "\n",
       "   L3_CH4_solar_zenith_angle  \n",
       "0                  22.545118  \n",
       "1                  19.293652  \n",
       "\n",
       "[2 rows x 82 columns]"
      ]
     },
     "execution_count": 24,
     "metadata": {},
     "output_type": "execute_result"
    }
   ],
   "source": [
    "# train data\n",
    "df_train = pd.read_csv('Train.csv')\n",
    "df_train.head(2)"
   ]
  },
  {
   "cell_type": "code",
   "execution_count": 25,
   "id": "f4fb48dc-d159-42f0-9929-9ddb2a52e17b",
   "metadata": {},
   "outputs": [
    {
     "data": {
      "text/html": [
       "<div>\n",
       "<style scoped>\n",
       "    .dataframe tbody tr th:only-of-type {\n",
       "        vertical-align: middle;\n",
       "    }\n",
       "\n",
       "    .dataframe tbody tr th {\n",
       "        vertical-align: top;\n",
       "    }\n",
       "\n",
       "    .dataframe thead th {\n",
       "        text-align: right;\n",
       "    }\n",
       "</style>\n",
       "<table border=\"1\" class=\"dataframe\">\n",
       "  <thead>\n",
       "    <tr style=\"text-align: right;\">\n",
       "      <th></th>\n",
       "      <th>Place_ID X Date</th>\n",
       "      <th>Date</th>\n",
       "      <th>Place_ID</th>\n",
       "      <th>precipitable_water_entire_atmosphere</th>\n",
       "      <th>relative_humidity_2m_above_ground</th>\n",
       "      <th>specific_humidity_2m_above_ground</th>\n",
       "      <th>temperature_2m_above_ground</th>\n",
       "      <th>u_component_of_wind_10m_above_ground</th>\n",
       "      <th>v_component_of_wind_10m_above_ground</th>\n",
       "      <th>L3_NO2_NO2_column_number_density</th>\n",
       "      <th>...</th>\n",
       "      <th>L3_SO2_sensor_zenith_angle</th>\n",
       "      <th>L3_SO2_solar_azimuth_angle</th>\n",
       "      <th>L3_SO2_solar_zenith_angle</th>\n",
       "      <th>L3_CH4_CH4_column_volume_mixing_ratio_dry_air</th>\n",
       "      <th>L3_CH4_aerosol_height</th>\n",
       "      <th>L3_CH4_aerosol_optical_depth</th>\n",
       "      <th>L3_CH4_sensor_azimuth_angle</th>\n",
       "      <th>L3_CH4_sensor_zenith_angle</th>\n",
       "      <th>L3_CH4_solar_azimuth_angle</th>\n",
       "      <th>L3_CH4_solar_zenith_angle</th>\n",
       "    </tr>\n",
       "  </thead>\n",
       "  <tbody>\n",
       "    <tr>\n",
       "      <th>0</th>\n",
       "      <td>0OS9LVX X 2020-01-02</td>\n",
       "      <td>2020-01-02</td>\n",
       "      <td>0OS9LVX</td>\n",
       "      <td>11.600000</td>\n",
       "      <td>30.200001</td>\n",
       "      <td>0.00409</td>\n",
       "      <td>14.656824</td>\n",
       "      <td>3.956377</td>\n",
       "      <td>0.712605</td>\n",
       "      <td>0.000053</td>\n",
       "      <td>...</td>\n",
       "      <td>1.445658</td>\n",
       "      <td>-95.984984</td>\n",
       "      <td>22.942019</td>\n",
       "      <td>NaN</td>\n",
       "      <td>NaN</td>\n",
       "      <td>NaN</td>\n",
       "      <td>NaN</td>\n",
       "      <td>NaN</td>\n",
       "      <td>NaN</td>\n",
       "      <td>NaN</td>\n",
       "    </tr>\n",
       "    <tr>\n",
       "      <th>1</th>\n",
       "      <td>0OS9LVX X 2020-01-03</td>\n",
       "      <td>2020-01-03</td>\n",
       "      <td>0OS9LVX</td>\n",
       "      <td>18.300001</td>\n",
       "      <td>42.900002</td>\n",
       "      <td>0.00595</td>\n",
       "      <td>15.026544</td>\n",
       "      <td>4.230430</td>\n",
       "      <td>0.661892</td>\n",
       "      <td>0.000050</td>\n",
       "      <td>...</td>\n",
       "      <td>34.641758</td>\n",
       "      <td>-95.014908</td>\n",
       "      <td>18.539116</td>\n",
       "      <td>NaN</td>\n",
       "      <td>NaN</td>\n",
       "      <td>NaN</td>\n",
       "      <td>NaN</td>\n",
       "      <td>NaN</td>\n",
       "      <td>NaN</td>\n",
       "      <td>NaN</td>\n",
       "    </tr>\n",
       "  </tbody>\n",
       "</table>\n",
       "<p>2 rows × 77 columns</p>\n",
       "</div>"
      ],
      "text/plain": [
       "        Place_ID X Date        Date Place_ID  \\\n",
       "0  0OS9LVX X 2020-01-02  2020-01-02  0OS9LVX   \n",
       "1  0OS9LVX X 2020-01-03  2020-01-03  0OS9LVX   \n",
       "\n",
       "   precipitable_water_entire_atmosphere  relative_humidity_2m_above_ground  \\\n",
       "0                             11.600000                          30.200001   \n",
       "1                             18.300001                          42.900002   \n",
       "\n",
       "   specific_humidity_2m_above_ground  temperature_2m_above_ground  \\\n",
       "0                            0.00409                    14.656824   \n",
       "1                            0.00595                    15.026544   \n",
       "\n",
       "   u_component_of_wind_10m_above_ground  v_component_of_wind_10m_above_ground  \\\n",
       "0                              3.956377                              0.712605   \n",
       "1                              4.230430                              0.661892   \n",
       "\n",
       "   L3_NO2_NO2_column_number_density  ...  L3_SO2_sensor_zenith_angle  \\\n",
       "0                          0.000053  ...                    1.445658   \n",
       "1                          0.000050  ...                   34.641758   \n",
       "\n",
       "   L3_SO2_solar_azimuth_angle  L3_SO2_solar_zenith_angle  \\\n",
       "0                  -95.984984                  22.942019   \n",
       "1                  -95.014908                  18.539116   \n",
       "\n",
       "   L3_CH4_CH4_column_volume_mixing_ratio_dry_air  L3_CH4_aerosol_height  \\\n",
       "0                                            NaN                    NaN   \n",
       "1                                            NaN                    NaN   \n",
       "\n",
       "   L3_CH4_aerosol_optical_depth  L3_CH4_sensor_azimuth_angle  \\\n",
       "0                           NaN                          NaN   \n",
       "1                           NaN                          NaN   \n",
       "\n",
       "   L3_CH4_sensor_zenith_angle  L3_CH4_solar_azimuth_angle  \\\n",
       "0                         NaN                         NaN   \n",
       "1                         NaN                         NaN   \n",
       "\n",
       "   L3_CH4_solar_zenith_angle  \n",
       "0                        NaN  \n",
       "1                        NaN  \n",
       "\n",
       "[2 rows x 77 columns]"
      ]
     },
     "execution_count": 25,
     "metadata": {},
     "output_type": "execute_result"
    }
   ],
   "source": [
    "# test data\n",
    "df_test = pd.read_csv('Test.csv')\n",
    "df_test.head(2)"
   ]
  },
  {
   "cell_type": "markdown",
   "id": "a5b835bc-f6dc-4f9c-abaf-0b0bf4a12f0b",
   "metadata": {},
   "source": [
    "##### Characteristics"
   ]
  },
  {
   "cell_type": "code",
   "execution_count": 26,
   "id": "ce036fd5-f48f-4e74-abda-adf83969ee4c",
   "metadata": {
    "scrolled": true
   },
   "outputs": [],
   "source": [
    "# Filter columns with missing values\n",
    "columns_with_missing_values_train = df_train.columns[df_train.isnull().any()]\n",
    "columns_with_missing_values_test = df_train.columns[df_train.isnull().any()]"
   ]
  },
  {
   "cell_type": "code",
   "execution_count": 27,
   "id": "b8a786a8-95e9-42d8-a393-6fdb19354e2d",
   "metadata": {},
   "outputs": [],
   "source": [
    "# Fill missing values in float-type columns with their mean\n",
    "for column in columns_with_missing_values_train:\n",
    "    if df_train[column].dtype == 'float64':  # Check if column is float-type\n",
    "        df_train[column].fillna(df_train[column].mean(), inplace=True)"
   ]
  },
  {
   "cell_type": "code",
   "execution_count": 28,
   "id": "255b225c-8521-4612-8838-56b2f8465014",
   "metadata": {},
   "outputs": [],
   "source": [
    "for column in columns_with_missing_values_test:\n",
    "    if df_test[column].dtype == 'float64':  # Check if column is float-type\n",
    "        df_test[column].fillna(df_test[column].mean(), inplace=True)"
   ]
  },
  {
   "cell_type": "code",
   "execution_count": 29,
   "id": "c62427d4-03c6-4b87-9171-0ea4349dd4e7",
   "metadata": {},
   "outputs": [],
   "source": [
    "from sklearn.model_selection import train_test_split, cross_val_score\n",
    "from sklearn.preprocessing import StandardScaler\n",
    "from sklearn.impute import SimpleImputer\n",
    "from sklearn.linear_model import LinearRegression\n",
    "from sklearn.metrics import mean_squared_error\n",
    "from sklearn.compose import ColumnTransformer\n",
    "from sklearn.pipeline import Pipeline"
   ]
  },
  {
   "cell_type": "code",
   "execution_count": 30,
   "id": "01494963-abb2-48e3-990f-59ae69edb85b",
   "metadata": {},
   "outputs": [],
   "source": [
    "# Data Preprocessing\n",
    "place_id = df_train['Place_ID']\n",
    "\n",
    "# Separate features and target variable\n",
    "X_train = df_train.drop(columns=['target', 'Place_ID X Date', 'Place_ID', 'target_min', 'target_max', 'target_variance'])\n",
    "y_train = df_train['target']"
   ]
  },
  {
   "cell_type": "code",
   "execution_count": 31,
   "id": "71a79292-1e78-4fa4-8a23-d6d89ecdd180",
   "metadata": {},
   "outputs": [],
   "source": [
    "# Separate features for test data\n",
    "X_test = df_test.drop(columns=['Place_ID X Date', 'Place_ID'])"
   ]
  },
  {
   "cell_type": "code",
   "execution_count": 32,
   "id": "375fa9f3-d4f4-4911-b160-b25b5da8536c",
   "metadata": {},
   "outputs": [],
   "source": [
    "# Preprocessing pipeline\n",
    "preprocessor = ColumnTransformer(\n",
    "    transformers=[\n",
    "        ('num', SimpleImputer(strategy='mean'), X_train.select_dtypes(include=['float64']).columns)\n",
    "    ])"
   ]
  },
  {
   "cell_type": "code",
   "execution_count": 33,
   "id": "bd167163-6162-4334-a945-4bb0576d5fcd",
   "metadata": {},
   "outputs": [],
   "source": [
    "# Define the model\n",
    "#linreg_model = Pipeline(steps=[\n",
    "#    ('preprocessor', preprocessor),\n",
    "#    ('scaler', StandardScaler()),\n",
    "#    ('regressor', LinearRegression())\n",
    "#])"
   ]
  },
  {
   "cell_type": "code",
   "execution_count": 34,
   "id": "d7c4d0af-26c2-4eba-bfde-e97560167271",
   "metadata": {},
   "outputs": [],
   "source": [
    "# Define the model\n",
    "#random_forest_model = Pipeline(steps=[\n",
    "#    ('preprocessor', preprocessor),\n",
    "#    ('scaler', StandardScaler()),\n",
    "#    ('regressor', RandomForestRegressor(random_state=42))\n",
    "#])"
   ]
  },
  {
   "cell_type": "code",
   "execution_count": 35,
   "id": "405a7dc4-4ca1-4110-b687-e01e00f3cfac",
   "metadata": {},
   "outputs": [],
   "source": [
    "# Define the model\n",
    "#from xgboost import XGBRegressor\n",
    "#xg_boost_model = Pipeline(steps=[\n",
    "#    ('preprocessor', preprocessor),\n",
    "#    ('scaler', StandardScaler()),\n",
    "#    ('XGBoost Regressor', XGBRegressor(random_state=42))\n",
    "#])"
   ]
  },
  {
   "cell_type": "code",
   "execution_count": 36,
   "id": "10b34151-f883-4d7c-abbc-5cf9ec47d0c9",
   "metadata": {},
   "outputs": [],
   "source": [
    "# Define the model\n",
    "from catboost import CatBoostRegressor\n",
    "cat_boost_model = Pipeline(steps=[\n",
    "    ('preprocessor', preprocessor),\n",
    "    ('scaler', StandardScaler()),\n",
    "    ('CatBoost Regressor', CatBoostRegressor(random_state=42, verbose=False))\n",
    "])"
   ]
  },
  {
   "cell_type": "code",
   "execution_count": 37,
   "id": "ee9b5e5b-753b-402e-bb0b-dae31e8291bc",
   "metadata": {},
   "outputs": [],
   "source": [
    "# Train the model\n",
    "#linreg_model.fit(X_train, y_train)"
   ]
  },
  {
   "cell_type": "code",
   "execution_count": 38,
   "id": "d73a45bc-c3b1-4f67-bdb9-f225b13f714d",
   "metadata": {},
   "outputs": [],
   "source": [
    "# Train the model\n",
    "#random_forest_model.fit(X_train, y_train)"
   ]
  },
  {
   "cell_type": "code",
   "execution_count": 39,
   "id": "657bcd72-450b-4220-8832-c3dbed47a3fa",
   "metadata": {},
   "outputs": [],
   "source": [
    "# Train the model\n",
    "#xg_boost_model.fit(X_train, y_train)"
   ]
  },
  {
   "cell_type": "code",
   "execution_count": 40,
   "id": "fcc0a14f-6473-49a5-890d-f979e45584bb",
   "metadata": {},
   "outputs": [
    {
     "data": {
      "text/html": [
       "<style>#sk-container-id-2 {color: black;background-color: white;}#sk-container-id-2 pre{padding: 0;}#sk-container-id-2 div.sk-toggleable {background-color: white;}#sk-container-id-2 label.sk-toggleable__label {cursor: pointer;display: block;width: 100%;margin-bottom: 0;padding: 0.3em;box-sizing: border-box;text-align: center;}#sk-container-id-2 label.sk-toggleable__label-arrow:before {content: \"▸\";float: left;margin-right: 0.25em;color: #696969;}#sk-container-id-2 label.sk-toggleable__label-arrow:hover:before {color: black;}#sk-container-id-2 div.sk-estimator:hover label.sk-toggleable__label-arrow:before {color: black;}#sk-container-id-2 div.sk-toggleable__content {max-height: 0;max-width: 0;overflow: hidden;text-align: left;background-color: #f0f8ff;}#sk-container-id-2 div.sk-toggleable__content pre {margin: 0.2em;color: black;border-radius: 0.25em;background-color: #f0f8ff;}#sk-container-id-2 input.sk-toggleable__control:checked~div.sk-toggleable__content {max-height: 200px;max-width: 100%;overflow: auto;}#sk-container-id-2 input.sk-toggleable__control:checked~label.sk-toggleable__label-arrow:before {content: \"▾\";}#sk-container-id-2 div.sk-estimator input.sk-toggleable__control:checked~label.sk-toggleable__label {background-color: #d4ebff;}#sk-container-id-2 div.sk-label input.sk-toggleable__control:checked~label.sk-toggleable__label {background-color: #d4ebff;}#sk-container-id-2 input.sk-hidden--visually {border: 0;clip: rect(1px 1px 1px 1px);clip: rect(1px, 1px, 1px, 1px);height: 1px;margin: -1px;overflow: hidden;padding: 0;position: absolute;width: 1px;}#sk-container-id-2 div.sk-estimator {font-family: monospace;background-color: #f0f8ff;border: 1px dotted black;border-radius: 0.25em;box-sizing: border-box;margin-bottom: 0.5em;}#sk-container-id-2 div.sk-estimator:hover {background-color: #d4ebff;}#sk-container-id-2 div.sk-parallel-item::after {content: \"\";width: 100%;border-bottom: 1px solid gray;flex-grow: 1;}#sk-container-id-2 div.sk-label:hover label.sk-toggleable__label {background-color: #d4ebff;}#sk-container-id-2 div.sk-serial::before {content: \"\";position: absolute;border-left: 1px solid gray;box-sizing: border-box;top: 0;bottom: 0;left: 50%;z-index: 0;}#sk-container-id-2 div.sk-serial {display: flex;flex-direction: column;align-items: center;background-color: white;padding-right: 0.2em;padding-left: 0.2em;position: relative;}#sk-container-id-2 div.sk-item {position: relative;z-index: 1;}#sk-container-id-2 div.sk-parallel {display: flex;align-items: stretch;justify-content: center;background-color: white;position: relative;}#sk-container-id-2 div.sk-item::before, #sk-container-id-2 div.sk-parallel-item::before {content: \"\";position: absolute;border-left: 1px solid gray;box-sizing: border-box;top: 0;bottom: 0;left: 50%;z-index: -1;}#sk-container-id-2 div.sk-parallel-item {display: flex;flex-direction: column;z-index: 1;position: relative;background-color: white;}#sk-container-id-2 div.sk-parallel-item:first-child::after {align-self: flex-end;width: 50%;}#sk-container-id-2 div.sk-parallel-item:last-child::after {align-self: flex-start;width: 50%;}#sk-container-id-2 div.sk-parallel-item:only-child::after {width: 0;}#sk-container-id-2 div.sk-dashed-wrapped {border: 1px dashed gray;margin: 0 0.4em 0.5em 0.4em;box-sizing: border-box;padding-bottom: 0.4em;background-color: white;}#sk-container-id-2 div.sk-label label {font-family: monospace;font-weight: bold;display: inline-block;line-height: 1.2em;}#sk-container-id-2 div.sk-label-container {text-align: center;}#sk-container-id-2 div.sk-container {/* jupyter's `normalize.less` sets `[hidden] { display: none; }` but bootstrap.min.css set `[hidden] { display: none !important; }` so we also need the `!important` here to be able to override the default hidden behavior on the sphinx rendered scikit-learn.org. See: https://github.com/scikit-learn/scikit-learn/issues/21755 */display: inline-block !important;position: relative;}#sk-container-id-2 div.sk-text-repr-fallback {display: none;}</style><div id=\"sk-container-id-2\" class=\"sk-top-container\"><div class=\"sk-text-repr-fallback\"><pre>Pipeline(steps=[(&#x27;preprocessor&#x27;,\n",
       "                 ColumnTransformer(transformers=[(&#x27;num&#x27;, SimpleImputer(),\n",
       "                                                  Index([&#x27;precipitable_water_entire_atmosphere&#x27;,\n",
       "       &#x27;relative_humidity_2m_above_ground&#x27;,\n",
       "       &#x27;specific_humidity_2m_above_ground&#x27;, &#x27;temperature_2m_above_ground&#x27;,\n",
       "       &#x27;u_component_of_wind_10m_above_ground&#x27;,\n",
       "       &#x27;v_component_of_wind_10m_above_ground&#x27;,\n",
       "       &#x27;L3_NO2_NO2_column_number_density&#x27;,\n",
       "       &#x27;L...\n",
       "       &#x27;L3_CH4_CH4_column_volume_mixing_ratio_dry_air&#x27;,\n",
       "       &#x27;L3_CH4_aerosol_height&#x27;, &#x27;L3_CH4_aerosol_optical_depth&#x27;,\n",
       "       &#x27;L3_CH4_sensor_azimuth_angle&#x27;, &#x27;L3_CH4_sensor_zenith_angle&#x27;,\n",
       "       &#x27;L3_CH4_solar_azimuth_angle&#x27;, &#x27;L3_CH4_solar_zenith_angle&#x27;],\n",
       "      dtype=&#x27;object&#x27;))])),\n",
       "                (&#x27;scaler&#x27;, StandardScaler()),\n",
       "                (&#x27;CatBoost Regressor&#x27;,\n",
       "                 &lt;catboost.core.CatBoostRegressor object at 0x000002A583C64850&gt;)])</pre><b>In a Jupyter environment, please rerun this cell to show the HTML representation or trust the notebook. <br />On GitHub, the HTML representation is unable to render, please try loading this page with nbviewer.org.</b></div><div class=\"sk-container\" hidden><div class=\"sk-item sk-dashed-wrapped\"><div class=\"sk-label-container\"><div class=\"sk-label sk-toggleable\"><input class=\"sk-toggleable__control sk-hidden--visually\" id=\"sk-estimator-id-7\" type=\"checkbox\" ><label for=\"sk-estimator-id-7\" class=\"sk-toggleable__label sk-toggleable__label-arrow\">Pipeline</label><div class=\"sk-toggleable__content\"><pre>Pipeline(steps=[(&#x27;preprocessor&#x27;,\n",
       "                 ColumnTransformer(transformers=[(&#x27;num&#x27;, SimpleImputer(),\n",
       "                                                  Index([&#x27;precipitable_water_entire_atmosphere&#x27;,\n",
       "       &#x27;relative_humidity_2m_above_ground&#x27;,\n",
       "       &#x27;specific_humidity_2m_above_ground&#x27;, &#x27;temperature_2m_above_ground&#x27;,\n",
       "       &#x27;u_component_of_wind_10m_above_ground&#x27;,\n",
       "       &#x27;v_component_of_wind_10m_above_ground&#x27;,\n",
       "       &#x27;L3_NO2_NO2_column_number_density&#x27;,\n",
       "       &#x27;L...\n",
       "       &#x27;L3_CH4_CH4_column_volume_mixing_ratio_dry_air&#x27;,\n",
       "       &#x27;L3_CH4_aerosol_height&#x27;, &#x27;L3_CH4_aerosol_optical_depth&#x27;,\n",
       "       &#x27;L3_CH4_sensor_azimuth_angle&#x27;, &#x27;L3_CH4_sensor_zenith_angle&#x27;,\n",
       "       &#x27;L3_CH4_solar_azimuth_angle&#x27;, &#x27;L3_CH4_solar_zenith_angle&#x27;],\n",
       "      dtype=&#x27;object&#x27;))])),\n",
       "                (&#x27;scaler&#x27;, StandardScaler()),\n",
       "                (&#x27;CatBoost Regressor&#x27;,\n",
       "                 &lt;catboost.core.CatBoostRegressor object at 0x000002A583C64850&gt;)])</pre></div></div></div><div class=\"sk-serial\"><div class=\"sk-item sk-dashed-wrapped\"><div class=\"sk-label-container\"><div class=\"sk-label sk-toggleable\"><input class=\"sk-toggleable__control sk-hidden--visually\" id=\"sk-estimator-id-8\" type=\"checkbox\" ><label for=\"sk-estimator-id-8\" class=\"sk-toggleable__label sk-toggleable__label-arrow\">preprocessor: ColumnTransformer</label><div class=\"sk-toggleable__content\"><pre>ColumnTransformer(transformers=[(&#x27;num&#x27;, SimpleImputer(),\n",
       "                                 Index([&#x27;precipitable_water_entire_atmosphere&#x27;,\n",
       "       &#x27;relative_humidity_2m_above_ground&#x27;,\n",
       "       &#x27;specific_humidity_2m_above_ground&#x27;, &#x27;temperature_2m_above_ground&#x27;,\n",
       "       &#x27;u_component_of_wind_10m_above_ground&#x27;,\n",
       "       &#x27;v_component_of_wind_10m_above_ground&#x27;,\n",
       "       &#x27;L3_NO2_NO2_column_number_density&#x27;,\n",
       "       &#x27;L3_NO2_NO2_slant_column_number_de...\n",
       "       &#x27;L3_SO2_sensor_azimuth_angle&#x27;, &#x27;L3_SO2_sensor_zenith_angle&#x27;,\n",
       "       &#x27;L3_SO2_solar_azimuth_angle&#x27;, &#x27;L3_SO2_solar_zenith_angle&#x27;,\n",
       "       &#x27;L3_CH4_CH4_column_volume_mixing_ratio_dry_air&#x27;,\n",
       "       &#x27;L3_CH4_aerosol_height&#x27;, &#x27;L3_CH4_aerosol_optical_depth&#x27;,\n",
       "       &#x27;L3_CH4_sensor_azimuth_angle&#x27;, &#x27;L3_CH4_sensor_zenith_angle&#x27;,\n",
       "       &#x27;L3_CH4_solar_azimuth_angle&#x27;, &#x27;L3_CH4_solar_zenith_angle&#x27;],\n",
       "      dtype=&#x27;object&#x27;))])</pre></div></div></div><div class=\"sk-parallel\"><div class=\"sk-parallel-item\"><div class=\"sk-item\"><div class=\"sk-label-container\"><div class=\"sk-label sk-toggleable\"><input class=\"sk-toggleable__control sk-hidden--visually\" id=\"sk-estimator-id-9\" type=\"checkbox\" ><label for=\"sk-estimator-id-9\" class=\"sk-toggleable__label sk-toggleable__label-arrow\">num</label><div class=\"sk-toggleable__content\"><pre>Index([&#x27;precipitable_water_entire_atmosphere&#x27;,\n",
       "       &#x27;relative_humidity_2m_above_ground&#x27;,\n",
       "       &#x27;specific_humidity_2m_above_ground&#x27;, &#x27;temperature_2m_above_ground&#x27;,\n",
       "       &#x27;u_component_of_wind_10m_above_ground&#x27;,\n",
       "       &#x27;v_component_of_wind_10m_above_ground&#x27;,\n",
       "       &#x27;L3_NO2_NO2_column_number_density&#x27;,\n",
       "       &#x27;L3_NO2_NO2_slant_column_number_density&#x27;,\n",
       "       &#x27;L3_NO2_absorbing_aerosol_index&#x27;, &#x27;L3_NO2_cloud_fraction&#x27;,\n",
       "       &#x27;L3_NO2_sensor_altitude&#x27;, &#x27;L3_NO2_sensor_azimuth_angle&#x27;,\n",
       "       &#x27;L3_NO2_sensor_zenith_angle&#x27;, &#x27;L3_NO2_solar_azimuth_angle&#x27;,\n",
       "       &#x27;L3_NO2_solar_zenith_angle&#x27;,\n",
       "       &#x27;L3_NO2_stratospheric_NO2_column_number_density&#x27;,\n",
       "       &#x27;L3_NO2_tropopause_pressure&#x27;,\n",
       "       &#x27;L3_NO2_tropospheric_NO2_column_number_density&#x27;,\n",
       "       &#x27;L3_O3_O3_column_number_density&#x27;, &#x27;L3_O3_O3_effective_temperature&#x27;,\n",
       "       &#x27;L3_O3_cloud_fraction&#x27;, &#x27;L3_O3_sensor_azimuth_angle&#x27;,\n",
       "       &#x27;L3_O3_sensor_zenith_angle&#x27;, &#x27;L3_O3_solar_azimuth_angle&#x27;,\n",
       "       &#x27;L3_O3_solar_zenith_angle&#x27;, &#x27;L3_CO_CO_column_number_density&#x27;,\n",
       "       &#x27;L3_CO_H2O_column_number_density&#x27;, &#x27;L3_CO_cloud_height&#x27;,\n",
       "       &#x27;L3_CO_sensor_altitude&#x27;, &#x27;L3_CO_sensor_azimuth_angle&#x27;,\n",
       "       &#x27;L3_CO_sensor_zenith_angle&#x27;, &#x27;L3_CO_solar_azimuth_angle&#x27;,\n",
       "       &#x27;L3_CO_solar_zenith_angle&#x27;, &#x27;L3_HCHO_HCHO_slant_column_number_density&#x27;,\n",
       "       &#x27;L3_HCHO_cloud_fraction&#x27;, &#x27;L3_HCHO_sensor_azimuth_angle&#x27;,\n",
       "       &#x27;L3_HCHO_sensor_zenith_angle&#x27;, &#x27;L3_HCHO_solar_azimuth_angle&#x27;,\n",
       "       &#x27;L3_HCHO_solar_zenith_angle&#x27;,\n",
       "       &#x27;L3_HCHO_tropospheric_HCHO_column_number_density&#x27;,\n",
       "       &#x27;L3_HCHO_tropospheric_HCHO_column_number_density_amf&#x27;,\n",
       "       &#x27;L3_CLOUD_cloud_base_height&#x27;, &#x27;L3_CLOUD_cloud_base_pressure&#x27;,\n",
       "       &#x27;L3_CLOUD_cloud_fraction&#x27;, &#x27;L3_CLOUD_cloud_optical_depth&#x27;,\n",
       "       &#x27;L3_CLOUD_cloud_top_height&#x27;, &#x27;L3_CLOUD_cloud_top_pressure&#x27;,\n",
       "       &#x27;L3_CLOUD_sensor_azimuth_angle&#x27;, &#x27;L3_CLOUD_sensor_zenith_angle&#x27;,\n",
       "       &#x27;L3_CLOUD_solar_azimuth_angle&#x27;, &#x27;L3_CLOUD_solar_zenith_angle&#x27;,\n",
       "       &#x27;L3_CLOUD_surface_albedo&#x27;, &#x27;L3_AER_AI_absorbing_aerosol_index&#x27;,\n",
       "       &#x27;L3_AER_AI_sensor_altitude&#x27;, &#x27;L3_AER_AI_sensor_azimuth_angle&#x27;,\n",
       "       &#x27;L3_AER_AI_sensor_zenith_angle&#x27;, &#x27;L3_AER_AI_solar_azimuth_angle&#x27;,\n",
       "       &#x27;L3_AER_AI_solar_zenith_angle&#x27;, &#x27;L3_SO2_SO2_column_number_density&#x27;,\n",
       "       &#x27;L3_SO2_SO2_column_number_density_amf&#x27;,\n",
       "       &#x27;L3_SO2_SO2_slant_column_number_density&#x27;,\n",
       "       &#x27;L3_SO2_absorbing_aerosol_index&#x27;, &#x27;L3_SO2_cloud_fraction&#x27;,\n",
       "       &#x27;L3_SO2_sensor_azimuth_angle&#x27;, &#x27;L3_SO2_sensor_zenith_angle&#x27;,\n",
       "       &#x27;L3_SO2_solar_azimuth_angle&#x27;, &#x27;L3_SO2_solar_zenith_angle&#x27;,\n",
       "       &#x27;L3_CH4_CH4_column_volume_mixing_ratio_dry_air&#x27;,\n",
       "       &#x27;L3_CH4_aerosol_height&#x27;, &#x27;L3_CH4_aerosol_optical_depth&#x27;,\n",
       "       &#x27;L3_CH4_sensor_azimuth_angle&#x27;, &#x27;L3_CH4_sensor_zenith_angle&#x27;,\n",
       "       &#x27;L3_CH4_solar_azimuth_angle&#x27;, &#x27;L3_CH4_solar_zenith_angle&#x27;],\n",
       "      dtype=&#x27;object&#x27;)</pre></div></div></div><div class=\"sk-serial\"><div class=\"sk-item\"><div class=\"sk-estimator sk-toggleable\"><input class=\"sk-toggleable__control sk-hidden--visually\" id=\"sk-estimator-id-10\" type=\"checkbox\" ><label for=\"sk-estimator-id-10\" class=\"sk-toggleable__label sk-toggleable__label-arrow\">SimpleImputer</label><div class=\"sk-toggleable__content\"><pre>SimpleImputer()</pre></div></div></div></div></div></div></div></div><div class=\"sk-item\"><div class=\"sk-estimator sk-toggleable\"><input class=\"sk-toggleable__control sk-hidden--visually\" id=\"sk-estimator-id-11\" type=\"checkbox\" ><label for=\"sk-estimator-id-11\" class=\"sk-toggleable__label sk-toggleable__label-arrow\">StandardScaler</label><div class=\"sk-toggleable__content\"><pre>StandardScaler()</pre></div></div></div><div class=\"sk-item\"><div class=\"sk-estimator sk-toggleable\"><input class=\"sk-toggleable__control sk-hidden--visually\" id=\"sk-estimator-id-12\" type=\"checkbox\" ><label for=\"sk-estimator-id-12\" class=\"sk-toggleable__label sk-toggleable__label-arrow\">CatBoostRegressor</label><div class=\"sk-toggleable__content\"><pre>&lt;catboost.core.CatBoostRegressor object at 0x000002A583C64850&gt;</pre></div></div></div></div></div></div></div>"
      ],
      "text/plain": [
       "Pipeline(steps=[('preprocessor',\n",
       "                 ColumnTransformer(transformers=[('num', SimpleImputer(),\n",
       "                                                  Index(['precipitable_water_entire_atmosphere',\n",
       "       'relative_humidity_2m_above_ground',\n",
       "       'specific_humidity_2m_above_ground', 'temperature_2m_above_ground',\n",
       "       'u_component_of_wind_10m_above_ground',\n",
       "       'v_component_of_wind_10m_above_ground',\n",
       "       'L3_NO2_NO2_column_number_density',\n",
       "       'L...\n",
       "       'L3_CH4_CH4_column_volume_mixing_ratio_dry_air',\n",
       "       'L3_CH4_aerosol_height', 'L3_CH4_aerosol_optical_depth',\n",
       "       'L3_CH4_sensor_azimuth_angle', 'L3_CH4_sensor_zenith_angle',\n",
       "       'L3_CH4_solar_azimuth_angle', 'L3_CH4_solar_zenith_angle'],\n",
       "      dtype='object'))])),\n",
       "                ('scaler', StandardScaler()),\n",
       "                ('CatBoost Regressor',\n",
       "                 <catboost.core.CatBoostRegressor object at 0x000002A583C64850>)])"
      ]
     },
     "execution_count": 40,
     "metadata": {},
     "output_type": "execute_result"
    }
   ],
   "source": [
    "# Train the model\n",
    "cat_boost_model.fit(X_train, y_train)"
   ]
  },
  {
   "cell_type": "code",
   "execution_count": 41,
   "id": "27dd5744-4d27-4154-9665-7d303a5506cd",
   "metadata": {},
   "outputs": [],
   "source": [
    "# Predict on the test set\n",
    "# linear regression\n",
    "#y_pred_test = linreg_model.predict(X_test)\n",
    "\n",
    "# random forest\n",
    "#y_pred_test = random_forest_model.predict(X_test)\n",
    "\n",
    "# xg boost\n",
    "#y_pred_test = xg_boost_model.predict(X_test)"
   ]
  },
  {
   "cell_type": "code",
   "execution_count": 42,
   "id": "d1cb2b1d-c778-43e6-89bc-ac96f5c5c641",
   "metadata": {},
   "outputs": [],
   "source": [
    "# Predict on the test set\n",
    "y_pred_test = cat_boost_model.predict(X_test)"
   ]
  },
  {
   "cell_type": "code",
   "execution_count": 43,
   "id": "58fa4fb3-eeb2-406b-b144-20016edacfb1",
   "metadata": {},
   "outputs": [
    {
     "name": "stdout",
     "output_type": "stream",
     "text": [
      "submission csv successfully downloaded\n"
     ]
    }
   ],
   "source": [
    "# Prepare submission file\n",
    "submission_df = pd.read_csv('SampleSubmission.csv')\n",
    "submission_df['target'] = y_pred_test\n",
    "submission_df.to_csv('submission.csv', index=False)\n",
    "print('submission csv successfully downloaded')"
   ]
  },
  {
   "cell_type": "code",
   "execution_count": null,
   "id": "f258620a-3392-4a56-9a79-23d6a520fa4a",
   "metadata": {},
   "outputs": [],
   "source": [
    "# Split the training data into training and validation sets\n",
    "X_train_split, X_val_split, y_train_split, y_val_split = train_test_split(X_train, y_train, test_size=0.2, random_state=42)\n",
    "\n",
    "# Train the model\n",
    "linreg_model.fit(X_train_split, y_train_split)\n",
    "\n",
    "# Predict on the validation set\n",
    "y_pred_val = linreg_model.predict(X_val_split)\n",
    "\n",
    "# Evaluate the model\n",
    "mse = mean_squared_error(y_val_split, y_pred_val)\n",
    "print(\"Mean Squared Error on Validation Set:\", mse)\n",
    "\n",
    "# Check MSE and print corresponding message\n",
    "if mse < 1000:\n",
    "    print(\"Model is Great\")\n",
    "elif 1000 <= mse < 2000:\n",
    "    print(\"Model is Good\")\n",
    "elif 2000 <= mse < 3000:\n",
    "    print(\"Model is Average\")\n",
    "elif 3000 <= mse < 4000:\n",
    "    print(\"Model is Bad\")\n",
    "else:\n",
    "    print(\"Model is Terrible\")"
   ]
  },
  {
   "cell_type": "code",
   "execution_count": null,
   "id": "31913e7d-bd31-45c3-a026-124c79eb9701",
   "metadata": {},
   "outputs": [],
   "source": []
  },
  {
   "cell_type": "code",
   "execution_count": null,
   "id": "325354a2-1454-45e6-ba55-eb18314d7cf9",
   "metadata": {},
   "outputs": [],
   "source": []
  },
  {
   "cell_type": "code",
   "execution_count": null,
   "id": "2db828ff-9dd4-44c6-bf95-df93450e7301",
   "metadata": {},
   "outputs": [],
   "source": [
    "from sklearn.ensemble import RandomForestRegressor, GradientBoostingRegressor"
   ]
  },
  {
   "cell_type": "code",
   "execution_count": null,
   "id": "a59ccd7b-353a-4a49-8c0a-8ea9a06c7060",
   "metadata": {},
   "outputs": [],
   "source": [
    "# Define the models\n",
    "models = [\n",
    "    ('Linear Regression', LinearRegression()),\n",
    "    ('Random Forest Regressor', RandomForestRegressor(random_state=42)),\n",
    "    ('Gradient Boosting Regressor', GradientBoostingRegressor(random_state=42))\n",
    "]"
   ]
  },
  {
   "cell_type": "code",
   "execution_count": null,
   "id": "f7f57fc3-a69a-4a3c-ab6d-e5fcd2da28b2",
   "metadata": {},
   "outputs": [],
   "source": [
    "# Loop through each model\n",
    "for name, model in models:\n",
    "    print(f\"Training {name}...\")\n",
    "    \n",
    "    # Define the pipeline\n",
    "    model_pipeline = Pipeline(steps=[\n",
    "        ('preprocessor', preprocessor),\n",
    "        ('scaler', StandardScaler()),\n",
    "        ('regressor', model)\n",
    "    ])\n",
    "\n",
    "    # Train the model\n",
    "    model_pipeline.fit(X_train_split, y_train_split)\n",
    "\n",
    "    # Predict on the validation set\n",
    "    y_pred_val = model_pipeline.predict(X_val_split)\n",
    "\n",
    "    # Evaluate the model\n",
    "    mse = mean_squared_error(y_val_split, y_pred_val)\n",
    "    print(f\"Mean Squared Error on Validation Set ({name}): {mse}\")\n",
    "\n",
    "    # Check MSE and print corresponding message\n",
    "    if mse < 1000:\n",
    "        print(\"Model is Great\")\n",
    "    elif 1000 <= mse < 2000:\n",
    "        print(\"Model is Good\")\n",
    "    elif 2000 <= mse < 3000:\n",
    "        print(\"Model is Average\")\n",
    "    elif 3000 <= mse < 4000:\n",
    "        print(\"Model is Bad\")\n",
    "    else:\n",
    "        print(\"Model is Terrible\")"
   ]
  },
  {
   "cell_type": "code",
   "execution_count": null,
   "id": "21480965-d3b0-447b-92c7-f0c54533f6ed",
   "metadata": {},
   "outputs": [],
   "source": []
  },
  {
   "cell_type": "code",
   "execution_count": null,
   "id": "7bd0e220-0b45-4a16-b433-8d9b34459e6f",
   "metadata": {},
   "outputs": [],
   "source": []
  },
  {
   "cell_type": "code",
   "execution_count": null,
   "id": "ac0e5334-3e07-410c-9183-0276cb2a5e29",
   "metadata": {},
   "outputs": [],
   "source": []
  },
  {
   "cell_type": "code",
   "execution_count": null,
   "id": "64696902-d782-4fef-a608-d90d945d2e60",
   "metadata": {},
   "outputs": [],
   "source": []
  },
  {
   "cell_type": "code",
   "execution_count": null,
   "id": "543ed41a-ca5b-4e1f-be36-d1643db2970c",
   "metadata": {},
   "outputs": [],
   "source": []
  },
  {
   "cell_type": "code",
   "execution_count": null,
   "id": "d1520a64-93df-460d-94b4-ef424c511382",
   "metadata": {},
   "outputs": [],
   "source": []
  },
  {
   "cell_type": "code",
   "execution_count": null,
   "id": "cd4c15ec-4abc-4f23-9fca-7ad407ec7873",
   "metadata": {},
   "outputs": [],
   "source": []
  },
  {
   "cell_type": "code",
   "execution_count": null,
   "id": "16ddd7f9-d180-4acb-bb8a-f465725e89b9",
   "metadata": {},
   "outputs": [],
   "source": []
  },
  {
   "cell_type": "code",
   "execution_count": null,
   "id": "5b1cb5f3-87a9-4247-92b7-363f5ba9aba4",
   "metadata": {},
   "outputs": [],
   "source": [
    "# Split the data into training and validation sets\n",
    "# X_train, X_val, y_train, y_val = train_test_split(X, y, test_size=0.2, random_state=42)"
   ]
  },
  {
   "cell_type": "code",
   "execution_count": null,
   "id": "d01aec98-2c9a-4a84-a9d7-b21298f3e976",
   "metadata": {},
   "outputs": [],
   "source": [
    "# extract month from date column\n",
    "X_train['Month'] = pd.to_datetime(X_train['Date']).dt.month\n",
    "X_val['Month'] = pd.to_datetime(X_val['Date']).dt.month"
   ]
  },
  {
   "cell_type": "code",
   "execution_count": null,
   "id": "0bbfc5d5-871e-420c-94f8-eae1577e61f1",
   "metadata": {},
   "outputs": [],
   "source": [
    "# Drop non-numeric columns and the original date column\n",
    "X_train_numeric = X_train.drop(columns=['Date'])\n",
    "X_val_numeric = X_val.drop(columns=['Date'])"
   ]
  },
  {
   "cell_type": "code",
   "execution_count": null,
   "id": "201775f4-0ca6-4a72-ac0b-4a797f399b15",
   "metadata": {},
   "outputs": [],
   "source": [
    "# Impute missing values with mean\n",
    "imputer = SimpleImputer(strategy='mean')\n",
    "X_train_imputed = imputer.fit_transform(X_train_numeric)\n",
    "X_val_imputed = imputer.transform(X_val_numeric)"
   ]
  },
  {
   "cell_type": "code",
   "execution_count": null,
   "id": "588d2466-f08a-44bd-baf9-99cdf1247f94",
   "metadata": {},
   "outputs": [],
   "source": [
    "# Standardize features\n",
    "scaler = StandardScaler()\n",
    "X_train_scaled = scaler.fit_transform(X_train_imputed)\n",
    "X_val_scaled = scaler.transform(X_val_imputed)"
   ]
  },
  {
   "cell_type": "code",
   "execution_count": null,
   "id": "39fd3d1d-caca-4b79-8712-01bad98501bc",
   "metadata": {
    "scrolled": true
   },
   "outputs": [],
   "source": [
    "# Linear Regression\n",
    "# Initialize and train the linear regression model\n",
    "linreg_model = LinearRegression()\n",
    "linreg_model.fit(X_train_scaled, y_train)"
   ]
  },
  {
   "cell_type": "code",
   "execution_count": null,
   "id": "3ca8cb6d-8f17-41ca-8e32-495d1f0b19e1",
   "metadata": {},
   "outputs": [],
   "source": [
    "# Predict on the validation set\n",
    "y_pred = linreg_model.predict(X_val_scaled)"
   ]
  },
  {
   "cell_type": "code",
   "execution_count": null,
   "id": "c0f4cb49-e5cf-460c-820d-94ac9b46ba3d",
   "metadata": {},
   "outputs": [],
   "source": [
    "# Evaluate the model\n",
    "mse = mean_squared_error(y_val, y_pred)\n",
    "print(\"Mean Squared Error:\", mse)"
   ]
  },
  {
   "cell_type": "code",
   "execution_count": null,
   "id": "580916f3-de67-4c0c-91a5-b64f65d5532b",
   "metadata": {},
   "outputs": [],
   "source": [
    "# Perform k-fold cross-validation\n",
    "mse_scores = cross_val_score(linreg_model, X_train_scaled, y, cv=5, scoring='neg_mean_squared_error')\n",
    "mean_mse = -mse_scores.mean()\n",
    "\n",
    "print(\"Mean Squared Error (Cross-Validated):\", mean_mse)"
   ]
  },
  {
   "cell_type": "code",
   "execution_count": null,
   "id": "27d1c05c-df4d-41cb-8586-8668ba971d9f",
   "metadata": {},
   "outputs": [],
   "source": []
  },
  {
   "cell_type": "code",
   "execution_count": null,
   "id": "d432b75d-dde8-4554-ad64-3626848c363e",
   "metadata": {},
   "outputs": [],
   "source": []
  },
  {
   "cell_type": "code",
   "execution_count": null,
   "id": "45586e58-886b-4e21-a627-d71efcbc0f94",
   "metadata": {},
   "outputs": [],
   "source": []
  },
  {
   "cell_type": "code",
   "execution_count": null,
   "id": "cb0c38f0-72e7-4f99-a426-4dc0fd45089f",
   "metadata": {},
   "outputs": [],
   "source": []
  }
 ],
 "metadata": {
  "kernelspec": {
   "display_name": "Python 3 (ipykernel)",
   "language": "python",
   "name": "python3"
  },
  "language_info": {
   "codemirror_mode": {
    "name": "ipython",
    "version": 3
   },
   "file_extension": ".py",
   "mimetype": "text/x-python",
   "name": "python",
   "nbconvert_exporter": "python",
   "pygments_lexer": "ipython3",
   "version": "3.11.7"
  }
 },
 "nbformat": 4,
 "nbformat_minor": 5
}
