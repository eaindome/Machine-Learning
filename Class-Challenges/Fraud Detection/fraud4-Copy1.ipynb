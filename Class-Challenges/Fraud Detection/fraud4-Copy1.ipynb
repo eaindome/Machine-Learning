{
 "cells": [
  {
   "cell_type": "code",
   "execution_count": 1,
   "id": "d6af80a5-5c84-4e76-b7f8-9c066c97cf66",
   "metadata": {},
   "outputs": [
    {
     "name": "stdout",
     "output_type": "stream",
     "text": [
      "Finished ...\n"
     ]
    }
   ],
   "source": [
    "import pandas as pd\n",
    "import matplotlib.pyplot as plt\n",
    "import lightgbm\n",
    "from lightgbm import LGBMClassifier\n",
    "\n",
    "import pandas as pd\n",
    "import lightgbm as lgb\n",
    "from sklearn.model_selection import train_test_split\n",
    "from sklearn.metrics import mean_squared_error\n",
    "from sklearn.metrics import accuracy_score\n",
    "\n",
    "import warnings\n",
    "warnings.simplefilter('ignore')\n",
    "pd.set_option('display.max_columns', None)\n",
    "print('Finished ...')"
   ]
  },
  {
   "cell_type": "code",
   "execution_count": 2,
   "id": "a5d8c052-a4c8-4d8d-9add-4ea8b9eacdfb",
   "metadata": {},
   "outputs": [
    {
     "name": "stdout",
     "output_type": "stream",
     "text": [
      "Finished data read...\n"
     ]
    }
   ],
   "source": [
    "client_train=pd.read_csv('client_train.csv')\n",
    "client_test=pd.read_csv('client_test.csv')\n",
    "invoice_train=pd.read_csv('invoice_train.csv')\n",
    "invoice_test=pd.read_csv('invoice_test.csv')\n",
    "print('Finished data read...')"
   ]
  },
  {
   "cell_type": "code",
   "execution_count": 3,
   "id": "958fe58a-3f2d-4c2b-89b3-bbb8200864a5",
   "metadata": {},
   "outputs": [],
   "source": [
    "def extract_date_components_client(df, date_column):\n",
    "    # Convert the date string column to pandas datetime objects with specified formats\n",
    "    df[date_column] = pd.to_datetime(df[date_column], format=\"%d/%m/%Y\" )\n",
    "   \n",
    "    # Modify the 'date_column' to contain the extracted year, month, and day components\n",
    "    df['creation_year'] = df[date_column].dt.year\n",
    "    df['creation_month'] = df[date_column].dt.month\n",
    "    df['creation_day'] = df[date_column].dt.day\n",
    "\n",
    "    # Drop the original date string column if desired\n",
    "    df.drop(date_column, axis=1, inplace=True)\n",
    "\n",
    "    return df"
   ]
  },
  {
   "cell_type": "code",
   "execution_count": 4,
   "id": "0b999d9c-f036-4f77-a508-9b6eeb080ba1",
   "metadata": {},
   "outputs": [],
   "source": [
    "client_train = extract_date_components_client(client_train, 'creation_date')\n",
    "#train = extract_date_components_invoice(train, 'invoice_date')\n",
    "\n",
    "\n",
    "client_test = extract_date_components_client(client_test, 'creation_date')\n",
    "#test = extract_date_components_invoice(test, 'invoice_date')"
   ]
  },
  {
   "cell_type": "code",
   "execution_count": 5,
   "id": "e5b50f8a-17e3-4ae6-be0f-8b1c7f24cfba",
   "metadata": {},
   "outputs": [],
   "source": [
    "#convert the column invoice_date to date time format on both the invoice train and invoice test\n",
    "for df in [invoice_train,invoice_test]:\n",
    "    df['invoice_date'] = pd.to_datetime(df['invoice_date'])"
   ]
  },
  {
   "cell_type": "code",
   "execution_count": 6,
   "id": "e3636d77-9bef-4bb4-982d-29aa741b4fd5",
   "metadata": {},
   "outputs": [],
   "source": [
    "#encode labels in categorical column\n",
    "d={\"ELEC\":0,\"GAZ\":1}\n",
    "invoice_train['counter_type']=invoice_train['counter_type'].map(d)\n",
    "invoice_test['counter_type']=invoice_test['counter_type'].map(d)"
   ]
  },
  {
   "cell_type": "code",
   "execution_count": 7,
   "id": "a452531b-e5ac-4e80-a965-9580eaae6623",
   "metadata": {},
   "outputs": [],
   "source": [
    "#convert categorical columns to int for model\n",
    "client_train['client_catg'] = client_train['client_catg'].astype(int)\n",
    "client_train['disrict'] = client_train['disrict'].astype(int)\n",
    "\n",
    "client_test['client_catg'] = client_test['client_catg'].astype(int)\n",
    "client_test['disrict'] = client_test['disrict'].astype(int)\n"
   ]
  },
  {
   "cell_type": "code",
   "execution_count": 8,
   "id": "11bcb257-8ace-4bb2-bdfb-d3c9c414e978",
   "metadata": {},
   "outputs": [],
   "source": [
    "def aggregate_by_client_id(invoice_data):\n",
    "    aggs = {}\n",
    "    aggs['consommation_level_1'] = ['mean', 'sum', 'min', 'max']\n",
    "    aggs['consommation_level_2'] = ['mean', 'sum', 'min', 'max']\n",
    "    aggs['consommation_level_3'] = ['mean', 'sum', 'min', 'max']\n",
    "    aggs['consommation_level_4'] = ['mean', 'sum', 'min', 'max']\n",
    "    aggs['reading_remarque'] = ['mean', 'min', 'max']\n",
    "    aggs['counter_code'] = ['mean', 'min', 'max']\n",
    "    aggs['old_index'] = ['min','max']\n",
    "    aggs['new_index'] = ['min','max']\n",
    "\n",
    "\n",
    "\n",
    "    agg_trans = invoice_data.groupby(['client_id']).agg(aggs)\n",
    "    agg_trans.columns = ['_'.join(col).strip() for col in agg_trans.columns.values]\n",
    "    agg_trans.reset_index(inplace=True)\n",
    "\n",
    "    df = (invoice_data.groupby('client_id')\n",
    "            .size()\n",
    "            .reset_index(name='{}transactions_count'.format('1')))\n",
    "    return pd.merge(df, agg_trans, on='client_id', how='left')\n"
   ]
  },
  {
   "cell_type": "code",
   "execution_count": 9,
   "id": "4a44fbd3-d3f0-4f7f-9acf-ca5410d7e331",
   "metadata": {},
   "outputs": [],
   "source": [
    "#group invoice data by client_id\n",
    "agg_train = aggregate_by_client_id(invoice_train)"
   ]
  },
  {
   "cell_type": "code",
   "execution_count": 10,
   "id": "5d2567f7-a975-4e2d-900f-09ee77fc0be2",
   "metadata": {},
   "outputs": [],
   "source": [
    "#merge aggregate data with client dataset\n",
    "train = pd.merge(client_train,agg_train, on='client_id', how='left')"
   ]
  },
  {
   "cell_type": "code",
   "execution_count": 11,
   "id": "73c68505-6956-4022-a8b8-237a1d83fb47",
   "metadata": {},
   "outputs": [],
   "source": [
    "#aggregate test set\n",
    "agg_test = aggregate_by_client_id(invoice_test)\n",
    "test = pd.merge(client_test,agg_test, on='client_id', how='left')"
   ]
  },
  {
   "cell_type": "code",
   "execution_count": 12,
   "id": "61c8986d-4033-4cf2-9e4d-a74161fcc91e",
   "metadata": {},
   "outputs": [],
   "source": [
    "def calculate_diff_months(df, date_column='invoice_date', id_column='client_id'):\n",
    "    # Convert the date string column to pandas datetime objects\n",
    "    df[date_column] = pd.to_datetime(df[date_column])\n",
    "\n",
    "    # Group by 'id_column' and calculate the difference between the maximum and minimum dates for each group\n",
    "    date_diff_per_id = df.groupby(id_column)[date_column].agg(lambda x: x.max() - x.min())\n",
    "\n",
    "    # Convert the difference to the number of months\n",
    "    date_diff_per_id = date_diff_per_id.apply(lambda x: x.days)  # Convert to numeric days difference\n",
    "    date_diff_per_id = date_diff_per_id / 30  # Divide by 30 to get the number of months\n",
    "\n",
    "    # Add the new column \"diff_months\" to the DataFrame\n",
    "    df[\"diff_months\"] = df[id_column].map(date_diff_per_id)\n",
    "\n",
    "    return df\n",
    "invoice_train = calculate_diff_months(invoice_train, date_column='invoice_date', id_column='client_id')\n",
    "\n",
    "columns_to_drop=['invoice_date','counter_statue','reading_remarque','counter_code','counter_coefficient','old_index','new_index']\n",
    "invoice_train.drop(columns=columns_to_drop, inplace=True)\n",
    "#train['index_difference'] = train['new_index_mean'] - train['old_index_mean']\n",
    "invoice_train = invoice_train.drop_duplicates(subset='client_id', keep='first')\n",
    "train = pd.merge(train,invoice_train, on='client_id', how='left')"
   ]
  },
  {
   "cell_type": "code",
   "execution_count": 13,
   "id": "d10efe85-6b0b-4692-851b-d94b0ceec1e2",
   "metadata": {},
   "outputs": [],
   "source": [
    "# Assuming you have the functions and DataFrame 'invoice_train' defined previously\n",
    "\n",
    "# Step 1: Calculate the diff_months and drop unnecessary columns in 'invoice_train'\n",
    "invoice_test = calculate_diff_months(invoice_test, date_column='invoice_date', id_column='client_id')\n",
    "\n",
    "columns_to_drop = ['invoice_date', 'counter_statue', 'reading_remarque', 'counter_code', 'counter_coefficient',\n",
    "                   'old_index', 'new_index',]\n",
    "invoice_test.drop(columns=columns_to_drop, inplace=True)\n",
    "\n",
    "#test['index_difference'] = test['new_index_mean'] - test['old_index_mean']\n",
    "\n",
    "# Step 3: Drop duplicates in 'invoice_train' based on 'client_id'\n",
    "invoice_test = invoice_test.drop_duplicates(subset='client_id', keep='first')\n",
    "\n"
   ]
  },
  {
   "cell_type": "code",
   "execution_count": 14,
   "id": "4cc672f4-270c-426d-a15b-16fab6800000",
   "metadata": {},
   "outputs": [],
   "source": [
    "# Step 4: Merge 'invoice_train' with 'train' on 'client_id'\n",
    "test = pd.merge(test, invoice_test, on='client_id', how='left')"
   ]
  },
  {
   "cell_type": "code",
   "execution_count": 15,
   "id": "0c8d6866-5651-4990-a3e3-1175400a5447",
   "metadata": {},
   "outputs": [],
   "source": [
    "train['totale_consommation']=train['consommation_level_1']+train['consommation_level_2']+train['consommation_level_3']+train['consommation_level_4']\n",
    "test['totale_consommation']=test['consommation_level_1']+test['consommation_level_2']+test['consommation_level_3']+test['consommation_level_4']\n",
    "train = pd.get_dummies(train, columns=['disrict'])\n",
    "test = pd.get_dummies(test, columns=['disrict'])"
   ]
  },
  {
   "cell_type": "code",
   "execution_count": 16,
   "id": "4094ec15-dc52-4d8a-8cb5-0ac6156e1e8d",
   "metadata": {},
   "outputs": [],
   "source": [
    "#drop redundant columns\n",
    "sub_client_id = test['client_id']\n",
    "drop_columns = ['client_id', 'creation_date']\n",
    "\n",
    "for col in drop_columns:\n",
    "    if col in train.columns:\n",
    "        train.drop([col], axis=1, inplace=True)\n",
    "    if col in test.columns:\n",
    "        test.drop([col], axis=1, inplace=True)"
   ]
  },
  {
   "cell_type": "markdown",
   "id": "3992d47e-5997-48d4-b2a9-9083faf90f43",
   "metadata": {},
   "source": [
    "MODELLING"
   ]
  },
  {
   "cell_type": "code",
   "execution_count": 17,
   "id": "9c88a54b-db31-4d14-a3e5-cb2d4f0d8326",
   "metadata": {},
   "outputs": [],
   "source": [
    "X = train.drop(columns=['target'])\n",
    "y = train['target']"
   ]
  },
  {
   "cell_type": "code",
   "execution_count": 18,
   "id": "7ba345d8-0fc5-4888-9dd6-c4eb1e1b25c9",
   "metadata": {},
   "outputs": [],
   "source": [
    "# split the data into training and validation sets\n",
    "X_train, X_val, y_train, y_val = train_test_split(X, y, test_size=0.2, random_state=42)"
   ]
  },
  {
   "cell_type": "code",
   "execution_count": 19,
   "id": "7a00f125-4245-4379-b996-8e8057c4028a",
   "metadata": {},
   "outputs": [],
   "source": [
    "# Create LightGBM dataset for training\n",
    "train_data = lgb.Dataset(X_train, label=y_train)\n",
    "val_data = lgb.Dataset(X_val, label=y_val, reference=train_data)"
   ]
  },
  {
   "cell_type": "code",
   "execution_count": 20,
   "id": "750f4b83-5117-459d-b242-8515aa71c8f5",
   "metadata": {},
   "outputs": [],
   "source": [
    "# Count the number of samples for each target value (0 and 1)\n",
    "counts = y_train.value_counts()\n",
    "\n",
    "# Calculate the weight for each target value\n",
    "class_weights = {0: 1.0, 1: counts[0] / counts[1]}\n",
    "\n",
    "# Create LightGBM dataset\n",
    "#train_data = lgb.Dataset(x_train, label=y_train, weight=y_train.map(class_weights))\n",
    "\n",
    "# Define LightGBM parameters\n",
    "lgb_params = {\n",
    "    'objective': 'binary',  # Regression task\n",
    "    'boosting_type': 'gbdt',\n",
    "    'metric': 'binary_error',\n",
    "    'learning_rate': 0.01,\n",
    "    'num_leaves': 31,\n",
    "    'max_depth': 7,\n",
    "    'min_child_samples': 20,\n",
    "    'subsample': 0.8,\n",
    "    'colsample_bytree': 0.8,\n",
    "    'n_estimators': 1000,\n",
    "    'random_state': 40,\n",
    "    'early_stopping_rounds': 50,\n",
    "    'verbose_eval': 10\n",
    "}"
   ]
  },
  {
   "cell_type": "code",
   "execution_count": 21,
   "id": "7d471b96-2382-4248-b2a4-634d111e5c83",
   "metadata": {},
   "outputs": [
    {
     "name": "stdout",
     "output_type": "stream",
     "text": [
      "[LightGBM] [Warning] Unknown parameter: verbose_eval\n",
      "[LightGBM] [Warning] Accuracy may be bad since you didn't explicitly set num_leaves OR 2^max_depth > num_leaves. (num_leaves=31).\n",
      "[LightGBM] [Warning] Unknown parameter: verbose_eval\n",
      "[LightGBM] [Warning] Accuracy may be bad since you didn't explicitly set num_leaves OR 2^max_depth > num_leaves. (num_leaves=31).\n",
      "[LightGBM] [Info] Number of positive: 6002, number of negative: 102392\n",
      "[LightGBM] [Info] Auto-choosing col-wise multi-threading, the overhead of testing was 0.053348 seconds.\n",
      "You can set `force_col_wise=true` to remove the overhead.\n",
      "[LightGBM] [Info] Total Bins 7561\n",
      "[LightGBM] [Info] Number of data points in the train set: 108394, number of used features: 46\n",
      "[LightGBM] [Warning] Unknown parameter: verbose_eval\n",
      "[LightGBM] [Warning] Accuracy may be bad since you didn't explicitly set num_leaves OR 2^max_depth > num_leaves. (num_leaves=31).\n",
      "[LightGBM] [Info] [binary:BoostFromScore]: pavg=0.055372 -> initscore=-2.836716\n",
      "[LightGBM] [Info] Start training from score -2.836716\n",
      "Training until validation scores don't improve for 50 rounds\n",
      "Early stopping, best iteration is:\n",
      "[1]\ttraining's binary_error: 0.0553721\tvalid_1's binary_error: 0.0577143\n"
     ]
    }
   ],
   "source": [
    "# Train LightGBM model with weighted samples\n",
    "model = lgb.train(lgb_params, \n",
    "                  train_data, \n",
    "                  valid_sets=[train_data, val_data]\n",
    "                 )"
   ]
  },
  {
   "cell_type": "code",
   "execution_count": 22,
   "id": "592c33d9-5e49-41c3-b723-c5dd1a983126",
   "metadata": {},
   "outputs": [],
   "source": [
    "# Predict on the validation set\n",
    "y_pred_val = model.predict(X_val, num_iteration=model.best_iteration)\n",
    "y_pred_val_binary = [1 if pred > 0.5 else 0 for pred in y_pred_val]"
   ]
  },
  {
   "cell_type": "code",
   "execution_count": 23,
   "id": "443bacf7-56f7-4638-8792-6ef8b6d7e17b",
   "metadata": {},
   "outputs": [
    {
     "name": "stdout",
     "output_type": "stream",
     "text": [
      "Validation Accuracy: 94.2285693199011\n"
     ]
    }
   ],
   "source": [
    "# Calculate accuracy on the validation set\n",
    "accuracy_val = accuracy_score(y_val, y_pred_val_binary)\n",
    "print(\"Validation Accuracy:\", accuracy_val*100)"
   ]
  },
  {
   "cell_type": "code",
   "execution_count": null,
   "id": "22730f74-2326-4194-81f3-428416021310",
   "metadata": {},
   "outputs": [],
   "source": []
  },
  {
   "cell_type": "code",
   "execution_count": null,
   "id": "db649c84-0bfa-48f2-8460-616659c66914",
   "metadata": {},
   "outputs": [],
   "source": []
  },
  {
   "cell_type": "code",
   "execution_count": null,
   "id": "b6baee83-79ad-45cd-9808-34b785026843",
   "metadata": {},
   "outputs": [],
   "source": []
  },
  {
   "cell_type": "code",
   "execution_count": 24,
   "id": "5105709f-bab1-4897-a60c-59e8f2375dbe",
   "metadata": {},
   "outputs": [
    {
     "data": {
      "text/html": [
       "<div>\n",
       "<style scoped>\n",
       "    .dataframe tbody tr th:only-of-type {\n",
       "        vertical-align: middle;\n",
       "    }\n",
       "\n",
       "    .dataframe tbody tr th {\n",
       "        vertical-align: top;\n",
       "    }\n",
       "\n",
       "    .dataframe thead th {\n",
       "        text-align: right;\n",
       "    }\n",
       "</style>\n",
       "<table border=\"1\" class=\"dataframe\">\n",
       "  <thead>\n",
       "    <tr style=\"text-align: right;\">\n",
       "      <th></th>\n",
       "      <th>target</th>\n",
       "    </tr>\n",
       "  </thead>\n",
       "  <tbody>\n",
       "    <tr>\n",
       "      <th>0</th>\n",
       "      <td>0.055135</td>\n",
       "    </tr>\n",
       "    <tr>\n",
       "      <th>1</th>\n",
       "      <td>0.055832</td>\n",
       "    </tr>\n",
       "    <tr>\n",
       "      <th>2</th>\n",
       "      <td>0.055928</td>\n",
       "    </tr>\n",
       "    <tr>\n",
       "      <th>3</th>\n",
       "      <td>0.054969</td>\n",
       "    </tr>\n",
       "    <tr>\n",
       "      <th>4</th>\n",
       "      <td>0.055928</td>\n",
       "    </tr>\n",
       "  </tbody>\n",
       "</table>\n",
       "</div>"
      ],
      "text/plain": [
       "     target\n",
       "0  0.055135\n",
       "1  0.055832\n",
       "2  0.055928\n",
       "3  0.054969\n",
       "4  0.055928"
      ]
     },
     "execution_count": 24,
     "metadata": {},
     "output_type": "execute_result"
    }
   ],
   "source": [
    "preds = model.predict(test)\n",
    "preds = pd.DataFrame(preds, columns=['target'])\n",
    "preds.head()"
   ]
  },
  {
   "cell_type": "code",
   "execution_count": 25,
   "id": "02d1fde7-67b3-42df-9c11-e9b4ad96271d",
   "metadata": {},
   "outputs": [
    {
     "data": {
      "text/html": [
       "<div>\n",
       "<style scoped>\n",
       "    .dataframe tbody tr th:only-of-type {\n",
       "        vertical-align: middle;\n",
       "    }\n",
       "\n",
       "    .dataframe tbody tr th {\n",
       "        vertical-align: top;\n",
       "    }\n",
       "\n",
       "    .dataframe thead th {\n",
       "        text-align: right;\n",
       "    }\n",
       "</style>\n",
       "<table border=\"1\" class=\"dataframe\">\n",
       "  <thead>\n",
       "    <tr style=\"text-align: right;\">\n",
       "      <th></th>\n",
       "      <th>client_id</th>\n",
       "      <th>target</th>\n",
       "    </tr>\n",
       "  </thead>\n",
       "  <tbody>\n",
       "    <tr>\n",
       "      <th>0</th>\n",
       "      <td>test_Client_0</td>\n",
       "      <td>0.055135</td>\n",
       "    </tr>\n",
       "    <tr>\n",
       "      <th>1</th>\n",
       "      <td>test_Client_1</td>\n",
       "      <td>0.055832</td>\n",
       "    </tr>\n",
       "    <tr>\n",
       "      <th>2</th>\n",
       "      <td>test_Client_10</td>\n",
       "      <td>0.055928</td>\n",
       "    </tr>\n",
       "    <tr>\n",
       "      <th>3</th>\n",
       "      <td>test_Client_100</td>\n",
       "      <td>0.054969</td>\n",
       "    </tr>\n",
       "    <tr>\n",
       "      <th>4</th>\n",
       "      <td>test_Client_1000</td>\n",
       "      <td>0.055928</td>\n",
       "    </tr>\n",
       "  </tbody>\n",
       "</table>\n",
       "</div>"
      ],
      "text/plain": [
       "          client_id    target\n",
       "0     test_Client_0  0.055135\n",
       "1     test_Client_1  0.055832\n",
       "2    test_Client_10  0.055928\n",
       "3   test_Client_100  0.054969\n",
       "4  test_Client_1000  0.055928"
      ]
     },
     "execution_count": 25,
     "metadata": {},
     "output_type": "execute_result"
    }
   ],
   "source": [
    "submission = pd.DataFrame(\n",
    "    {\n",
    "        'client_id': sub_client_id,\n",
    "        'target': preds['target']\n",
    "    }\n",
    ")\n",
    "\n",
    "submission.head()"
   ]
  },
  {
   "cell_type": "code",
   "execution_count": 26,
   "id": "fd4d253d-6c5a-489c-8c90-4ce720a2b2cc",
   "metadata": {},
   "outputs": [],
   "source": [
    "submission.to_csv('submission_fraud-3.csv',index=False)"
   ]
  },
  {
   "cell_type": "code",
   "execution_count": null,
   "id": "d0597bc9-09b3-46ba-a702-10f1d9bf8038",
   "metadata": {},
   "outputs": [],
   "source": []
  },
  {
   "cell_type": "code",
   "execution_count": null,
   "id": "fe1ca792-f861-4c1f-8214-dc85cd189e82",
   "metadata": {},
   "outputs": [],
   "source": []
  },
  {
   "cell_type": "code",
   "execution_count": null,
   "id": "0b252dd3-ad99-47be-b954-c21bc3b46c23",
   "metadata": {},
   "outputs": [],
   "source": []
  },
  {
   "cell_type": "code",
   "execution_count": null,
   "id": "e96b5601-5278-45a6-acd7-44ba08143f6f",
   "metadata": {},
   "outputs": [],
   "source": []
  },
  {
   "cell_type": "code",
   "execution_count": null,
   "id": "3e4bb4cc-ba29-41f5-bf5d-dc93d5fa40c3",
   "metadata": {},
   "outputs": [],
   "source": []
  },
  {
   "cell_type": "code",
   "execution_count": null,
   "id": "857d30ea-76a2-4b4c-a012-edeaa6a8c495",
   "metadata": {},
   "outputs": [],
   "source": []
  },
  {
   "cell_type": "code",
   "execution_count": null,
   "id": "de0a02d2-415e-41a0-a70a-3c8580313074",
   "metadata": {},
   "outputs": [],
   "source": []
  },
  {
   "cell_type": "code",
   "execution_count": null,
   "id": "bae3a353-26c1-4315-9319-ffcd1ded7f58",
   "metadata": {},
   "outputs": [],
   "source": []
  },
  {
   "cell_type": "code",
   "execution_count": null,
   "id": "60cb3f59-3014-4866-8d79-24fe7fd1c25d",
   "metadata": {},
   "outputs": [],
   "source": []
  },
  {
   "cell_type": "code",
   "execution_count": null,
   "id": "277bfc9c-b8eb-424c-9a5f-e912866f5d9c",
   "metadata": {},
   "outputs": [],
   "source": []
  },
  {
   "cell_type": "code",
   "execution_count": null,
   "id": "4d4fd97c-05a4-460f-b900-e2f92db996d8",
   "metadata": {},
   "outputs": [],
   "source": []
  },
  {
   "cell_type": "code",
   "execution_count": null,
   "id": "99297a9e-e53a-44c0-bcb9-45762bcaec2d",
   "metadata": {},
   "outputs": [],
   "source": []
  },
  {
   "cell_type": "code",
   "execution_count": null,
   "id": "e82886aa-9a4c-4d2c-a8ca-239ef8593261",
   "metadata": {},
   "outputs": [],
   "source": []
  },
  {
   "cell_type": "code",
   "execution_count": null,
   "id": "c7b941df-ec2e-4279-9ca0-d69ef5a1f8bc",
   "metadata": {},
   "outputs": [],
   "source": []
  },
  {
   "cell_type": "code",
   "execution_count": null,
   "id": "ad3ebdc2-57a5-4b82-a164-53d58c46e7c2",
   "metadata": {},
   "outputs": [],
   "source": []
  },
  {
   "cell_type": "code",
   "execution_count": null,
   "id": "2b055756-afa0-4136-8842-78ccd1f4f1ae",
   "metadata": {},
   "outputs": [],
   "source": []
  },
  {
   "cell_type": "code",
   "execution_count": null,
   "id": "cf2092ab-d4c6-4127-b330-dd7c9028926d",
   "metadata": {},
   "outputs": [],
   "source": []
  },
  {
   "cell_type": "code",
   "execution_count": null,
   "id": "eb92c692-6e3d-4061-916d-39b0f25510fe",
   "metadata": {},
   "outputs": [],
   "source": []
  },
  {
   "cell_type": "code",
   "execution_count": null,
   "id": "a4cf1d04-29b4-4f1a-a4da-61026573d77d",
   "metadata": {},
   "outputs": [],
   "source": []
  },
  {
   "cell_type": "code",
   "execution_count": null,
   "id": "ee994665-1f68-4c7b-ae03-2babd2e74e04",
   "metadata": {},
   "outputs": [],
   "source": []
  },
  {
   "cell_type": "code",
   "execution_count": null,
   "id": "b2ac108d-d746-47d9-8dad-cf8ec108f031",
   "metadata": {},
   "outputs": [],
   "source": []
  },
  {
   "cell_type": "code",
   "execution_count": null,
   "id": "ac450aac-b4f2-4c9e-a9a0-612b8705aae7",
   "metadata": {},
   "outputs": [],
   "source": []
  },
  {
   "cell_type": "code",
   "execution_count": null,
   "id": "867764b4-137c-490f-88a9-eb636a52c259",
   "metadata": {},
   "outputs": [],
   "source": []
  }
 ],
 "metadata": {
  "kernelspec": {
   "display_name": "Python 3 (ipykernel)",
   "language": "python",
   "name": "python3"
  },
  "language_info": {
   "codemirror_mode": {
    "name": "ipython",
    "version": 3
   },
   "file_extension": ".py",
   "mimetype": "text/x-python",
   "name": "python",
   "nbconvert_exporter": "python",
   "pygments_lexer": "ipython3",
   "version": "3.11.7"
  }
 },
 "nbformat": 4,
 "nbformat_minor": 5
}
